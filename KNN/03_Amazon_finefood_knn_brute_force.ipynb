{
 "cells": [
  {
   "cell_type": "markdown",
   "metadata": {
    "colab_type": "text",
    "id": "cdBMmXJx6Y28"
   },
   "source": [
    "# Amazon Fine Food Reviews Analysis\n",
    "\n",
    "\n",
    "Data Source: https://www.kaggle.com/snap/amazon-fine-food-reviews <br>\n",
    "\n",
    "EDA: https://nycdatascience.com/blog/student-works/amazon-fine-foods-visualization/\n",
    "\n",
    "\n",
    "The Amazon Fine Food Reviews dataset consists of reviews of fine foods from Amazon.<br>\n",
    "\n",
    "Number of reviews: 568,454<br>\n",
    "Number of users: 256,059<br>\n",
    "Number of products: 74,258<br>\n",
    "Timespan: Oct 1999 - Oct 2012<br>\n",
    "Number of Attributes/Columns in data: 10 \n",
    "\n",
    "Attribute Information:\n",
    "\n",
    "1. Id\n",
    "2. ProductId - unique identifier for the product\n",
    "3. UserId - unqiue identifier for the user\n",
    "4. ProfileName\n",
    "5. HelpfulnessNumerator - number of users who found the review helpful\n",
    "6. HelpfulnessDenominator - number of users who indicated whether they found the review helpful or not\n",
    "7. Score - rating between 1 and 5\n",
    "8. Time - timestamp for the review\n",
    "9. Summary - brief summary of the review\n",
    "10. Text - text of the review\n",
    "\n",
    "\n",
    "#### Objective:\n",
    "Given a review, determine whether the review is positive (rating of 4 or 5) or negative (rating of 1 or 2).\n",
    "\n",
    "<br>\n",
    "[Q] How to determine if a review is positive or negative?<br>\n",
    "<br> \n",
    "[Ans] We could use Score/Rating. A rating of 4 or 5 can be cosnidered as a positive review. A rating of 1 or 2 can be considered as negative one. A review of rating 3 is considered nuetral and such reviews are ignored from our analysis. This is an approximate and proxy way of determining the polarity (positivity/negativity) of a review.\n",
    "\n",
    "\n"
   ]
  },
  {
   "cell_type": "markdown",
   "metadata": {
    "colab_type": "text",
    "id": "0_uObGmS6Y2-"
   },
   "source": [
    "# [1]. Reading Data"
   ]
  },
  {
   "cell_type": "markdown",
   "metadata": {
    "colab_type": "text",
    "id": "xgT2Z9RM6Y2_"
   },
   "source": [
    "## [1.1] Loading the data\n",
    "\n",
    "The dataset is available in two forms\n",
    "1. .csv file\n",
    "2. SQLite Database\n",
    "\n",
    "In order to load the data, We have used the SQLITE dataset as it is easier to query the data and visualise the data efficiently.\n",
    "<br> \n",
    "\n",
    "Here as we only want to get the global sentiment of the recommendations (positive or negative), we will purposefully ignore all Scores equal to 3. If the score is above 3, then the recommendation wil be set to \"positive\". Otherwise, it will be set to \"negative\"."
   ]
  },
  {
   "cell_type": "code",
   "execution_count": 0,
   "metadata": {
    "colab": {},
    "colab_type": "code",
    "id": "sM1d9Zi_6Y3A"
   },
   "outputs": [],
   "source": [
    "%matplotlib inline\n",
    "import warnings\n",
    "warnings.filterwarnings(\"ignore\")\n",
    "\n",
    "\n",
    "import sqlite3\n",
    "import pandas as pd\n",
    "import numpy as np\n",
    "import nltk\n",
    "import string\n",
    "import matplotlib.pyplot as plt\n",
    "import seaborn as sns\n",
    "from sklearn.model_selection import train_test_split\n",
    "from sklearn.feature_extraction.text import TfidfTransformer\n",
    "from sklearn.feature_extraction.text import TfidfVectorizer\n",
    "\n",
    "from sklearn.feature_extraction.text import CountVectorizer\n",
    "from sklearn.metrics import confusion_matrix\n",
    "from sklearn import metrics\n",
    "from sklearn.metrics import roc_curve, auc\n",
    "from nltk.stem.porter import PorterStemmer\n",
    "\n",
    "import re\n",
    "# Tutorial about Python regular expressions: https://pymotw.com/2/re/\n",
    "import string\n",
    "from nltk.corpus import stopwords\n",
    "from nltk.stem import PorterStemmer\n",
    "from nltk.stem.wordnet import WordNetLemmatizer\n",
    "\n",
    "from gensim.models import Word2Vec\n",
    "from gensim.models import KeyedVectors\n",
    "import pickle\n",
    "\n",
    "from tqdm import tqdm\n",
    "import os\n",
    "import prettytable"
   ]
  },
  {
   "cell_type": "code",
   "execution_count": 0,
   "metadata": {
    "colab": {},
    "colab_type": "code",
    "id": "yB4fsKab6Y3H"
   },
   "outputs": [],
   "source": [
    "#USER DEFINED FUNCTIONS\n",
    "\n",
    "#changing reviews with score less than 3 to be positive and vice-versa\n",
    "def data_filter(filtered_data):\n",
    "    actualScore = filtered_data['Score']\n",
    "    positiveNegative = actualScore.map(partition) \n",
    "    filtered_data['Score'] = positiveNegative\n",
    "    return filtered_data[\"Score\"]\n",
    "\n",
    "\n",
    "# Give reviews with Score>3 a positive rating(1), and reviews with a score<3 a negative rating(0).\n",
    "def partition(x):\n",
    "    if x < 3:\n",
    "        return 0\n",
    "    return 1"
   ]
  },
  {
   "cell_type": "code",
   "execution_count": 0,
   "metadata": {
    "colab": {
     "base_uri": "https://localhost:8080/",
     "height": 164
    },
    "colab_type": "code",
    "id": "_5Rufz8W9Gre",
    "outputId": "c82c44cb-a2df-4203-f9ef-07e511df6297"
   },
   "outputs": [
    {
     "name": "stdout",
     "output_type": "stream",
     "text": [
      "\u001b[?25l\r",
      "\u001b[K    1% |▎                               | 10kB 19.0MB/s eta 0:00:01\r",
      "\u001b[K    2% |▋                               | 20kB 3.4MB/s eta 0:00:01\r",
      "\u001b[K    3% |█                               | 30kB 4.9MB/s eta 0:00:01\r",
      "\u001b[K    4% |█▎                              | 40kB 3.1MB/s eta 0:00:01\r",
      "\u001b[K    5% |█▋                              | 51kB 3.8MB/s eta 0:00:01\r",
      "\u001b[K    6% |██                              | 61kB 4.5MB/s eta 0:00:01\r",
      "\u001b[K    7% |██▎                             | 71kB 5.1MB/s eta 0:00:01\r",
      "\u001b[K    8% |██▋                             | 81kB 5.8MB/s eta 0:00:01\r",
      "\u001b[K    9% |███                             | 92kB 6.4MB/s eta 0:00:01\r",
      "\u001b[K    10% |███▎                            | 102kB 5.0MB/s eta 0:00:01\r",
      "\u001b[K    11% |███▋                            | 112kB 5.0MB/s eta 0:00:01\r",
      "\u001b[K    12% |████                            | 122kB 6.8MB/s eta 0:00:01\r",
      "\u001b[K    13% |████▎                           | 133kB 6.8MB/s eta 0:00:01\r",
      "\u001b[K    14% |████▋                           | 143kB 12.6MB/s eta 0:00:01\r",
      "\u001b[K    15% |█████                           | 153kB 12.8MB/s eta 0:00:01\r",
      "\u001b[K    16% |█████▎                          | 163kB 12.8MB/s eta 0:00:01\r",
      "\u001b[K    17% |█████▋                          | 174kB 12.5MB/s eta 0:00:01\r",
      "\u001b[K    18% |██████                          | 184kB 12.6MB/s eta 0:00:01\r",
      "\u001b[K    19% |██████▎                         | 194kB 12.6MB/s eta 0:00:01\r",
      "\u001b[K    20% |██████▋                         | 204kB 46.4MB/s eta 0:00:01\r",
      "\u001b[K    21% |███████                         | 215kB 14.6MB/s eta 0:00:01\r",
      "\u001b[K    22% |███████▎                        | 225kB 14.5MB/s eta 0:00:01\r",
      "\u001b[K    23% |███████▋                        | 235kB 14.7MB/s eta 0:00:01\r",
      "\u001b[K    24% |████████                        | 245kB 14.4MB/s eta 0:00:01\r",
      "\u001b[K    25% |████████▎                       | 256kB 14.5MB/s eta 0:00:01\r",
      "\u001b[K    26% |████████▋                       | 266kB 13.9MB/s eta 0:00:01\r",
      "\u001b[K    27% |█████████                       | 276kB 14.2MB/s eta 0:00:01\r",
      "\u001b[K    29% |█████████▎                      | 286kB 14.1MB/s eta 0:00:01\r",
      "\u001b[K    30% |█████████▋                      | 296kB 14.1MB/s eta 0:00:01\r",
      "\u001b[K    31% |██████████                      | 307kB 14.4MB/s eta 0:00:01\r",
      "\u001b[K    32% |██████████▎                     | 317kB 46.8MB/s eta 0:00:01\r",
      "\u001b[K    33% |██████████▋                     | 327kB 47.7MB/s eta 0:00:01\r",
      "\u001b[K    34% |███████████                     | 337kB 48.6MB/s eta 0:00:01\r",
      "\u001b[K    35% |███████████▎                    | 348kB 46.6MB/s eta 0:00:01\r",
      "\u001b[K    36% |███████████▋                    | 358kB 46.8MB/s eta 0:00:01\r",
      "\u001b[K    37% |████████████                    | 368kB 53.5MB/s eta 0:00:01\r",
      "\u001b[K    38% |████████████▎                   | 378kB 54.4MB/s eta 0:00:01\r",
      "\u001b[K    39% |████████████▋                   | 389kB 56.5MB/s eta 0:00:01\r",
      "\u001b[K    40% |█████████████                   | 399kB 19.4MB/s eta 0:00:01\r",
      "\u001b[K    41% |█████████████▎                  | 409kB 17.7MB/s eta 0:00:01\r",
      "\u001b[K    42% |█████████████▋                  | 419kB 17.6MB/s eta 0:00:01\r",
      "\u001b[K    43% |██████████████                  | 430kB 17.6MB/s eta 0:00:01\r",
      "\u001b[K    44% |██████████████▎                 | 440kB 17.6MB/s eta 0:00:01\r",
      "\u001b[K    45% |██████████████▋                 | 450kB 17.9MB/s eta 0:00:01\r",
      "\u001b[K    46% |███████████████                 | 460kB 17.8MB/s eta 0:00:01\r",
      "\u001b[K    47% |███████████████▎                | 471kB 17.8MB/s eta 0:00:01\r",
      "\u001b[K    48% |███████████████▋                | 481kB 17.9MB/s eta 0:00:01\r",
      "\u001b[K    49% |████████████████                | 491kB 17.8MB/s eta 0:00:01\r",
      "\u001b[K    50% |████████████████▎               | 501kB 45.8MB/s eta 0:00:01\r",
      "\u001b[K    51% |████████████████▋               | 512kB 54.1MB/s eta 0:00:01\r",
      "\u001b[K    52% |█████████████████               | 522kB 54.6MB/s eta 0:00:01\r",
      "\u001b[K    53% |█████████████████▎              | 532kB 54.2MB/s eta 0:00:01\r",
      "\u001b[K    54% |█████████████████▋              | 542kB 52.4MB/s eta 0:00:01\r",
      "\u001b[K    55% |██████████████████              | 552kB 56.8MB/s eta 0:00:01\r",
      "\u001b[K    57% |██████████████████▎             | 563kB 56.9MB/s eta 0:00:01\r",
      "\u001b[K    58% |██████████████████▋             | 573kB 56.2MB/s eta 0:00:01\r",
      "\u001b[K    59% |███████████████████             | 583kB 54.2MB/s eta 0:00:01\r",
      "\u001b[K    60% |███████████████████▎            | 593kB 53.6MB/s eta 0:00:01\r",
      "\u001b[K    61% |███████████████████▋            | 604kB 53.6MB/s eta 0:00:01\r",
      "\u001b[K    62% |████████████████████            | 614kB 55.7MB/s eta 0:00:01\r",
      "\u001b[K    63% |████████████████████▎           | 624kB 53.7MB/s eta 0:00:01\r",
      "\u001b[K    64% |████████████████████▋           | 634kB 54.2MB/s eta 0:00:01\r",
      "\u001b[K    65% |█████████████████████           | 645kB 55.2MB/s eta 0:00:01\r",
      "\u001b[K    66% |█████████████████████▎          | 655kB 53.6MB/s eta 0:00:01\r",
      "\u001b[K    67% |█████████████████████▋          | 665kB 42.8MB/s eta 0:00:01\r",
      "\u001b[K    68% |██████████████████████          | 675kB 42.3MB/s eta 0:00:01\r",
      "\u001b[K    69% |██████████████████████▎         | 686kB 43.7MB/s eta 0:00:01\r",
      "\u001b[K    70% |██████████████████████▋         | 696kB 44.0MB/s eta 0:00:01\r",
      "\u001b[K    71% |███████████████████████         | 706kB 42.5MB/s eta 0:00:01\r",
      "\u001b[K    72% |███████████████████████▎        | 716kB 44.3MB/s eta 0:00:01\r",
      "\u001b[K    73% |███████████████████████▋        | 727kB 44.2MB/s eta 0:00:01\r",
      "\u001b[K    74% |████████████████████████        | 737kB 41.6MB/s eta 0:00:01\r",
      "\u001b[K    75% |████████████████████████▎       | 747kB 40.0MB/s eta 0:00:01\r",
      "\u001b[K    76% |████████████████████████▋       | 757kB 40.5MB/s eta 0:00:01\r",
      "\u001b[K    77% |████████████████████████▉       | 768kB 50.7MB/s eta 0:00:01\r",
      "\u001b[K    78% |█████████████████████████▏      | 778kB 51.7MB/s eta 0:00:01\r",
      "\u001b[K    79% |█████████████████████████▌      | 788kB 50.1MB/s eta 0:00:01\r",
      "\u001b[K    80% |█████████████████████████▉      | 798kB 50.1MB/s eta 0:00:01\r",
      "\u001b[K    81% |██████████████████████████▏     | 808kB 50.2MB/s eta 0:00:01\r",
      "\u001b[K    82% |██████████████████████████▌     | 819kB 49.8MB/s eta 0:00:01\r",
      "\u001b[K    83% |██████████████████████████▉     | 829kB 51.8MB/s eta 0:00:01\r",
      "\u001b[K    85% |███████████████████████████▏    | 839kB 56.3MB/s eta 0:00:01\r",
      "\u001b[K    86% |███████████████████████████▌    | 849kB 60.8MB/s eta 0:00:01\r",
      "\u001b[K    87% |███████████████████████████▉    | 860kB 54.4MB/s eta 0:00:01\r",
      "\u001b[K    88% |████████████████████████████▏   | 870kB 54.2MB/s eta 0:00:01\r",
      "\u001b[K    89% |████████████████████████████▌   | 880kB 54.0MB/s eta 0:00:01\r",
      "\u001b[K    90% |████████████████████████████▉   | 890kB 55.6MB/s eta 0:00:01\r",
      "\u001b[K    91% |█████████████████████████████▏  | 901kB 56.0MB/s eta 0:00:01\r",
      "\u001b[K    92% |█████████████████████████████▌  | 911kB 56.2MB/s eta 0:00:01\r",
      "\u001b[K    93% |█████████████████████████████▉  | 921kB 56.3MB/s eta 0:00:01\r",
      "\u001b[K    94% |██████████████████████████████▏ | 931kB 55.9MB/s eta 0:00:01\r",
      "\u001b[K    95% |██████████████████████████████▌ | 942kB 55.1MB/s eta 0:00:01\r",
      "\u001b[K    96% |██████████████████████████████▉ | 952kB 55.4MB/s eta 0:00:01\r",
      "\u001b[K    97% |███████████████████████████████▏| 962kB 63.5MB/s eta 0:00:01\r",
      "\u001b[K    98% |███████████████████████████████▌| 972kB 61.2MB/s eta 0:00:01\r",
      "\u001b[K    99% |███████████████████████████████▉| 983kB 60.3MB/s eta 0:00:01\r",
      "\u001b[K    100% |████████████████████████████████| 993kB 19.7MB/s \n",
      "\u001b[?25h  Building wheel for PyDrive (setup.py) ... \u001b[?25ldone\n",
      "\u001b[?25h"
     ]
    }
   ],
   "source": [
    "# Code to read csv file into colaboratory:\n",
    "!pip install -U -q PyDrive\n",
    "from pydrive.auth import GoogleAuth\n",
    "from pydrive.drive import GoogleDrive\n",
    "from google.colab import auth\n",
    "from oauth2client.client import GoogleCredentials\n",
    "\n",
    "# 1. Authenticate and create the PyDrive client.\n",
    "auth.authenticate_user()\n",
    "gauth = GoogleAuth()\n",
    "gauth.credentials = GoogleCredentials.get_application_default()\n",
    "drive = GoogleDrive(gauth)\n",
    "\n",
    "#2. Get the file #Training Variants\n",
    "downloaded = drive.CreateFile({'id':'1PPCURbwWREuTo7ZgIt9MZv26tpsAp9Bs'}) # replace the id with id of file you want to access\n",
    "downloaded.GetContentFile('Reviews.csv')\n",
    "\n",
    "downloaded1 = drive.CreateFile({'id':'1PPC'}) # replace the id with id of file you want to access\n",
    "downloaded.GetContentFile('Reviews.csv')\n",
    "\n",
    "downloaded = drive.CreateFile({'id':'1PPCURbwWREuTo7ZgIt9MZv26tpsAp9Bs'}) # replace the id with id of file you want to access\n",
    "downloaded.GetContentFile('Reviews.csv')\n",
    "\n",
    "downloaded = drive.CreateFile({'id':'1PPCURbwWREuTo7ZgIt9MZv26tpsAp9Bs'}) # replace the id with id of file you want to access\n",
    "downloaded.GetContentFile('Reviews.csv')\n",
    "\n",
    "#3. Read file as panda dataframe\n",
    "import pandas as pd\n",
    "data = pd.read_csv('Reviews.csv')"
   ]
  },
  {
   "cell_type": "code",
   "execution_count": 0,
   "metadata": {
    "colab": {},
    "colab_type": "code",
    "id": "tfI-6Hv19pUy"
   },
   "outputs": [],
   "source": []
  },
  {
   "cell_type": "code",
   "execution_count": 0,
   "metadata": {
    "colab": {},
    "colab_type": "code",
    "id": "wf8JI4Rnpu-n"
   },
   "outputs": [],
   "source": [
    "data.head(20)"
   ]
  },
  {
   "cell_type": "code",
   "execution_count": 0,
   "metadata": {
    "colab": {},
    "colab_type": "code",
    "id": "FrjWeUk0_fE1"
   },
   "outputs": [],
   "source": [
    "#Converting from timestamp to datetime object.\n",
    "\n",
    "from datetime import datetime\n",
    "Time = []\n",
    "for i in list(data[\"Time\"]):\n",
    "  Time.append(datetime.fromtimestamp(i).strftime('%d-%m-%Y'))\n",
    "  \n",
    "data[\"Time\"] = pd.to_datetime(Time)\n",
    "data = data.sort_values(\"Time\") "
   ]
  },
  {
   "cell_type": "code",
   "execution_count": 0,
   "metadata": {
    "colab": {
     "base_uri": "https://localhost:8080/",
     "height": 1978
    },
    "colab_type": "code",
    "id": "wh3OD667rfua",
    "outputId": "5f861aaf-8976-4dcf-d228-007656687a15"
   },
   "outputs": [
    {
     "data": {
      "text/html": [
       "<div>\n",
       "<style scoped>\n",
       "    .dataframe tbody tr th:only-of-type {\n",
       "        vertical-align: middle;\n",
       "    }\n",
       "\n",
       "    .dataframe tbody tr th {\n",
       "        vertical-align: top;\n",
       "    }\n",
       "\n",
       "    .dataframe thead th {\n",
       "        text-align: right;\n",
       "    }\n",
       "</style>\n",
       "<table border=\"1\" class=\"dataframe\">\n",
       "  <thead>\n",
       "    <tr style=\"text-align: right;\">\n",
       "      <th></th>\n",
       "      <th>Id</th>\n",
       "      <th>ProductId</th>\n",
       "      <th>UserId</th>\n",
       "      <th>ProfileName</th>\n",
       "      <th>HelpfulnessNumerator</th>\n",
       "      <th>HelpfulnessDenominator</th>\n",
       "      <th>Score</th>\n",
       "      <th>Time</th>\n",
       "      <th>Summary</th>\n",
       "      <th>Text</th>\n",
       "    </tr>\n",
       "  </thead>\n",
       "  <tbody>\n",
       "    <tr>\n",
       "      <th>451855</th>\n",
       "      <td>451856</td>\n",
       "      <td>B00004CXX9</td>\n",
       "      <td>AIUWLEQ1ADEG5</td>\n",
       "      <td>Elizabeth Medina</td>\n",
       "      <td>0</td>\n",
       "      <td>0</td>\n",
       "      <td>5</td>\n",
       "      <td>1999-02-12</td>\n",
       "      <td>Entertainingl Funny!</td>\n",
       "      <td>Beetlejuice is a well written movie ..... ever...</td>\n",
       "    </tr>\n",
       "    <tr>\n",
       "      <th>230284</th>\n",
       "      <td>230285</td>\n",
       "      <td>B00004RYGX</td>\n",
       "      <td>A344SMIA5JECGM</td>\n",
       "      <td>Vincent P. Ross</td>\n",
       "      <td>1</td>\n",
       "      <td>2</td>\n",
       "      <td>5</td>\n",
       "      <td>1999-06-12</td>\n",
       "      <td>A modern day fairy tale</td>\n",
       "      <td>A twist of rumplestiskin captured on film, sta...</td>\n",
       "    </tr>\n",
       "    <tr>\n",
       "      <th>451877</th>\n",
       "      <td>451878</td>\n",
       "      <td>B00004CXX9</td>\n",
       "      <td>A344SMIA5JECGM</td>\n",
       "      <td>Vincent P. Ross</td>\n",
       "      <td>1</td>\n",
       "      <td>2</td>\n",
       "      <td>5</td>\n",
       "      <td>1999-06-12</td>\n",
       "      <td>A modern day fairy tale</td>\n",
       "      <td>A twist of rumplestiskin captured on film, sta...</td>\n",
       "    </tr>\n",
       "    <tr>\n",
       "      <th>374358</th>\n",
       "      <td>374359</td>\n",
       "      <td>B00004CI84</td>\n",
       "      <td>A344SMIA5JECGM</td>\n",
       "      <td>Vincent P. Ross</td>\n",
       "      <td>1</td>\n",
       "      <td>2</td>\n",
       "      <td>5</td>\n",
       "      <td>1999-06-12</td>\n",
       "      <td>A modern day fairy tale</td>\n",
       "      <td>A twist of rumplestiskin captured on film, sta...</td>\n",
       "    </tr>\n",
       "    <tr>\n",
       "      <th>150523</th>\n",
       "      <td>150524</td>\n",
       "      <td>0006641040</td>\n",
       "      <td>ACITT7DI6IDDL</td>\n",
       "      <td>shari zychinski</td>\n",
       "      <td>0</td>\n",
       "      <td>0</td>\n",
       "      <td>5</td>\n",
       "      <td>1999-08-10</td>\n",
       "      <td>EVERY book is educational</td>\n",
       "      <td>this witty little book makes my son laugh at l...</td>\n",
       "    </tr>\n",
       "    <tr>\n",
       "      <th>150500</th>\n",
       "      <td>150501</td>\n",
       "      <td>0006641040</td>\n",
       "      <td>AJ46FKXOVC7NR</td>\n",
       "      <td>Nicholas A Mesiano</td>\n",
       "      <td>2</td>\n",
       "      <td>2</td>\n",
       "      <td>5</td>\n",
       "      <td>1999-10-25</td>\n",
       "      <td>This whole series is great way to spend time w...</td>\n",
       "      <td>I can remember seeing the show when it aired o...</td>\n",
       "    </tr>\n",
       "    <tr>\n",
       "      <th>230268</th>\n",
       "      <td>230269</td>\n",
       "      <td>B00004RYGX</td>\n",
       "      <td>A1B2IZU1JLZA6</td>\n",
       "      <td>Wes</td>\n",
       "      <td>19</td>\n",
       "      <td>23</td>\n",
       "      <td>1</td>\n",
       "      <td>2000-01-19</td>\n",
       "      <td>WARNING: CLAMSHELL EDITION IS EDITED TV VERSION</td>\n",
       "      <td>I, myself always enjoyed this movie, it's very...</td>\n",
       "    </tr>\n",
       "    <tr>\n",
       "      <th>374342</th>\n",
       "      <td>374343</td>\n",
       "      <td>B00004CI84</td>\n",
       "      <td>A1B2IZU1JLZA6</td>\n",
       "      <td>Wes</td>\n",
       "      <td>19</td>\n",
       "      <td>23</td>\n",
       "      <td>1</td>\n",
       "      <td>2000-01-19</td>\n",
       "      <td>WARNING: CLAMSHELL EDITION IS EDITED TV VERSION</td>\n",
       "      <td>I, myself always enjoyed this movie, it's very...</td>\n",
       "    </tr>\n",
       "    <tr>\n",
       "      <th>451863</th>\n",
       "      <td>451864</td>\n",
       "      <td>B00004CXX9</td>\n",
       "      <td>A1B2IZU1JLZA6</td>\n",
       "      <td>Wes</td>\n",
       "      <td>19</td>\n",
       "      <td>23</td>\n",
       "      <td>1</td>\n",
       "      <td>2000-01-19</td>\n",
       "      <td>WARNING: CLAMSHELL EDITION IS EDITED TV VERSION</td>\n",
       "      <td>I, myself always enjoyed this movie, it's very...</td>\n",
       "    </tr>\n",
       "    <tr>\n",
       "      <th>76881</th>\n",
       "      <td>76882</td>\n",
       "      <td>B00002N8SM</td>\n",
       "      <td>A32DW342WBJ6BX</td>\n",
       "      <td>Buttersugar</td>\n",
       "      <td>0</td>\n",
       "      <td>0</td>\n",
       "      <td>5</td>\n",
       "      <td>2000-01-24</td>\n",
       "      <td>A sure death for flies</td>\n",
       "      <td>I bought a few of these after my apartment was...</td>\n",
       "    </tr>\n",
       "    <tr>\n",
       "      <th>451976</th>\n",
       "      <td>451977</td>\n",
       "      <td>B00004CXX9</td>\n",
       "      <td>ACJR7EQF9S6FP</td>\n",
       "      <td>Jeremy Robertson</td>\n",
       "      <td>2</td>\n",
       "      <td>3</td>\n",
       "      <td>4</td>\n",
       "      <td>2000-02-26</td>\n",
       "      <td>Bettlejuice...Bettlejuice...BETTLEJUICE!</td>\n",
       "      <td>What happens when you say his name three times...</td>\n",
       "    </tr>\n",
       "    <tr>\n",
       "      <th>374449</th>\n",
       "      <td>374450</td>\n",
       "      <td>B00004CI84</td>\n",
       "      <td>ACJR7EQF9S6FP</td>\n",
       "      <td>Jeremy Robertson</td>\n",
       "      <td>2</td>\n",
       "      <td>3</td>\n",
       "      <td>4</td>\n",
       "      <td>2000-02-26</td>\n",
       "      <td>Bettlejuice...Bettlejuice...BETTLEJUICE!</td>\n",
       "      <td>What happens when you say his name three times...</td>\n",
       "    </tr>\n",
       "    <tr>\n",
       "      <th>230375</th>\n",
       "      <td>230376</td>\n",
       "      <td>B00004RYGX</td>\n",
       "      <td>ACJR7EQF9S6FP</td>\n",
       "      <td>Jeremy Robertson</td>\n",
       "      <td>2</td>\n",
       "      <td>3</td>\n",
       "      <td>4</td>\n",
       "      <td>2000-02-26</td>\n",
       "      <td>Bettlejuice...Bettlejuice...BETTLEJUICE!</td>\n",
       "      <td>What happens when you say his name three times...</td>\n",
       "    </tr>\n",
       "    <tr>\n",
       "      <th>451854</th>\n",
       "      <td>451855</td>\n",
       "      <td>B00004CXX9</td>\n",
       "      <td>AJH6LUC1UT1ON</td>\n",
       "      <td>The Phantom of the Opera</td>\n",
       "      <td>0</td>\n",
       "      <td>0</td>\n",
       "      <td>5</td>\n",
       "      <td>2000-03-01</td>\n",
       "      <td>FANTASTIC!</td>\n",
       "      <td>Beetlejuice is an excellent and funny movie. K...</td>\n",
       "    </tr>\n",
       "    <tr>\n",
       "      <th>230325</th>\n",
       "      <td>230326</td>\n",
       "      <td>B00004RYGX</td>\n",
       "      <td>A2DEE7F9XKP3ZR</td>\n",
       "      <td>jerome</td>\n",
       "      <td>0</td>\n",
       "      <td>3</td>\n",
       "      <td>5</td>\n",
       "      <td>2000-03-06</td>\n",
       "      <td>Research - Beatlejuice video - French version</td>\n",
       "      <td>I'm getting crazy.I'm looking for Beatlejuice ...</td>\n",
       "    </tr>\n",
       "    <tr>\n",
       "      <th>451902</th>\n",
       "      <td>451903</td>\n",
       "      <td>B00004CXX9</td>\n",
       "      <td>A2DEE7F9XKP3ZR</td>\n",
       "      <td>jerome</td>\n",
       "      <td>0</td>\n",
       "      <td>1</td>\n",
       "      <td>5</td>\n",
       "      <td>2000-03-06</td>\n",
       "      <td>Research</td>\n",
       "      <td>I'm getting crazy.&lt;p&gt;Is it really impossible t...</td>\n",
       "    </tr>\n",
       "    <tr>\n",
       "      <th>374399</th>\n",
       "      <td>374400</td>\n",
       "      <td>B00004CI84</td>\n",
       "      <td>A2DEE7F9XKP3ZR</td>\n",
       "      <td>jerome</td>\n",
       "      <td>0</td>\n",
       "      <td>3</td>\n",
       "      <td>5</td>\n",
       "      <td>2000-03-06</td>\n",
       "      <td>Research - Beatlejuice video - French version</td>\n",
       "      <td>I'm getting crazy.I'm looking for Beatlejuice ...</td>\n",
       "    </tr>\n",
       "    <tr>\n",
       "      <th>230333</th>\n",
       "      <td>230334</td>\n",
       "      <td>B00004RYGX</td>\n",
       "      <td>A1GB1Q193DNFGR</td>\n",
       "      <td>Bruce Lee Pullen</td>\n",
       "      <td>5</td>\n",
       "      <td>5</td>\n",
       "      <td>5</td>\n",
       "      <td>2000-03-10</td>\n",
       "      <td>Fabulous Comedic Fanasy Directed by a Master</td>\n",
       "      <td>Beetlejuice is an awe-inspiring wonderfully am...</td>\n",
       "    </tr>\n",
       "    <tr>\n",
       "      <th>374407</th>\n",
       "      <td>374408</td>\n",
       "      <td>B00004CI84</td>\n",
       "      <td>A1GB1Q193DNFGR</td>\n",
       "      <td>Bruce Lee Pullen</td>\n",
       "      <td>5</td>\n",
       "      <td>5</td>\n",
       "      <td>5</td>\n",
       "      <td>2000-03-10</td>\n",
       "      <td>Fabulous Comedic Fanasy Directed by a Master</td>\n",
       "      <td>Beetlejuice is an awe-inspiring wonderfully am...</td>\n",
       "    </tr>\n",
       "    <tr>\n",
       "      <th>451934</th>\n",
       "      <td>451935</td>\n",
       "      <td>B00004CXX9</td>\n",
       "      <td>A1GB1Q193DNFGR</td>\n",
       "      <td>Bruce Lee Pullen</td>\n",
       "      <td>5</td>\n",
       "      <td>5</td>\n",
       "      <td>5</td>\n",
       "      <td>2000-03-10</td>\n",
       "      <td>Fabulous Comedic Fanasy Directed by a Master</td>\n",
       "      <td>Beetlejuice is an awe-inspiring wonderfully am...</td>\n",
       "    </tr>\n",
       "  </tbody>\n",
       "</table>\n",
       "</div>"
      ],
      "text/plain": [
       "            Id   ProductId          UserId               ProfileName  \\\n",
       "451855  451856  B00004CXX9   AIUWLEQ1ADEG5          Elizabeth Medina   \n",
       "230284  230285  B00004RYGX  A344SMIA5JECGM           Vincent P. Ross   \n",
       "451877  451878  B00004CXX9  A344SMIA5JECGM           Vincent P. Ross   \n",
       "374358  374359  B00004CI84  A344SMIA5JECGM           Vincent P. Ross   \n",
       "150523  150524  0006641040   ACITT7DI6IDDL           shari zychinski   \n",
       "150500  150501  0006641040   AJ46FKXOVC7NR        Nicholas A Mesiano   \n",
       "230268  230269  B00004RYGX   A1B2IZU1JLZA6                       Wes   \n",
       "374342  374343  B00004CI84   A1B2IZU1JLZA6                       Wes   \n",
       "451863  451864  B00004CXX9   A1B2IZU1JLZA6                       Wes   \n",
       "76881    76882  B00002N8SM  A32DW342WBJ6BX               Buttersugar   \n",
       "451976  451977  B00004CXX9   ACJR7EQF9S6FP          Jeremy Robertson   \n",
       "374449  374450  B00004CI84   ACJR7EQF9S6FP          Jeremy Robertson   \n",
       "230375  230376  B00004RYGX   ACJR7EQF9S6FP          Jeremy Robertson   \n",
       "451854  451855  B00004CXX9   AJH6LUC1UT1ON  The Phantom of the Opera   \n",
       "230325  230326  B00004RYGX  A2DEE7F9XKP3ZR                    jerome   \n",
       "451902  451903  B00004CXX9  A2DEE7F9XKP3ZR                    jerome   \n",
       "374399  374400  B00004CI84  A2DEE7F9XKP3ZR                    jerome   \n",
       "230333  230334  B00004RYGX  A1GB1Q193DNFGR          Bruce Lee Pullen   \n",
       "374407  374408  B00004CI84  A1GB1Q193DNFGR          Bruce Lee Pullen   \n",
       "451934  451935  B00004CXX9  A1GB1Q193DNFGR          Bruce Lee Pullen   \n",
       "\n",
       "        HelpfulnessNumerator  HelpfulnessDenominator  Score       Time  \\\n",
       "451855                     0                       0      5 1999-02-12   \n",
       "230284                     1                       2      5 1999-06-12   \n",
       "451877                     1                       2      5 1999-06-12   \n",
       "374358                     1                       2      5 1999-06-12   \n",
       "150523                     0                       0      5 1999-08-10   \n",
       "150500                     2                       2      5 1999-10-25   \n",
       "230268                    19                      23      1 2000-01-19   \n",
       "374342                    19                      23      1 2000-01-19   \n",
       "451863                    19                      23      1 2000-01-19   \n",
       "76881                      0                       0      5 2000-01-24   \n",
       "451976                     2                       3      4 2000-02-26   \n",
       "374449                     2                       3      4 2000-02-26   \n",
       "230375                     2                       3      4 2000-02-26   \n",
       "451854                     0                       0      5 2000-03-01   \n",
       "230325                     0                       3      5 2000-03-06   \n",
       "451902                     0                       1      5 2000-03-06   \n",
       "374399                     0                       3      5 2000-03-06   \n",
       "230333                     5                       5      5 2000-03-10   \n",
       "374407                     5                       5      5 2000-03-10   \n",
       "451934                     5                       5      5 2000-03-10   \n",
       "\n",
       "                                                  Summary  \\\n",
       "451855                               Entertainingl Funny!   \n",
       "230284                            A modern day fairy tale   \n",
       "451877                            A modern day fairy tale   \n",
       "374358                            A modern day fairy tale   \n",
       "150523                          EVERY book is educational   \n",
       "150500  This whole series is great way to spend time w...   \n",
       "230268    WARNING: CLAMSHELL EDITION IS EDITED TV VERSION   \n",
       "374342    WARNING: CLAMSHELL EDITION IS EDITED TV VERSION   \n",
       "451863    WARNING: CLAMSHELL EDITION IS EDITED TV VERSION   \n",
       "76881                              A sure death for flies   \n",
       "451976           Bettlejuice...Bettlejuice...BETTLEJUICE!   \n",
       "374449           Bettlejuice...Bettlejuice...BETTLEJUICE!   \n",
       "230375           Bettlejuice...Bettlejuice...BETTLEJUICE!   \n",
       "451854                                         FANTASTIC!   \n",
       "230325      Research - Beatlejuice video - French version   \n",
       "451902                                           Research   \n",
       "374399      Research - Beatlejuice video - French version   \n",
       "230333       Fabulous Comedic Fanasy Directed by a Master   \n",
       "374407       Fabulous Comedic Fanasy Directed by a Master   \n",
       "451934       Fabulous Comedic Fanasy Directed by a Master   \n",
       "\n",
       "                                                     Text  \n",
       "451855  Beetlejuice is a well written movie ..... ever...  \n",
       "230284  A twist of rumplestiskin captured on film, sta...  \n",
       "451877  A twist of rumplestiskin captured on film, sta...  \n",
       "374358  A twist of rumplestiskin captured on film, sta...  \n",
       "150523  this witty little book makes my son laugh at l...  \n",
       "150500  I can remember seeing the show when it aired o...  \n",
       "230268  I, myself always enjoyed this movie, it's very...  \n",
       "374342  I, myself always enjoyed this movie, it's very...  \n",
       "451863  I, myself always enjoyed this movie, it's very...  \n",
       "76881   I bought a few of these after my apartment was...  \n",
       "451976  What happens when you say his name three times...  \n",
       "374449  What happens when you say his name three times...  \n",
       "230375  What happens when you say his name three times...  \n",
       "451854  Beetlejuice is an excellent and funny movie. K...  \n",
       "230325  I'm getting crazy.I'm looking for Beatlejuice ...  \n",
       "451902  I'm getting crazy.<p>Is it really impossible t...  \n",
       "374399  I'm getting crazy.I'm looking for Beatlejuice ...  \n",
       "230333  Beetlejuice is an awe-inspiring wonderfully am...  \n",
       "374407  Beetlejuice is an awe-inspiring wonderfully am...  \n",
       "451934  Beetlejuice is an awe-inspiring wonderfully am...  "
      ]
     },
     "execution_count": 6,
     "metadata": {
      "tags": []
     },
     "output_type": "execute_result"
    }
   ],
   "source": [
    "data.head(20)"
   ]
  },
  {
   "cell_type": "code",
   "execution_count": 0,
   "metadata": {
    "colab": {
     "base_uri": "https://localhost:8080/",
     "height": 57
    },
    "colab_type": "code",
    "id": "ij2vya-f6Y3K",
    "outputId": "5351dfaf-7bc3-46fd-e46b-789366ec039f"
   },
   "outputs": [
    {
     "data": {
      "text/plain": [
       "'\\n# Give reviews with Score>3 a positive rating(1), and reviews with a score<3 a negative rating(0).\\ndef partition(x):\\n    if x < 3:\\n        return 0\\n    return 1\\n\\n#changing reviews with score less than 3 to be positive and vice-versa\\n\\ndef data_filter(filtered_data):\\n    actualScore = filtered_data[\\'Score\\']\\n    positiveNegative = actualScore.map(partition) \\n    filtered_data[\\'Score\\'] = positiveNegative\\n    return filtered_data[\"Score\"]\\n\\n\\n#print(\"Number of data points in our data\", filtered_data.shape)\\n#filtered_data.head(3)\\n'"
      ]
     },
     "execution_count": 7,
     "metadata": {
      "tags": []
     },
     "output_type": "execute_result"
    }
   ],
   "source": [
    "# using SQLite Table to read data.\n",
    "con = sqlite3.connect('database.sqlite') \n",
    "\n",
    "# filtering only positive and negative reviews i.e. \n",
    "# not taking into consideration those reviews with Score=3\n",
    "# SELECT * FROM Reviews WHERE Score != 3 LIMIT 500000, will give top 500000 data points\n",
    "# you can change the number to any other number based on your computing power\n",
    "\n",
    "# filtered_data = pd.read_sql_query(\"\"\" SELECT * FROM Reviews WHERE Score != 3 LIMIT 500000\"\"\", con) \n",
    "# for tsne assignment you can take 5k data points\n",
    "\n",
    "#Reading equal amount of positive and negative data.\n",
    "\n",
    "filtered_data = data\n",
    "\n",
    "'''\n",
    "filtered_data_1 = data[data[\"Score\"]>3][0:25000]\n",
    "filtered_data_2 = data[data[\"Score\"]<=2][0:25000]\n",
    "\n",
    "filtered_data_1[\"Score\"] = data_filter(filtered_data_1)\n",
    "filtered_data_2[\"Score\"] = data_filter(filtered_data_2)\n",
    "'''\n",
    "\n",
    "'''\n",
    "# Give reviews with Score>3 a positive rating(1), and reviews with a score<3 a negative rating(0).\n",
    "def partition(x):\n",
    "    if x < 3:\n",
    "        return 0\n",
    "    return 1\n",
    "\n",
    "#changing reviews with score less than 3 to be positive and vice-versa\n",
    "\n",
    "def data_filter(filtered_data):\n",
    "    actualScore = filtered_data['Score']\n",
    "    positiveNegative = actualScore.map(partition) \n",
    "    filtered_data['Score'] = positiveNegative\n",
    "    return filtered_data[\"Score\"]\n",
    "\n",
    "\n",
    "#print(\"Number of data points in our data\", filtered_data.shape)\n",
    "#filtered_data.head(3)\n",
    "'''"
   ]
  },
  {
   "cell_type": "code",
   "execution_count": 0,
   "metadata": {
    "colab": {},
    "colab_type": "code",
    "id": "-MyeRpzO6Y3P"
   },
   "outputs": [],
   "source": []
  },
  {
   "cell_type": "code",
   "execution_count": 0,
   "metadata": {
    "colab": {
     "base_uri": "https://localhost:8080/",
     "height": 57
    },
    "colab_type": "code",
    "id": "iGjB6L4k6Y3R",
    "outputId": "09ce2f0b-668e-4876-c57b-bc3ec028c367"
   },
   "outputs": [
    {
     "data": {
      "text/plain": [
       "'\\n#Stacking both positive and negative data\\nfiltered_data = filtered_data_1.append(filtered_data_2, ignore_index = True)\\n\\n#Shuffling the data points to mix the data\\nfrom sklearn.utils import shuffle\\nfiltered_data = shuffle(filtered_data)\\n'"
      ]
     },
     "execution_count": 8,
     "metadata": {
      "tags": []
     },
     "output_type": "execute_result"
    }
   ],
   "source": [
    "'''\n",
    "#Stacking both positive and negative data\n",
    "filtered_data = filtered_data_1.append(filtered_data_2, ignore_index = True)\n",
    "\n",
    "#Shuffling the data points to mix the data\n",
    "from sklearn.utils import shuffle\n",
    "filtered_data = shuffle(filtered_data)\n",
    "'''"
   ]
  },
  {
   "cell_type": "code",
   "execution_count": 0,
   "metadata": {
    "colab": {},
    "colab_type": "code",
    "id": "SRfUbgZrDjG0"
   },
   "outputs": [],
   "source": [
    "#Calling function partition\n",
    "filtered_data[\"Score\"] = filtered_data[\"Score\"].map(partition)"
   ]
  },
  {
   "cell_type": "code",
   "execution_count": 0,
   "metadata": {
    "colab": {
     "base_uri": "https://localhost:8080/",
     "height": 306
    },
    "colab_type": "code",
    "id": "nQfQPKuh6Y3U",
    "outputId": "43b4e3f4-3ff1-418e-bf01-bf22ceda5a18"
   },
   "outputs": [
    {
     "name": "stdout",
     "output_type": "stream",
     "text": [
      "Number of data points in our data (568454, 10)\n"
     ]
    },
    {
     "data": {
      "text/html": [
       "<div>\n",
       "<style scoped>\n",
       "    .dataframe tbody tr th:only-of-type {\n",
       "        vertical-align: middle;\n",
       "    }\n",
       "\n",
       "    .dataframe tbody tr th {\n",
       "        vertical-align: top;\n",
       "    }\n",
       "\n",
       "    .dataframe thead th {\n",
       "        text-align: right;\n",
       "    }\n",
       "</style>\n",
       "<table border=\"1\" class=\"dataframe\">\n",
       "  <thead>\n",
       "    <tr style=\"text-align: right;\">\n",
       "      <th></th>\n",
       "      <th>Id</th>\n",
       "      <th>ProductId</th>\n",
       "      <th>UserId</th>\n",
       "      <th>ProfileName</th>\n",
       "      <th>HelpfulnessNumerator</th>\n",
       "      <th>HelpfulnessDenominator</th>\n",
       "      <th>Score</th>\n",
       "      <th>Time</th>\n",
       "      <th>Summary</th>\n",
       "      <th>Text</th>\n",
       "    </tr>\n",
       "  </thead>\n",
       "  <tbody>\n",
       "    <tr>\n",
       "      <th>451855</th>\n",
       "      <td>451856</td>\n",
       "      <td>B00004CXX9</td>\n",
       "      <td>AIUWLEQ1ADEG5</td>\n",
       "      <td>Elizabeth Medina</td>\n",
       "      <td>0</td>\n",
       "      <td>0</td>\n",
       "      <td>1</td>\n",
       "      <td>1999-02-12</td>\n",
       "      <td>Entertainingl Funny!</td>\n",
       "      <td>Beetlejuice is a well written movie ..... ever...</td>\n",
       "    </tr>\n",
       "    <tr>\n",
       "      <th>230284</th>\n",
       "      <td>230285</td>\n",
       "      <td>B00004RYGX</td>\n",
       "      <td>A344SMIA5JECGM</td>\n",
       "      <td>Vincent P. Ross</td>\n",
       "      <td>1</td>\n",
       "      <td>2</td>\n",
       "      <td>1</td>\n",
       "      <td>1999-06-12</td>\n",
       "      <td>A modern day fairy tale</td>\n",
       "      <td>A twist of rumplestiskin captured on film, sta...</td>\n",
       "    </tr>\n",
       "    <tr>\n",
       "      <th>451877</th>\n",
       "      <td>451878</td>\n",
       "      <td>B00004CXX9</td>\n",
       "      <td>A344SMIA5JECGM</td>\n",
       "      <td>Vincent P. Ross</td>\n",
       "      <td>1</td>\n",
       "      <td>2</td>\n",
       "      <td>1</td>\n",
       "      <td>1999-06-12</td>\n",
       "      <td>A modern day fairy tale</td>\n",
       "      <td>A twist of rumplestiskin captured on film, sta...</td>\n",
       "    </tr>\n",
       "    <tr>\n",
       "      <th>374358</th>\n",
       "      <td>374359</td>\n",
       "      <td>B00004CI84</td>\n",
       "      <td>A344SMIA5JECGM</td>\n",
       "      <td>Vincent P. Ross</td>\n",
       "      <td>1</td>\n",
       "      <td>2</td>\n",
       "      <td>1</td>\n",
       "      <td>1999-06-12</td>\n",
       "      <td>A modern day fairy tale</td>\n",
       "      <td>A twist of rumplestiskin captured on film, sta...</td>\n",
       "    </tr>\n",
       "    <tr>\n",
       "      <th>150523</th>\n",
       "      <td>150524</td>\n",
       "      <td>0006641040</td>\n",
       "      <td>ACITT7DI6IDDL</td>\n",
       "      <td>shari zychinski</td>\n",
       "      <td>0</td>\n",
       "      <td>0</td>\n",
       "      <td>1</td>\n",
       "      <td>1999-08-10</td>\n",
       "      <td>EVERY book is educational</td>\n",
       "      <td>this witty little book makes my son laugh at l...</td>\n",
       "    </tr>\n",
       "  </tbody>\n",
       "</table>\n",
       "</div>"
      ],
      "text/plain": [
       "            Id   ProductId          UserId       ProfileName  \\\n",
       "451855  451856  B00004CXX9   AIUWLEQ1ADEG5  Elizabeth Medina   \n",
       "230284  230285  B00004RYGX  A344SMIA5JECGM   Vincent P. Ross   \n",
       "451877  451878  B00004CXX9  A344SMIA5JECGM   Vincent P. Ross   \n",
       "374358  374359  B00004CI84  A344SMIA5JECGM   Vincent P. Ross   \n",
       "150523  150524  0006641040   ACITT7DI6IDDL   shari zychinski   \n",
       "\n",
       "        HelpfulnessNumerator  HelpfulnessDenominator  Score       Time  \\\n",
       "451855                     0                       0      1 1999-02-12   \n",
       "230284                     1                       2      1 1999-06-12   \n",
       "451877                     1                       2      1 1999-06-12   \n",
       "374358                     1                       2      1 1999-06-12   \n",
       "150523                     0                       0      1 1999-08-10   \n",
       "\n",
       "                          Summary  \\\n",
       "451855       Entertainingl Funny!   \n",
       "230284    A modern day fairy tale   \n",
       "451877    A modern day fairy tale   \n",
       "374358    A modern day fairy tale   \n",
       "150523  EVERY book is educational   \n",
       "\n",
       "                                                     Text  \n",
       "451855  Beetlejuice is a well written movie ..... ever...  \n",
       "230284  A twist of rumplestiskin captured on film, sta...  \n",
       "451877  A twist of rumplestiskin captured on film, sta...  \n",
       "374358  A twist of rumplestiskin captured on film, sta...  \n",
       "150523  this witty little book makes my son laugh at l...  "
      ]
     },
     "execution_count": 10,
     "metadata": {
      "tags": []
     },
     "output_type": "execute_result"
    }
   ],
   "source": [
    "print(\"Number of data points in our data\", filtered_data.shape)\n",
    "filtered_data.head()"
   ]
  },
  {
   "cell_type": "code",
   "execution_count": 0,
   "metadata": {
    "colab": {
     "base_uri": "https://localhost:8080/",
     "height": 5777
    },
    "colab_type": "code",
    "id": "dVc-nl9h6Y3f",
    "outputId": "5d88a140-4726-4f8a-8856-cc7a357a8ecd"
   },
   "outputs": [
    {
     "data": {
      "text/html": [
       "<div>\n",
       "<style scoped>\n",
       "    .dataframe tbody tr th:only-of-type {\n",
       "        vertical-align: middle;\n",
       "    }\n",
       "\n",
       "    .dataframe tbody tr th {\n",
       "        vertical-align: top;\n",
       "    }\n",
       "\n",
       "    .dataframe thead th {\n",
       "        text-align: right;\n",
       "    }\n",
       "</style>\n",
       "<table border=\"1\" class=\"dataframe\">\n",
       "  <thead>\n",
       "    <tr style=\"text-align: right;\">\n",
       "      <th></th>\n",
       "      <th>Id</th>\n",
       "      <th>ProductId</th>\n",
       "      <th>UserId</th>\n",
       "      <th>ProfileName</th>\n",
       "      <th>HelpfulnessNumerator</th>\n",
       "      <th>HelpfulnessDenominator</th>\n",
       "      <th>Score</th>\n",
       "      <th>Time</th>\n",
       "      <th>Summary</th>\n",
       "      <th>Text</th>\n",
       "    </tr>\n",
       "  </thead>\n",
       "  <tbody>\n",
       "    <tr>\n",
       "      <th>0</th>\n",
       "      <td>451856</td>\n",
       "      <td>B00004CXX9</td>\n",
       "      <td>AIUWLEQ1ADEG5</td>\n",
       "      <td>Elizabeth Medina</td>\n",
       "      <td>0</td>\n",
       "      <td>0</td>\n",
       "      <td>1</td>\n",
       "      <td>1999-02-12</td>\n",
       "      <td>Entertainingl Funny!</td>\n",
       "      <td>Beetlejuice is a well written movie ..... ever...</td>\n",
       "    </tr>\n",
       "    <tr>\n",
       "      <th>1</th>\n",
       "      <td>230285</td>\n",
       "      <td>B00004RYGX</td>\n",
       "      <td>A344SMIA5JECGM</td>\n",
       "      <td>Vincent P. Ross</td>\n",
       "      <td>1</td>\n",
       "      <td>2</td>\n",
       "      <td>1</td>\n",
       "      <td>1999-06-12</td>\n",
       "      <td>A modern day fairy tale</td>\n",
       "      <td>A twist of rumplestiskin captured on film, sta...</td>\n",
       "    </tr>\n",
       "    <tr>\n",
       "      <th>2</th>\n",
       "      <td>451878</td>\n",
       "      <td>B00004CXX9</td>\n",
       "      <td>A344SMIA5JECGM</td>\n",
       "      <td>Vincent P. Ross</td>\n",
       "      <td>1</td>\n",
       "      <td>2</td>\n",
       "      <td>1</td>\n",
       "      <td>1999-06-12</td>\n",
       "      <td>A modern day fairy tale</td>\n",
       "      <td>A twist of rumplestiskin captured on film, sta...</td>\n",
       "    </tr>\n",
       "    <tr>\n",
       "      <th>3</th>\n",
       "      <td>374359</td>\n",
       "      <td>B00004CI84</td>\n",
       "      <td>A344SMIA5JECGM</td>\n",
       "      <td>Vincent P. Ross</td>\n",
       "      <td>1</td>\n",
       "      <td>2</td>\n",
       "      <td>1</td>\n",
       "      <td>1999-06-12</td>\n",
       "      <td>A modern day fairy tale</td>\n",
       "      <td>A twist of rumplestiskin captured on film, sta...</td>\n",
       "    </tr>\n",
       "    <tr>\n",
       "      <th>4</th>\n",
       "      <td>150524</td>\n",
       "      <td>0006641040</td>\n",
       "      <td>ACITT7DI6IDDL</td>\n",
       "      <td>shari zychinski</td>\n",
       "      <td>0</td>\n",
       "      <td>0</td>\n",
       "      <td>1</td>\n",
       "      <td>1999-08-10</td>\n",
       "      <td>EVERY book is educational</td>\n",
       "      <td>this witty little book makes my son laugh at l...</td>\n",
       "    </tr>\n",
       "    <tr>\n",
       "      <th>5</th>\n",
       "      <td>150501</td>\n",
       "      <td>0006641040</td>\n",
       "      <td>AJ46FKXOVC7NR</td>\n",
       "      <td>Nicholas A Mesiano</td>\n",
       "      <td>2</td>\n",
       "      <td>2</td>\n",
       "      <td>1</td>\n",
       "      <td>1999-10-25</td>\n",
       "      <td>This whole series is great way to spend time w...</td>\n",
       "      <td>I can remember seeing the show when it aired o...</td>\n",
       "    </tr>\n",
       "    <tr>\n",
       "      <th>6</th>\n",
       "      <td>230269</td>\n",
       "      <td>B00004RYGX</td>\n",
       "      <td>A1B2IZU1JLZA6</td>\n",
       "      <td>Wes</td>\n",
       "      <td>19</td>\n",
       "      <td>23</td>\n",
       "      <td>0</td>\n",
       "      <td>2000-01-19</td>\n",
       "      <td>WARNING: CLAMSHELL EDITION IS EDITED TV VERSION</td>\n",
       "      <td>I, myself always enjoyed this movie, it's very...</td>\n",
       "    </tr>\n",
       "    <tr>\n",
       "      <th>7</th>\n",
       "      <td>374343</td>\n",
       "      <td>B00004CI84</td>\n",
       "      <td>A1B2IZU1JLZA6</td>\n",
       "      <td>Wes</td>\n",
       "      <td>19</td>\n",
       "      <td>23</td>\n",
       "      <td>0</td>\n",
       "      <td>2000-01-19</td>\n",
       "      <td>WARNING: CLAMSHELL EDITION IS EDITED TV VERSION</td>\n",
       "      <td>I, myself always enjoyed this movie, it's very...</td>\n",
       "    </tr>\n",
       "    <tr>\n",
       "      <th>8</th>\n",
       "      <td>451864</td>\n",
       "      <td>B00004CXX9</td>\n",
       "      <td>A1B2IZU1JLZA6</td>\n",
       "      <td>Wes</td>\n",
       "      <td>19</td>\n",
       "      <td>23</td>\n",
       "      <td>0</td>\n",
       "      <td>2000-01-19</td>\n",
       "      <td>WARNING: CLAMSHELL EDITION IS EDITED TV VERSION</td>\n",
       "      <td>I, myself always enjoyed this movie, it's very...</td>\n",
       "    </tr>\n",
       "    <tr>\n",
       "      <th>9</th>\n",
       "      <td>76882</td>\n",
       "      <td>B00002N8SM</td>\n",
       "      <td>A32DW342WBJ6BX</td>\n",
       "      <td>Buttersugar</td>\n",
       "      <td>0</td>\n",
       "      <td>0</td>\n",
       "      <td>1</td>\n",
       "      <td>2000-01-24</td>\n",
       "      <td>A sure death for flies</td>\n",
       "      <td>I bought a few of these after my apartment was...</td>\n",
       "    </tr>\n",
       "    <tr>\n",
       "      <th>10</th>\n",
       "      <td>451977</td>\n",
       "      <td>B00004CXX9</td>\n",
       "      <td>ACJR7EQF9S6FP</td>\n",
       "      <td>Jeremy Robertson</td>\n",
       "      <td>2</td>\n",
       "      <td>3</td>\n",
       "      <td>1</td>\n",
       "      <td>2000-02-26</td>\n",
       "      <td>Bettlejuice...Bettlejuice...BETTLEJUICE!</td>\n",
       "      <td>What happens when you say his name three times...</td>\n",
       "    </tr>\n",
       "    <tr>\n",
       "      <th>11</th>\n",
       "      <td>374450</td>\n",
       "      <td>B00004CI84</td>\n",
       "      <td>ACJR7EQF9S6FP</td>\n",
       "      <td>Jeremy Robertson</td>\n",
       "      <td>2</td>\n",
       "      <td>3</td>\n",
       "      <td>1</td>\n",
       "      <td>2000-02-26</td>\n",
       "      <td>Bettlejuice...Bettlejuice...BETTLEJUICE!</td>\n",
       "      <td>What happens when you say his name three times...</td>\n",
       "    </tr>\n",
       "    <tr>\n",
       "      <th>12</th>\n",
       "      <td>230376</td>\n",
       "      <td>B00004RYGX</td>\n",
       "      <td>ACJR7EQF9S6FP</td>\n",
       "      <td>Jeremy Robertson</td>\n",
       "      <td>2</td>\n",
       "      <td>3</td>\n",
       "      <td>1</td>\n",
       "      <td>2000-02-26</td>\n",
       "      <td>Bettlejuice...Bettlejuice...BETTLEJUICE!</td>\n",
       "      <td>What happens when you say his name three times...</td>\n",
       "    </tr>\n",
       "    <tr>\n",
       "      <th>13</th>\n",
       "      <td>451855</td>\n",
       "      <td>B00004CXX9</td>\n",
       "      <td>AJH6LUC1UT1ON</td>\n",
       "      <td>The Phantom of the Opera</td>\n",
       "      <td>0</td>\n",
       "      <td>0</td>\n",
       "      <td>1</td>\n",
       "      <td>2000-03-01</td>\n",
       "      <td>FANTASTIC!</td>\n",
       "      <td>Beetlejuice is an excellent and funny movie. K...</td>\n",
       "    </tr>\n",
       "    <tr>\n",
       "      <th>14</th>\n",
       "      <td>230326</td>\n",
       "      <td>B00004RYGX</td>\n",
       "      <td>A2DEE7F9XKP3ZR</td>\n",
       "      <td>jerome</td>\n",
       "      <td>0</td>\n",
       "      <td>3</td>\n",
       "      <td>1</td>\n",
       "      <td>2000-03-06</td>\n",
       "      <td>Research - Beatlejuice video - French version</td>\n",
       "      <td>I'm getting crazy.I'm looking for Beatlejuice ...</td>\n",
       "    </tr>\n",
       "    <tr>\n",
       "      <th>15</th>\n",
       "      <td>451903</td>\n",
       "      <td>B00004CXX9</td>\n",
       "      <td>A2DEE7F9XKP3ZR</td>\n",
       "      <td>jerome</td>\n",
       "      <td>0</td>\n",
       "      <td>1</td>\n",
       "      <td>1</td>\n",
       "      <td>2000-03-06</td>\n",
       "      <td>Research</td>\n",
       "      <td>I'm getting crazy.&lt;p&gt;Is it really impossible t...</td>\n",
       "    </tr>\n",
       "    <tr>\n",
       "      <th>16</th>\n",
       "      <td>374400</td>\n",
       "      <td>B00004CI84</td>\n",
       "      <td>A2DEE7F9XKP3ZR</td>\n",
       "      <td>jerome</td>\n",
       "      <td>0</td>\n",
       "      <td>3</td>\n",
       "      <td>1</td>\n",
       "      <td>2000-03-06</td>\n",
       "      <td>Research - Beatlejuice video - French version</td>\n",
       "      <td>I'm getting crazy.I'm looking for Beatlejuice ...</td>\n",
       "    </tr>\n",
       "    <tr>\n",
       "      <th>17</th>\n",
       "      <td>230334</td>\n",
       "      <td>B00004RYGX</td>\n",
       "      <td>A1GB1Q193DNFGR</td>\n",
       "      <td>Bruce Lee Pullen</td>\n",
       "      <td>5</td>\n",
       "      <td>5</td>\n",
       "      <td>1</td>\n",
       "      <td>2000-03-10</td>\n",
       "      <td>Fabulous Comedic Fanasy Directed by a Master</td>\n",
       "      <td>Beetlejuice is an awe-inspiring wonderfully am...</td>\n",
       "    </tr>\n",
       "    <tr>\n",
       "      <th>18</th>\n",
       "      <td>374408</td>\n",
       "      <td>B00004CI84</td>\n",
       "      <td>A1GB1Q193DNFGR</td>\n",
       "      <td>Bruce Lee Pullen</td>\n",
       "      <td>5</td>\n",
       "      <td>5</td>\n",
       "      <td>1</td>\n",
       "      <td>2000-03-10</td>\n",
       "      <td>Fabulous Comedic Fanasy Directed by a Master</td>\n",
       "      <td>Beetlejuice is an awe-inspiring wonderfully am...</td>\n",
       "    </tr>\n",
       "    <tr>\n",
       "      <th>19</th>\n",
       "      <td>451935</td>\n",
       "      <td>B00004CXX9</td>\n",
       "      <td>A1GB1Q193DNFGR</td>\n",
       "      <td>Bruce Lee Pullen</td>\n",
       "      <td>5</td>\n",
       "      <td>5</td>\n",
       "      <td>1</td>\n",
       "      <td>2000-03-10</td>\n",
       "      <td>Fabulous Comedic Fanasy Directed by a Master</td>\n",
       "      <td>Beetlejuice is an awe-inspiring wonderfully am...</td>\n",
       "    </tr>\n",
       "    <tr>\n",
       "      <th>20</th>\n",
       "      <td>149768</td>\n",
       "      <td>B00004S1C5</td>\n",
       "      <td>A7P76IGRZZBFJ</td>\n",
       "      <td>E. Thompson \"Soooooper Genius\"</td>\n",
       "      <td>18</td>\n",
       "      <td>18</td>\n",
       "      <td>1</td>\n",
       "      <td>2000-05-12</td>\n",
       "      <td>Who Needs Wilton?</td>\n",
       "      <td>I'm sick of scads of nasty toothpicks all over...</td>\n",
       "    </tr>\n",
       "    <tr>\n",
       "      <th>21</th>\n",
       "      <td>1245</td>\n",
       "      <td>B00002Z754</td>\n",
       "      <td>A29Z5PI9BW2PU3</td>\n",
       "      <td>Robbie</td>\n",
       "      <td>7</td>\n",
       "      <td>7</td>\n",
       "      <td>1</td>\n",
       "      <td>2000-06-23</td>\n",
       "      <td>Great Product</td>\n",
       "      <td>This was a really good idea and the final prod...</td>\n",
       "    </tr>\n",
       "    <tr>\n",
       "      <th>22</th>\n",
       "      <td>1244</td>\n",
       "      <td>B00002Z754</td>\n",
       "      <td>A3B8RCEI0FXFI6</td>\n",
       "      <td>B G Chase</td>\n",
       "      <td>10</td>\n",
       "      <td>10</td>\n",
       "      <td>1</td>\n",
       "      <td>2000-06-29</td>\n",
       "      <td>WOW Make your own 'slickers' !</td>\n",
       "      <td>I just received my shipment and could hardly w...</td>\n",
       "    </tr>\n",
       "    <tr>\n",
       "      <th>23</th>\n",
       "      <td>131217</td>\n",
       "      <td>B00004RAMX</td>\n",
       "      <td>A5NQLNC6QPGSI</td>\n",
       "      <td>Kim Nason</td>\n",
       "      <td>7</td>\n",
       "      <td>8</td>\n",
       "      <td>1</td>\n",
       "      <td>2000-07-31</td>\n",
       "      <td>End your Gopher Problems</td>\n",
       "      <td>I have just recently purchased the Woodstream ...</td>\n",
       "    </tr>\n",
       "    <tr>\n",
       "      <th>24</th>\n",
       "      <td>451948</td>\n",
       "      <td>B00004CXX9</td>\n",
       "      <td>A1FJOY14X3MUHE</td>\n",
       "      <td>Justin Howard</td>\n",
       "      <td>2</td>\n",
       "      <td>2</td>\n",
       "      <td>1</td>\n",
       "      <td>2000-08-15</td>\n",
       "      <td>A fresh, original film from master storyteller...</td>\n",
       "      <td>This is such a great film, I don't even know h...</td>\n",
       "    </tr>\n",
       "    <tr>\n",
       "      <th>25</th>\n",
       "      <td>374421</td>\n",
       "      <td>B00004CI84</td>\n",
       "      <td>A1FJOY14X3MUHE</td>\n",
       "      <td>Justin Howard</td>\n",
       "      <td>2</td>\n",
       "      <td>2</td>\n",
       "      <td>1</td>\n",
       "      <td>2000-08-15</td>\n",
       "      <td>A fresh, original film from master storyteller...</td>\n",
       "      <td>This is such a great film, I don't even know h...</td>\n",
       "    </tr>\n",
       "    <tr>\n",
       "      <th>26</th>\n",
       "      <td>230347</td>\n",
       "      <td>B00004RYGX</td>\n",
       "      <td>A1FJOY14X3MUHE</td>\n",
       "      <td>Justin Howard</td>\n",
       "      <td>2</td>\n",
       "      <td>2</td>\n",
       "      <td>1</td>\n",
       "      <td>2000-08-15</td>\n",
       "      <td>A fresh, original film from master storyteller...</td>\n",
       "      <td>This is such a great film, I don't even know h...</td>\n",
       "    </tr>\n",
       "    <tr>\n",
       "      <th>27</th>\n",
       "      <td>374422</td>\n",
       "      <td>B00004CI84</td>\n",
       "      <td>A1048CYU0OV4O8</td>\n",
       "      <td>Judy L. Eans</td>\n",
       "      <td>2</td>\n",
       "      <td>2</td>\n",
       "      <td>1</td>\n",
       "      <td>2000-09-01</td>\n",
       "      <td>GREAT</td>\n",
       "      <td>THIS IS ONE MOVIE THAT SHOULD BE IN YOUR MOVIE...</td>\n",
       "    </tr>\n",
       "    <tr>\n",
       "      <th>28</th>\n",
       "      <td>230348</td>\n",
       "      <td>B00004RYGX</td>\n",
       "      <td>A1048CYU0OV4O8</td>\n",
       "      <td>Judy L. Eans</td>\n",
       "      <td>2</td>\n",
       "      <td>2</td>\n",
       "      <td>1</td>\n",
       "      <td>2000-09-01</td>\n",
       "      <td>GREAT</td>\n",
       "      <td>THIS IS ONE MOVIE THAT SHOULD BE IN YOUR MOVIE...</td>\n",
       "    </tr>\n",
       "    <tr>\n",
       "      <th>29</th>\n",
       "      <td>451949</td>\n",
       "      <td>B00004CXX9</td>\n",
       "      <td>A1048CYU0OV4O8</td>\n",
       "      <td>Judy L. Eans</td>\n",
       "      <td>2</td>\n",
       "      <td>2</td>\n",
       "      <td>1</td>\n",
       "      <td>2000-09-01</td>\n",
       "      <td>GREAT</td>\n",
       "      <td>THIS IS ONE MOVIE THAT SHOULD BE IN YOUR MOVIE...</td>\n",
       "    </tr>\n",
       "    <tr>\n",
       "      <th>...</th>\n",
       "      <td>...</td>\n",
       "      <td>...</td>\n",
       "      <td>...</td>\n",
       "      <td>...</td>\n",
       "      <td>...</td>\n",
       "      <td>...</td>\n",
       "      <td>...</td>\n",
       "      <td>...</td>\n",
       "      <td>...</td>\n",
       "      <td>...</td>\n",
       "    </tr>\n",
       "    <tr>\n",
       "      <th>568424</th>\n",
       "      <td>17883</td>\n",
       "      <td>B001EO653M</td>\n",
       "      <td>A3IGARBJ4SE9EQ</td>\n",
       "      <td>Arielle M.</td>\n",
       "      <td>0</td>\n",
       "      <td>0</td>\n",
       "      <td>1</td>\n",
       "      <td>2012-12-10</td>\n",
       "      <td>delicious, full-flavored cocoa mix</td>\n",
       "      <td>This is probably the best-tasting cocoa I've e...</td>\n",
       "    </tr>\n",
       "    <tr>\n",
       "      <th>568425</th>\n",
       "      <td>200504</td>\n",
       "      <td>B007PXI6CO</td>\n",
       "      <td>A1007OFJTJRYII</td>\n",
       "      <td>Jan</td>\n",
       "      <td>0</td>\n",
       "      <td>0</td>\n",
       "      <td>1</td>\n",
       "      <td>2012-12-10</td>\n",
       "      <td>salty caramels</td>\n",
       "      <td>These were the best caramels I have ever eaten...</td>\n",
       "    </tr>\n",
       "    <tr>\n",
       "      <th>568426</th>\n",
       "      <td>275087</td>\n",
       "      <td>B000FF3V06</td>\n",
       "      <td>A3EEJG97L9YIAB</td>\n",
       "      <td>Linda</td>\n",
       "      <td>0</td>\n",
       "      <td>0</td>\n",
       "      <td>1</td>\n",
       "      <td>2012-12-10</td>\n",
       "      <td>Dare to be Pleased</td>\n",
       "      <td>Cookies are delicious and make a nice after di...</td>\n",
       "    </tr>\n",
       "    <tr>\n",
       "      <th>568427</th>\n",
       "      <td>566827</td>\n",
       "      <td>B001PQTYN2</td>\n",
       "      <td>AR4GVRPKO4MBL</td>\n",
       "      <td>ShahinX1</td>\n",
       "      <td>0</td>\n",
       "      <td>0</td>\n",
       "      <td>1</td>\n",
       "      <td>2012-12-10</td>\n",
       "      <td>Not all that...</td>\n",
       "      <td>To those of you who tried this and wrote a lif...</td>\n",
       "    </tr>\n",
       "    <tr>\n",
       "      <th>568428</th>\n",
       "      <td>201918</td>\n",
       "      <td>B009062AQW</td>\n",
       "      <td>ARUJ8B1HTISK0</td>\n",
       "      <td>Blondie</td>\n",
       "      <td>0</td>\n",
       "      <td>0</td>\n",
       "      <td>1</td>\n",
       "      <td>2012-12-10</td>\n",
       "      <td>Good hearty flavor</td>\n",
       "      <td>The family loved every bite. I'll be trying al...</td>\n",
       "    </tr>\n",
       "    <tr>\n",
       "      <th>568429</th>\n",
       "      <td>201995</td>\n",
       "      <td>B000LQL9M6</td>\n",
       "      <td>AI2R6R7UP4NYB</td>\n",
       "      <td>Sparky</td>\n",
       "      <td>0</td>\n",
       "      <td>0</td>\n",
       "      <td>1</td>\n",
       "      <td>2012-12-10</td>\n",
       "      <td>Great for Baklava</td>\n",
       "      <td>Great size for the occasional user who must ha...</td>\n",
       "    </tr>\n",
       "    <tr>\n",
       "      <th>568430</th>\n",
       "      <td>549437</td>\n",
       "      <td>B004TGZRJA</td>\n",
       "      <td>A2GDTF5XZFVW2G</td>\n",
       "      <td>Kirk Henry \"old school\"</td>\n",
       "      <td>0</td>\n",
       "      <td>0</td>\n",
       "      <td>1</td>\n",
       "      <td>2012-12-10</td>\n",
       "      <td>LUV This Coffee!</td>\n",
       "      <td>I'm a big time coffee drinker and I tend to li...</td>\n",
       "    </tr>\n",
       "    <tr>\n",
       "      <th>568431</th>\n",
       "      <td>513699</td>\n",
       "      <td>B000VK33C6</td>\n",
       "      <td>A3LRLNH9WJDQY6</td>\n",
       "      <td>Diane Milan</td>\n",
       "      <td>0</td>\n",
       "      <td>0</td>\n",
       "      <td>1</td>\n",
       "      <td>2012-12-10</td>\n",
       "      <td>Healthier</td>\n",
       "      <td>I feel better about feeding this product to my...</td>\n",
       "    </tr>\n",
       "    <tr>\n",
       "      <th>568432</th>\n",
       "      <td>203834</td>\n",
       "      <td>B000VK4CTO</td>\n",
       "      <td>A1V5J0VTEL8DS8</td>\n",
       "      <td>Peter</td>\n",
       "      <td>0</td>\n",
       "      <td>0</td>\n",
       "      <td>0</td>\n",
       "      <td>2012-12-10</td>\n",
       "      <td>A treat they won't eat</td>\n",
       "      <td>My two kittens (6 &amp; 7 Months) don't even think...</td>\n",
       "    </tr>\n",
       "    <tr>\n",
       "      <th>568433</th>\n",
       "      <td>377295</td>\n",
       "      <td>B004VLWASE</td>\n",
       "      <td>A36DVRTEHDJKNP</td>\n",
       "      <td>Steve</td>\n",
       "      <td>0</td>\n",
       "      <td>0</td>\n",
       "      <td>1</td>\n",
       "      <td>2012-12-10</td>\n",
       "      <td>non-wheat crackers</td>\n",
       "      <td>I've tried the other lentil crackersw in a que...</td>\n",
       "    </tr>\n",
       "    <tr>\n",
       "      <th>568434</th>\n",
       "      <td>330098</td>\n",
       "      <td>B001OHX1ZY</td>\n",
       "      <td>A88XJQH33JG01</td>\n",
       "      <td>maryann</td>\n",
       "      <td>0</td>\n",
       "      <td>0</td>\n",
       "      <td>1</td>\n",
       "      <td>2012-12-10</td>\n",
       "      <td>best buy on hemp protein powder</td>\n",
       "      <td>This is the best way to buy Nutiva Organic Hem...</td>\n",
       "    </tr>\n",
       "    <tr>\n",
       "      <th>568435</th>\n",
       "      <td>377319</td>\n",
       "      <td>B001IAQ8KC</td>\n",
       "      <td>AQO4BNFU7T4EH</td>\n",
       "      <td>Andrew P Freese</td>\n",
       "      <td>0</td>\n",
       "      <td>0</td>\n",
       "      <td>1</td>\n",
       "      <td>2012-12-10</td>\n",
       "      <td>Not Hot</td>\n",
       "      <td>Product claims to be \"Extra Hot\".&lt;br /&gt;It's no...</td>\n",
       "    </tr>\n",
       "    <tr>\n",
       "      <th>568436</th>\n",
       "      <td>203701</td>\n",
       "      <td>B004AW1Z94</td>\n",
       "      <td>A1D6FDBK9FJI8C</td>\n",
       "      <td>Jason Mark</td>\n",
       "      <td>0</td>\n",
       "      <td>0</td>\n",
       "      <td>0</td>\n",
       "      <td>2012-12-10</td>\n",
       "      <td>I think this is a scam</td>\n",
       "      <td>it's advertised as 21oz, but they sent me an 1...</td>\n",
       "    </tr>\n",
       "    <tr>\n",
       "      <th>568437</th>\n",
       "      <td>432397</td>\n",
       "      <td>B003A199AI</td>\n",
       "      <td>A2VI7ZC4CWDUPW</td>\n",
       "      <td>Vanessa Close</td>\n",
       "      <td>2</td>\n",
       "      <td>2</td>\n",
       "      <td>1</td>\n",
       "      <td>2012-12-10</td>\n",
       "      <td>Absolutely Love These</td>\n",
       "      <td>I like to try new things and when I came acros...</td>\n",
       "    </tr>\n",
       "    <tr>\n",
       "      <th>568438</th>\n",
       "      <td>432396</td>\n",
       "      <td>B003A199AI</td>\n",
       "      <td>A3F0WUGQIS488X</td>\n",
       "      <td>Daniel L</td>\n",
       "      <td>2</td>\n",
       "      <td>2</td>\n",
       "      <td>1</td>\n",
       "      <td>2012-12-10</td>\n",
       "      <td>Perfect for Eating without Expanding!</td>\n",
       "      <td>I love these !&lt;br /&gt; I always crave salty/ cru...</td>\n",
       "    </tr>\n",
       "    <tr>\n",
       "      <th>568439</th>\n",
       "      <td>80520</td>\n",
       "      <td>B008ADQYYU</td>\n",
       "      <td>A2DKVL26ZX0WGS</td>\n",
       "      <td>Sil</td>\n",
       "      <td>0</td>\n",
       "      <td>0</td>\n",
       "      <td>1</td>\n",
       "      <td>2012-12-10</td>\n",
       "      <td>Terrific Rasberry!</td>\n",
       "      <td>So I just have to say this matcha is delicious...</td>\n",
       "    </tr>\n",
       "    <tr>\n",
       "      <th>568440</th>\n",
       "      <td>50682</td>\n",
       "      <td>B007PQTIRI</td>\n",
       "      <td>A2XWFSMXJ1RR0R</td>\n",
       "      <td>Mel M.</td>\n",
       "      <td>0</td>\n",
       "      <td>0</td>\n",
       "      <td>1</td>\n",
       "      <td>2012-12-10</td>\n",
       "      <td>Robust coconut flavor</td>\n",
       "      <td>Finally!  A delicious coconut cereal.  And it'...</td>\n",
       "    </tr>\n",
       "    <tr>\n",
       "      <th>568441</th>\n",
       "      <td>398671</td>\n",
       "      <td>B001D09KAM</td>\n",
       "      <td>AUS545VE0P2J1</td>\n",
       "      <td>Paul</td>\n",
       "      <td>0</td>\n",
       "      <td>0</td>\n",
       "      <td>1</td>\n",
       "      <td>2012-12-10</td>\n",
       "      <td>Try frozen</td>\n",
       "      <td>I just finished my second box of the dark choc...</td>\n",
       "    </tr>\n",
       "    <tr>\n",
       "      <th>568442</th>\n",
       "      <td>80622</td>\n",
       "      <td>B000WFKHN8</td>\n",
       "      <td>A29FD8FJONPAJ</td>\n",
       "      <td>Baxter \"Uru\"</td>\n",
       "      <td>0</td>\n",
       "      <td>0</td>\n",
       "      <td>1</td>\n",
       "      <td>2012-12-10</td>\n",
       "      <td>My three cats love it!</td>\n",
       "      <td>I have three cats all varying in age. My oldes...</td>\n",
       "    </tr>\n",
       "    <tr>\n",
       "      <th>568443</th>\n",
       "      <td>254881</td>\n",
       "      <td>B007PA32L2</td>\n",
       "      <td>A2ZOKXJOQULWXS</td>\n",
       "      <td>marie johnston</td>\n",
       "      <td>0</td>\n",
       "      <td>0</td>\n",
       "      <td>1</td>\n",
       "      <td>2012-12-10</td>\n",
       "      <td>pumpkin spice K Cup Coffee</td>\n",
       "      <td>My husband LOVES this coffee, we didn't order ...</td>\n",
       "    </tr>\n",
       "    <tr>\n",
       "      <th>568444</th>\n",
       "      <td>398672</td>\n",
       "      <td>B001D09KAM</td>\n",
       "      <td>A2TKFP9YMPASAS</td>\n",
       "      <td>sammy3856</td>\n",
       "      <td>0</td>\n",
       "      <td>0</td>\n",
       "      <td>1</td>\n",
       "      <td>2012-12-10</td>\n",
       "      <td>Kind Bars from Amazon</td>\n",
       "      <td>The Kind Cranberry Almond bars are healthy for...</td>\n",
       "    </tr>\n",
       "    <tr>\n",
       "      <th>568445</th>\n",
       "      <td>254880</td>\n",
       "      <td>B007PA32L2</td>\n",
       "      <td>A3JK142YXC2RGK</td>\n",
       "      <td>judaicagirl \"Dalia L.\"</td>\n",
       "      <td>0</td>\n",
       "      <td>0</td>\n",
       "      <td>0</td>\n",
       "      <td>2012-12-10</td>\n",
       "      <td>Tastes like Constant Comment Tea</td>\n",
       "      <td>High hopes for this product, but it is very we...</td>\n",
       "    </tr>\n",
       "    <tr>\n",
       "      <th>568446</th>\n",
       "      <td>254879</td>\n",
       "      <td>B007PA32L2</td>\n",
       "      <td>A2EJ1GFUFYUEBM</td>\n",
       "      <td>michael crow</td>\n",
       "      <td>0</td>\n",
       "      <td>0</td>\n",
       "      <td>0</td>\n",
       "      <td>2012-12-10</td>\n",
       "      <td>bad</td>\n",
       "      <td>i bought a 24 pack, thinking it would be good....</td>\n",
       "    </tr>\n",
       "    <tr>\n",
       "      <th>568447</th>\n",
       "      <td>377320</td>\n",
       "      <td>B001IAQ8KC</td>\n",
       "      <td>A1JXRHA7PD04ZF</td>\n",
       "      <td>John</td>\n",
       "      <td>0</td>\n",
       "      <td>0</td>\n",
       "      <td>1</td>\n",
       "      <td>2012-12-10</td>\n",
       "      <td>Good stuff</td>\n",
       "      <td>I have used this product for years.  It is the...</td>\n",
       "    </tr>\n",
       "    <tr>\n",
       "      <th>568448</th>\n",
       "      <td>274819</td>\n",
       "      <td>B005VOOOM0</td>\n",
       "      <td>AZS3RRB62EJVP</td>\n",
       "      <td>Dg7023</td>\n",
       "      <td>0</td>\n",
       "      <td>0</td>\n",
       "      <td>1</td>\n",
       "      <td>2012-12-10</td>\n",
       "      <td>Great tasting protein bars!</td>\n",
       "      <td>I've been paying a lot for protein bars that h...</td>\n",
       "    </tr>\n",
       "    <tr>\n",
       "      <th>568449</th>\n",
       "      <td>305646</td>\n",
       "      <td>B001ELL4E0</td>\n",
       "      <td>AZ3EHLAKPMUU6</td>\n",
       "      <td>bigtiger</td>\n",
       "      <td>0</td>\n",
       "      <td>0</td>\n",
       "      <td>1</td>\n",
       "      <td>2012-12-10</td>\n",
       "      <td>Cereal</td>\n",
       "      <td>I enjoy waking up and eating this oatmeal it i...</td>\n",
       "    </tr>\n",
       "    <tr>\n",
       "      <th>568450</th>\n",
       "      <td>202269</td>\n",
       "      <td>B000P0QHOI</td>\n",
       "      <td>AN4FZJKFHMAS0</td>\n",
       "      <td>Dawn E. Curran</td>\n",
       "      <td>0</td>\n",
       "      <td>0</td>\n",
       "      <td>1</td>\n",
       "      <td>2012-12-10</td>\n",
       "      <td>Great Licorice</td>\n",
       "      <td>This Lucky Country Licorice is some of the bes...</td>\n",
       "    </tr>\n",
       "    <tr>\n",
       "      <th>568451</th>\n",
       "      <td>106712</td>\n",
       "      <td>B001HTG6E2</td>\n",
       "      <td>A29Y8V009MI4G5</td>\n",
       "      <td>Cate</td>\n",
       "      <td>0</td>\n",
       "      <td>0</td>\n",
       "      <td>1</td>\n",
       "      <td>2012-12-10</td>\n",
       "      <td>Delicious treat!</td>\n",
       "      <td>These jelly beans are a treat for my daughter-...</td>\n",
       "    </tr>\n",
       "    <tr>\n",
       "      <th>568452</th>\n",
       "      <td>465911</td>\n",
       "      <td>B005OU6UD2</td>\n",
       "      <td>A2550XGZEFDH2Y</td>\n",
       "      <td>Melanie G. Nihart \"Grammy\"</td>\n",
       "      <td>0</td>\n",
       "      <td>0</td>\n",
       "      <td>0</td>\n",
       "      <td>2012-12-10</td>\n",
       "      <td>Small dog chew</td>\n",
       "      <td>Both of my dogs did not want it.  The chew was...</td>\n",
       "    </tr>\n",
       "    <tr>\n",
       "      <th>568453</th>\n",
       "      <td>424141</td>\n",
       "      <td>B000EMK53G</td>\n",
       "      <td>A2B7BUH8834Y6M</td>\n",
       "      <td>Shelley Gammon \"Geek\"</td>\n",
       "      <td>0</td>\n",
       "      <td>0</td>\n",
       "      <td>1</td>\n",
       "      <td>2012-12-10</td>\n",
       "      <td>Shockingly good - even if you're not a fan of ...</td>\n",
       "      <td>I discovered this bar quite by accident in the...</td>\n",
       "    </tr>\n",
       "  </tbody>\n",
       "</table>\n",
       "<p>568454 rows × 10 columns</p>\n",
       "</div>"
      ],
      "text/plain": [
       "            Id   ProductId          UserId                     ProfileName  \\\n",
       "0       451856  B00004CXX9   AIUWLEQ1ADEG5                Elizabeth Medina   \n",
       "1       230285  B00004RYGX  A344SMIA5JECGM                 Vincent P. Ross   \n",
       "2       451878  B00004CXX9  A344SMIA5JECGM                 Vincent P. Ross   \n",
       "3       374359  B00004CI84  A344SMIA5JECGM                 Vincent P. Ross   \n",
       "4       150524  0006641040   ACITT7DI6IDDL                 shari zychinski   \n",
       "5       150501  0006641040   AJ46FKXOVC7NR              Nicholas A Mesiano   \n",
       "6       230269  B00004RYGX   A1B2IZU1JLZA6                             Wes   \n",
       "7       374343  B00004CI84   A1B2IZU1JLZA6                             Wes   \n",
       "8       451864  B00004CXX9   A1B2IZU1JLZA6                             Wes   \n",
       "9        76882  B00002N8SM  A32DW342WBJ6BX                     Buttersugar   \n",
       "10      451977  B00004CXX9   ACJR7EQF9S6FP                Jeremy Robertson   \n",
       "11      374450  B00004CI84   ACJR7EQF9S6FP                Jeremy Robertson   \n",
       "12      230376  B00004RYGX   ACJR7EQF9S6FP                Jeremy Robertson   \n",
       "13      451855  B00004CXX9   AJH6LUC1UT1ON        The Phantom of the Opera   \n",
       "14      230326  B00004RYGX  A2DEE7F9XKP3ZR                          jerome   \n",
       "15      451903  B00004CXX9  A2DEE7F9XKP3ZR                          jerome   \n",
       "16      374400  B00004CI84  A2DEE7F9XKP3ZR                          jerome   \n",
       "17      230334  B00004RYGX  A1GB1Q193DNFGR                Bruce Lee Pullen   \n",
       "18      374408  B00004CI84  A1GB1Q193DNFGR                Bruce Lee Pullen   \n",
       "19      451935  B00004CXX9  A1GB1Q193DNFGR                Bruce Lee Pullen   \n",
       "20      149768  B00004S1C5   A7P76IGRZZBFJ  E. Thompson \"Soooooper Genius\"   \n",
       "21        1245  B00002Z754  A29Z5PI9BW2PU3                          Robbie   \n",
       "22        1244  B00002Z754  A3B8RCEI0FXFI6                       B G Chase   \n",
       "23      131217  B00004RAMX   A5NQLNC6QPGSI                       Kim Nason   \n",
       "24      451948  B00004CXX9  A1FJOY14X3MUHE                   Justin Howard   \n",
       "25      374421  B00004CI84  A1FJOY14X3MUHE                   Justin Howard   \n",
       "26      230347  B00004RYGX  A1FJOY14X3MUHE                   Justin Howard   \n",
       "27      374422  B00004CI84  A1048CYU0OV4O8                    Judy L. Eans   \n",
       "28      230348  B00004RYGX  A1048CYU0OV4O8                    Judy L. Eans   \n",
       "29      451949  B00004CXX9  A1048CYU0OV4O8                    Judy L. Eans   \n",
       "...        ...         ...             ...                             ...   \n",
       "568424   17883  B001EO653M  A3IGARBJ4SE9EQ                      Arielle M.   \n",
       "568425  200504  B007PXI6CO  A1007OFJTJRYII                             Jan   \n",
       "568426  275087  B000FF3V06  A3EEJG97L9YIAB                           Linda   \n",
       "568427  566827  B001PQTYN2   AR4GVRPKO4MBL                        ShahinX1   \n",
       "568428  201918  B009062AQW   ARUJ8B1HTISK0                         Blondie   \n",
       "568429  201995  B000LQL9M6   AI2R6R7UP4NYB                          Sparky   \n",
       "568430  549437  B004TGZRJA  A2GDTF5XZFVW2G         Kirk Henry \"old school\"   \n",
       "568431  513699  B000VK33C6  A3LRLNH9WJDQY6                     Diane Milan   \n",
       "568432  203834  B000VK4CTO  A1V5J0VTEL8DS8                           Peter   \n",
       "568433  377295  B004VLWASE  A36DVRTEHDJKNP                           Steve   \n",
       "568434  330098  B001OHX1ZY   A88XJQH33JG01                         maryann   \n",
       "568435  377319  B001IAQ8KC   AQO4BNFU7T4EH                 Andrew P Freese   \n",
       "568436  203701  B004AW1Z94  A1D6FDBK9FJI8C                      Jason Mark   \n",
       "568437  432397  B003A199AI  A2VI7ZC4CWDUPW                   Vanessa Close   \n",
       "568438  432396  B003A199AI  A3F0WUGQIS488X                        Daniel L   \n",
       "568439   80520  B008ADQYYU  A2DKVL26ZX0WGS                             Sil   \n",
       "568440   50682  B007PQTIRI  A2XWFSMXJ1RR0R                          Mel M.   \n",
       "568441  398671  B001D09KAM   AUS545VE0P2J1                            Paul   \n",
       "568442   80622  B000WFKHN8   A29FD8FJONPAJ                    Baxter \"Uru\"   \n",
       "568443  254881  B007PA32L2  A2ZOKXJOQULWXS                  marie johnston   \n",
       "568444  398672  B001D09KAM  A2TKFP9YMPASAS                       sammy3856   \n",
       "568445  254880  B007PA32L2  A3JK142YXC2RGK          judaicagirl \"Dalia L.\"   \n",
       "568446  254879  B007PA32L2  A2EJ1GFUFYUEBM                    michael crow   \n",
       "568447  377320  B001IAQ8KC  A1JXRHA7PD04ZF                            John   \n",
       "568448  274819  B005VOOOM0   AZS3RRB62EJVP                          Dg7023   \n",
       "568449  305646  B001ELL4E0   AZ3EHLAKPMUU6                        bigtiger   \n",
       "568450  202269  B000P0QHOI   AN4FZJKFHMAS0                  Dawn E. Curran   \n",
       "568451  106712  B001HTG6E2  A29Y8V009MI4G5                            Cate   \n",
       "568452  465911  B005OU6UD2  A2550XGZEFDH2Y      Melanie G. Nihart \"Grammy\"   \n",
       "568453  424141  B000EMK53G  A2B7BUH8834Y6M           Shelley Gammon \"Geek\"   \n",
       "\n",
       "        HelpfulnessNumerator  HelpfulnessDenominator  Score       Time  \\\n",
       "0                          0                       0      1 1999-02-12   \n",
       "1                          1                       2      1 1999-06-12   \n",
       "2                          1                       2      1 1999-06-12   \n",
       "3                          1                       2      1 1999-06-12   \n",
       "4                          0                       0      1 1999-08-10   \n",
       "5                          2                       2      1 1999-10-25   \n",
       "6                         19                      23      0 2000-01-19   \n",
       "7                         19                      23      0 2000-01-19   \n",
       "8                         19                      23      0 2000-01-19   \n",
       "9                          0                       0      1 2000-01-24   \n",
       "10                         2                       3      1 2000-02-26   \n",
       "11                         2                       3      1 2000-02-26   \n",
       "12                         2                       3      1 2000-02-26   \n",
       "13                         0                       0      1 2000-03-01   \n",
       "14                         0                       3      1 2000-03-06   \n",
       "15                         0                       1      1 2000-03-06   \n",
       "16                         0                       3      1 2000-03-06   \n",
       "17                         5                       5      1 2000-03-10   \n",
       "18                         5                       5      1 2000-03-10   \n",
       "19                         5                       5      1 2000-03-10   \n",
       "20                        18                      18      1 2000-05-12   \n",
       "21                         7                       7      1 2000-06-23   \n",
       "22                        10                      10      1 2000-06-29   \n",
       "23                         7                       8      1 2000-07-31   \n",
       "24                         2                       2      1 2000-08-15   \n",
       "25                         2                       2      1 2000-08-15   \n",
       "26                         2                       2      1 2000-08-15   \n",
       "27                         2                       2      1 2000-09-01   \n",
       "28                         2                       2      1 2000-09-01   \n",
       "29                         2                       2      1 2000-09-01   \n",
       "...                      ...                     ...    ...        ...   \n",
       "568424                     0                       0      1 2012-12-10   \n",
       "568425                     0                       0      1 2012-12-10   \n",
       "568426                     0                       0      1 2012-12-10   \n",
       "568427                     0                       0      1 2012-12-10   \n",
       "568428                     0                       0      1 2012-12-10   \n",
       "568429                     0                       0      1 2012-12-10   \n",
       "568430                     0                       0      1 2012-12-10   \n",
       "568431                     0                       0      1 2012-12-10   \n",
       "568432                     0                       0      0 2012-12-10   \n",
       "568433                     0                       0      1 2012-12-10   \n",
       "568434                     0                       0      1 2012-12-10   \n",
       "568435                     0                       0      1 2012-12-10   \n",
       "568436                     0                       0      0 2012-12-10   \n",
       "568437                     2                       2      1 2012-12-10   \n",
       "568438                     2                       2      1 2012-12-10   \n",
       "568439                     0                       0      1 2012-12-10   \n",
       "568440                     0                       0      1 2012-12-10   \n",
       "568441                     0                       0      1 2012-12-10   \n",
       "568442                     0                       0      1 2012-12-10   \n",
       "568443                     0                       0      1 2012-12-10   \n",
       "568444                     0                       0      1 2012-12-10   \n",
       "568445                     0                       0      0 2012-12-10   \n",
       "568446                     0                       0      0 2012-12-10   \n",
       "568447                     0                       0      1 2012-12-10   \n",
       "568448                     0                       0      1 2012-12-10   \n",
       "568449                     0                       0      1 2012-12-10   \n",
       "568450                     0                       0      1 2012-12-10   \n",
       "568451                     0                       0      1 2012-12-10   \n",
       "568452                     0                       0      0 2012-12-10   \n",
       "568453                     0                       0      1 2012-12-10   \n",
       "\n",
       "                                                  Summary  \\\n",
       "0                                    Entertainingl Funny!   \n",
       "1                                 A modern day fairy tale   \n",
       "2                                 A modern day fairy tale   \n",
       "3                                 A modern day fairy tale   \n",
       "4                               EVERY book is educational   \n",
       "5       This whole series is great way to spend time w...   \n",
       "6         WARNING: CLAMSHELL EDITION IS EDITED TV VERSION   \n",
       "7         WARNING: CLAMSHELL EDITION IS EDITED TV VERSION   \n",
       "8         WARNING: CLAMSHELL EDITION IS EDITED TV VERSION   \n",
       "9                                  A sure death for flies   \n",
       "10               Bettlejuice...Bettlejuice...BETTLEJUICE!   \n",
       "11               Bettlejuice...Bettlejuice...BETTLEJUICE!   \n",
       "12               Bettlejuice...Bettlejuice...BETTLEJUICE!   \n",
       "13                                             FANTASTIC!   \n",
       "14          Research - Beatlejuice video - French version   \n",
       "15                                               Research   \n",
       "16          Research - Beatlejuice video - French version   \n",
       "17           Fabulous Comedic Fanasy Directed by a Master   \n",
       "18           Fabulous Comedic Fanasy Directed by a Master   \n",
       "19           Fabulous Comedic Fanasy Directed by a Master   \n",
       "20                                      Who Needs Wilton?   \n",
       "21                                          Great Product   \n",
       "22                         WOW Make your own 'slickers' !   \n",
       "23                               End your Gopher Problems   \n",
       "24      A fresh, original film from master storyteller...   \n",
       "25      A fresh, original film from master storyteller...   \n",
       "26      A fresh, original film from master storyteller...   \n",
       "27                                                  GREAT   \n",
       "28                                                  GREAT   \n",
       "29                                                  GREAT   \n",
       "...                                                   ...   \n",
       "568424                 delicious, full-flavored cocoa mix   \n",
       "568425                                     salty caramels   \n",
       "568426                                 Dare to be Pleased   \n",
       "568427                                    Not all that...   \n",
       "568428                                 Good hearty flavor   \n",
       "568429                                  Great for Baklava   \n",
       "568430                                   LUV This Coffee!   \n",
       "568431                                          Healthier   \n",
       "568432                             A treat they won't eat   \n",
       "568433                                 non-wheat crackers   \n",
       "568434                    best buy on hemp protein powder   \n",
       "568435                                            Not Hot   \n",
       "568436                             I think this is a scam   \n",
       "568437                              Absolutely Love These   \n",
       "568438              Perfect for Eating without Expanding!   \n",
       "568439                                 Terrific Rasberry!   \n",
       "568440                              Robust coconut flavor   \n",
       "568441                                         Try frozen   \n",
       "568442                             My three cats love it!   \n",
       "568443                         pumpkin spice K Cup Coffee   \n",
       "568444                              Kind Bars from Amazon   \n",
       "568445                   Tastes like Constant Comment Tea   \n",
       "568446                                                bad   \n",
       "568447                                         Good stuff   \n",
       "568448                        Great tasting protein bars!   \n",
       "568449                                             Cereal   \n",
       "568450                                     Great Licorice   \n",
       "568451                                   Delicious treat!   \n",
       "568452                                     Small dog chew   \n",
       "568453  Shockingly good - even if you're not a fan of ...   \n",
       "\n",
       "                                                     Text  \n",
       "0       Beetlejuice is a well written movie ..... ever...  \n",
       "1       A twist of rumplestiskin captured on film, sta...  \n",
       "2       A twist of rumplestiskin captured on film, sta...  \n",
       "3       A twist of rumplestiskin captured on film, sta...  \n",
       "4       this witty little book makes my son laugh at l...  \n",
       "5       I can remember seeing the show when it aired o...  \n",
       "6       I, myself always enjoyed this movie, it's very...  \n",
       "7       I, myself always enjoyed this movie, it's very...  \n",
       "8       I, myself always enjoyed this movie, it's very...  \n",
       "9       I bought a few of these after my apartment was...  \n",
       "10      What happens when you say his name three times...  \n",
       "11      What happens when you say his name three times...  \n",
       "12      What happens when you say his name three times...  \n",
       "13      Beetlejuice is an excellent and funny movie. K...  \n",
       "14      I'm getting crazy.I'm looking for Beatlejuice ...  \n",
       "15      I'm getting crazy.<p>Is it really impossible t...  \n",
       "16      I'm getting crazy.I'm looking for Beatlejuice ...  \n",
       "17      Beetlejuice is an awe-inspiring wonderfully am...  \n",
       "18      Beetlejuice is an awe-inspiring wonderfully am...  \n",
       "19      Beetlejuice is an awe-inspiring wonderfully am...  \n",
       "20      I'm sick of scads of nasty toothpicks all over...  \n",
       "21      This was a really good idea and the final prod...  \n",
       "22      I just received my shipment and could hardly w...  \n",
       "23      I have just recently purchased the Woodstream ...  \n",
       "24      This is such a great film, I don't even know h...  \n",
       "25      This is such a great film, I don't even know h...  \n",
       "26      This is such a great film, I don't even know h...  \n",
       "27      THIS IS ONE MOVIE THAT SHOULD BE IN YOUR MOVIE...  \n",
       "28      THIS IS ONE MOVIE THAT SHOULD BE IN YOUR MOVIE...  \n",
       "29      THIS IS ONE MOVIE THAT SHOULD BE IN YOUR MOVIE...  \n",
       "...                                                   ...  \n",
       "568424  This is probably the best-tasting cocoa I've e...  \n",
       "568425  These were the best caramels I have ever eaten...  \n",
       "568426  Cookies are delicious and make a nice after di...  \n",
       "568427  To those of you who tried this and wrote a lif...  \n",
       "568428  The family loved every bite. I'll be trying al...  \n",
       "568429  Great size for the occasional user who must ha...  \n",
       "568430  I'm a big time coffee drinker and I tend to li...  \n",
       "568431  I feel better about feeding this product to my...  \n",
       "568432  My two kittens (6 & 7 Months) don't even think...  \n",
       "568433  I've tried the other lentil crackersw in a que...  \n",
       "568434  This is the best way to buy Nutiva Organic Hem...  \n",
       "568435  Product claims to be \"Extra Hot\".<br />It's no...  \n",
       "568436  it's advertised as 21oz, but they sent me an 1...  \n",
       "568437  I like to try new things and when I came acros...  \n",
       "568438  I love these !<br /> I always crave salty/ cru...  \n",
       "568439  So I just have to say this matcha is delicious...  \n",
       "568440  Finally!  A delicious coconut cereal.  And it'...  \n",
       "568441  I just finished my second box of the dark choc...  \n",
       "568442  I have three cats all varying in age. My oldes...  \n",
       "568443  My husband LOVES this coffee, we didn't order ...  \n",
       "568444  The Kind Cranberry Almond bars are healthy for...  \n",
       "568445  High hopes for this product, but it is very we...  \n",
       "568446  i bought a 24 pack, thinking it would be good....  \n",
       "568447  I have used this product for years.  It is the...  \n",
       "568448  I've been paying a lot for protein bars that h...  \n",
       "568449  I enjoy waking up and eating this oatmeal it i...  \n",
       "568450  This Lucky Country Licorice is some of the bes...  \n",
       "568451  These jelly beans are a treat for my daughter-...  \n",
       "568452  Both of my dogs did not want it.  The chew was...  \n",
       "568453  I discovered this bar quite by accident in the...  \n",
       "\n",
       "[568454 rows x 10 columns]"
      ]
     },
     "execution_count": 11,
     "metadata": {
      "tags": []
     },
     "output_type": "execute_result"
    }
   ],
   "source": [
    "filtered_data.reset_index(drop = True)"
   ]
  },
  {
   "cell_type": "code",
   "execution_count": 0,
   "metadata": {
    "colab": {
     "base_uri": "https://localhost:8080/",
     "height": 34
    },
    "colab_type": "code",
    "id": "e6tT9BWz6Y3o",
    "outputId": "355dd5aa-94cb-441c-bc8d-a090cd2209c3"
   },
   "outputs": [
    {
     "data": {
      "text/plain": [
       "'display = pd.read_sql_query(\"\"\"\\nSELECT UserId, ProductId, ProfileName, Time, Score, Text, COUNT(*)\\nFROM Reviews\\nGROUP BY UserId\\nHAVING COUNT(*)>1\\n\"\"\", con)'"
      ]
     },
     "execution_count": 12,
     "metadata": {
      "tags": []
     },
     "output_type": "execute_result"
    }
   ],
   "source": [
    "'''display = pd.read_sql_query(\"\"\"\n",
    "SELECT UserId, ProductId, ProfileName, Time, Score, Text, COUNT(*)\n",
    "FROM Reviews\n",
    "GROUP BY UserId\n",
    "HAVING COUNT(*)>1\n",
    "\"\"\", con)'''"
   ]
  },
  {
   "cell_type": "code",
   "execution_count": 0,
   "metadata": {
    "colab": {
     "base_uri": "https://localhost:8080/",
     "height": 34
    },
    "colab_type": "code",
    "id": "OXDI3oBW6Y3q",
    "outputId": "74dc71c9-f5a0-4756-c33b-2bf36a45fab9",
    "scrolled": true
   },
   "outputs": [
    {
     "data": {
      "text/plain": [
       "'print(display.shape)\\ndisplay.head()'"
      ]
     },
     "execution_count": 13,
     "metadata": {
      "tags": []
     },
     "output_type": "execute_result"
    }
   ],
   "source": [
    "'''print(display.shape)\n",
    "display.head()'''"
   ]
  },
  {
   "cell_type": "code",
   "execution_count": 0,
   "metadata": {
    "colab": {},
    "colab_type": "code",
    "id": "faSDq55Z6Y3v"
   },
   "outputs": [],
   "source": [
    "#display[display['UserId']=='AZY10LLTJ71NX']"
   ]
  },
  {
   "cell_type": "code",
   "execution_count": 0,
   "metadata": {
    "colab": {},
    "colab_type": "code",
    "id": "pPiMwmZA6Y3y"
   },
   "outputs": [],
   "source": [
    "#display['COUNT(*)'].sum()"
   ]
  },
  {
   "cell_type": "markdown",
   "metadata": {
    "colab_type": "text",
    "id": "fG4V5lYF6Y32"
   },
   "source": [
    "#  [2] Exploratory Data Analysis"
   ]
  },
  {
   "cell_type": "markdown",
   "metadata": {
    "colab_type": "text",
    "id": "kdg7DK8f6Y34"
   },
   "source": [
    "## [2.1] Data Cleaning: Deduplication\n",
    "\n",
    "It is observed (as shown in the table below) that the reviews data had many duplicate entries. Hence it was necessary to remove duplicates in order to get unbiased results for the analysis of the data.  Following is an example:"
   ]
  },
  {
   "cell_type": "code",
   "execution_count": 0,
   "metadata": {
    "colab": {
     "base_uri": "https://localhost:8080/",
     "height": 34
    },
    "colab_type": "code",
    "id": "Q_7BKmso6Y34",
    "outputId": "3ccfeef7-3e43-404b-a3e8-591db2d934e1",
    "scrolled": false
   },
   "outputs": [
    {
     "data": {
      "text/plain": [
       "'display= pd.read_sql_query(\"\"\"\\nSELECT *\\nFROM Reviews\\nWHERE Score != 3 AND UserId=\"AR5J8UI46CURR\"\\nORDER BY ProductID\\n\"\"\", con)\\ndisplay.head()'"
      ]
     },
     "execution_count": 16,
     "metadata": {
      "tags": []
     },
     "output_type": "execute_result"
    }
   ],
   "source": [
    "'''display= pd.read_sql_query(\"\"\"\n",
    "SELECT *\n",
    "FROM Reviews\n",
    "WHERE Score != 3 AND UserId=\"AR5J8UI46CURR\"\n",
    "ORDER BY ProductID\n",
    "\"\"\", con)\n",
    "display.head()'''"
   ]
  },
  {
   "cell_type": "markdown",
   "metadata": {
    "colab_type": "text",
    "id": "tFalsN1A6Y4A"
   },
   "source": [
    "As it can be seen above that same user has multiple reviews with same values for HelpfulnessNumerator, HelpfulnessDenominator, Score, Time, Summary and Text and on doing analysis it was found that <br>\n",
    "<br> \n",
    "ProductId=B000HDOPZG was Loacker Quadratini Vanilla Wafer Cookies, 8.82-Ounce Packages (Pack of 8)<br>\n",
    "<br> \n",
    "ProductId=B000HDL1RQ was Loacker Quadratini Lemon Wafer Cookies, 8.82-Ounce Packages (Pack of 8) and so on<br>\n",
    "\n",
    "It was inferred after analysis that reviews with same parameters other than ProductId belonged to the same product just having different flavour or quantity. Hence in order to reduce redundancy it was decided to eliminate the rows having same parameters.<br>\n",
    "\n",
    "The method used for the same was that we first sort the data according to ProductId and then just keep the first similar product review and delelte the others. for eg. in the above just the review for ProductId=B000HDL1RQ remains. This method ensures that there is only one representative for each product and deduplication without sorting would lead to possibility of different representatives still existing for the same product."
   ]
  },
  {
   "cell_type": "code",
   "execution_count": 0,
   "metadata": {
    "colab": {},
    "colab_type": "code",
    "id": "uDPHRHwR6Y4E"
   },
   "outputs": [],
   "source": [
    "#Sorting data according to ProductId in ascending order\n",
    "sorted_data=filtered_data.sort_values('ProductId', axis=0, ascending=True, inplace=False, kind='quicksort', na_position='last')"
   ]
  },
  {
   "cell_type": "code",
   "execution_count": 0,
   "metadata": {
    "colab": {
     "base_uri": "https://localhost:8080/",
     "height": 34
    },
    "colab_type": "code",
    "id": "zkOOsBE-6Y4I",
    "outputId": "8db84439-de66-4d04-e48f-7b6b36f456af"
   },
   "outputs": [
    {
     "data": {
      "text/plain": [
       "(393933, 10)"
      ]
     },
     "execution_count": 18,
     "metadata": {
      "tags": []
     },
     "output_type": "execute_result"
    }
   ],
   "source": [
    "#Deduplication of entries\n",
    "final=sorted_data.drop_duplicates(subset={\"UserId\",\"ProfileName\",\"Time\",\"Text\"}, keep='first', inplace=False)\n",
    "final.shape"
   ]
  },
  {
   "cell_type": "code",
   "execution_count": 0,
   "metadata": {
    "colab": {
     "base_uri": "https://localhost:8080/",
     "height": 34
    },
    "colab_type": "code",
    "id": "hcApOGVo6Y4O",
    "outputId": "230b5f72-e36a-4183-b1c4-4c1adaeb6760"
   },
   "outputs": [
    {
     "data": {
      "text/plain": [
       "69.29901100176971"
      ]
     },
     "execution_count": 19,
     "metadata": {
      "tags": []
     },
     "output_type": "execute_result"
    }
   ],
   "source": [
    "#Checking to see how much % of data still remains\n",
    "(final['Id'].size*1.0)/(filtered_data['Id'].size*1.0)*100"
   ]
  },
  {
   "cell_type": "markdown",
   "metadata": {
    "colab_type": "text",
    "id": "kBCP6wM_6Y4R"
   },
   "source": [
    "<b>Observation:-</b> It was also seen that in two rows given below the value of HelpfulnessNumerator is greater than HelpfulnessDenominator which is not practically possible hence these two rows too are removed from calcualtions"
   ]
  },
  {
   "cell_type": "code",
   "execution_count": 0,
   "metadata": {
    "colab": {
     "base_uri": "https://localhost:8080/",
     "height": 34
    },
    "colab_type": "code",
    "id": "wzqyy_RQ6Y4T",
    "outputId": "eed9b2d5-66d6-460a-ac02-ade26e748189"
   },
   "outputs": [
    {
     "data": {
      "text/plain": [
       "'display= pd.read_sql_query(\"\"\"\\nSELECT *\\nFROM Reviews\\nWHERE Score != 3 AND Id=44737 OR Id=64422\\nORDER BY ProductID\\n\"\"\", con)\\n\\ndisplay.head()'"
      ]
     },
     "execution_count": 20,
     "metadata": {
      "tags": []
     },
     "output_type": "execute_result"
    }
   ],
   "source": [
    "'''display= pd.read_sql_query(\"\"\"\n",
    "SELECT *\n",
    "FROM Reviews\n",
    "WHERE Score != 3 AND Id=44737 OR Id=64422\n",
    "ORDER BY ProductID\n",
    "\"\"\", con)\n",
    "\n",
    "display.head()'''"
   ]
  },
  {
   "cell_type": "code",
   "execution_count": 0,
   "metadata": {
    "colab": {},
    "colab_type": "code",
    "id": "1vwY7cNs6Y4X"
   },
   "outputs": [],
   "source": [
    "final=final[final.HelpfulnessNumerator<=final.HelpfulnessDenominator]"
   ]
  },
  {
   "cell_type": "code",
   "execution_count": 0,
   "metadata": {
    "colab": {
     "base_uri": "https://localhost:8080/",
     "height": 85
    },
    "colab_type": "code",
    "id": "l4Oniox86Y4Z",
    "outputId": "339afaf9-4dd2-4f0f-9c59-f2223f20b5dd"
   },
   "outputs": [
    {
     "name": "stdout",
     "output_type": "stream",
     "text": [
      "(393931, 10)\n"
     ]
    },
    {
     "data": {
      "text/plain": [
       "1    336824\n",
       "0     57107\n",
       "Name: Score, dtype: int64"
      ]
     },
     "execution_count": 22,
     "metadata": {
      "tags": []
     },
     "output_type": "execute_result"
    }
   ],
   "source": [
    "#Before starting the next phase of preprocessing lets see the number of entries left\n",
    "print(final.shape)\n",
    "\n",
    "#How many positive and negative reviews are present in our dataset?\n",
    "final['Score'].value_counts()"
   ]
  },
  {
   "cell_type": "code",
   "execution_count": 0,
   "metadata": {
    "colab": {
     "base_uri": "https://localhost:8080/",
     "height": 34
    },
    "colab_type": "code",
    "id": "pSsR8OE86Y4c",
    "outputId": "cf4c300a-e6f1-44f1-e252-ef2322851b3d"
   },
   "outputs": [
    {
     "data": {
      "text/plain": [
       "(393931, 10)"
      ]
     },
     "execution_count": 23,
     "metadata": {
      "tags": []
     },
     "output_type": "execute_result"
    }
   ],
   "source": [
    "final.shape"
   ]
  },
  {
   "cell_type": "markdown",
   "metadata": {
    "colab_type": "text",
    "id": "qvdiICXL6Y4f"
   },
   "source": [
    "#  [3] Preprocessing"
   ]
  },
  {
   "cell_type": "markdown",
   "metadata": {
    "colab_type": "text",
    "id": "71xMi5VK6Y4h"
   },
   "source": [
    "## [3.1].  Preprocessing Review Text\n",
    "\n",
    "Now that we have finished deduplication our data requires some preprocessing before we go on further with analysis and making the prediction model.\n",
    "\n",
    "Hence in the Preprocessing phase we do the following in the order below:-\n",
    "\n",
    "1. Begin by removing the html tags\n",
    "2. Remove any punctuations or limited set of special characters like , or . or # etc.\n",
    "3. Check if the word is made up of english letters and is not alpha-numeric\n",
    "4. Check to see if the length of the word is greater than 2 (as it was researched that there is no adjective in 2-letters)\n",
    "5. Convert the word to lowercase\n",
    "6. Remove Stopwords\n",
    "7. Finally Snowball Stemming the word (it was obsereved to be better than Porter Stemming)<br>\n",
    "\n",
    "After which we collect the words used to describe positive and negative reviews"
   ]
  },
  {
   "cell_type": "code",
   "execution_count": 0,
   "metadata": {
    "colab": {
     "base_uri": "https://localhost:8080/",
     "height": 176
    },
    "colab_type": "code",
    "id": "wKRgN-EB6Y4h",
    "outputId": "98e84f6d-f5a4-48bd-f2ea-18269fbaddc2"
   },
   "outputs": [
    {
     "name": "stdout",
     "output_type": "stream",
     "text": [
      "It's a great book with adorable illustrations.  A true classic.  Kids love the poem and there is music that goes with it, if you can find it.  I think it's sung by Carol King.\n",
      "==================================================\n",
      "Well if you have had this product before you know it is amazing.  I am not going to describe the taste but i will tell you the product was shipped neatly and fresh.  Everything tasted great and the expiration date was much further into the future than this would have ever lasted.  Top notch.\n",
      "==================================================\n",
      "Cat thought the bubbles were interesting, but didn't go crazy over them. They smell funny, leave a residue, and don't maintain form when they touch down as advertised. I'll go pick up a big bottle of regular bubbles for him to chase. Not worth the price.\n",
      "==================================================\n",
      "The previous reviewer's experience is lamentable but after reading the reviews for other Brussel's Bonsai & after reception of my own tree it's clear that his experience was the exception, not the rule.<br /><br />The tree arrived well-packaged, lush & green. The soil was moist & wrapped in plastic to ensure it remained that way. The tree is planted in a dark blue glazed ceramic pot. Included was a small pamphlet outlining the basics of Indoor Bonsai care. Overall, quite nice & well done. I wouldn't hesitate to order another tree from Brussel's. See my images above.<br /><br />UPDATE 08/11/2011:<br /><br />I ordered a second ficus from Brussel's & it arrived in the same excellent condition as before & attractively trained. Very, very pleased.\n",
      "==================================================\n"
     ]
    }
   ],
   "source": [
    "# printing some random reviews\n",
    "sent_0 = final['Text'].values[0]\n",
    "print(sent_0)\n",
    "print(\"=\"*50)\n",
    "\n",
    "sent_1000 = final['Text'].values[1000]\n",
    "print(sent_1000)\n",
    "print(\"=\"*50)\n",
    "\n",
    "sent_1500 = final['Text'].values[1500]\n",
    "print(sent_1500)\n",
    "print(\"=\"*50)\n",
    "\n",
    "sent_4900 = final['Text'].values[4300]\n",
    "print(sent_4900)\n",
    "print(\"=\"*50)"
   ]
  },
  {
   "cell_type": "code",
   "execution_count": 0,
   "metadata": {
    "colab": {
     "base_uri": "https://localhost:8080/",
     "height": 57
    },
    "colab_type": "code",
    "id": "aj2eSSsd6Y4m",
    "outputId": "c4def7d4-4e93-48f7-9d3d-f64969ccf954"
   },
   "outputs": [
    {
     "name": "stdout",
     "output_type": "stream",
     "text": [
      "It's a great book with adorable illustrations.  A true classic.  Kids love the poem and there is music that goes with it, if you can find it.  I think it's sung by Carol King.\n"
     ]
    }
   ],
   "source": [
    "# remove urls from text python: https://stackoverflow.com/a/40823105/4084039\n",
    "sent_0 = re.sub(r\"http\\S+\", \"\", sent_0)\n",
    "sent_1000 = re.sub(r\"http\\S+\", \"\", sent_1000)\n",
    "sent_150 = re.sub(r\"http\\S+\", \"\", sent_1500)\n",
    "sent_4900 = re.sub(r\"http\\S+\", \"\", sent_4900)\n",
    "\n",
    "print(sent_0)"
   ]
  },
  {
   "cell_type": "code",
   "execution_count": 0,
   "metadata": {
    "colab": {
     "base_uri": "https://localhost:8080/",
     "height": 159
    },
    "colab_type": "code",
    "id": "neHh31qO6Y4r",
    "outputId": "63d9d6cc-bc97-4769-92ba-dd2af9ce24c7"
   },
   "outputs": [
    {
     "name": "stdout",
     "output_type": "stream",
     "text": [
      "It's a great book with adorable illustrations.  A true classic.  Kids love the poem and there is music that goes with it, if you can find it.  I think it's sung by Carol King.\n",
      "==================================================\n",
      "Well if you have had this product before you know it is amazing.  I am not going to describe the taste but i will tell you the product was shipped neatly and fresh.  Everything tasted great and the expiration date was much further into the future than this would have ever lasted.  Top notch.\n",
      "==================================================\n",
      "Cat thought the bubbles were interesting, but didn't go crazy over them. They smell funny, leave a residue, and don't maintain form when they touch down as advertised. I'll go pick up a big bottle of regular bubbles for him to chase. Not worth the price.\n",
      "==================================================\n",
      "The previous reviewer's experience is lamentable but after reading the reviews for other Brussel's Bonsai & after reception of my own tree it's clear that his experience was the exception, not the rule.The tree arrived well-packaged, lush & green. The soil was moist & wrapped in plastic to ensure it remained that way. The tree is planted in a dark blue glazed ceramic pot. Included was a small pamphlet outlining the basics of Indoor Bonsai care. Overall, quite nice & well done. I wouldn't hesitate to order another tree from Brussel's. See my images above.UPDATE 08/11/2011:I ordered a second ficus from Brussel's & it arrived in the same excellent condition as before & attractively trained. Very, very pleased.\n"
     ]
    }
   ],
   "source": [
    "# https://stackoverflow.com/questions/16206380/python-beautifulsoup-how-to-remove-all-tags-from-an-element\n",
    "from bs4 import BeautifulSoup\n",
    "\n",
    "soup = BeautifulSoup(sent_0, 'lxml')\n",
    "text = soup.get_text()\n",
    "print(text)\n",
    "print(\"=\"*50)\n",
    "\n",
    "soup = BeautifulSoup(sent_1000, 'lxml')\n",
    "text = soup.get_text()\n",
    "print(text)\n",
    "print(\"=\"*50)\n",
    "\n",
    "soup = BeautifulSoup(sent_1500, 'lxml')\n",
    "text = soup.get_text()\n",
    "print(text)\n",
    "print(\"=\"*50)\n",
    "\n",
    "soup = BeautifulSoup(sent_4900, 'lxml')\n",
    "text = soup.get_text()\n",
    "print(text)"
   ]
  },
  {
   "cell_type": "code",
   "execution_count": 0,
   "metadata": {
    "colab": {},
    "colab_type": "code",
    "id": "JA-dVCAh6Y4t"
   },
   "outputs": [],
   "source": [
    "# https://stackoverflow.com/a/47091490/4084039\n",
    "import re\n",
    "\n",
    "def decontracted(phrase):\n",
    "    # specific\n",
    "    phrase = re.sub(r\"won't\", \"will not\", phrase)\n",
    "    phrase = re.sub(r\"can\\'t\", \"can not\", phrase)\n",
    "\n",
    "    # general\n",
    "    phrase = re.sub(r\"n\\'t\", \" not\", phrase)\n",
    "    phrase = re.sub(r\"\\'re\", \" are\", phrase)\n",
    "    phrase = re.sub(r\"\\'s\", \" is\", phrase)\n",
    "    phrase = re.sub(r\"\\'d\", \" would\", phrase)\n",
    "    phrase = re.sub(r\"\\'ll\", \" will\", phrase)\n",
    "    phrase = re.sub(r\"\\'t\", \" not\", phrase)\n",
    "    phrase = re.sub(r\"\\'ve\", \" have\", phrase)\n",
    "    phrase = re.sub(r\"\\'m\", \" am\", phrase)\n",
    "    return phrase"
   ]
  },
  {
   "cell_type": "code",
   "execution_count": 0,
   "metadata": {
    "colab": {
     "base_uri": "https://localhost:8080/",
     "height": 74
    },
    "colab_type": "code",
    "id": "9opcoV0P6Y40",
    "outputId": "616d5997-6a16-45c2-8f06-d32490cfe515"
   },
   "outputs": [
    {
     "name": "stdout",
     "output_type": "stream",
     "text": [
      "Cat thought the bubbles were interesting, but did not go crazy over them. They smell funny, leave a residue, and do not maintain form when they touch down as advertised. I will go pick up a big bottle of regular bubbles for him to chase. Not worth the price.\n",
      "==================================================\n"
     ]
    }
   ],
   "source": [
    "sent_1500 = decontracted(sent_1500)\n",
    "print(sent_1500)\n",
    "print(\"=\"*50)"
   ]
  },
  {
   "cell_type": "code",
   "execution_count": 0,
   "metadata": {
    "colab": {
     "base_uri": "https://localhost:8080/",
     "height": 57
    },
    "colab_type": "code",
    "id": "8i8TTpo16Y45",
    "outputId": "2179cef7-6c04-4235-d1d4-9df8647ad396"
   },
   "outputs": [
    {
     "name": "stdout",
     "output_type": "stream",
     "text": [
      "It's a great book with adorable illustrations.  A true classic.  Kids love the poem and there is music that goes with it, if you can find it.  I think it's sung by Carol King.\n"
     ]
    }
   ],
   "source": [
    "#remove words with numbers python: https://stackoverflow.com/a/18082370/4084039\n",
    "sent_0 = re.sub(\"\\S*\\d\\S*\", \"\", sent_0).strip()\n",
    "print(sent_0)"
   ]
  },
  {
   "cell_type": "code",
   "execution_count": 0,
   "metadata": {
    "colab": {
     "base_uri": "https://localhost:8080/",
     "height": 57
    },
    "colab_type": "code",
    "id": "RBKtqLPT6Y4-",
    "outputId": "57b4d466-7112-4607-e630-67263c597b5b"
   },
   "outputs": [
    {
     "name": "stdout",
     "output_type": "stream",
     "text": [
      "Cat thought the bubbles were interesting but did not go crazy over them They smell funny leave a residue and do not maintain form when they touch down as advertised I will go pick up a big bottle of regular bubbles for him to chase Not worth the price \n"
     ]
    }
   ],
   "source": [
    "#remove spacial character: https://stackoverflow.com/a/5843547/4084039\n",
    "sent_1500 = re.sub('[^A-Za-z0-9]+', ' ', sent_1500)\n",
    "print(sent_1500)"
   ]
  },
  {
   "cell_type": "code",
   "execution_count": 0,
   "metadata": {
    "colab": {},
    "colab_type": "code",
    "id": "mKw4LWG06Y5C"
   },
   "outputs": [],
   "source": [
    "# https://gist.github.com/sebleier/554280\n",
    "# we are removing the words from the stop words list: 'no', 'nor', 'not'\n",
    "# <br /><br /> ==> after the above steps, we are getting \"br br\"\n",
    "# we are including them into stop words list\n",
    "# instead of <br /> if we have <br/> these tags would have revmoved in the 1st step\n",
    "\n",
    "stopwords= set(['br', 'the', 'i', 'me', 'my', 'myself', 'we', 'our', 'ours', 'ourselves', 'you', \"you're\", \"you've\",\\\n",
    "            \"you'll\", \"you'd\", 'your', 'yours', 'yourself', 'yourselves', 'he', 'him', 'his', 'himself', \\\n",
    "            'she', \"she's\", 'her', 'hers', 'herself', 'it', \"it's\", 'its', 'itself', 'they', 'them', 'their',\\\n",
    "            'theirs', 'themselves', 'what', 'which', 'who', 'whom', 'this', 'that', \"that'll\", 'these', 'those', \\\n",
    "            'am', 'is', 'are', 'was', 'were', 'be', 'been', 'being', 'have', 'has', 'had', 'having', 'do', 'does', \\\n",
    "            'did', 'doing', 'a', 'an', 'the', 'and', 'but', 'if', 'or', 'because', 'as', 'until', 'while', 'of', \\\n",
    "            'at', 'by', 'for', 'with', 'about', 'against', 'between', 'into', 'through', 'during', 'before', 'after',\\\n",
    "            'above', 'below', 'to', 'from', 'up', 'down', 'in', 'out', 'on', 'off', 'over', 'under', 'again', 'further',\\\n",
    "            'then', 'once', 'here', 'there', 'when', 'where', 'why', 'how', 'all', 'any', 'both', 'each', 'few', 'more',\\\n",
    "            'most', 'other', 'some', 'such', 'only', 'own', 'same', 'so', 'than', 'too', 'very', \\\n",
    "            's', 't', 'can', 'will', 'just', 'don', \"don't\", 'should', \"should've\", 'now', 'd', 'll', 'm', 'o', 're', \\\n",
    "            've', 'y', 'ain', 'aren', \"aren't\", 'couldn', \"couldn't\", 'didn', \"didn't\", 'doesn', \"doesn't\", 'hadn',\\\n",
    "            \"hadn't\", 'hasn', \"hasn't\", 'haven', \"haven't\", 'isn', \"isn't\", 'ma', 'mightn', \"mightn't\", 'mustn',\\\n",
    "            \"mustn't\", 'needn', \"needn't\", 'shan', \"shan't\", 'shouldn', \"shouldn't\", 'wasn', \"wasn't\", 'weren', \"weren't\", \\\n",
    "            'won', \"won't\", 'wouldn', \"wouldn't\"])"
   ]
  },
  {
   "cell_type": "code",
   "execution_count": 0,
   "metadata": {
    "colab": {
     "base_uri": "https://localhost:8080/",
     "height": 34
    },
    "colab_type": "code",
    "id": "AiLnt8tr6Y5E",
    "outputId": "e2e9712d-cb94-49d6-cd23-288fdc4363ac"
   },
   "outputs": [
    {
     "name": "stderr",
     "output_type": "stream",
     "text": [
      "100%|██████████| 393931/393931 [02:59<00:00, 2198.18it/s]\n"
     ]
    }
   ],
   "source": [
    "# Combining all the above stundents \n",
    "from tqdm import tqdm\n",
    "preprocessed_reviews = []\n",
    "# tqdm is for printing the status bar\n",
    "for sentance in tqdm(final['Text'].values):\n",
    "    sentance = re.sub(r\"http\\S+\", \"\", sentance)\n",
    "    sentance = BeautifulSoup(sentance, 'lxml').get_text()\n",
    "    sentance = decontracted(sentance)\n",
    "    sentance = re.sub(\"\\S*\\d\\S*\", \"\", sentance).strip()\n",
    "    sentance = re.sub('[^A-Za-z]+', ' ', sentance)\n",
    "    # https://gist.github.com/sebleier/554280\n",
    "    sentance = ' '.join(e.lower() for e in sentance.split() if e.lower() not in stopwords)\n",
    "    preprocessed_reviews.append(sentance.strip())"
   ]
  },
  {
   "cell_type": "code",
   "execution_count": 0,
   "metadata": {
    "colab": {
     "base_uri": "https://localhost:8080/",
     "height": 34
    },
    "colab_type": "code",
    "id": "heR5cPJS6Y5H",
    "outputId": "868c1a35-6914-4285-a3d4-f43f15bd7147"
   },
   "outputs": [
    {
     "data": {
      "text/plain": [
       "'cat thought bubbles interesting not go crazy smell funny leave residue not maintain form touch advertised go pick big bottle regular bubbles chase not worth price'"
      ]
     },
     "execution_count": 33,
     "metadata": {
      "tags": []
     },
     "output_type": "execute_result"
    }
   ],
   "source": [
    "preprocessed_reviews[1500]"
   ]
  },
  {
   "cell_type": "code",
   "execution_count": 0,
   "metadata": {
    "colab": {
     "base_uri": "https://localhost:8080/",
     "height": 57
    },
    "colab_type": "code",
    "id": "1gdX1aaQuoSd",
    "outputId": "d35780f1-9252-4ff5-ad7e-49e5fb54c6f5"
   },
   "outputs": [
    {
     "data": {
      "text/plain": [
       "'\\nfinal[\"New_Text\"] = preprocessed_reviews\\n\\na = final[final[\"Score\"]==0][0:500]\\nb = final[final[\"Score\"]==1][0:500]\\n\\n#Stacking both positive and negative data\\na = a.append(b, ignore_index = True)\\n\\n#Shuffling the data points to mix the data\\nfrom sklearn.utils import shuffle\\na = shuffle(a)'"
      ]
     },
     "execution_count": 34,
     "metadata": {
      "tags": []
     },
     "output_type": "execute_result"
    }
   ],
   "source": [
    "#Used when 50% of positive and 50% of negative reviews are needed.\n",
    "'''\n",
    "final[\"New_Text\"] = preprocessed_reviews\n",
    "\n",
    "a = final[final[\"Score\"]==0][0:500]\n",
    "b = final[final[\"Score\"]==1][0:500]\n",
    "\n",
    "#Stacking both positive and negative data\n",
    "a = a.append(b, ignore_index = True)\n",
    "\n",
    "#Shuffling the data points to mix the data\n",
    "from sklearn.utils import shuffle\n",
    "a = shuffle(a)'''"
   ]
  },
  {
   "cell_type": "code",
   "execution_count": 0,
   "metadata": {
    "colab": {},
    "colab_type": "code",
    "id": "4ZTYVKQK6Y5N"
   },
   "outputs": [],
   "source": [
    "#Train-Test Split\n",
    "\n",
    "#X_train,X_test,y_train, y_test = train_test_split(preprocessed_reviews[0:len(preprocessed_reviews)], list(final[\"Score\"][0:len(preprocessed_reviews)]), random_state = 42, test_size = 0.3, stratify = list(final[\"Score\"][0:len(preprocessed_reviews)]))\n",
    "\n",
    "X_train,X_test,y_train, y_test = train_test_split(preprocessed_reviews[0:50000], list(final[\"Score\"][0:50000]), random_state = 42, test_size = 0.3, stratify = list(final[\"Score\"][0:50000]))"
   ]
  },
  {
   "cell_type": "code",
   "execution_count": 0,
   "metadata": {
    "colab": {},
    "colab_type": "code",
    "id": "DtkkShTjxPFy"
   },
   "outputs": [],
   "source": []
  },
  {
   "cell_type": "markdown",
   "metadata": {
    "colab_type": "text",
    "id": "DUzT4iRH6Y5R"
   },
   "source": [
    "<h2><font color='red'>[3.2] Preprocessing Review Summary</font></h2>"
   ]
  },
  {
   "cell_type": "code",
   "execution_count": 0,
   "metadata": {
    "colab": {},
    "colab_type": "code",
    "id": "K1jUnrqk6Y5S"
   },
   "outputs": [],
   "source": [
    "## Similartly you can do preprocessing for review summary also."
   ]
  },
  {
   "cell_type": "markdown",
   "metadata": {
    "colab_type": "text",
    "id": "DblZaJ6h6Y5U"
   },
   "source": [
    "# [4] Featurization"
   ]
  },
  {
   "cell_type": "markdown",
   "metadata": {
    "colab_type": "text",
    "id": "RvfD3w6V6Y5V"
   },
   "source": [
    "## [4.1] BAG OF WORDS"
   ]
  },
  {
   "cell_type": "code",
   "execution_count": 0,
   "metadata": {
    "colab": {
     "base_uri": "https://localhost:8080/",
     "height": 187
    },
    "colab_type": "code",
    "id": "oz8CRx5k6Y5X",
    "outputId": "4ce4ae9a-6115-4fdd-97b2-fb9fb43bd186"
   },
   "outputs": [
    {
     "name": "stdout",
     "output_type": "stream",
     "text": [
      "some feature names  ['able', 'absolutely', 'actually', 'add', 'added', 'adding', 'ago', 'almost', 'already', 'also']\n",
      "==================================================\n",
      "the type of count vectorizer  <class 'scipy.sparse.csr.csr_matrix'>\n",
      "the shape of out text BOW vectorizer  (35000, 500)\n",
      "the number of unique words  500\n",
      "==================================================\n",
      "for test data\n",
      "the type of count vectorizer  <class 'scipy.sparse.csr.csr_matrix'>\n",
      "the shape of out text BOW vectorizer  (15000, 500)\n",
      "the number of unique words  500\n"
     ]
    }
   ],
   "source": [
    "#BoW\n",
    "count_vect = CountVectorizer(max_features = 500) #in scikit-learn\n",
    "count_vect.fit(X_train)\n",
    "print(\"some feature names \", count_vect.get_feature_names()[:10])\n",
    "print('='*50)\n",
    "\n",
    "final_counts = count_vect.transform(X_train)\n",
    "final_counts_test = count_vect.transform(X_test)\n",
    "print(\"the type of count vectorizer \",type(final_counts))\n",
    "print(\"the shape of out text BOW vectorizer \",final_counts.get_shape())\n",
    "print(\"the number of unique words \", final_counts.get_shape()[1])\n",
    "print(\"=\"*50)\n",
    "print(\"for test data\")\n",
    "print(\"the type of count vectorizer \",type(final_counts_test))\n",
    "print(\"the shape of out text BOW vectorizer \",final_counts_test.get_shape())\n",
    "print(\"the number of unique words \", final_counts_test.get_shape()[1])"
   ]
  },
  {
   "cell_type": "markdown",
   "metadata": {
    "colab_type": "text",
    "id": "EZi3Gbna6Y5c"
   },
   "source": [
    "## [4.2] Bi-Grams and n-Grams."
   ]
  },
  {
   "cell_type": "code",
   "execution_count": 0,
   "metadata": {
    "colab": {
     "base_uri": "https://localhost:8080/",
     "height": 153
    },
    "colab_type": "code",
    "id": "mNA3gyNX6Y5d",
    "outputId": "dec28a0a-8424-43f1-e2ca-4b0504baa052"
   },
   "outputs": [
    {
     "name": "stdout",
     "output_type": "stream",
     "text": [
      "the type of count vectorizer  <class 'scipy.sparse.csr.csr_matrix'>\n",
      "the shape of out text BOW vectorizer  (35000, 500)\n",
      "the number of unique words including both unigrams and bigrams  500\n",
      "==================================================\n",
      "for test data\n",
      "the type of count vectorizer  <class 'scipy.sparse.csr.csr_matrix'>\n",
      "the shape of out text BOW vectorizer  (15000, 500)\n",
      "the number of unique words including both unigrams and bigrams  500\n"
     ]
    }
   ],
   "source": [
    "#bi-gram, tri-gram and n-gram\n",
    "\n",
    "#removing stop words like \"not\" should be avoided before building n-grams\n",
    "# count_vect = CountVectorizer(ngram_range=(1,2))\n",
    "# please do read the CountVectorizer documentation http://scikit-learn.org/stable/modules/generated/sklearn.feature_extraction.text.CountVectorizer.html\n",
    "\n",
    "# you can choose these numebrs min_df=10, max_features=5000, of your choice\n",
    "count_vect = CountVectorizer(ngram_range=(1,2), min_df=10, max_features=500)\n",
    "final_bigram_counts = count_vect.fit_transform(X_train)\n",
    "final_bigram_counts_test = count_vect.transform(X_test)\n",
    "print(\"the type of count vectorizer \",type(final_bigram_counts))\n",
    "print(\"the shape of out text BOW vectorizer \",final_bigram_counts.get_shape())\n",
    "print(\"the number of unique words including both unigrams and bigrams \", final_bigram_counts.get_shape()[1])\n",
    "\n",
    "print(\"=\"*50)\n",
    "print(\"for test data\")\n",
    "\n",
    "print(\"the type of count vectorizer \",type(final_bigram_counts_test))\n",
    "print(\"the shape of out text BOW vectorizer \",final_bigram_counts_test.get_shape())\n",
    "print(\"the number of unique words including both unigrams and bigrams \", final_bigram_counts_test.get_shape()[1])"
   ]
  },
  {
   "cell_type": "markdown",
   "metadata": {
    "colab_type": "text",
    "id": "Oj9L6QcE6Y5h"
   },
   "source": [
    "## [4.3] TF-IDF"
   ]
  },
  {
   "cell_type": "code",
   "execution_count": 0,
   "metadata": {
    "colab": {
     "base_uri": "https://localhost:8080/",
     "height": 187
    },
    "colab_type": "code",
    "id": "x1asOa-s6Y5i",
    "outputId": "528c7393-92c3-41fa-a3f8-1e71b6ad3592"
   },
   "outputs": [
    {
     "name": "stdout",
     "output_type": "stream",
     "text": [
      "some sample features(unique words in the corpus) ['able', 'absolutely', 'actually', 'add', 'added', 'adding', 'ago', 'almost', 'already', 'also']\n",
      "==================================================\n",
      "the type of count vectorizer  <class 'scipy.sparse.csr.csr_matrix'>\n",
      "the shape of out text TFIDF vectorizer  (35000, 500)\n",
      "the number of unique words including both unigrams and bigrams  500\n",
      "==================================================\n",
      "for test data\n",
      "the type of count vectorizer  <class 'scipy.sparse.csr.csr_matrix'>\n",
      "the shape of out text TFIDF vectorizer  (15000, 500)\n",
      "the number of unique words including both unigrams and bigrams  500\n"
     ]
    }
   ],
   "source": [
    "tf_idf_vect = TfidfVectorizer(min_df=10, max_features = 500)\n",
    "tf_idf_vect.fit(X_train)\n",
    "print(\"some sample features(unique words in the corpus)\",tf_idf_vect.get_feature_names()[0:10])\n",
    "print('='*50)\n",
    "\n",
    "final_tf_idf = tf_idf_vect.transform(X_train)\n",
    "final_tf_idf_test = tf_idf_vect.transform(X_test)\n",
    "\n",
    "print(\"the type of count vectorizer \",type(final_tf_idf))\n",
    "print(\"the shape of out text TFIDF vectorizer \",final_tf_idf.get_shape())\n",
    "print(\"the number of unique words including both unigrams and bigrams \", final_tf_idf.get_shape()[1])\n",
    "\n",
    "print(\"=\"*50)\n",
    "print(\"for test data\")\n",
    "\n",
    "print(\"the type of count vectorizer \",type(final_tf_idf_test))\n",
    "print(\"the shape of out text TFIDF vectorizer \",final_tf_idf_test.get_shape())\n",
    "print(\"the number of unique words including both unigrams and bigrams \", final_tf_idf_test.get_shape()[1])"
   ]
  },
  {
   "cell_type": "code",
   "execution_count": 0,
   "metadata": {
    "colab": {},
    "colab_type": "code",
    "id": "75eHm96e6Y5l"
   },
   "outputs": [],
   "source": []
  },
  {
   "cell_type": "markdown",
   "metadata": {
    "colab_type": "text",
    "id": "npLWv8M66Y5m"
   },
   "source": [
    "## [4.4] Word2Vec"
   ]
  },
  {
   "cell_type": "code",
   "execution_count": 0,
   "metadata": {
    "colab": {},
    "colab_type": "code",
    "id": "Go5TnjnMGKa4"
   },
   "outputs": [],
   "source": []
  },
  {
   "cell_type": "code",
   "execution_count": 0,
   "metadata": {
    "colab": {},
    "colab_type": "code",
    "id": "2mDP70_BGLrJ"
   },
   "outputs": [],
   "source": [
    "# Train your own Word2Vec model using your own text corpus for train data\n",
    "i=0\n",
    "list_of_sentance=[]\n",
    "for sentance in X_train:\n",
    "    list_of_sentance.append(sentance.split())"
   ]
  },
  {
   "cell_type": "code",
   "execution_count": 0,
   "metadata": {
    "colab": {},
    "colab_type": "code",
    "id": "nFhMG5_anEG6"
   },
   "outputs": [],
   "source": [
    "# Train your own Word2Vec model using your own text corpus for test data\n",
    "i=0\n",
    "list_of_sentance_test=[]\n",
    "for sentance in X_test:\n",
    "    list_of_sentance_test.append(sentance.split())"
   ]
  },
  {
   "cell_type": "code",
   "execution_count": 0,
   "metadata": {
    "colab": {
     "base_uri": "https://localhost:8080/",
     "height": 94
    },
    "colab_type": "code",
    "id": "ulYSuFWYGLrP",
    "outputId": "179828f1-5cfe-489d-ff3d-aa67970af2f8",
    "scrolled": true
   },
   "outputs": [
    {
     "name": "stdout",
     "output_type": "stream",
     "text": [
      "[('fantastic', 0.8106623888015747), ('good', 0.8083468675613403), ('wonderful', 0.7978379726409912), ('excellent', 0.7682069540023804), ('awesome', 0.748454213142395), ('amazing', 0.7277643084526062), ('perfect', 0.7181200981140137), ('terrific', 0.7043402194976807), ('decent', 0.6753935217857361), ('fabulous', 0.6586343050003052)]\n",
      "==================================================\n",
      "[('greatest', 0.8113981485366821), ('best', 0.7572190165519714), ('fowl', 0.7126210331916809), ('nastiest', 0.6662765741348267), ('disgusting', 0.6581308245658875), ('closest', 0.6505348086357117), ('biggest', 0.6475117802619934), ('hottest', 0.6424438953399658), ('encountered', 0.6375048160552979), ('hated', 0.6318227052688599)]\n"
     ]
    }
   ],
   "source": [
    "# Using Google News Word2Vectors\n",
    "\n",
    "# in this project we are using a pretrained model by google\n",
    "# its 3.3G file, once you load this into your memory \n",
    "# it occupies ~9Gb, so please do this step only if you have >12G of ram\n",
    "# we will provide a pickle file wich contains a dict , \n",
    "# and it contains all our courpus words as keys and  model[word] as values\n",
    "# To use this code-snippet, download \"GoogleNews-vectors-negative300.bin\" \n",
    "# from https://drive.google.com/file/d/0B7XkCwpI5KDYNlNUTTlSS21pQmM/edit\n",
    "# it's 1.9GB in size.\n",
    "\n",
    "\n",
    "# http://kavita-ganesan.com/gensim-word2vec-tutorial-starter-code/#.W17SRFAzZPY\n",
    "# you can comment this whole cell\n",
    "# or change these varible according to your need\n",
    "\n",
    "is_your_ram_gt_16g=False\n",
    "want_to_use_google_w2v = False\n",
    "want_to_train_w2v = True\n",
    "\n",
    "if want_to_train_w2v:\n",
    "    # min_count = 5 considers only words that occured atleast 5 times\n",
    "    w2v_model=Word2Vec(list_of_sentance,min_count=5,size=50, workers=4)\n",
    "    print(w2v_model.wv.most_similar('great'))\n",
    "    print('='*50)\n",
    "    print(w2v_model.wv.most_similar('worst'))\n",
    "    \n",
    "elif want_to_use_google_w2v and is_your_ram_gt_16g:\n",
    "    if os.path.isfile('GoogleNews-vectors-negative300.bin'):\n",
    "        w2v_model=KeyedVectors.load_word2vec_format('GoogleNews-vectors-negative300.bin', binary=True)\n",
    "        print(w2v_model.wv.most_similar('great'))\n",
    "        print(w2v_model.wv.most_similar('worst'))\n",
    "    else:\n",
    "        print(\"you don't have gogole's word2vec file, keep want_to_train_w2v = True, to train your own w2v \")"
   ]
  },
  {
   "cell_type": "code",
   "execution_count": 0,
   "metadata": {
    "colab": {
     "base_uri": "https://localhost:8080/",
     "height": 74
    },
    "colab_type": "code",
    "id": "tF7ET4D6GLrX",
    "outputId": "1ec333e6-4c5d-4936-89ad-3ff7fb8d63a8"
   },
   "outputs": [
    {
     "name": "stdout",
     "output_type": "stream",
     "text": [
      "number of words that occured minimum 5 times  12177\n",
      "sample words  ['grandmother', 'ever', 'told', 'swallow', 'gum', 'never', 'digested', 'stay', 'body', 'forever', 'wrong', 'least', 'comes', 'natural', 'nothing', 'artificial', 'feel', 'bad', 'top', 'really', 'tasty', 'better', 'get', 'super', 'market', 'terms', 'flavor', 'consistency', 'favor', 'try', 'use', 'make', 'healthy', 'curry', 'sauces', 'sometimes', 'add', 'dash', 'brown', 'rice', 'brings', 'new', 'life', 'love', 'long', 'time', 'since', 'takes', 'little', 'bit']\n"
     ]
    }
   ],
   "source": [
    "#Creating a word vocabulary based on training data.\n",
    "w2v_words = list(w2v_model.wv.vocab)\n",
    "print(\"number of words that occured minimum 5 times \",len(w2v_words))\n",
    "print(\"sample words \", w2v_words[0:50])"
   ]
  },
  {
   "cell_type": "code",
   "execution_count": 0,
   "metadata": {
    "colab": {},
    "colab_type": "code",
    "id": "WS-q6Y-IrNeq"
   },
   "outputs": [],
   "source": []
  },
  {
   "cell_type": "markdown",
   "metadata": {
    "colab_type": "text",
    "id": "SAjyjUJ4GLre"
   },
   "source": [
    "## [4.4.1] Converting text into vectors using Avg W2V, TFIDF-W2V"
   ]
  },
  {
   "cell_type": "markdown",
   "metadata": {
    "colab_type": "text",
    "id": "I-WlGwoIGLrf"
   },
   "source": [
    "#### [4.4.1.1] Avg W2v"
   ]
  },
  {
   "cell_type": "code",
   "execution_count": 0,
   "metadata": {
    "colab": {
     "base_uri": "https://localhost:8080/",
     "height": 68
    },
    "colab_type": "code",
    "id": "MZVvxxXXGLrf",
    "outputId": "849138fe-8a01-48ba-9166-04e75f044310"
   },
   "outputs": [
    {
     "name": "stderr",
     "output_type": "stream",
     "text": [
      "100%|██████████| 35000/35000 [01:10<00:00, 496.58it/s]\n"
     ]
    },
    {
     "name": "stdout",
     "output_type": "stream",
     "text": [
      "35000\n",
      "50\n"
     ]
    }
   ],
   "source": [
    "#Converting each word of a review from training data into vector of len 50, adding them up and the finding an average. Hence converting training data into vector form.\n",
    "\n",
    "# average Word2Vec\n",
    "# compute average word2vec for each review.\n",
    "sent_vectors = []; # the avg-w2v for each sentence/review is stored in this list\n",
    "for sent in tqdm(list_of_sentance): # for each review/sentence\n",
    "    sent_vec = np.zeros(50) # as word vectors are of zero length 50, you might need to change this to 300 if you use google's w2v\n",
    "    cnt_words =0; # num of words with a valid vector in the sentence/review\n",
    "    for word in sent: # for each word in a review/sentence\n",
    "        if word in w2v_words:\n",
    "            vec = w2v_model.wv[word]\n",
    "            sent_vec += vec\n",
    "            cnt_words += 1\n",
    "    if cnt_words != 0:\n",
    "        sent_vec /= cnt_words\n",
    "    sent_vectors.append(sent_vec)\n",
    "print(len(sent_vectors))\n",
    "print(len(sent_vectors[0]))"
   ]
  },
  {
   "cell_type": "code",
   "execution_count": 0,
   "metadata": {
    "colab": {},
    "colab_type": "code",
    "id": "nSUd1veuhZgb"
   },
   "outputs": [],
   "source": [
    "#Resulting vector representation of Training data\n",
    "X_tr_w2v = sent_vectors"
   ]
  },
  {
   "cell_type": "code",
   "execution_count": 0,
   "metadata": {
    "colab": {
     "base_uri": "https://localhost:8080/",
     "height": 68
    },
    "colab_type": "code",
    "id": "QEvtO6uRGLry",
    "outputId": "5c81a64e-2a49-43a0-b263-a3962a70d66a"
   },
   "outputs": [
    {
     "name": "stderr",
     "output_type": "stream",
     "text": [
      "100%|██████████| 15000/15000 [00:32<00:00, 464.51it/s]"
     ]
    },
    {
     "name": "stdout",
     "output_type": "stream",
     "text": [
      "15000\n",
      "50\n"
     ]
    },
    {
     "name": "stderr",
     "output_type": "stream",
     "text": [
      "\n"
     ]
    }
   ],
   "source": [
    "#Converting each word of a review from test data into vector of len 50, adding them up and the finding an average. Hence converting test data into vector form.\n",
    "\n",
    "# average Word2Vec\n",
    "# compute average word2vec for each review.\n",
    "sent_vectors = []; # the avg-w2v for each sentence/review is stored in this list\n",
    "for sent in tqdm(list_of_sentance_test): # for each review/sentence\n",
    "    sent_vec = np.zeros(50) # as word vectors are of zero length 50, you might need to change this to 300 if you use google's w2v\n",
    "    cnt_words =0; # num of words with a valid vector in the sentence/review\n",
    "    for word in sent: # for each word in a review/sentence\n",
    "        if word in w2v_words:\n",
    "            vec = w2v_model.wv[word]\n",
    "            sent_vec += vec\n",
    "            cnt_words += 1\n",
    "    if cnt_words != 0:\n",
    "        sent_vec /= cnt_words\n",
    "    sent_vectors.append(sent_vec)\n",
    "print(len(sent_vectors))\n",
    "print(len(sent_vectors[0]))"
   ]
  },
  {
   "cell_type": "code",
   "execution_count": 0,
   "metadata": {
    "colab": {},
    "colab_type": "code",
    "id": "goqKY2TDcnlg"
   },
   "outputs": [],
   "source": [
    "#Resulting vector representation of reviews of Test data\n",
    "X_ts_w2v = sent_vectors"
   ]
  },
  {
   "cell_type": "markdown",
   "metadata": {
    "colab_type": "text",
    "id": "GQnnhhhfGLr6"
   },
   "source": [
    "#### [4.4.1.2] TFIDF weighted W2v"
   ]
  },
  {
   "cell_type": "code",
   "execution_count": 0,
   "metadata": {
    "colab": {},
    "colab_type": "code",
    "id": "D4x6LtH3GLr7"
   },
   "outputs": [],
   "source": [
    "#Training the TfidfVectorizer on Train data\n",
    "\n",
    "# S = [\"abc def pqr\", \"def def def abc\", \"pqr pqr def\"]\n",
    "model = TfidfVectorizer()\n",
    "tf_idf_matrix = model.fit_transform(X_train)\n",
    "# we are converting a dictionary with word as a key, and the idf as a value\n",
    "dictionary = dict(zip(model.get_feature_names(), list(model.idf_)))"
   ]
  },
  {
   "cell_type": "code",
   "execution_count": 0,
   "metadata": {
    "colab": {
     "base_uri": "https://localhost:8080/",
     "height": 34
    },
    "colab_type": "code",
    "id": "Z6P61dtIGLr_",
    "outputId": "85ab8b14-3726-4662-811e-1de238ca9a05",
    "scrolled": true
   },
   "outputs": [
    {
     "name": "stderr",
     "output_type": "stream",
     "text": [
      "100%|██████████| 35000/35000 [12:15<00:00, 47.61it/s]\n"
     ]
    }
   ],
   "source": [
    "#Converting each word of a review from Train data into Tfidf W2v vector representation of len 50. Hence converting Train data into vector form.\n",
    "\n",
    "# TF-IDF weighted Word2Vec\n",
    "tfidf_feat = model.get_feature_names() # tfidf words/col-names\n",
    "# final_tf_idf is the sparse matrix with row= sentence, col=word and cell_val = tfidf\n",
    "\n",
    "tfidf_sent_vectors = []; # the tfidf-w2v for each sentence/review is stored in this list\n",
    "row=0;\n",
    "for sent in tqdm(list_of_sentance): # for each review/sentence \n",
    "    sent_vec = np.zeros(50) # as word vectors are of zero length\n",
    "    weight_sum =0; # num of words with a valid vector in the sentence/review\n",
    "    for word in sent: # for each word in a review/sentence\n",
    "        if word in w2v_words and word in tfidf_feat:\n",
    "            vec = w2v_model.wv[word]\n",
    "#             tf_idf = tf_idf_matrix[row, tfidf_feat.index(word)]\n",
    "            # to reduce the computation we are \n",
    "            # dictionary[word] = idf value of word in whole courpus\n",
    "            # sent.count(word) = tf valeus of word in this review\n",
    "            tf_idf = dictionary[word]*(sent.count(word)/len(sent))\n",
    "            sent_vec += (vec * tf_idf)\n",
    "            weight_sum += tf_idf\n",
    "    if weight_sum != 0:\n",
    "        sent_vec /= weight_sum\n",
    "    tfidf_sent_vectors.append(sent_vec)\n",
    "    row += 1"
   ]
  },
  {
   "cell_type": "code",
   "execution_count": 0,
   "metadata": {
    "colab": {},
    "colab_type": "code",
    "id": "y0Q-ujMaiBX9"
   },
   "outputs": [],
   "source": [
    "#Resulting vector representation of reviews of Train data\n",
    "X_tr_tf = tfidf_sent_vectors"
   ]
  },
  {
   "cell_type": "code",
   "execution_count": 0,
   "metadata": {
    "colab": {
     "base_uri": "https://localhost:8080/",
     "height": 34
    },
    "colab_type": "code",
    "id": "qzYHRByPhy8C",
    "outputId": "84edeba1-82ee-4193-c961-e9f7272a9bb9"
   },
   "outputs": [
    {
     "name": "stderr",
     "output_type": "stream",
     "text": [
      "100%|██████████| 15000/15000 [04:46<00:00, 52.39it/s]\n"
     ]
    }
   ],
   "source": [
    "#Converting each word of a review from Test data into Tfidf W2v vector representation of len 50. Hence converting Test data into vector form.\n",
    "#Test data is converted to vectors using w2v_model and TfidfVectorizer which were built on Training data.\n",
    "\n",
    "# TF-IDF weighted Word2Vec\n",
    "tfidf_feat = model.get_feature_names() # tfidf words/col-names\n",
    "# final_tf_idf is the sparse matrix with row= sentence, col=word and cell_val = tfidf\n",
    "\n",
    "tfidf_sent_vectors = []; # the tfidf-w2v for each sentence/review is stored in this list\n",
    "row=0;\n",
    "for sent in tqdm(list_of_sentance_test): # for each review/sentence \n",
    "    sent_vec = np.zeros(50) # as word vectors are of zero length\n",
    "    weight_sum =0; # num of words with a valid vector in the sentence/review\n",
    "    for word in sent: # for each word in a review/sentence\n",
    "        if word in w2v_words and word in tfidf_feat:\n",
    "            vec = w2v_model.wv[word]\n",
    "#             tf_idf = tf_idf_matrix[row, tfidf_feat.index(word)]\n",
    "            # to reduce the computation we are \n",
    "            # dictionary[word] = idf value of word in whole courpus\n",
    "            # sent.count(word) = tf valeus of word in this review\n",
    "            tf_idf = dictionary[word]*(sent.count(word)/len(sent))\n",
    "            sent_vec += (vec * tf_idf)\n",
    "            weight_sum += tf_idf\n",
    "    if weight_sum != 0:\n",
    "        sent_vec /= weight_sum\n",
    "    tfidf_sent_vectors.append(sent_vec)\n",
    "    row += 1"
   ]
  },
  {
   "cell_type": "code",
   "execution_count": 0,
   "metadata": {
    "colab": {},
    "colab_type": "code",
    "id": "1lmEyBcejLnb"
   },
   "outputs": [],
   "source": [
    "#Resulting vector representation of reviews of Test data\n",
    "X_ts_tf = tfidf_sent_vectors"
   ]
  },
  {
   "cell_type": "code",
   "execution_count": 0,
   "metadata": {
    "colab": {},
    "colab_type": "code",
    "id": "USBeaapEGKmb"
   },
   "outputs": [],
   "source": []
  },
  {
   "cell_type": "code",
   "execution_count": 0,
   "metadata": {
    "colab": {},
    "colab_type": "code",
    "id": "tMYgIGCHGKtL"
   },
   "outputs": [],
   "source": []
  },
  {
   "cell_type": "code",
   "execution_count": 0,
   "metadata": {
    "colab": {},
    "colab_type": "code",
    "id": "y632hZ8gGK3i"
   },
   "outputs": [],
   "source": []
  },
  {
   "cell_type": "code",
   "execution_count": 0,
   "metadata": {
    "colab": {},
    "colab_type": "code",
    "id": "gf-fmQHoGK0s"
   },
   "outputs": [],
   "source": []
  },
  {
   "cell_type": "code",
   "execution_count": 0,
   "metadata": {
    "colab": {},
    "colab_type": "code",
    "id": "WRL0-QvuGKyD"
   },
   "outputs": [],
   "source": []
  },
  {
   "cell_type": "code",
   "execution_count": 0,
   "metadata": {
    "colab": {},
    "colab_type": "code",
    "id": "12e3MYK86Y6I"
   },
   "outputs": [],
   "source": []
  },
  {
   "cell_type": "markdown",
   "metadata": {
    "colab_type": "text",
    "id": "oqHd5P0i6Y6M"
   },
   "source": [
    "## [5.1] Applying KNN brute force"
   ]
  },
  {
   "cell_type": "code",
   "execution_count": 0,
   "metadata": {
    "colab": {},
    "colab_type": "code",
    "id": "vAaQOrUn6Y6M"
   },
   "outputs": [],
   "source": [
    "# Common User defined function used.\n",
    "\n",
    "#Plots AUC Score vs Neighbors \n",
    "def plot_best_hyperparameter(gridcv):            \n",
    "    cv_result = pd.DataFrame(gridcv.cv_results_)      #gridcv.cv_results_ outputs dict object of cross validation score and train score. \n",
    "    '''cv = {\n",
    "    \"neighbors\" : cv_result[\"param_n_neighbors\"],\n",
    "    \"train score\" : cv_result[\"mean_train_score\"],\n",
    "    \"validation score\" : cv_result[\"mean_test_score\"]}'''\n",
    "\n",
    "    #CV_score = pd.DataFrame(cv)\n",
    "    \n",
    "    #Plot for Train data\n",
    "    plt.figure()\n",
    "    plt.title(\"Best hyperparameter for train data\")\n",
    "    plt.plot(cv_result[\"param_n_neighbors\"], cv_result[\"mean_train_score\"])\n",
    "    plt.plot(cv_result[\"param_n_neighbors\"], cv_result[\"mean_test_score\"])\n",
    "    plt.xticks(rotation=90)\n",
    "    plt.xlabel(\"Neighbors/K\")\n",
    "    plt.ylabel(\"AUC Score\")\n",
    "    plt.legend()\n",
    "    plt.show()\n",
    "    \n",
    "    '''Plot for Validation data\n",
    "    plt.figure()\n",
    "    plt.title(\"Best hyperparameter for validation data\")\n",
    "    plt.plot(cv_result[\"param_n_neighbors\"], cv_result[\"mean_test_score\"])\n",
    "    plt.xticks(rotation=90)\n",
    "    plt.xlabel(\"Neighbors\")\n",
    "    plt.ylabel(\"AUC Score\")\n",
    "    plt.show()'''\n",
    "\n",
    "\n",
    "def plot_roc_curve(test_y, predict_proba_y):     #Plots ROC Curve\n",
    "    \n",
    "    fpr, tpr, threshold = roc_curve(test_y, predict_proba_y)\n",
    "    auc_area = metrics.auc(fpr, tpr)\n",
    "    \n",
    "    plt.figure()\n",
    "    plt.plot(fpr, tpr, color = 'darkorange', linewidth = 2,label = \"AUC: %0.2f\" %auc_area)\n",
    "    plt.plot([0,1],[0,1], linewidth = 2, linestyle=\"--\")\n",
    "    plt.xlim([0,1])\n",
    "    plt.ylim([0,1])\n",
    "    plt.xlabel(\"FPR\")\n",
    "    plt.ylabel(\"TPR\")\n",
    "    plt.title(\"ROC Curve\")\n",
    "    plt.legend(loc = \"lower right\")\n",
    "    plt.show()\n",
    "    \n",
    "\n",
    "    \n",
    "def plot_confusion_mat(test_y, predict_proba_y):    #Plots Confusion Matrix\n",
    "\n",
    "    cnf_mat = confusion_matrix(test_y, predict_proba_y)\n",
    "    cnf_df = pd.DataFrame(cnf_mat, index = [\"Actual: 0\", \"Actual: 1\"], columns = [\"Predicted: 0\", \"Predicted: 1\"], dtype= float)\n",
    "\n",
    "    plt.figure(figsize=(5,3))\n",
    "    plt.title(\"Confusion Matrix\")\n",
    "    sns.heatmap(cnf_df, annot = True, fmt = \"g\")\n"
   ]
  },
  {
   "cell_type": "code",
   "execution_count": 0,
   "metadata": {
    "colab": {},
    "colab_type": "code",
    "id": "kEGssiOc6Y6O"
   },
   "outputs": [],
   "source": []
  },
  {
   "cell_type": "markdown",
   "metadata": {
    "colab_type": "text",
    "id": "dcNTmeNE6Y6R"
   },
   "source": [
    "### [5.1.1] Applying KNN brute force on BOW,<font color='red'> SET 1</font>"
   ]
  },
  {
   "cell_type": "code",
   "execution_count": 0,
   "metadata": {
    "colab": {
     "base_uri": "https://localhost:8080/",
     "height": 313
    },
    "colab_type": "code",
    "id": "WsT3A11z6Y6R",
    "outputId": "d0d0bed2-a4f4-4dad-f254-63169a46ff72"
   },
   "outputs": [
    {
     "name": "stdout",
     "output_type": "stream",
     "text": [
      "{'n_neighbors': 93}\n"
     ]
    },
    {
     "data": {
      "image/png": "[encoded data removed]",
      "text/plain": [
       "<Figure size 432x288 with 1 Axes>"
      ]
     },
     "metadata": {
      "tags": []
     },
     "output_type": "display_data"
    }
   ],
   "source": [
    "# Please write all the code with proper documentation\n",
    "\n",
    "from sklearn.model_selection import GridSearchCV\n",
    "from sklearn.neighbors import KNeighborsClassifier\n",
    "\n",
    "#Parameters\n",
    "params = {\"n_neighbors\":[3,13,23,33,43,53,63,73,83,93]\n",
    "         }\n",
    "\n",
    "knn_bow = KNeighborsClassifier(algorithm = \"brute\")\n",
    "\n",
    "gridcv = GridSearchCV(knn_bow, params, scoring = 'roc_auc', cv = 5)\n",
    "gridcv.fit(final_bigram_counts, y_train)\n",
    "print(gridcv.best_params_)\n",
    "bst_paramtr = gridcv.best_params_[\"n_neighbors\"]\n",
    "\n",
    "#Plots the graph for all  parameters to find best hyperparameter.\n",
    "plot_best_hyperparameter(gridcv)"
   ]
  },
  {
   "cell_type": "code",
   "execution_count": 0,
   "metadata": {
    "colab": {
     "base_uri": "https://localhost:8080/",
     "height": 520
    },
    "colab_type": "code",
    "id": "949uo0SI6Y6T",
    "outputId": "236a51ba-f2e0-4ffa-d4f4-6f42763dddf6"
   },
   "outputs": [
    {
     "name": "stdout",
     "output_type": "stream",
     "text": [
      "AUC for KNN with BOW for brute force method:  0.7412674463174048\n"
     ]
    },
    {
     "data": {
      "image/png": "[encoded data removed]",
      "text/plain": [
       "<Figure size 432x288 with 1 Axes>"
      ]
     },
     "metadata": {
      "tags": []
     },
     "output_type": "display_data"
    },
    {
     "data": {
      "image/png": "[encoded data removed]",
      "text/plain": [
       "<Figure size 360x216 with 2 Axes>"
      ]
     },
     "metadata": {
      "tags": []
     },
     "output_type": "display_data"
    }
   ],
   "source": [
    "from sklearn.metrics import roc_auc_score\n",
    "\n",
    "knn_bow_1 = KNeighborsClassifier(n_neighbors = bst_paramtr , algorithm = \"brute\")\n",
    "knn_bow_1.fit(final_bigram_counts, y_train)\n",
    "\n",
    "y_predict_proba_bow = knn_bow_1.predict_proba(final_bigram_counts_test)[:,1]\n",
    "y_predict_bow = knn_bow_1.predict(final_bigram_counts_test)\n",
    "\n",
    "roc_auc = roc_auc_score(y_test, y_predict_proba_bow)\n",
    "print(\"AUC for KNN with BOW for brute force method: \", roc_auc)\n",
    "\n",
    "#Plots ROC curve\n",
    "plot_roc_curve(y_test, y_predict_proba_bow)\n",
    "\n",
    "#Plots Confusion matrix\n",
    "plot_confusion_mat(y_test, y_predict_bow)"
   ]
  },
  {
   "cell_type": "code",
   "execution_count": 0,
   "metadata": {
    "colab": {},
    "colab_type": "code",
    "id": "WxdUOJge6Y6U"
   },
   "outputs": [],
   "source": []
  },
  {
   "cell_type": "markdown",
   "metadata": {
    "colab_type": "text",
    "id": "TDVG4VTA6Y6W"
   },
   "source": [
    "### [5.1.2] Applying KNN brute force on TFIDF,<font color='red'> SET 2</font>"
   ]
  },
  {
   "cell_type": "code",
   "execution_count": 0,
   "metadata": {
    "colab": {
     "base_uri": "https://localhost:8080/",
     "height": 313
    },
    "colab_type": "code",
    "id": "RJCwu2Yn6Y6W",
    "outputId": "a7e4c91f-c5ee-414d-bce5-afb1554beb14"
   },
   "outputs": [
    {
     "name": "stdout",
     "output_type": "stream",
     "text": [
      "{'n_neighbors': 93}\n"
     ]
    },
    {
     "data": {
      "image/png": "[encoded data removed]",
      "text/plain": [
       "<Figure size 432x288 with 1 Axes>"
      ]
     },
     "metadata": {
      "tags": []
     },
     "output_type": "display_data"
    }
   ],
   "source": [
    "# Please write all the code with proper documentation\n",
    "\n",
    "#Parameters\n",
    "params = {\"n_neighbors\":[3,13,23,33,43,53,63,73,83,93]\n",
    "         }\n",
    "knn_bow = KNeighborsClassifier(algorithm = \"brute\")\n",
    "\n",
    "gridcv = GridSearchCV(knn_bow, params, scoring = 'roc_auc', cv = 5)\n",
    "gridcv.fit(final_tf_idf, y_train)\n",
    "print(gridcv.best_params_)\n",
    "\n",
    "bst_paramtr = gridcv.best_params_[\"n_neighbors\"] #The best hyperparameter\n",
    "\n",
    "#Plots the graph for all  parameters to find best hyperparameter.\n",
    "plot_best_hyperparameter(gridcv)"
   ]
  },
  {
   "cell_type": "code",
   "execution_count": 0,
   "metadata": {
    "colab": {
     "base_uri": "https://localhost:8080/",
     "height": 520
    },
    "colab_type": "code",
    "id": "DwMwoSak6Y6Y",
    "outputId": "fd8a3f64-e800-4980-aa21-e22af4cbb0ff"
   },
   "outputs": [
    {
     "name": "stdout",
     "output_type": "stream",
     "text": [
      "AUC for KNN with TFIDF for brute force method:  0.5777730333765929\n"
     ]
    },
    {
     "data": {
      "image/png": "[encoded data removed]",
      "text/plain": [
       "<Figure size 432x288 with 1 Axes>"
      ]
     },
     "metadata": {
      "tags": []
     },
     "output_type": "display_data"
    },
    {
     "data": {
      "image/png": "[encoded data removed]",
      "text/plain": [
       "<Figure size 360x216 with 2 Axes>"
      ]
     },
     "metadata": {
      "tags": []
     },
     "output_type": "display_data"
    }
   ],
   "source": [
    "knn_bow_1 = KNeighborsClassifier(n_neighbors = bst_paramtr ,algorithm = \"brute\")\n",
    "knn_bow_1.fit(final_tf_idf, y_train)\n",
    "\n",
    "y_predict_proba_tfidf = knn_bow_1.predict_proba(final_tf_idf_test)[:,1]\n",
    "y_predict_tfidf = knn_bow_1.predict(final_tf_idf_test)\n",
    "\n",
    "roc_auc = roc_auc_score(y_test, y_predict_proba_tfidf)\n",
    "\n",
    "print(\"AUC for KNN with TFIDF for brute force method: \", roc_auc)\n",
    "\n",
    "#Plots ROC curve\n",
    "plot_roc_curve(y_test, y_predict_proba_tfidf)\n",
    "\n",
    "#Plots Confusion matrix\n",
    "plot_confusion_mat(y_test, y_predict_tfidf)"
   ]
  },
  {
   "cell_type": "markdown",
   "metadata": {
    "colab_type": "text",
    "id": "Zk07Z7Nu6Y6Z"
   },
   "source": [
    "### [5.1.3] Applying KNN brute force on AVG W2V,<font color='red'> SET 3</font>"
   ]
  },
  {
   "cell_type": "code",
   "execution_count": 0,
   "metadata": {
    "colab": {},
    "colab_type": "code",
    "id": "2K2QpsVhG4G3"
   },
   "outputs": [],
   "source": []
  },
  {
   "cell_type": "code",
   "execution_count": 0,
   "metadata": {
    "colab": {
     "base_uri": "https://localhost:8080/",
     "height": 313
    },
    "colab_type": "code",
    "id": "dtWceKnB6Y60",
    "outputId": "511a8bbd-4732-4b17-8660-9686a3b30517"
   },
   "outputs": [
    {
     "name": "stdout",
     "output_type": "stream",
     "text": [
      "{'n_neighbors': 83}\n"
     ]
    },
    {
     "data": {
      "image/png": "[encoded data removed]",
      "text/plain": [
       "<Figure size 432x288 with 1 Axes>"
      ]
     },
     "metadata": {
      "tags": []
     },
     "output_type": "display_data"
    }
   ],
   "source": [
    "# Please write all the code with proper documentation\n",
    "\n",
    "#Parameters\n",
    "params = {\"n_neighbors\":[3,13,23,33,43,53,63,73,83,93]\n",
    "         }\n",
    "\n",
    "knn_bow = KNeighborsClassifier(algorithm = \"brute\")\n",
    "\n",
    "gridcv = GridSearchCV(knn_bow, params, scoring = 'roc_auc', cv = 5)\n",
    "gridcv.fit(X_tr_w2v, y_train)\n",
    "print(gridcv.best_params_)\n",
    "\n",
    "bst_paramtr = gridcv.best_params_[\"n_neighbors\"]\n",
    "\n",
    "#Plots the graph for all  parameters to find best hyperparameter.\n",
    "plot_best_hyperparameter(gridcv)"
   ]
  },
  {
   "cell_type": "code",
   "execution_count": 0,
   "metadata": {
    "colab": {
     "base_uri": "https://localhost:8080/",
     "height": 520
    },
    "colab_type": "code",
    "id": "xBVaYF666Y62",
    "outputId": "500c7204-4749-4214-ff25-cb05465752de"
   },
   "outputs": [
    {
     "name": "stdout",
     "output_type": "stream",
     "text": [
      "AUC for KNN with AVG W2V for KD Tree method:  0.8482575357664369\n"
     ]
    },
    {
     "data": {
      "image/png": "[encoded data removed]",
      "text/plain": [
       "<Figure size 432x288 with 1 Axes>"
      ]
     },
     "metadata": {
      "tags": []
     },
     "output_type": "display_data"
    },
    {
     "data": {
      "image/png": "[encoded data removed]",
      "text/plain": [
       "<Figure size 360x216 with 2 Axes>"
      ]
     },
     "metadata": {
      "tags": []
     },
     "output_type": "display_data"
    }
   ],
   "source": [
    "from sklearn.model_selection import GridSearchCV\n",
    "from sklearn.neighbors import KNeighborsClassifier\n",
    "from sklearn.metrics import roc_auc_score\n",
    "\n",
    "knn_bow_1 = KNeighborsClassifier(n_neighbors = bst_paramtr , algorithm = \"brute\")\n",
    "knn_bow_1.fit(X_tr_w2v, y_train)\n",
    "\n",
    "y_predict_proba_w2v_kd = knn_bow_1.predict_proba(X_ts_w2v)[:,1]\n",
    "y_predict_w2v_kd = knn_bow_1.predict(X_ts_w2v)\n",
    "\n",
    "roc_auc = roc_auc_score(y_test, y_predict_proba_w2v_kd)\n",
    "\n",
    "print(\"AUC for KNN with AVG W2V for KD Tree method: \", roc_auc)\n",
    "\n",
    "#Plots ROC curve \n",
    "plot_roc_curve(y_test, y_predict_proba_w2v_kd)\n",
    "\n",
    "#Plots Confusion matrix\n",
    "plot_confusion_mat(y_test, y_predict_w2v_kd)"
   ]
  },
  {
   "cell_type": "markdown",
   "metadata": {
    "colab_type": "text",
    "id": "7SjoI3N76Y64"
   },
   "source": [
    "### [5.2.4] Applying KNN kd-tree on TFIDF W2V,<font color='red'> SET 4</font>"
   ]
  },
  {
   "cell_type": "code",
   "execution_count": 0,
   "metadata": {
    "colab": {
     "base_uri": "https://localhost:8080/",
     "height": 313
    },
    "colab_type": "code",
    "id": "OV8VJK3N6Y64",
    "outputId": "e8509a1f-2abe-4005-e8a2-4b58e179629c"
   },
   "outputs": [
    {
     "name": "stdout",
     "output_type": "stream",
     "text": [
      "{'n_neighbors': 83}\n"
     ]
    },
    {
     "data": {
      "image/png": "[encoded data removed]",
      "text/plain": [
       "<Figure size 432x288 with 1 Axes>"
      ]
     },
     "metadata": {
      "tags": []
     },
     "output_type": "display_data"
    }
   ],
   "source": [
    "# Please write all the code with proper documentation\n",
    "\n",
    "#Parameters\n",
    "params = {\"n_neighbors\":[3,13,23,33,43,53,63,73,83,93]\n",
    "         }\n",
    "\n",
    "knn_bow = KNeighborsClassifier(algorithm = \"brute\")\n",
    "\n",
    "gridcv = GridSearchCV(knn_bow, params, scoring = 'roc_auc', cv = 5)\n",
    "gridcv.fit(X_tr_tf, y_train)\n",
    "print(gridcv.best_params_)\n",
    "\n",
    "bst_paramtr = gridcv.best_params_[\"n_neighbors\"]\n",
    "\n",
    "#Plots the graph for all  parameters to find best hyperparameter.\n",
    "plot_best_hyperparameter(gridcv)"
   ]
  },
  {
   "cell_type": "code",
   "execution_count": 0,
   "metadata": {
    "colab": {
     "base_uri": "https://localhost:8080/",
     "height": 520
    },
    "colab_type": "code",
    "id": "snX9ctbu6Y69",
    "outputId": "6b3f9965-59f8-4321-fb4c-a0efd0c210e2"
   },
   "outputs": [
    {
     "name": "stdout",
     "output_type": "stream",
     "text": [
      "AUC for KNN with TFIDF W2V for KD Tree method:  0.815509768041293\n"
     ]
    },
    {
     "data": {
      "image/png": "[encoded data removed]",
      "text/plain": [
       "<Figure size 432x288 with 1 Axes>"
      ]
     },
     "metadata": {
      "tags": []
     },
     "output_type": "display_data"
    },
    {
     "data": {
      "image/png": "[encoded data removed]",
      "text/plain": [
       "<Figure size 360x216 with 2 Axes>"
      ]
     },
     "metadata": {
      "tags": []
     },
     "output_type": "display_data"
    }
   ],
   "source": [
    "knn_bow_1 = KNeighborsClassifier(n_neighbors = bst_paramtr , algorithm = \"brute\")\n",
    "knn_bow_1.fit(X_tr_tf, y_train)\n",
    "\n",
    "y_predict_proba_tfidf_w2v_kd = knn_bow_1.predict_proba(X_ts_tf)[:,1]\n",
    "y_predict_tfidf_w2v_kd = knn_bow_1.predict(X_ts_tf)\n",
    "\n",
    "roc_auc = roc_auc_score(y_test, y_predict_proba_tfidf_w2v_kd)\n",
    "\n",
    "print(\"AUC for KNN with TFIDF W2V for KD Tree method: \", roc_auc)\n",
    "\n",
    "#Plots ROC curve\n",
    "plot_roc_curve(y_test, y_predict_proba_tfidf_w2v_kd)\n",
    "\n",
    "#Plots Confusion matrix\n",
    "plot_confusion_mat(y_test, y_predict_tfidf_w2v_kd)"
   ]
  },
  {
   "cell_type": "markdown",
   "metadata": {
    "colab_type": "text",
    "id": "ywHSD5S7-_sm"
   },
   "source": [
    "# Note: I ran the above models with KD Tree algorithm in next ipython notebook. Conclusions are also mentioned in that notebook."
   ]
  }
 ],
 "metadata": {
  "accelerator": "GPU",
  "colab": {
   "collapsed_sections": [],
   "name": "03_Amazon_knn_kd_tree.ipynb",
   "provenance": [],
   "version": "0.3.2"
  },
  "kernelspec": {
   "display_name": "Python 3",
   "language": "python",
   "name": "python3"
  },
  "language_info": {
   "codemirror_mode": {
    "name": "ipython",
    "version": 3
   },
   "file_extension": ".py",
   "mimetype": "text/x-python",
   "name": "python",
   "nbconvert_exporter": "python",
   "pygments_lexer": "ipython3",
   "version": "3.7.0"
  }
 },
 "nbformat": 4,
 "nbformat_minor": 1
}
