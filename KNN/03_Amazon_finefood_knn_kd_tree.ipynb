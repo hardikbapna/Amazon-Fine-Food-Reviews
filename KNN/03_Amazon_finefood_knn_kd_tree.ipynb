{
 "cells": [
  {
   "cell_type": "markdown",
   "metadata": {
    "colab_type": "text",
    "id": "cdBMmXJx6Y28"
   },
   "source": [
    "# Amazon Fine Food Reviews Analysis\n",
    "\n",
    "\n",
    "Data Source: https://www.kaggle.com/snap/amazon-fine-food-reviews <br>\n",
    "\n",
    "EDA: https://nycdatascience.com/blog/student-works/amazon-fine-foods-visualization/\n",
    "\n",
    "\n",
    "The Amazon Fine Food Reviews dataset consists of reviews of fine foods from Amazon.<br>\n",
    "\n",
    "Number of reviews: 568,454<br>\n",
    "Number of users: 256,059<br>\n",
    "Number of products: 74,258<br>\n",
    "Timespan: Oct 1999 - Oct 2012<br>\n",
    "Number of Attributes/Columns in data: 10 \n",
    "\n",
    "Attribute Information:\n",
    "\n",
    "1. Id\n",
    "2. ProductId - unique identifier for the product\n",
    "3. UserId - unqiue identifier for the user\n",
    "4. ProfileName\n",
    "5. HelpfulnessNumerator - number of users who found the review helpful\n",
    "6. HelpfulnessDenominator - number of users who indicated whether they found the review helpful or not\n",
    "7. Score - rating between 1 and 5\n",
    "8. Time - timestamp for the review\n",
    "9. Summary - brief summary of the review\n",
    "10. Text - text of the review\n",
    "\n",
    "\n",
    "#### Objective:\n",
    "Given a review, determine whether the review is positive (rating of 4 or 5) or negative (rating of 1 or 2).\n",
    "\n",
    "<br>\n",
    "[Q] How to determine if a review is positive or negative?<br>\n",
    "<br> \n",
    "[Ans] We could use Score/Rating. A rating of 4 or 5 can be cosnidered as a positive review. A rating of 1 or 2 can be considered as negative one. A review of rating 3 is considered nuetral and such reviews are ignored from our analysis. This is an approximate and proxy way of determining the polarity (positivity/negativity) of a review.\n",
    "\n",
    "\n"
   ]
  },
  {
   "cell_type": "markdown",
   "metadata": {
    "colab_type": "text",
    "id": "0_uObGmS6Y2-"
   },
   "source": [
    "# [1]. Reading Data"
   ]
  },
  {
   "cell_type": "markdown",
   "metadata": {
    "colab_type": "text",
    "id": "xgT2Z9RM6Y2_"
   },
   "source": [
    "## [1.1] Loading the data\n",
    "\n",
    "The dataset is available in two forms\n",
    "1. .csv file\n",
    "2. SQLite Database\n",
    "\n",
    "In order to load the data, We have used the SQLITE dataset as it is easier to query the data and visualise the data efficiently.\n",
    "<br> \n",
    "\n",
    "Here as we only want to get the global sentiment of the recommendations (positive or negative), we will purposefully ignore all Scores equal to 3. If the score is above 3, then the recommendation wil be set to \"positive\". Otherwise, it will be set to \"negative\"."
   ]
  },
  {
   "cell_type": "code",
   "execution_count": 1,
   "metadata": {
    "colab": {},
    "colab_type": "code",
    "id": "sM1d9Zi_6Y3A"
   },
   "outputs": [
    {
     "name": "stderr",
     "output_type": "stream",
     "text": [
      "C:\\Users\\Hardik\\Anaconda3\\lib\\site-packages\\gensim\\utils.py:1212: UserWarning: detected Windows; aliasing chunkize to chunkize_serial\n",
      "  warnings.warn(\"detected Windows; aliasing chunkize to chunkize_serial\")\n"
     ]
    }
   ],
   "source": [
    "%matplotlib inline\n",
    "import warnings\n",
    "warnings.filterwarnings(\"ignore\")\n",
    "\n",
    "\n",
    "import sqlite3\n",
    "import pandas as pd\n",
    "import numpy as np\n",
    "import nltk\n",
    "import string\n",
    "import matplotlib.pyplot as plt\n",
    "import seaborn as sns\n",
    "from sklearn.model_selection import train_test_split\n",
    "from sklearn.feature_extraction.text import TfidfTransformer\n",
    "from sklearn.feature_extraction.text import TfidfVectorizer\n",
    "\n",
    "from sklearn.feature_extraction.text import CountVectorizer\n",
    "from sklearn.metrics import confusion_matrix\n",
    "from sklearn import metrics\n",
    "from sklearn.metrics import roc_curve, auc\n",
    "from nltk.stem.porter import PorterStemmer\n",
    "\n",
    "import re\n",
    "# Tutorial about Python regular expressions: https://pymotw.com/2/re/\n",
    "import string\n",
    "from nltk.corpus import stopwords\n",
    "from nltk.stem import PorterStemmer\n",
    "from nltk.stem.wordnet import WordNetLemmatizer\n",
    "\n",
    "from gensim.models import Word2Vec\n",
    "from gensim.models import KeyedVectors\n",
    "import pickle\n",
    "\n",
    "from tqdm import tqdm\n",
    "import os\n",
    "import prettytable"
   ]
  },
  {
   "cell_type": "code",
   "execution_count": 0,
   "metadata": {
    "colab": {},
    "colab_type": "code",
    "id": "yB4fsKab6Y3H"
   },
   "outputs": [],
   "source": [
    "#USER DEFINED FUNCTIONS\n",
    "\n",
    "#changing reviews with score less than 3 to be positive and vice-versa\n",
    "def data_filter(filtered_data):\n",
    "    actualScore = filtered_data['Score']\n",
    "    positiveNegative = actualScore.map(partition) \n",
    "    filtered_data['Score'] = positiveNegative\n",
    "    return filtered_data[\"Score\"]\n",
    "\n",
    "\n",
    "# Give reviews with Score>3 a positive rating(1), and reviews with a score<3 a negative rating(0).\n",
    "def partition(x):\n",
    "    if x < 3:\n",
    "        return 0\n",
    "    return 1"
   ]
  },
  {
   "cell_type": "code",
   "execution_count": 0,
   "metadata": {
    "colab": {},
    "colab_type": "code",
    "id": "_5Rufz8W9Gre"
   },
   "outputs": [],
   "source": [
    "# Code to read csv file into colaboratory:\n",
    "!pip install -U -q PyDrive\n",
    "from pydrive.auth import GoogleAuth\n",
    "from pydrive.drive import GoogleDrive\n",
    "from google.colab import auth\n",
    "from oauth2client.client import GoogleCredentials\n",
    "\n",
    "# 1. Authenticate and create the PyDrive client.\n",
    "auth.authenticate_user()\n",
    "gauth = GoogleAuth()\n",
    "gauth.credentials = GoogleCredentials.get_application_default()\n",
    "drive = GoogleDrive(gauth)\n",
    "\n",
    "#2. Get the file #Training Variants\n",
    "downloaded = drive.CreateFile({'id':'1PPCURbwWREuTo7ZgIt9MZv26tpsAp9Bs'}) # replace the id with id of file you want to access\n",
    "downloaded.GetContentFile('Reviews.csv')\n",
    "\n",
    "downloaded1 = drive.CreateFile({'id':'1PPC'}) # replace the id with id of file you want to access\n",
    "downloaded.GetContentFile('Reviews.csv')\n",
    "\n",
    "downloaded = drive.CreateFile({'id':'1PPCURbwWREuTo7ZgIt9MZv26tpsAp9Bs'}) # replace the id with id of file you want to access\n",
    "downloaded.GetContentFile('Reviews.csv')\n",
    "\n",
    "downloaded = drive.CreateFile({'id':'1PPCURbwWREuTo7ZgIt9MZv26tpsAp9Bs'}) # replace the id with id of file you want to access\n",
    "downloaded.GetContentFile('Reviews.csv')\n",
    "\n",
    "#3. Read file as panda dataframe\n",
    "import pandas as pd\n",
    "data = pd.read_csv('Reviews.csv')"
   ]
  },
  {
   "cell_type": "code",
   "execution_count": 0,
   "metadata": {
    "colab": {
     "base_uri": "https://localhost:8080/",
     "height": 1264
    },
    "colab_type": "code",
    "id": "wf8JI4Rnpu-n",
    "outputId": "5221502b-498d-441e-bdbc-fb8cc69b7e1e"
   },
   "outputs": [
    {
     "data": {
      "text/html": [
       "<div>\n",
       "<style scoped>\n",
       "    .dataframe tbody tr th:only-of-type {\n",
       "        vertical-align: middle;\n",
       "    }\n",
       "\n",
       "    .dataframe tbody tr th {\n",
       "        vertical-align: top;\n",
       "    }\n",
       "\n",
       "    .dataframe thead th {\n",
       "        text-align: right;\n",
       "    }\n",
       "</style>\n",
       "<table border=\"1\" class=\"dataframe\">\n",
       "  <thead>\n",
       "    <tr style=\"text-align: right;\">\n",
       "      <th></th>\n",
       "      <th>Id</th>\n",
       "      <th>ProductId</th>\n",
       "      <th>UserId</th>\n",
       "      <th>ProfileName</th>\n",
       "      <th>HelpfulnessNumerator</th>\n",
       "      <th>HelpfulnessDenominator</th>\n",
       "      <th>Score</th>\n",
       "      <th>Time</th>\n",
       "      <th>Summary</th>\n",
       "      <th>Text</th>\n",
       "    </tr>\n",
       "  </thead>\n",
       "  <tbody>\n",
       "    <tr>\n",
       "      <th>0</th>\n",
       "      <td>1</td>\n",
       "      <td>B001E4KFG0</td>\n",
       "      <td>A3SGXH7AUHU8GW</td>\n",
       "      <td>delmartian</td>\n",
       "      <td>1</td>\n",
       "      <td>1</td>\n",
       "      <td>5</td>\n",
       "      <td>1303862400</td>\n",
       "      <td>Good Quality Dog Food</td>\n",
       "      <td>I have bought several of the Vitality canned d...</td>\n",
       "    </tr>\n",
       "    <tr>\n",
       "      <th>1</th>\n",
       "      <td>2</td>\n",
       "      <td>B00813GRG4</td>\n",
       "      <td>A1D87F6ZCVE5NK</td>\n",
       "      <td>dll pa</td>\n",
       "      <td>0</td>\n",
       "      <td>0</td>\n",
       "      <td>1</td>\n",
       "      <td>1346976000</td>\n",
       "      <td>Not as Advertised</td>\n",
       "      <td>Product arrived labeled as Jumbo Salted Peanut...</td>\n",
       "    </tr>\n",
       "    <tr>\n",
       "      <th>2</th>\n",
       "      <td>3</td>\n",
       "      <td>B000LQOCH0</td>\n",
       "      <td>ABXLMWJIXXAIN</td>\n",
       "      <td>Natalia Corres \"Natalia Corres\"</td>\n",
       "      <td>1</td>\n",
       "      <td>1</td>\n",
       "      <td>4</td>\n",
       "      <td>1219017600</td>\n",
       "      <td>\"Delight\" says it all</td>\n",
       "      <td>This is a confection that has been around a fe...</td>\n",
       "    </tr>\n",
       "    <tr>\n",
       "      <th>3</th>\n",
       "      <td>4</td>\n",
       "      <td>B000UA0QIQ</td>\n",
       "      <td>A395BORC6FGVXV</td>\n",
       "      <td>Karl</td>\n",
       "      <td>3</td>\n",
       "      <td>3</td>\n",
       "      <td>2</td>\n",
       "      <td>1307923200</td>\n",
       "      <td>Cough Medicine</td>\n",
       "      <td>If you are looking for the secret ingredient i...</td>\n",
       "    </tr>\n",
       "    <tr>\n",
       "      <th>4</th>\n",
       "      <td>5</td>\n",
       "      <td>B006K2ZZ7K</td>\n",
       "      <td>A1UQRSCLF8GW1T</td>\n",
       "      <td>Michael D. Bigham \"M. Wassir\"</td>\n",
       "      <td>0</td>\n",
       "      <td>0</td>\n",
       "      <td>5</td>\n",
       "      <td>1350777600</td>\n",
       "      <td>Great taffy</td>\n",
       "      <td>Great taffy at a great price.  There was a wid...</td>\n",
       "    </tr>\n",
       "    <tr>\n",
       "      <th>5</th>\n",
       "      <td>6</td>\n",
       "      <td>B006K2ZZ7K</td>\n",
       "      <td>ADT0SRK1MGOEU</td>\n",
       "      <td>Twoapennything</td>\n",
       "      <td>0</td>\n",
       "      <td>0</td>\n",
       "      <td>4</td>\n",
       "      <td>1342051200</td>\n",
       "      <td>Nice Taffy</td>\n",
       "      <td>I got a wild hair for taffy and ordered this f...</td>\n",
       "    </tr>\n",
       "    <tr>\n",
       "      <th>6</th>\n",
       "      <td>7</td>\n",
       "      <td>B006K2ZZ7K</td>\n",
       "      <td>A1SP2KVKFXXRU1</td>\n",
       "      <td>David C. Sullivan</td>\n",
       "      <td>0</td>\n",
       "      <td>0</td>\n",
       "      <td>5</td>\n",
       "      <td>1340150400</td>\n",
       "      <td>Great!  Just as good as the expensive brands!</td>\n",
       "      <td>This saltwater taffy had great flavors and was...</td>\n",
       "    </tr>\n",
       "    <tr>\n",
       "      <th>7</th>\n",
       "      <td>8</td>\n",
       "      <td>B006K2ZZ7K</td>\n",
       "      <td>A3JRGQVEQN31IQ</td>\n",
       "      <td>Pamela G. Williams</td>\n",
       "      <td>0</td>\n",
       "      <td>0</td>\n",
       "      <td>5</td>\n",
       "      <td>1336003200</td>\n",
       "      <td>Wonderful, tasty taffy</td>\n",
       "      <td>This taffy is so good.  It is very soft and ch...</td>\n",
       "    </tr>\n",
       "    <tr>\n",
       "      <th>8</th>\n",
       "      <td>9</td>\n",
       "      <td>B000E7L2R4</td>\n",
       "      <td>A1MZYO9TZK0BBI</td>\n",
       "      <td>R. James</td>\n",
       "      <td>1</td>\n",
       "      <td>1</td>\n",
       "      <td>5</td>\n",
       "      <td>1322006400</td>\n",
       "      <td>Yay Barley</td>\n",
       "      <td>Right now I'm mostly just sprouting this so my...</td>\n",
       "    </tr>\n",
       "    <tr>\n",
       "      <th>9</th>\n",
       "      <td>10</td>\n",
       "      <td>B00171APVA</td>\n",
       "      <td>A21BT40VZCCYT4</td>\n",
       "      <td>Carol A. Reed</td>\n",
       "      <td>0</td>\n",
       "      <td>0</td>\n",
       "      <td>5</td>\n",
       "      <td>1351209600</td>\n",
       "      <td>Healthy Dog Food</td>\n",
       "      <td>This is a very healthy dog food. Good for thei...</td>\n",
       "    </tr>\n",
       "    <tr>\n",
       "      <th>10</th>\n",
       "      <td>11</td>\n",
       "      <td>B0001PB9FE</td>\n",
       "      <td>A3HDKO7OW0QNK4</td>\n",
       "      <td>Canadian Fan</td>\n",
       "      <td>1</td>\n",
       "      <td>1</td>\n",
       "      <td>5</td>\n",
       "      <td>1107820800</td>\n",
       "      <td>The Best Hot Sauce in the World</td>\n",
       "      <td>I don't know if it's the cactus or the tequila...</td>\n",
       "    </tr>\n",
       "    <tr>\n",
       "      <th>11</th>\n",
       "      <td>12</td>\n",
       "      <td>B0009XLVG0</td>\n",
       "      <td>A2725IB4YY9JEB</td>\n",
       "      <td>A Poeng \"SparkyGoHome\"</td>\n",
       "      <td>4</td>\n",
       "      <td>4</td>\n",
       "      <td>5</td>\n",
       "      <td>1282867200</td>\n",
       "      <td>My cats LOVE this \"diet\" food better than thei...</td>\n",
       "      <td>One of my boys needed to lose some weight and ...</td>\n",
       "    </tr>\n",
       "    <tr>\n",
       "      <th>12</th>\n",
       "      <td>13</td>\n",
       "      <td>B0009XLVG0</td>\n",
       "      <td>A327PCT23YH90</td>\n",
       "      <td>LT</td>\n",
       "      <td>1</td>\n",
       "      <td>1</td>\n",
       "      <td>1</td>\n",
       "      <td>1339545600</td>\n",
       "      <td>My Cats Are Not Fans of the New Food</td>\n",
       "      <td>My cats have been happily eating Felidae Plati...</td>\n",
       "    </tr>\n",
       "    <tr>\n",
       "      <th>13</th>\n",
       "      <td>14</td>\n",
       "      <td>B001GVISJM</td>\n",
       "      <td>A18ECVX2RJ7HUE</td>\n",
       "      <td>willie \"roadie\"</td>\n",
       "      <td>2</td>\n",
       "      <td>2</td>\n",
       "      <td>4</td>\n",
       "      <td>1288915200</td>\n",
       "      <td>fresh and greasy!</td>\n",
       "      <td>good flavor! these came securely packed... the...</td>\n",
       "    </tr>\n",
       "    <tr>\n",
       "      <th>14</th>\n",
       "      <td>15</td>\n",
       "      <td>B001GVISJM</td>\n",
       "      <td>A2MUGFV2TDQ47K</td>\n",
       "      <td>Lynrie \"Oh HELL no\"</td>\n",
       "      <td>4</td>\n",
       "      <td>5</td>\n",
       "      <td>5</td>\n",
       "      <td>1268352000</td>\n",
       "      <td>Strawberry Twizzlers - Yummy</td>\n",
       "      <td>The Strawberry Twizzlers are my guilty pleasur...</td>\n",
       "    </tr>\n",
       "    <tr>\n",
       "      <th>15</th>\n",
       "      <td>16</td>\n",
       "      <td>B001GVISJM</td>\n",
       "      <td>A1CZX3CP8IKQIJ</td>\n",
       "      <td>Brian A. Lee</td>\n",
       "      <td>4</td>\n",
       "      <td>5</td>\n",
       "      <td>5</td>\n",
       "      <td>1262044800</td>\n",
       "      <td>Lots of twizzlers, just what you expect.</td>\n",
       "      <td>My daughter loves twizzlers and this shipment ...</td>\n",
       "    </tr>\n",
       "    <tr>\n",
       "      <th>16</th>\n",
       "      <td>17</td>\n",
       "      <td>B001GVISJM</td>\n",
       "      <td>A3KLWF6WQ5BNYO</td>\n",
       "      <td>Erica Neathery</td>\n",
       "      <td>0</td>\n",
       "      <td>0</td>\n",
       "      <td>2</td>\n",
       "      <td>1348099200</td>\n",
       "      <td>poor taste</td>\n",
       "      <td>I love eating them and they are good for watch...</td>\n",
       "    </tr>\n",
       "    <tr>\n",
       "      <th>17</th>\n",
       "      <td>18</td>\n",
       "      <td>B001GVISJM</td>\n",
       "      <td>AFKW14U97Z6QO</td>\n",
       "      <td>Becca</td>\n",
       "      <td>0</td>\n",
       "      <td>0</td>\n",
       "      <td>5</td>\n",
       "      <td>1345075200</td>\n",
       "      <td>Love it!</td>\n",
       "      <td>I am very satisfied with my Twizzler purchase....</td>\n",
       "    </tr>\n",
       "    <tr>\n",
       "      <th>18</th>\n",
       "      <td>19</td>\n",
       "      <td>B001GVISJM</td>\n",
       "      <td>A2A9X58G2GTBLP</td>\n",
       "      <td>Wolfee1</td>\n",
       "      <td>0</td>\n",
       "      <td>0</td>\n",
       "      <td>5</td>\n",
       "      <td>1324598400</td>\n",
       "      <td>GREAT SWEET CANDY!</td>\n",
       "      <td>Twizzlers, Strawberry my childhood favorite ca...</td>\n",
       "    </tr>\n",
       "    <tr>\n",
       "      <th>19</th>\n",
       "      <td>20</td>\n",
       "      <td>B001GVISJM</td>\n",
       "      <td>A3IV7CL2C13K2U</td>\n",
       "      <td>Greg</td>\n",
       "      <td>0</td>\n",
       "      <td>0</td>\n",
       "      <td>5</td>\n",
       "      <td>1318032000</td>\n",
       "      <td>Home delivered twizlers</td>\n",
       "      <td>Candy was delivered very fast and was purchase...</td>\n",
       "    </tr>\n",
       "  </tbody>\n",
       "</table>\n",
       "</div>"
      ],
      "text/plain": [
       "    Id   ProductId          UserId                      ProfileName  \\\n",
       "0    1  B001E4KFG0  A3SGXH7AUHU8GW                       delmartian   \n",
       "1    2  B00813GRG4  A1D87F6ZCVE5NK                           dll pa   \n",
       "2    3  B000LQOCH0   ABXLMWJIXXAIN  Natalia Corres \"Natalia Corres\"   \n",
       "3    4  B000UA0QIQ  A395BORC6FGVXV                             Karl   \n",
       "4    5  B006K2ZZ7K  A1UQRSCLF8GW1T    Michael D. Bigham \"M. Wassir\"   \n",
       "5    6  B006K2ZZ7K   ADT0SRK1MGOEU                   Twoapennything   \n",
       "6    7  B006K2ZZ7K  A1SP2KVKFXXRU1                David C. Sullivan   \n",
       "7    8  B006K2ZZ7K  A3JRGQVEQN31IQ               Pamela G. Williams   \n",
       "8    9  B000E7L2R4  A1MZYO9TZK0BBI                         R. James   \n",
       "9   10  B00171APVA  A21BT40VZCCYT4                    Carol A. Reed   \n",
       "10  11  B0001PB9FE  A3HDKO7OW0QNK4                     Canadian Fan   \n",
       "11  12  B0009XLVG0  A2725IB4YY9JEB           A Poeng \"SparkyGoHome\"   \n",
       "12  13  B0009XLVG0   A327PCT23YH90                               LT   \n",
       "13  14  B001GVISJM  A18ECVX2RJ7HUE                  willie \"roadie\"   \n",
       "14  15  B001GVISJM  A2MUGFV2TDQ47K              Lynrie \"Oh HELL no\"   \n",
       "15  16  B001GVISJM  A1CZX3CP8IKQIJ                     Brian A. Lee   \n",
       "16  17  B001GVISJM  A3KLWF6WQ5BNYO                   Erica Neathery   \n",
       "17  18  B001GVISJM   AFKW14U97Z6QO                            Becca   \n",
       "18  19  B001GVISJM  A2A9X58G2GTBLP                          Wolfee1   \n",
       "19  20  B001GVISJM  A3IV7CL2C13K2U                             Greg   \n",
       "\n",
       "    HelpfulnessNumerator  HelpfulnessDenominator  Score        Time  \\\n",
       "0                      1                       1      5  1303862400   \n",
       "1                      0                       0      1  1346976000   \n",
       "2                      1                       1      4  1219017600   \n",
       "3                      3                       3      2  1307923200   \n",
       "4                      0                       0      5  1350777600   \n",
       "5                      0                       0      4  1342051200   \n",
       "6                      0                       0      5  1340150400   \n",
       "7                      0                       0      5  1336003200   \n",
       "8                      1                       1      5  1322006400   \n",
       "9                      0                       0      5  1351209600   \n",
       "10                     1                       1      5  1107820800   \n",
       "11                     4                       4      5  1282867200   \n",
       "12                     1                       1      1  1339545600   \n",
       "13                     2                       2      4  1288915200   \n",
       "14                     4                       5      5  1268352000   \n",
       "15                     4                       5      5  1262044800   \n",
       "16                     0                       0      2  1348099200   \n",
       "17                     0                       0      5  1345075200   \n",
       "18                     0                       0      5  1324598400   \n",
       "19                     0                       0      5  1318032000   \n",
       "\n",
       "                                              Summary  \\\n",
       "0                               Good Quality Dog Food   \n",
       "1                                   Not as Advertised   \n",
       "2                               \"Delight\" says it all   \n",
       "3                                      Cough Medicine   \n",
       "4                                         Great taffy   \n",
       "5                                          Nice Taffy   \n",
       "6       Great!  Just as good as the expensive brands!   \n",
       "7                              Wonderful, tasty taffy   \n",
       "8                                          Yay Barley   \n",
       "9                                    Healthy Dog Food   \n",
       "10                    The Best Hot Sauce in the World   \n",
       "11  My cats LOVE this \"diet\" food better than thei...   \n",
       "12               My Cats Are Not Fans of the New Food   \n",
       "13                                  fresh and greasy!   \n",
       "14                       Strawberry Twizzlers - Yummy   \n",
       "15           Lots of twizzlers, just what you expect.   \n",
       "16                                         poor taste   \n",
       "17                                           Love it!   \n",
       "18                                 GREAT SWEET CANDY!   \n",
       "19                            Home delivered twizlers   \n",
       "\n",
       "                                                 Text  \n",
       "0   I have bought several of the Vitality canned d...  \n",
       "1   Product arrived labeled as Jumbo Salted Peanut...  \n",
       "2   This is a confection that has been around a fe...  \n",
       "3   If you are looking for the secret ingredient i...  \n",
       "4   Great taffy at a great price.  There was a wid...  \n",
       "5   I got a wild hair for taffy and ordered this f...  \n",
       "6   This saltwater taffy had great flavors and was...  \n",
       "7   This taffy is so good.  It is very soft and ch...  \n",
       "8   Right now I'm mostly just sprouting this so my...  \n",
       "9   This is a very healthy dog food. Good for thei...  \n",
       "10  I don't know if it's the cactus or the tequila...  \n",
       "11  One of my boys needed to lose some weight and ...  \n",
       "12  My cats have been happily eating Felidae Plati...  \n",
       "13  good flavor! these came securely packed... the...  \n",
       "14  The Strawberry Twizzlers are my guilty pleasur...  \n",
       "15  My daughter loves twizzlers and this shipment ...  \n",
       "16  I love eating them and they are good for watch...  \n",
       "17  I am very satisfied with my Twizzler purchase....  \n",
       "18  Twizzlers, Strawberry my childhood favorite ca...  \n",
       "19  Candy was delivered very fast and was purchase...  "
      ]
     },
     "execution_count": 4,
     "metadata": {
      "tags": []
     },
     "output_type": "execute_result"
    }
   ],
   "source": [
    "data.head(20)"
   ]
  },
  {
   "cell_type": "code",
   "execution_count": 0,
   "metadata": {
    "colab": {},
    "colab_type": "code",
    "id": "tfI-6Hv19pUy"
   },
   "outputs": [],
   "source": [
    "#Converting from timestamp to datetime object.\n",
    "\n",
    "from datetime import datetime\n",
    "Time = []\n",
    "for i in list(data[\"Time\"]):\n",
    "  Time.append(datetime.fromtimestamp(i).strftime('%d-%m-%Y'))\n",
    "  \n",
    "data[\"Time\"] = pd.to_datetime(Time)\n",
    "data = data.sort_values(\"Time\") "
   ]
  },
  {
   "cell_type": "code",
   "execution_count": 0,
   "metadata": {
    "colab": {
     "base_uri": "https://localhost:8080/",
     "height": 1978
    },
    "colab_type": "code",
    "id": "wh3OD667rfua",
    "outputId": "1c5925b5-781f-4688-b649-5212c645c26e"
   },
   "outputs": [
    {
     "data": {
      "text/html": [
       "<div>\n",
       "<style scoped>\n",
       "    .dataframe tbody tr th:only-of-type {\n",
       "        vertical-align: middle;\n",
       "    }\n",
       "\n",
       "    .dataframe tbody tr th {\n",
       "        vertical-align: top;\n",
       "    }\n",
       "\n",
       "    .dataframe thead th {\n",
       "        text-align: right;\n",
       "    }\n",
       "</style>\n",
       "<table border=\"1\" class=\"dataframe\">\n",
       "  <thead>\n",
       "    <tr style=\"text-align: right;\">\n",
       "      <th></th>\n",
       "      <th>Id</th>\n",
       "      <th>ProductId</th>\n",
       "      <th>UserId</th>\n",
       "      <th>ProfileName</th>\n",
       "      <th>HelpfulnessNumerator</th>\n",
       "      <th>HelpfulnessDenominator</th>\n",
       "      <th>Score</th>\n",
       "      <th>Time</th>\n",
       "      <th>Summary</th>\n",
       "      <th>Text</th>\n",
       "    </tr>\n",
       "  </thead>\n",
       "  <tbody>\n",
       "    <tr>\n",
       "      <th>451855</th>\n",
       "      <td>451856</td>\n",
       "      <td>B00004CXX9</td>\n",
       "      <td>AIUWLEQ1ADEG5</td>\n",
       "      <td>Elizabeth Medina</td>\n",
       "      <td>0</td>\n",
       "      <td>0</td>\n",
       "      <td>5</td>\n",
       "      <td>1999-02-12</td>\n",
       "      <td>Entertainingl Funny!</td>\n",
       "      <td>Beetlejuice is a well written movie ..... ever...</td>\n",
       "    </tr>\n",
       "    <tr>\n",
       "      <th>230284</th>\n",
       "      <td>230285</td>\n",
       "      <td>B00004RYGX</td>\n",
       "      <td>A344SMIA5JECGM</td>\n",
       "      <td>Vincent P. Ross</td>\n",
       "      <td>1</td>\n",
       "      <td>2</td>\n",
       "      <td>5</td>\n",
       "      <td>1999-06-12</td>\n",
       "      <td>A modern day fairy tale</td>\n",
       "      <td>A twist of rumplestiskin captured on film, sta...</td>\n",
       "    </tr>\n",
       "    <tr>\n",
       "      <th>451877</th>\n",
       "      <td>451878</td>\n",
       "      <td>B00004CXX9</td>\n",
       "      <td>A344SMIA5JECGM</td>\n",
       "      <td>Vincent P. Ross</td>\n",
       "      <td>1</td>\n",
       "      <td>2</td>\n",
       "      <td>5</td>\n",
       "      <td>1999-06-12</td>\n",
       "      <td>A modern day fairy tale</td>\n",
       "      <td>A twist of rumplestiskin captured on film, sta...</td>\n",
       "    </tr>\n",
       "    <tr>\n",
       "      <th>374358</th>\n",
       "      <td>374359</td>\n",
       "      <td>B00004CI84</td>\n",
       "      <td>A344SMIA5JECGM</td>\n",
       "      <td>Vincent P. Ross</td>\n",
       "      <td>1</td>\n",
       "      <td>2</td>\n",
       "      <td>5</td>\n",
       "      <td>1999-06-12</td>\n",
       "      <td>A modern day fairy tale</td>\n",
       "      <td>A twist of rumplestiskin captured on film, sta...</td>\n",
       "    </tr>\n",
       "    <tr>\n",
       "      <th>150523</th>\n",
       "      <td>150524</td>\n",
       "      <td>0006641040</td>\n",
       "      <td>ACITT7DI6IDDL</td>\n",
       "      <td>shari zychinski</td>\n",
       "      <td>0</td>\n",
       "      <td>0</td>\n",
       "      <td>5</td>\n",
       "      <td>1999-08-10</td>\n",
       "      <td>EVERY book is educational</td>\n",
       "      <td>this witty little book makes my son laugh at l...</td>\n",
       "    </tr>\n",
       "    <tr>\n",
       "      <th>150500</th>\n",
       "      <td>150501</td>\n",
       "      <td>0006641040</td>\n",
       "      <td>AJ46FKXOVC7NR</td>\n",
       "      <td>Nicholas A Mesiano</td>\n",
       "      <td>2</td>\n",
       "      <td>2</td>\n",
       "      <td>5</td>\n",
       "      <td>1999-10-25</td>\n",
       "      <td>This whole series is great way to spend time w...</td>\n",
       "      <td>I can remember seeing the show when it aired o...</td>\n",
       "    </tr>\n",
       "    <tr>\n",
       "      <th>230268</th>\n",
       "      <td>230269</td>\n",
       "      <td>B00004RYGX</td>\n",
       "      <td>A1B2IZU1JLZA6</td>\n",
       "      <td>Wes</td>\n",
       "      <td>19</td>\n",
       "      <td>23</td>\n",
       "      <td>1</td>\n",
       "      <td>2000-01-19</td>\n",
       "      <td>WARNING: CLAMSHELL EDITION IS EDITED TV VERSION</td>\n",
       "      <td>I, myself always enjoyed this movie, it's very...</td>\n",
       "    </tr>\n",
       "    <tr>\n",
       "      <th>374342</th>\n",
       "      <td>374343</td>\n",
       "      <td>B00004CI84</td>\n",
       "      <td>A1B2IZU1JLZA6</td>\n",
       "      <td>Wes</td>\n",
       "      <td>19</td>\n",
       "      <td>23</td>\n",
       "      <td>1</td>\n",
       "      <td>2000-01-19</td>\n",
       "      <td>WARNING: CLAMSHELL EDITION IS EDITED TV VERSION</td>\n",
       "      <td>I, myself always enjoyed this movie, it's very...</td>\n",
       "    </tr>\n",
       "    <tr>\n",
       "      <th>451863</th>\n",
       "      <td>451864</td>\n",
       "      <td>B00004CXX9</td>\n",
       "      <td>A1B2IZU1JLZA6</td>\n",
       "      <td>Wes</td>\n",
       "      <td>19</td>\n",
       "      <td>23</td>\n",
       "      <td>1</td>\n",
       "      <td>2000-01-19</td>\n",
       "      <td>WARNING: CLAMSHELL EDITION IS EDITED TV VERSION</td>\n",
       "      <td>I, myself always enjoyed this movie, it's very...</td>\n",
       "    </tr>\n",
       "    <tr>\n",
       "      <th>76881</th>\n",
       "      <td>76882</td>\n",
       "      <td>B00002N8SM</td>\n",
       "      <td>A32DW342WBJ6BX</td>\n",
       "      <td>Buttersugar</td>\n",
       "      <td>0</td>\n",
       "      <td>0</td>\n",
       "      <td>5</td>\n",
       "      <td>2000-01-24</td>\n",
       "      <td>A sure death for flies</td>\n",
       "      <td>I bought a few of these after my apartment was...</td>\n",
       "    </tr>\n",
       "    <tr>\n",
       "      <th>451976</th>\n",
       "      <td>451977</td>\n",
       "      <td>B00004CXX9</td>\n",
       "      <td>ACJR7EQF9S6FP</td>\n",
       "      <td>Jeremy Robertson</td>\n",
       "      <td>2</td>\n",
       "      <td>3</td>\n",
       "      <td>4</td>\n",
       "      <td>2000-02-26</td>\n",
       "      <td>Bettlejuice...Bettlejuice...BETTLEJUICE!</td>\n",
       "      <td>What happens when you say his name three times...</td>\n",
       "    </tr>\n",
       "    <tr>\n",
       "      <th>374449</th>\n",
       "      <td>374450</td>\n",
       "      <td>B00004CI84</td>\n",
       "      <td>ACJR7EQF9S6FP</td>\n",
       "      <td>Jeremy Robertson</td>\n",
       "      <td>2</td>\n",
       "      <td>3</td>\n",
       "      <td>4</td>\n",
       "      <td>2000-02-26</td>\n",
       "      <td>Bettlejuice...Bettlejuice...BETTLEJUICE!</td>\n",
       "      <td>What happens when you say his name three times...</td>\n",
       "    </tr>\n",
       "    <tr>\n",
       "      <th>230375</th>\n",
       "      <td>230376</td>\n",
       "      <td>B00004RYGX</td>\n",
       "      <td>ACJR7EQF9S6FP</td>\n",
       "      <td>Jeremy Robertson</td>\n",
       "      <td>2</td>\n",
       "      <td>3</td>\n",
       "      <td>4</td>\n",
       "      <td>2000-02-26</td>\n",
       "      <td>Bettlejuice...Bettlejuice...BETTLEJUICE!</td>\n",
       "      <td>What happens when you say his name three times...</td>\n",
       "    </tr>\n",
       "    <tr>\n",
       "      <th>451854</th>\n",
       "      <td>451855</td>\n",
       "      <td>B00004CXX9</td>\n",
       "      <td>AJH6LUC1UT1ON</td>\n",
       "      <td>The Phantom of the Opera</td>\n",
       "      <td>0</td>\n",
       "      <td>0</td>\n",
       "      <td>5</td>\n",
       "      <td>2000-03-01</td>\n",
       "      <td>FANTASTIC!</td>\n",
       "      <td>Beetlejuice is an excellent and funny movie. K...</td>\n",
       "    </tr>\n",
       "    <tr>\n",
       "      <th>230325</th>\n",
       "      <td>230326</td>\n",
       "      <td>B00004RYGX</td>\n",
       "      <td>A2DEE7F9XKP3ZR</td>\n",
       "      <td>jerome</td>\n",
       "      <td>0</td>\n",
       "      <td>3</td>\n",
       "      <td>5</td>\n",
       "      <td>2000-03-06</td>\n",
       "      <td>Research - Beatlejuice video - French version</td>\n",
       "      <td>I'm getting crazy.I'm looking for Beatlejuice ...</td>\n",
       "    </tr>\n",
       "    <tr>\n",
       "      <th>451902</th>\n",
       "      <td>451903</td>\n",
       "      <td>B00004CXX9</td>\n",
       "      <td>A2DEE7F9XKP3ZR</td>\n",
       "      <td>jerome</td>\n",
       "      <td>0</td>\n",
       "      <td>1</td>\n",
       "      <td>5</td>\n",
       "      <td>2000-03-06</td>\n",
       "      <td>Research</td>\n",
       "      <td>I'm getting crazy.&lt;p&gt;Is it really impossible t...</td>\n",
       "    </tr>\n",
       "    <tr>\n",
       "      <th>374399</th>\n",
       "      <td>374400</td>\n",
       "      <td>B00004CI84</td>\n",
       "      <td>A2DEE7F9XKP3ZR</td>\n",
       "      <td>jerome</td>\n",
       "      <td>0</td>\n",
       "      <td>3</td>\n",
       "      <td>5</td>\n",
       "      <td>2000-03-06</td>\n",
       "      <td>Research - Beatlejuice video - French version</td>\n",
       "      <td>I'm getting crazy.I'm looking for Beatlejuice ...</td>\n",
       "    </tr>\n",
       "    <tr>\n",
       "      <th>230333</th>\n",
       "      <td>230334</td>\n",
       "      <td>B00004RYGX</td>\n",
       "      <td>A1GB1Q193DNFGR</td>\n",
       "      <td>Bruce Lee Pullen</td>\n",
       "      <td>5</td>\n",
       "      <td>5</td>\n",
       "      <td>5</td>\n",
       "      <td>2000-03-10</td>\n",
       "      <td>Fabulous Comedic Fanasy Directed by a Master</td>\n",
       "      <td>Beetlejuice is an awe-inspiring wonderfully am...</td>\n",
       "    </tr>\n",
       "    <tr>\n",
       "      <th>374407</th>\n",
       "      <td>374408</td>\n",
       "      <td>B00004CI84</td>\n",
       "      <td>A1GB1Q193DNFGR</td>\n",
       "      <td>Bruce Lee Pullen</td>\n",
       "      <td>5</td>\n",
       "      <td>5</td>\n",
       "      <td>5</td>\n",
       "      <td>2000-03-10</td>\n",
       "      <td>Fabulous Comedic Fanasy Directed by a Master</td>\n",
       "      <td>Beetlejuice is an awe-inspiring wonderfully am...</td>\n",
       "    </tr>\n",
       "    <tr>\n",
       "      <th>451934</th>\n",
       "      <td>451935</td>\n",
       "      <td>B00004CXX9</td>\n",
       "      <td>A1GB1Q193DNFGR</td>\n",
       "      <td>Bruce Lee Pullen</td>\n",
       "      <td>5</td>\n",
       "      <td>5</td>\n",
       "      <td>5</td>\n",
       "      <td>2000-03-10</td>\n",
       "      <td>Fabulous Comedic Fanasy Directed by a Master</td>\n",
       "      <td>Beetlejuice is an awe-inspiring wonderfully am...</td>\n",
       "    </tr>\n",
       "  </tbody>\n",
       "</table>\n",
       "</div>"
      ],
      "text/plain": [
       "            Id   ProductId          UserId               ProfileName  \\\n",
       "451855  451856  B00004CXX9   AIUWLEQ1ADEG5          Elizabeth Medina   \n",
       "230284  230285  B00004RYGX  A344SMIA5JECGM           Vincent P. Ross   \n",
       "451877  451878  B00004CXX9  A344SMIA5JECGM           Vincent P. Ross   \n",
       "374358  374359  B00004CI84  A344SMIA5JECGM           Vincent P. Ross   \n",
       "150523  150524  0006641040   ACITT7DI6IDDL           shari zychinski   \n",
       "150500  150501  0006641040   AJ46FKXOVC7NR        Nicholas A Mesiano   \n",
       "230268  230269  B00004RYGX   A1B2IZU1JLZA6                       Wes   \n",
       "374342  374343  B00004CI84   A1B2IZU1JLZA6                       Wes   \n",
       "451863  451864  B00004CXX9   A1B2IZU1JLZA6                       Wes   \n",
       "76881    76882  B00002N8SM  A32DW342WBJ6BX               Buttersugar   \n",
       "451976  451977  B00004CXX9   ACJR7EQF9S6FP          Jeremy Robertson   \n",
       "374449  374450  B00004CI84   ACJR7EQF9S6FP          Jeremy Robertson   \n",
       "230375  230376  B00004RYGX   ACJR7EQF9S6FP          Jeremy Robertson   \n",
       "451854  451855  B00004CXX9   AJH6LUC1UT1ON  The Phantom of the Opera   \n",
       "230325  230326  B00004RYGX  A2DEE7F9XKP3ZR                    jerome   \n",
       "451902  451903  B00004CXX9  A2DEE7F9XKP3ZR                    jerome   \n",
       "374399  374400  B00004CI84  A2DEE7F9XKP3ZR                    jerome   \n",
       "230333  230334  B00004RYGX  A1GB1Q193DNFGR          Bruce Lee Pullen   \n",
       "374407  374408  B00004CI84  A1GB1Q193DNFGR          Bruce Lee Pullen   \n",
       "451934  451935  B00004CXX9  A1GB1Q193DNFGR          Bruce Lee Pullen   \n",
       "\n",
       "        HelpfulnessNumerator  HelpfulnessDenominator  Score       Time  \\\n",
       "451855                     0                       0      5 1999-02-12   \n",
       "230284                     1                       2      5 1999-06-12   \n",
       "451877                     1                       2      5 1999-06-12   \n",
       "374358                     1                       2      5 1999-06-12   \n",
       "150523                     0                       0      5 1999-08-10   \n",
       "150500                     2                       2      5 1999-10-25   \n",
       "230268                    19                      23      1 2000-01-19   \n",
       "374342                    19                      23      1 2000-01-19   \n",
       "451863                    19                      23      1 2000-01-19   \n",
       "76881                      0                       0      5 2000-01-24   \n",
       "451976                     2                       3      4 2000-02-26   \n",
       "374449                     2                       3      4 2000-02-26   \n",
       "230375                     2                       3      4 2000-02-26   \n",
       "451854                     0                       0      5 2000-03-01   \n",
       "230325                     0                       3      5 2000-03-06   \n",
       "451902                     0                       1      5 2000-03-06   \n",
       "374399                     0                       3      5 2000-03-06   \n",
       "230333                     5                       5      5 2000-03-10   \n",
       "374407                     5                       5      5 2000-03-10   \n",
       "451934                     5                       5      5 2000-03-10   \n",
       "\n",
       "                                                  Summary  \\\n",
       "451855                               Entertainingl Funny!   \n",
       "230284                            A modern day fairy tale   \n",
       "451877                            A modern day fairy tale   \n",
       "374358                            A modern day fairy tale   \n",
       "150523                          EVERY book is educational   \n",
       "150500  This whole series is great way to spend time w...   \n",
       "230268    WARNING: CLAMSHELL EDITION IS EDITED TV VERSION   \n",
       "374342    WARNING: CLAMSHELL EDITION IS EDITED TV VERSION   \n",
       "451863    WARNING: CLAMSHELL EDITION IS EDITED TV VERSION   \n",
       "76881                              A sure death for flies   \n",
       "451976           Bettlejuice...Bettlejuice...BETTLEJUICE!   \n",
       "374449           Bettlejuice...Bettlejuice...BETTLEJUICE!   \n",
       "230375           Bettlejuice...Bettlejuice...BETTLEJUICE!   \n",
       "451854                                         FANTASTIC!   \n",
       "230325      Research - Beatlejuice video - French version   \n",
       "451902                                           Research   \n",
       "374399      Research - Beatlejuice video - French version   \n",
       "230333       Fabulous Comedic Fanasy Directed by a Master   \n",
       "374407       Fabulous Comedic Fanasy Directed by a Master   \n",
       "451934       Fabulous Comedic Fanasy Directed by a Master   \n",
       "\n",
       "                                                     Text  \n",
       "451855  Beetlejuice is a well written movie ..... ever...  \n",
       "230284  A twist of rumplestiskin captured on film, sta...  \n",
       "451877  A twist of rumplestiskin captured on film, sta...  \n",
       "374358  A twist of rumplestiskin captured on film, sta...  \n",
       "150523  this witty little book makes my son laugh at l...  \n",
       "150500  I can remember seeing the show when it aired o...  \n",
       "230268  I, myself always enjoyed this movie, it's very...  \n",
       "374342  I, myself always enjoyed this movie, it's very...  \n",
       "451863  I, myself always enjoyed this movie, it's very...  \n",
       "76881   I bought a few of these after my apartment was...  \n",
       "451976  What happens when you say his name three times...  \n",
       "374449  What happens when you say his name three times...  \n",
       "230375  What happens when you say his name three times...  \n",
       "451854  Beetlejuice is an excellent and funny movie. K...  \n",
       "230325  I'm getting crazy.I'm looking for Beatlejuice ...  \n",
       "451902  I'm getting crazy.<p>Is it really impossible t...  \n",
       "374399  I'm getting crazy.I'm looking for Beatlejuice ...  \n",
       "230333  Beetlejuice is an awe-inspiring wonderfully am...  \n",
       "374407  Beetlejuice is an awe-inspiring wonderfully am...  \n",
       "451934  Beetlejuice is an awe-inspiring wonderfully am...  "
      ]
     },
     "execution_count": 6,
     "metadata": {
      "tags": []
     },
     "output_type": "execute_result"
    }
   ],
   "source": [
    "data.head(20)"
   ]
  },
  {
   "cell_type": "code",
   "execution_count": 0,
   "metadata": {
    "colab": {
     "base_uri": "https://localhost:8080/",
     "height": 57
    },
    "colab_type": "code",
    "id": "ij2vya-f6Y3K",
    "outputId": "db28d97a-c973-4a9c-e971-4764aabf0ca7"
   },
   "outputs": [
    {
     "data": {
      "text/plain": [
       "'\\n# Give reviews with Score>3 a positive rating(1), and reviews with a score<3 a negative rating(0).\\ndef partition(x):\\n    if x < 3:\\n        return 0\\n    return 1\\n\\n#changing reviews with score less than 3 to be positive and vice-versa\\n\\ndef data_filter(filtered_data):\\n    actualScore = filtered_data[\\'Score\\']\\n    positiveNegative = actualScore.map(partition) \\n    filtered_data[\\'Score\\'] = positiveNegative\\n    return filtered_data[\"Score\"]\\n\\n\\n#print(\"Number of data points in our data\", filtered_data.shape)\\n#filtered_data.head(3)\\n'"
      ]
     },
     "execution_count": 7,
     "metadata": {
      "tags": []
     },
     "output_type": "execute_result"
    }
   ],
   "source": [
    "# using SQLite Table to read data.\n",
    "con = sqlite3.connect('database.sqlite') \n",
    "\n",
    "# filtering only positive and negative reviews i.e. \n",
    "# not taking into consideration those reviews with Score=3\n",
    "# SELECT * FROM Reviews WHERE Score != 3 LIMIT 500000, will give top 500000 data points\n",
    "# you can change the number to any other number based on your computing power\n",
    "\n",
    "# filtered_data = pd.read_sql_query(\"\"\" SELECT * FROM Reviews WHERE Score != 3 LIMIT 500000\"\"\", con) \n",
    "# for tsne assignment you can take 5k data points\n",
    "\n",
    "\n",
    "filtered_data = data\n",
    "\n",
    "#Reading equal amount of positive and negative data.\n",
    "#filtered_data_1 = data[data[\"Score\"]>3][0:10000]\n",
    "#filtered_data_2 = data[data[\"Score\"]<=2][0:10000]\n",
    "\n",
    "#filtered_data_1[\"Score\"] = data_filter(filtered_data_1)\n",
    "#filtered_data_2[\"Score\"] = data_filter(filtered_data_2)\n",
    "\n",
    "'''\n",
    "# Give reviews with Score>3 a positive rating(1), and reviews with a score<3 a negative rating(0).\n",
    "def partition(x):\n",
    "    if x < 3:\n",
    "        return 0\n",
    "    return 1\n",
    "\n",
    "#changing reviews with score less than 3 to be positive and vice-versa\n",
    "\n",
    "def data_filter(filtered_data):\n",
    "    actualScore = filtered_data['Score']\n",
    "    positiveNegative = actualScore.map(partition) \n",
    "    filtered_data['Score'] = positiveNegative\n",
    "    return filtered_data[\"Score\"]\n",
    "\n",
    "\n",
    "#print(\"Number of data points in our data\", filtered_data.shape)\n",
    "#filtered_data.head(3)\n",
    "'''"
   ]
  },
  {
   "cell_type": "code",
   "execution_count": 0,
   "metadata": {
    "colab": {},
    "colab_type": "code",
    "id": "-MyeRpzO6Y3P"
   },
   "outputs": [],
   "source": []
  },
  {
   "cell_type": "code",
   "execution_count": 0,
   "metadata": {
    "colab": {},
    "colab_type": "code",
    "id": "tCLv1Ce6yZNM"
   },
   "outputs": [],
   "source": []
  },
  {
   "cell_type": "code",
   "execution_count": 0,
   "metadata": {
    "colab": {
     "base_uri": "https://localhost:8080/",
     "height": 57
    },
    "colab_type": "code",
    "id": "iGjB6L4k6Y3R",
    "outputId": "e345c325-a3d4-46f7-97db-0a6367d6a8d0"
   },
   "outputs": [
    {
     "data": {
      "text/plain": [
       "'\\n\\n#Stacking both positive and negative data\\nfiltered_data = filtered_data_1.append(filtered_data_2, ignore_index = True)\\n\\n#Shuffling the data points to mix the data\\nfrom sklearn.utils import shuffle\\nfiltered_data = shuffle(filtered_data)\\n\\n'"
      ]
     },
     "execution_count": 8,
     "metadata": {
      "tags": []
     },
     "output_type": "execute_result"
    }
   ],
   "source": [
    "'''\n",
    "\n",
    "#Stacking both positive and negative data\n",
    "filtered_data = filtered_data_1.append(filtered_data_2, ignore_index = True)\n",
    "\n",
    "#Shuffling the data points to mix the data\n",
    "from sklearn.utils import shuffle\n",
    "filtered_data = shuffle(filtered_data)\n",
    "\n",
    "'''"
   ]
  },
  {
   "cell_type": "code",
   "execution_count": 0,
   "metadata": {
    "colab": {},
    "colab_type": "code",
    "id": "UVRBwZOT54l0"
   },
   "outputs": [],
   "source": [
    "#Calling function partition\n",
    "filtered_data[\"Score\"] = filtered_data[\"Score\"].map(partition)"
   ]
  },
  {
   "cell_type": "code",
   "execution_count": 0,
   "metadata": {
    "colab": {
     "base_uri": "https://localhost:8080/",
     "height": 210
    },
    "colab_type": "code",
    "id": "nQfQPKuh6Y3U",
    "outputId": "065235e7-c6ad-4c50-9382-405f5fbab441"
   },
   "outputs": [
    {
     "name": "stdout",
     "output_type": "stream",
     "text": [
      "Number of data points in our data (568454, 10)\n"
     ]
    },
    {
     "data": {
      "text/html": [
       "<div>\n",
       "<style scoped>\n",
       "    .dataframe tbody tr th:only-of-type {\n",
       "        vertical-align: middle;\n",
       "    }\n",
       "\n",
       "    .dataframe tbody tr th {\n",
       "        vertical-align: top;\n",
       "    }\n",
       "\n",
       "    .dataframe thead th {\n",
       "        text-align: right;\n",
       "    }\n",
       "</style>\n",
       "<table border=\"1\" class=\"dataframe\">\n",
       "  <thead>\n",
       "    <tr style=\"text-align: right;\">\n",
       "      <th></th>\n",
       "      <th>Id</th>\n",
       "      <th>ProductId</th>\n",
       "      <th>UserId</th>\n",
       "      <th>ProfileName</th>\n",
       "      <th>HelpfulnessNumerator</th>\n",
       "      <th>HelpfulnessDenominator</th>\n",
       "      <th>Score</th>\n",
       "      <th>Time</th>\n",
       "      <th>Summary</th>\n",
       "      <th>Text</th>\n",
       "    </tr>\n",
       "  </thead>\n",
       "  <tbody>\n",
       "    <tr>\n",
       "      <th>451855</th>\n",
       "      <td>451856</td>\n",
       "      <td>B00004CXX9</td>\n",
       "      <td>AIUWLEQ1ADEG5</td>\n",
       "      <td>Elizabeth Medina</td>\n",
       "      <td>0</td>\n",
       "      <td>0</td>\n",
       "      <td>1</td>\n",
       "      <td>1999-02-12</td>\n",
       "      <td>Entertainingl Funny!</td>\n",
       "      <td>Beetlejuice is a well written movie ..... ever...</td>\n",
       "    </tr>\n",
       "    <tr>\n",
       "      <th>230284</th>\n",
       "      <td>230285</td>\n",
       "      <td>B00004RYGX</td>\n",
       "      <td>A344SMIA5JECGM</td>\n",
       "      <td>Vincent P. Ross</td>\n",
       "      <td>1</td>\n",
       "      <td>2</td>\n",
       "      <td>1</td>\n",
       "      <td>1999-06-12</td>\n",
       "      <td>A modern day fairy tale</td>\n",
       "      <td>A twist of rumplestiskin captured on film, sta...</td>\n",
       "    </tr>\n",
       "    <tr>\n",
       "      <th>451877</th>\n",
       "      <td>451878</td>\n",
       "      <td>B00004CXX9</td>\n",
       "      <td>A344SMIA5JECGM</td>\n",
       "      <td>Vincent P. Ross</td>\n",
       "      <td>1</td>\n",
       "      <td>2</td>\n",
       "      <td>1</td>\n",
       "      <td>1999-06-12</td>\n",
       "      <td>A modern day fairy tale</td>\n",
       "      <td>A twist of rumplestiskin captured on film, sta...</td>\n",
       "    </tr>\n",
       "  </tbody>\n",
       "</table>\n",
       "</div>"
      ],
      "text/plain": [
       "            Id   ProductId          UserId       ProfileName  \\\n",
       "451855  451856  B00004CXX9   AIUWLEQ1ADEG5  Elizabeth Medina   \n",
       "230284  230285  B00004RYGX  A344SMIA5JECGM   Vincent P. Ross   \n",
       "451877  451878  B00004CXX9  A344SMIA5JECGM   Vincent P. Ross   \n",
       "\n",
       "        HelpfulnessNumerator  HelpfulnessDenominator  Score       Time  \\\n",
       "451855                     0                       0      1 1999-02-12   \n",
       "230284                     1                       2      1 1999-06-12   \n",
       "451877                     1                       2      1 1999-06-12   \n",
       "\n",
       "                        Summary  \\\n",
       "451855     Entertainingl Funny!   \n",
       "230284  A modern day fairy tale   \n",
       "451877  A modern day fairy tale   \n",
       "\n",
       "                                                     Text  \n",
       "451855  Beetlejuice is a well written movie ..... ever...  \n",
       "230284  A twist of rumplestiskin captured on film, sta...  \n",
       "451877  A twist of rumplestiskin captured on film, sta...  "
      ]
     },
     "execution_count": 10,
     "metadata": {
      "tags": []
     },
     "output_type": "execute_result"
    }
   ],
   "source": [
    "print(\"Number of data points in our data\", filtered_data.shape)\n",
    "filtered_data.head(3)"
   ]
  },
  {
   "cell_type": "code",
   "execution_count": 0,
   "metadata": {
    "colab": {
     "base_uri": "https://localhost:8080/",
     "height": 5797
    },
    "colab_type": "code",
    "id": "dVc-nl9h6Y3f",
    "outputId": "1ae44f35-0383-416a-c755-c22c7097212a"
   },
   "outputs": [
    {
     "data": {
      "text/html": [
       "<div>\n",
       "<style scoped>\n",
       "    .dataframe tbody tr th:only-of-type {\n",
       "        vertical-align: middle;\n",
       "    }\n",
       "\n",
       "    .dataframe tbody tr th {\n",
       "        vertical-align: top;\n",
       "    }\n",
       "\n",
       "    .dataframe thead th {\n",
       "        text-align: right;\n",
       "    }\n",
       "</style>\n",
       "<table border=\"1\" class=\"dataframe\">\n",
       "  <thead>\n",
       "    <tr style=\"text-align: right;\">\n",
       "      <th></th>\n",
       "      <th>Id</th>\n",
       "      <th>ProductId</th>\n",
       "      <th>UserId</th>\n",
       "      <th>ProfileName</th>\n",
       "      <th>HelpfulnessNumerator</th>\n",
       "      <th>HelpfulnessDenominator</th>\n",
       "      <th>Score</th>\n",
       "      <th>Time</th>\n",
       "      <th>Summary</th>\n",
       "      <th>Text</th>\n",
       "    </tr>\n",
       "  </thead>\n",
       "  <tbody>\n",
       "    <tr>\n",
       "      <th>0</th>\n",
       "      <td>451856</td>\n",
       "      <td>B00004CXX9</td>\n",
       "      <td>AIUWLEQ1ADEG5</td>\n",
       "      <td>Elizabeth Medina</td>\n",
       "      <td>0</td>\n",
       "      <td>0</td>\n",
       "      <td>1</td>\n",
       "      <td>1999-02-12</td>\n",
       "      <td>Entertainingl Funny!</td>\n",
       "      <td>Beetlejuice is a well written movie ..... ever...</td>\n",
       "    </tr>\n",
       "    <tr>\n",
       "      <th>1</th>\n",
       "      <td>230285</td>\n",
       "      <td>B00004RYGX</td>\n",
       "      <td>A344SMIA5JECGM</td>\n",
       "      <td>Vincent P. Ross</td>\n",
       "      <td>1</td>\n",
       "      <td>2</td>\n",
       "      <td>1</td>\n",
       "      <td>1999-06-12</td>\n",
       "      <td>A modern day fairy tale</td>\n",
       "      <td>A twist of rumplestiskin captured on film, sta...</td>\n",
       "    </tr>\n",
       "    <tr>\n",
       "      <th>2</th>\n",
       "      <td>451878</td>\n",
       "      <td>B00004CXX9</td>\n",
       "      <td>A344SMIA5JECGM</td>\n",
       "      <td>Vincent P. Ross</td>\n",
       "      <td>1</td>\n",
       "      <td>2</td>\n",
       "      <td>1</td>\n",
       "      <td>1999-06-12</td>\n",
       "      <td>A modern day fairy tale</td>\n",
       "      <td>A twist of rumplestiskin captured on film, sta...</td>\n",
       "    </tr>\n",
       "    <tr>\n",
       "      <th>3</th>\n",
       "      <td>374359</td>\n",
       "      <td>B00004CI84</td>\n",
       "      <td>A344SMIA5JECGM</td>\n",
       "      <td>Vincent P. Ross</td>\n",
       "      <td>1</td>\n",
       "      <td>2</td>\n",
       "      <td>1</td>\n",
       "      <td>1999-06-12</td>\n",
       "      <td>A modern day fairy tale</td>\n",
       "      <td>A twist of rumplestiskin captured on film, sta...</td>\n",
       "    </tr>\n",
       "    <tr>\n",
       "      <th>4</th>\n",
       "      <td>150524</td>\n",
       "      <td>0006641040</td>\n",
       "      <td>ACITT7DI6IDDL</td>\n",
       "      <td>shari zychinski</td>\n",
       "      <td>0</td>\n",
       "      <td>0</td>\n",
       "      <td>1</td>\n",
       "      <td>1999-08-10</td>\n",
       "      <td>EVERY book is educational</td>\n",
       "      <td>this witty little book makes my son laugh at l...</td>\n",
       "    </tr>\n",
       "    <tr>\n",
       "      <th>5</th>\n",
       "      <td>150501</td>\n",
       "      <td>0006641040</td>\n",
       "      <td>AJ46FKXOVC7NR</td>\n",
       "      <td>Nicholas A Mesiano</td>\n",
       "      <td>2</td>\n",
       "      <td>2</td>\n",
       "      <td>1</td>\n",
       "      <td>1999-10-25</td>\n",
       "      <td>This whole series is great way to spend time w...</td>\n",
       "      <td>I can remember seeing the show when it aired o...</td>\n",
       "    </tr>\n",
       "    <tr>\n",
       "      <th>6</th>\n",
       "      <td>230269</td>\n",
       "      <td>B00004RYGX</td>\n",
       "      <td>A1B2IZU1JLZA6</td>\n",
       "      <td>Wes</td>\n",
       "      <td>19</td>\n",
       "      <td>23</td>\n",
       "      <td>0</td>\n",
       "      <td>2000-01-19</td>\n",
       "      <td>WARNING: CLAMSHELL EDITION IS EDITED TV VERSION</td>\n",
       "      <td>I, myself always enjoyed this movie, it's very...</td>\n",
       "    </tr>\n",
       "    <tr>\n",
       "      <th>7</th>\n",
       "      <td>374343</td>\n",
       "      <td>B00004CI84</td>\n",
       "      <td>A1B2IZU1JLZA6</td>\n",
       "      <td>Wes</td>\n",
       "      <td>19</td>\n",
       "      <td>23</td>\n",
       "      <td>0</td>\n",
       "      <td>2000-01-19</td>\n",
       "      <td>WARNING: CLAMSHELL EDITION IS EDITED TV VERSION</td>\n",
       "      <td>I, myself always enjoyed this movie, it's very...</td>\n",
       "    </tr>\n",
       "    <tr>\n",
       "      <th>8</th>\n",
       "      <td>451864</td>\n",
       "      <td>B00004CXX9</td>\n",
       "      <td>A1B2IZU1JLZA6</td>\n",
       "      <td>Wes</td>\n",
       "      <td>19</td>\n",
       "      <td>23</td>\n",
       "      <td>0</td>\n",
       "      <td>2000-01-19</td>\n",
       "      <td>WARNING: CLAMSHELL EDITION IS EDITED TV VERSION</td>\n",
       "      <td>I, myself always enjoyed this movie, it's very...</td>\n",
       "    </tr>\n",
       "    <tr>\n",
       "      <th>9</th>\n",
       "      <td>76882</td>\n",
       "      <td>B00002N8SM</td>\n",
       "      <td>A32DW342WBJ6BX</td>\n",
       "      <td>Buttersugar</td>\n",
       "      <td>0</td>\n",
       "      <td>0</td>\n",
       "      <td>1</td>\n",
       "      <td>2000-01-24</td>\n",
       "      <td>A sure death for flies</td>\n",
       "      <td>I bought a few of these after my apartment was...</td>\n",
       "    </tr>\n",
       "    <tr>\n",
       "      <th>10</th>\n",
       "      <td>451977</td>\n",
       "      <td>B00004CXX9</td>\n",
       "      <td>ACJR7EQF9S6FP</td>\n",
       "      <td>Jeremy Robertson</td>\n",
       "      <td>2</td>\n",
       "      <td>3</td>\n",
       "      <td>1</td>\n",
       "      <td>2000-02-26</td>\n",
       "      <td>Bettlejuice...Bettlejuice...BETTLEJUICE!</td>\n",
       "      <td>What happens when you say his name three times...</td>\n",
       "    </tr>\n",
       "    <tr>\n",
       "      <th>11</th>\n",
       "      <td>374450</td>\n",
       "      <td>B00004CI84</td>\n",
       "      <td>ACJR7EQF9S6FP</td>\n",
       "      <td>Jeremy Robertson</td>\n",
       "      <td>2</td>\n",
       "      <td>3</td>\n",
       "      <td>1</td>\n",
       "      <td>2000-02-26</td>\n",
       "      <td>Bettlejuice...Bettlejuice...BETTLEJUICE!</td>\n",
       "      <td>What happens when you say his name three times...</td>\n",
       "    </tr>\n",
       "    <tr>\n",
       "      <th>12</th>\n",
       "      <td>230376</td>\n",
       "      <td>B00004RYGX</td>\n",
       "      <td>ACJR7EQF9S6FP</td>\n",
       "      <td>Jeremy Robertson</td>\n",
       "      <td>2</td>\n",
       "      <td>3</td>\n",
       "      <td>1</td>\n",
       "      <td>2000-02-26</td>\n",
       "      <td>Bettlejuice...Bettlejuice...BETTLEJUICE!</td>\n",
       "      <td>What happens when you say his name three times...</td>\n",
       "    </tr>\n",
       "    <tr>\n",
       "      <th>13</th>\n",
       "      <td>451855</td>\n",
       "      <td>B00004CXX9</td>\n",
       "      <td>AJH6LUC1UT1ON</td>\n",
       "      <td>The Phantom of the Opera</td>\n",
       "      <td>0</td>\n",
       "      <td>0</td>\n",
       "      <td>1</td>\n",
       "      <td>2000-03-01</td>\n",
       "      <td>FANTASTIC!</td>\n",
       "      <td>Beetlejuice is an excellent and funny movie. K...</td>\n",
       "    </tr>\n",
       "    <tr>\n",
       "      <th>14</th>\n",
       "      <td>230326</td>\n",
       "      <td>B00004RYGX</td>\n",
       "      <td>A2DEE7F9XKP3ZR</td>\n",
       "      <td>jerome</td>\n",
       "      <td>0</td>\n",
       "      <td>3</td>\n",
       "      <td>1</td>\n",
       "      <td>2000-03-06</td>\n",
       "      <td>Research - Beatlejuice video - French version</td>\n",
       "      <td>I'm getting crazy.I'm looking for Beatlejuice ...</td>\n",
       "    </tr>\n",
       "    <tr>\n",
       "      <th>15</th>\n",
       "      <td>451903</td>\n",
       "      <td>B00004CXX9</td>\n",
       "      <td>A2DEE7F9XKP3ZR</td>\n",
       "      <td>jerome</td>\n",
       "      <td>0</td>\n",
       "      <td>1</td>\n",
       "      <td>1</td>\n",
       "      <td>2000-03-06</td>\n",
       "      <td>Research</td>\n",
       "      <td>I'm getting crazy.&lt;p&gt;Is it really impossible t...</td>\n",
       "    </tr>\n",
       "    <tr>\n",
       "      <th>16</th>\n",
       "      <td>374400</td>\n",
       "      <td>B00004CI84</td>\n",
       "      <td>A2DEE7F9XKP3ZR</td>\n",
       "      <td>jerome</td>\n",
       "      <td>0</td>\n",
       "      <td>3</td>\n",
       "      <td>1</td>\n",
       "      <td>2000-03-06</td>\n",
       "      <td>Research - Beatlejuice video - French version</td>\n",
       "      <td>I'm getting crazy.I'm looking for Beatlejuice ...</td>\n",
       "    </tr>\n",
       "    <tr>\n",
       "      <th>17</th>\n",
       "      <td>230334</td>\n",
       "      <td>B00004RYGX</td>\n",
       "      <td>A1GB1Q193DNFGR</td>\n",
       "      <td>Bruce Lee Pullen</td>\n",
       "      <td>5</td>\n",
       "      <td>5</td>\n",
       "      <td>1</td>\n",
       "      <td>2000-03-10</td>\n",
       "      <td>Fabulous Comedic Fanasy Directed by a Master</td>\n",
       "      <td>Beetlejuice is an awe-inspiring wonderfully am...</td>\n",
       "    </tr>\n",
       "    <tr>\n",
       "      <th>18</th>\n",
       "      <td>374408</td>\n",
       "      <td>B00004CI84</td>\n",
       "      <td>A1GB1Q193DNFGR</td>\n",
       "      <td>Bruce Lee Pullen</td>\n",
       "      <td>5</td>\n",
       "      <td>5</td>\n",
       "      <td>1</td>\n",
       "      <td>2000-03-10</td>\n",
       "      <td>Fabulous Comedic Fanasy Directed by a Master</td>\n",
       "      <td>Beetlejuice is an awe-inspiring wonderfully am...</td>\n",
       "    </tr>\n",
       "    <tr>\n",
       "      <th>19</th>\n",
       "      <td>451935</td>\n",
       "      <td>B00004CXX9</td>\n",
       "      <td>A1GB1Q193DNFGR</td>\n",
       "      <td>Bruce Lee Pullen</td>\n",
       "      <td>5</td>\n",
       "      <td>5</td>\n",
       "      <td>1</td>\n",
       "      <td>2000-03-10</td>\n",
       "      <td>Fabulous Comedic Fanasy Directed by a Master</td>\n",
       "      <td>Beetlejuice is an awe-inspiring wonderfully am...</td>\n",
       "    </tr>\n",
       "    <tr>\n",
       "      <th>20</th>\n",
       "      <td>149768</td>\n",
       "      <td>B00004S1C5</td>\n",
       "      <td>A7P76IGRZZBFJ</td>\n",
       "      <td>E. Thompson \"Soooooper Genius\"</td>\n",
       "      <td>18</td>\n",
       "      <td>18</td>\n",
       "      <td>1</td>\n",
       "      <td>2000-05-12</td>\n",
       "      <td>Who Needs Wilton?</td>\n",
       "      <td>I'm sick of scads of nasty toothpicks all over...</td>\n",
       "    </tr>\n",
       "    <tr>\n",
       "      <th>21</th>\n",
       "      <td>1245</td>\n",
       "      <td>B00002Z754</td>\n",
       "      <td>A29Z5PI9BW2PU3</td>\n",
       "      <td>Robbie</td>\n",
       "      <td>7</td>\n",
       "      <td>7</td>\n",
       "      <td>1</td>\n",
       "      <td>2000-06-23</td>\n",
       "      <td>Great Product</td>\n",
       "      <td>This was a really good idea and the final prod...</td>\n",
       "    </tr>\n",
       "    <tr>\n",
       "      <th>22</th>\n",
       "      <td>1244</td>\n",
       "      <td>B00002Z754</td>\n",
       "      <td>A3B8RCEI0FXFI6</td>\n",
       "      <td>B G Chase</td>\n",
       "      <td>10</td>\n",
       "      <td>10</td>\n",
       "      <td>1</td>\n",
       "      <td>2000-06-29</td>\n",
       "      <td>WOW Make your own 'slickers' !</td>\n",
       "      <td>I just received my shipment and could hardly w...</td>\n",
       "    </tr>\n",
       "    <tr>\n",
       "      <th>23</th>\n",
       "      <td>131217</td>\n",
       "      <td>B00004RAMX</td>\n",
       "      <td>A5NQLNC6QPGSI</td>\n",
       "      <td>Kim Nason</td>\n",
       "      <td>7</td>\n",
       "      <td>8</td>\n",
       "      <td>1</td>\n",
       "      <td>2000-07-31</td>\n",
       "      <td>End your Gopher Problems</td>\n",
       "      <td>I have just recently purchased the Woodstream ...</td>\n",
       "    </tr>\n",
       "    <tr>\n",
       "      <th>24</th>\n",
       "      <td>451948</td>\n",
       "      <td>B00004CXX9</td>\n",
       "      <td>A1FJOY14X3MUHE</td>\n",
       "      <td>Justin Howard</td>\n",
       "      <td>2</td>\n",
       "      <td>2</td>\n",
       "      <td>1</td>\n",
       "      <td>2000-08-15</td>\n",
       "      <td>A fresh, original film from master storyteller...</td>\n",
       "      <td>This is such a great film, I don't even know h...</td>\n",
       "    </tr>\n",
       "    <tr>\n",
       "      <th>25</th>\n",
       "      <td>374421</td>\n",
       "      <td>B00004CI84</td>\n",
       "      <td>A1FJOY14X3MUHE</td>\n",
       "      <td>Justin Howard</td>\n",
       "      <td>2</td>\n",
       "      <td>2</td>\n",
       "      <td>1</td>\n",
       "      <td>2000-08-15</td>\n",
       "      <td>A fresh, original film from master storyteller...</td>\n",
       "      <td>This is such a great film, I don't even know h...</td>\n",
       "    </tr>\n",
       "    <tr>\n",
       "      <th>26</th>\n",
       "      <td>230347</td>\n",
       "      <td>B00004RYGX</td>\n",
       "      <td>A1FJOY14X3MUHE</td>\n",
       "      <td>Justin Howard</td>\n",
       "      <td>2</td>\n",
       "      <td>2</td>\n",
       "      <td>1</td>\n",
       "      <td>2000-08-15</td>\n",
       "      <td>A fresh, original film from master storyteller...</td>\n",
       "      <td>This is such a great film, I don't even know h...</td>\n",
       "    </tr>\n",
       "    <tr>\n",
       "      <th>27</th>\n",
       "      <td>374422</td>\n",
       "      <td>B00004CI84</td>\n",
       "      <td>A1048CYU0OV4O8</td>\n",
       "      <td>Judy L. Eans</td>\n",
       "      <td>2</td>\n",
       "      <td>2</td>\n",
       "      <td>1</td>\n",
       "      <td>2000-09-01</td>\n",
       "      <td>GREAT</td>\n",
       "      <td>THIS IS ONE MOVIE THAT SHOULD BE IN YOUR MOVIE...</td>\n",
       "    </tr>\n",
       "    <tr>\n",
       "      <th>28</th>\n",
       "      <td>230348</td>\n",
       "      <td>B00004RYGX</td>\n",
       "      <td>A1048CYU0OV4O8</td>\n",
       "      <td>Judy L. Eans</td>\n",
       "      <td>2</td>\n",
       "      <td>2</td>\n",
       "      <td>1</td>\n",
       "      <td>2000-09-01</td>\n",
       "      <td>GREAT</td>\n",
       "      <td>THIS IS ONE MOVIE THAT SHOULD BE IN YOUR MOVIE...</td>\n",
       "    </tr>\n",
       "    <tr>\n",
       "      <th>29</th>\n",
       "      <td>451949</td>\n",
       "      <td>B00004CXX9</td>\n",
       "      <td>A1048CYU0OV4O8</td>\n",
       "      <td>Judy L. Eans</td>\n",
       "      <td>2</td>\n",
       "      <td>2</td>\n",
       "      <td>1</td>\n",
       "      <td>2000-09-01</td>\n",
       "      <td>GREAT</td>\n",
       "      <td>THIS IS ONE MOVIE THAT SHOULD BE IN YOUR MOVIE...</td>\n",
       "    </tr>\n",
       "    <tr>\n",
       "      <th>...</th>\n",
       "      <td>...</td>\n",
       "      <td>...</td>\n",
       "      <td>...</td>\n",
       "      <td>...</td>\n",
       "      <td>...</td>\n",
       "      <td>...</td>\n",
       "      <td>...</td>\n",
       "      <td>...</td>\n",
       "      <td>...</td>\n",
       "      <td>...</td>\n",
       "    </tr>\n",
       "    <tr>\n",
       "      <th>568424</th>\n",
       "      <td>17883</td>\n",
       "      <td>B001EO653M</td>\n",
       "      <td>A3IGARBJ4SE9EQ</td>\n",
       "      <td>Arielle M.</td>\n",
       "      <td>0</td>\n",
       "      <td>0</td>\n",
       "      <td>1</td>\n",
       "      <td>2012-12-10</td>\n",
       "      <td>delicious, full-flavored cocoa mix</td>\n",
       "      <td>This is probably the best-tasting cocoa I've e...</td>\n",
       "    </tr>\n",
       "    <tr>\n",
       "      <th>568425</th>\n",
       "      <td>200504</td>\n",
       "      <td>B007PXI6CO</td>\n",
       "      <td>A1007OFJTJRYII</td>\n",
       "      <td>Jan</td>\n",
       "      <td>0</td>\n",
       "      <td>0</td>\n",
       "      <td>1</td>\n",
       "      <td>2012-12-10</td>\n",
       "      <td>salty caramels</td>\n",
       "      <td>These were the best caramels I have ever eaten...</td>\n",
       "    </tr>\n",
       "    <tr>\n",
       "      <th>568426</th>\n",
       "      <td>275087</td>\n",
       "      <td>B000FF3V06</td>\n",
       "      <td>A3EEJG97L9YIAB</td>\n",
       "      <td>Linda</td>\n",
       "      <td>0</td>\n",
       "      <td>0</td>\n",
       "      <td>1</td>\n",
       "      <td>2012-12-10</td>\n",
       "      <td>Dare to be Pleased</td>\n",
       "      <td>Cookies are delicious and make a nice after di...</td>\n",
       "    </tr>\n",
       "    <tr>\n",
       "      <th>568427</th>\n",
       "      <td>566827</td>\n",
       "      <td>B001PQTYN2</td>\n",
       "      <td>AR4GVRPKO4MBL</td>\n",
       "      <td>ShahinX1</td>\n",
       "      <td>0</td>\n",
       "      <td>0</td>\n",
       "      <td>1</td>\n",
       "      <td>2012-12-10</td>\n",
       "      <td>Not all that...</td>\n",
       "      <td>To those of you who tried this and wrote a lif...</td>\n",
       "    </tr>\n",
       "    <tr>\n",
       "      <th>568428</th>\n",
       "      <td>201918</td>\n",
       "      <td>B009062AQW</td>\n",
       "      <td>ARUJ8B1HTISK0</td>\n",
       "      <td>Blondie</td>\n",
       "      <td>0</td>\n",
       "      <td>0</td>\n",
       "      <td>1</td>\n",
       "      <td>2012-12-10</td>\n",
       "      <td>Good hearty flavor</td>\n",
       "      <td>The family loved every bite. I'll be trying al...</td>\n",
       "    </tr>\n",
       "    <tr>\n",
       "      <th>568429</th>\n",
       "      <td>201995</td>\n",
       "      <td>B000LQL9M6</td>\n",
       "      <td>AI2R6R7UP4NYB</td>\n",
       "      <td>Sparky</td>\n",
       "      <td>0</td>\n",
       "      <td>0</td>\n",
       "      <td>1</td>\n",
       "      <td>2012-12-10</td>\n",
       "      <td>Great for Baklava</td>\n",
       "      <td>Great size for the occasional user who must ha...</td>\n",
       "    </tr>\n",
       "    <tr>\n",
       "      <th>568430</th>\n",
       "      <td>549437</td>\n",
       "      <td>B004TGZRJA</td>\n",
       "      <td>A2GDTF5XZFVW2G</td>\n",
       "      <td>Kirk Henry \"old school\"</td>\n",
       "      <td>0</td>\n",
       "      <td>0</td>\n",
       "      <td>1</td>\n",
       "      <td>2012-12-10</td>\n",
       "      <td>LUV This Coffee!</td>\n",
       "      <td>I'm a big time coffee drinker and I tend to li...</td>\n",
       "    </tr>\n",
       "    <tr>\n",
       "      <th>568431</th>\n",
       "      <td>513699</td>\n",
       "      <td>B000VK33C6</td>\n",
       "      <td>A3LRLNH9WJDQY6</td>\n",
       "      <td>Diane Milan</td>\n",
       "      <td>0</td>\n",
       "      <td>0</td>\n",
       "      <td>1</td>\n",
       "      <td>2012-12-10</td>\n",
       "      <td>Healthier</td>\n",
       "      <td>I feel better about feeding this product to my...</td>\n",
       "    </tr>\n",
       "    <tr>\n",
       "      <th>568432</th>\n",
       "      <td>203834</td>\n",
       "      <td>B000VK4CTO</td>\n",
       "      <td>A1V5J0VTEL8DS8</td>\n",
       "      <td>Peter</td>\n",
       "      <td>0</td>\n",
       "      <td>0</td>\n",
       "      <td>0</td>\n",
       "      <td>2012-12-10</td>\n",
       "      <td>A treat they won't eat</td>\n",
       "      <td>My two kittens (6 &amp; 7 Months) don't even think...</td>\n",
       "    </tr>\n",
       "    <tr>\n",
       "      <th>568433</th>\n",
       "      <td>377295</td>\n",
       "      <td>B004VLWASE</td>\n",
       "      <td>A36DVRTEHDJKNP</td>\n",
       "      <td>Steve</td>\n",
       "      <td>0</td>\n",
       "      <td>0</td>\n",
       "      <td>1</td>\n",
       "      <td>2012-12-10</td>\n",
       "      <td>non-wheat crackers</td>\n",
       "      <td>I've tried the other lentil crackersw in a que...</td>\n",
       "    </tr>\n",
       "    <tr>\n",
       "      <th>568434</th>\n",
       "      <td>330098</td>\n",
       "      <td>B001OHX1ZY</td>\n",
       "      <td>A88XJQH33JG01</td>\n",
       "      <td>maryann</td>\n",
       "      <td>0</td>\n",
       "      <td>0</td>\n",
       "      <td>1</td>\n",
       "      <td>2012-12-10</td>\n",
       "      <td>best buy on hemp protein powder</td>\n",
       "      <td>This is the best way to buy Nutiva Organic Hem...</td>\n",
       "    </tr>\n",
       "    <tr>\n",
       "      <th>568435</th>\n",
       "      <td>377319</td>\n",
       "      <td>B001IAQ8KC</td>\n",
       "      <td>AQO4BNFU7T4EH</td>\n",
       "      <td>Andrew P Freese</td>\n",
       "      <td>0</td>\n",
       "      <td>0</td>\n",
       "      <td>1</td>\n",
       "      <td>2012-12-10</td>\n",
       "      <td>Not Hot</td>\n",
       "      <td>Product claims to be \"Extra Hot\".&lt;br /&gt;It's no...</td>\n",
       "    </tr>\n",
       "    <tr>\n",
       "      <th>568436</th>\n",
       "      <td>203701</td>\n",
       "      <td>B004AW1Z94</td>\n",
       "      <td>A1D6FDBK9FJI8C</td>\n",
       "      <td>Jason Mark</td>\n",
       "      <td>0</td>\n",
       "      <td>0</td>\n",
       "      <td>0</td>\n",
       "      <td>2012-12-10</td>\n",
       "      <td>I think this is a scam</td>\n",
       "      <td>it's advertised as 21oz, but they sent me an 1...</td>\n",
       "    </tr>\n",
       "    <tr>\n",
       "      <th>568437</th>\n",
       "      <td>432397</td>\n",
       "      <td>B003A199AI</td>\n",
       "      <td>A2VI7ZC4CWDUPW</td>\n",
       "      <td>Vanessa Close</td>\n",
       "      <td>2</td>\n",
       "      <td>2</td>\n",
       "      <td>1</td>\n",
       "      <td>2012-12-10</td>\n",
       "      <td>Absolutely Love These</td>\n",
       "      <td>I like to try new things and when I came acros...</td>\n",
       "    </tr>\n",
       "    <tr>\n",
       "      <th>568438</th>\n",
       "      <td>432396</td>\n",
       "      <td>B003A199AI</td>\n",
       "      <td>A3F0WUGQIS488X</td>\n",
       "      <td>Daniel L</td>\n",
       "      <td>2</td>\n",
       "      <td>2</td>\n",
       "      <td>1</td>\n",
       "      <td>2012-12-10</td>\n",
       "      <td>Perfect for Eating without Expanding!</td>\n",
       "      <td>I love these !&lt;br /&gt; I always crave salty/ cru...</td>\n",
       "    </tr>\n",
       "    <tr>\n",
       "      <th>568439</th>\n",
       "      <td>80520</td>\n",
       "      <td>B008ADQYYU</td>\n",
       "      <td>A2DKVL26ZX0WGS</td>\n",
       "      <td>Sil</td>\n",
       "      <td>0</td>\n",
       "      <td>0</td>\n",
       "      <td>1</td>\n",
       "      <td>2012-12-10</td>\n",
       "      <td>Terrific Rasberry!</td>\n",
       "      <td>So I just have to say this matcha is delicious...</td>\n",
       "    </tr>\n",
       "    <tr>\n",
       "      <th>568440</th>\n",
       "      <td>50682</td>\n",
       "      <td>B007PQTIRI</td>\n",
       "      <td>A2XWFSMXJ1RR0R</td>\n",
       "      <td>Mel M.</td>\n",
       "      <td>0</td>\n",
       "      <td>0</td>\n",
       "      <td>1</td>\n",
       "      <td>2012-12-10</td>\n",
       "      <td>Robust coconut flavor</td>\n",
       "      <td>Finally!  A delicious coconut cereal.  And it'...</td>\n",
       "    </tr>\n",
       "    <tr>\n",
       "      <th>568441</th>\n",
       "      <td>398671</td>\n",
       "      <td>B001D09KAM</td>\n",
       "      <td>AUS545VE0P2J1</td>\n",
       "      <td>Paul</td>\n",
       "      <td>0</td>\n",
       "      <td>0</td>\n",
       "      <td>1</td>\n",
       "      <td>2012-12-10</td>\n",
       "      <td>Try frozen</td>\n",
       "      <td>I just finished my second box of the dark choc...</td>\n",
       "    </tr>\n",
       "    <tr>\n",
       "      <th>568442</th>\n",
       "      <td>80622</td>\n",
       "      <td>B000WFKHN8</td>\n",
       "      <td>A29FD8FJONPAJ</td>\n",
       "      <td>Baxter \"Uru\"</td>\n",
       "      <td>0</td>\n",
       "      <td>0</td>\n",
       "      <td>1</td>\n",
       "      <td>2012-12-10</td>\n",
       "      <td>My three cats love it!</td>\n",
       "      <td>I have three cats all varying in age. My oldes...</td>\n",
       "    </tr>\n",
       "    <tr>\n",
       "      <th>568443</th>\n",
       "      <td>254881</td>\n",
       "      <td>B007PA32L2</td>\n",
       "      <td>A2ZOKXJOQULWXS</td>\n",
       "      <td>marie johnston</td>\n",
       "      <td>0</td>\n",
       "      <td>0</td>\n",
       "      <td>1</td>\n",
       "      <td>2012-12-10</td>\n",
       "      <td>pumpkin spice K Cup Coffee</td>\n",
       "      <td>My husband LOVES this coffee, we didn't order ...</td>\n",
       "    </tr>\n",
       "    <tr>\n",
       "      <th>568444</th>\n",
       "      <td>398672</td>\n",
       "      <td>B001D09KAM</td>\n",
       "      <td>A2TKFP9YMPASAS</td>\n",
       "      <td>sammy3856</td>\n",
       "      <td>0</td>\n",
       "      <td>0</td>\n",
       "      <td>1</td>\n",
       "      <td>2012-12-10</td>\n",
       "      <td>Kind Bars from Amazon</td>\n",
       "      <td>The Kind Cranberry Almond bars are healthy for...</td>\n",
       "    </tr>\n",
       "    <tr>\n",
       "      <th>568445</th>\n",
       "      <td>254880</td>\n",
       "      <td>B007PA32L2</td>\n",
       "      <td>A3JK142YXC2RGK</td>\n",
       "      <td>judaicagirl \"Dalia L.\"</td>\n",
       "      <td>0</td>\n",
       "      <td>0</td>\n",
       "      <td>0</td>\n",
       "      <td>2012-12-10</td>\n",
       "      <td>Tastes like Constant Comment Tea</td>\n",
       "      <td>High hopes for this product, but it is very we...</td>\n",
       "    </tr>\n",
       "    <tr>\n",
       "      <th>568446</th>\n",
       "      <td>254879</td>\n",
       "      <td>B007PA32L2</td>\n",
       "      <td>A2EJ1GFUFYUEBM</td>\n",
       "      <td>michael crow</td>\n",
       "      <td>0</td>\n",
       "      <td>0</td>\n",
       "      <td>0</td>\n",
       "      <td>2012-12-10</td>\n",
       "      <td>bad</td>\n",
       "      <td>i bought a 24 pack, thinking it would be good....</td>\n",
       "    </tr>\n",
       "    <tr>\n",
       "      <th>568447</th>\n",
       "      <td>377320</td>\n",
       "      <td>B001IAQ8KC</td>\n",
       "      <td>A1JXRHA7PD04ZF</td>\n",
       "      <td>John</td>\n",
       "      <td>0</td>\n",
       "      <td>0</td>\n",
       "      <td>1</td>\n",
       "      <td>2012-12-10</td>\n",
       "      <td>Good stuff</td>\n",
       "      <td>I have used this product for years.  It is the...</td>\n",
       "    </tr>\n",
       "    <tr>\n",
       "      <th>568448</th>\n",
       "      <td>274819</td>\n",
       "      <td>B005VOOOM0</td>\n",
       "      <td>AZS3RRB62EJVP</td>\n",
       "      <td>Dg7023</td>\n",
       "      <td>0</td>\n",
       "      <td>0</td>\n",
       "      <td>1</td>\n",
       "      <td>2012-12-10</td>\n",
       "      <td>Great tasting protein bars!</td>\n",
       "      <td>I've been paying a lot for protein bars that h...</td>\n",
       "    </tr>\n",
       "    <tr>\n",
       "      <th>568449</th>\n",
       "      <td>305646</td>\n",
       "      <td>B001ELL4E0</td>\n",
       "      <td>AZ3EHLAKPMUU6</td>\n",
       "      <td>bigtiger</td>\n",
       "      <td>0</td>\n",
       "      <td>0</td>\n",
       "      <td>1</td>\n",
       "      <td>2012-12-10</td>\n",
       "      <td>Cereal</td>\n",
       "      <td>I enjoy waking up and eating this oatmeal it i...</td>\n",
       "    </tr>\n",
       "    <tr>\n",
       "      <th>568450</th>\n",
       "      <td>202269</td>\n",
       "      <td>B000P0QHOI</td>\n",
       "      <td>AN4FZJKFHMAS0</td>\n",
       "      <td>Dawn E. Curran</td>\n",
       "      <td>0</td>\n",
       "      <td>0</td>\n",
       "      <td>1</td>\n",
       "      <td>2012-12-10</td>\n",
       "      <td>Great Licorice</td>\n",
       "      <td>This Lucky Country Licorice is some of the bes...</td>\n",
       "    </tr>\n",
       "    <tr>\n",
       "      <th>568451</th>\n",
       "      <td>106712</td>\n",
       "      <td>B001HTG6E2</td>\n",
       "      <td>A29Y8V009MI4G5</td>\n",
       "      <td>Cate</td>\n",
       "      <td>0</td>\n",
       "      <td>0</td>\n",
       "      <td>1</td>\n",
       "      <td>2012-12-10</td>\n",
       "      <td>Delicious treat!</td>\n",
       "      <td>These jelly beans are a treat for my daughter-...</td>\n",
       "    </tr>\n",
       "    <tr>\n",
       "      <th>568452</th>\n",
       "      <td>465911</td>\n",
       "      <td>B005OU6UD2</td>\n",
       "      <td>A2550XGZEFDH2Y</td>\n",
       "      <td>Melanie G. Nihart \"Grammy\"</td>\n",
       "      <td>0</td>\n",
       "      <td>0</td>\n",
       "      <td>0</td>\n",
       "      <td>2012-12-10</td>\n",
       "      <td>Small dog chew</td>\n",
       "      <td>Both of my dogs did not want it.  The chew was...</td>\n",
       "    </tr>\n",
       "    <tr>\n",
       "      <th>568453</th>\n",
       "      <td>424141</td>\n",
       "      <td>B000EMK53G</td>\n",
       "      <td>A2B7BUH8834Y6M</td>\n",
       "      <td>Shelley Gammon \"Geek\"</td>\n",
       "      <td>0</td>\n",
       "      <td>0</td>\n",
       "      <td>1</td>\n",
       "      <td>2012-12-10</td>\n",
       "      <td>Shockingly good - even if you're not a fan of ...</td>\n",
       "      <td>I discovered this bar quite by accident in the...</td>\n",
       "    </tr>\n",
       "  </tbody>\n",
       "</table>\n",
       "<p>568454 rows × 10 columns</p>\n",
       "</div>"
      ],
      "text/plain": [
       "            Id   ProductId          UserId                     ProfileName  \\\n",
       "0       451856  B00004CXX9   AIUWLEQ1ADEG5                Elizabeth Medina   \n",
       "1       230285  B00004RYGX  A344SMIA5JECGM                 Vincent P. Ross   \n",
       "2       451878  B00004CXX9  A344SMIA5JECGM                 Vincent P. Ross   \n",
       "3       374359  B00004CI84  A344SMIA5JECGM                 Vincent P. Ross   \n",
       "4       150524  0006641040   ACITT7DI6IDDL                 shari zychinski   \n",
       "5       150501  0006641040   AJ46FKXOVC7NR              Nicholas A Mesiano   \n",
       "6       230269  B00004RYGX   A1B2IZU1JLZA6                             Wes   \n",
       "7       374343  B00004CI84   A1B2IZU1JLZA6                             Wes   \n",
       "8       451864  B00004CXX9   A1B2IZU1JLZA6                             Wes   \n",
       "9        76882  B00002N8SM  A32DW342WBJ6BX                     Buttersugar   \n",
       "10      451977  B00004CXX9   ACJR7EQF9S6FP                Jeremy Robertson   \n",
       "11      374450  B00004CI84   ACJR7EQF9S6FP                Jeremy Robertson   \n",
       "12      230376  B00004RYGX   ACJR7EQF9S6FP                Jeremy Robertson   \n",
       "13      451855  B00004CXX9   AJH6LUC1UT1ON        The Phantom of the Opera   \n",
       "14      230326  B00004RYGX  A2DEE7F9XKP3ZR                          jerome   \n",
       "15      451903  B00004CXX9  A2DEE7F9XKP3ZR                          jerome   \n",
       "16      374400  B00004CI84  A2DEE7F9XKP3ZR                          jerome   \n",
       "17      230334  B00004RYGX  A1GB1Q193DNFGR                Bruce Lee Pullen   \n",
       "18      374408  B00004CI84  A1GB1Q193DNFGR                Bruce Lee Pullen   \n",
       "19      451935  B00004CXX9  A1GB1Q193DNFGR                Bruce Lee Pullen   \n",
       "20      149768  B00004S1C5   A7P76IGRZZBFJ  E. Thompson \"Soooooper Genius\"   \n",
       "21        1245  B00002Z754  A29Z5PI9BW2PU3                          Robbie   \n",
       "22        1244  B00002Z754  A3B8RCEI0FXFI6                       B G Chase   \n",
       "23      131217  B00004RAMX   A5NQLNC6QPGSI                       Kim Nason   \n",
       "24      451948  B00004CXX9  A1FJOY14X3MUHE                   Justin Howard   \n",
       "25      374421  B00004CI84  A1FJOY14X3MUHE                   Justin Howard   \n",
       "26      230347  B00004RYGX  A1FJOY14X3MUHE                   Justin Howard   \n",
       "27      374422  B00004CI84  A1048CYU0OV4O8                    Judy L. Eans   \n",
       "28      230348  B00004RYGX  A1048CYU0OV4O8                    Judy L. Eans   \n",
       "29      451949  B00004CXX9  A1048CYU0OV4O8                    Judy L. Eans   \n",
       "...        ...         ...             ...                             ...   \n",
       "568424   17883  B001EO653M  A3IGARBJ4SE9EQ                      Arielle M.   \n",
       "568425  200504  B007PXI6CO  A1007OFJTJRYII                             Jan   \n",
       "568426  275087  B000FF3V06  A3EEJG97L9YIAB                           Linda   \n",
       "568427  566827  B001PQTYN2   AR4GVRPKO4MBL                        ShahinX1   \n",
       "568428  201918  B009062AQW   ARUJ8B1HTISK0                         Blondie   \n",
       "568429  201995  B000LQL9M6   AI2R6R7UP4NYB                          Sparky   \n",
       "568430  549437  B004TGZRJA  A2GDTF5XZFVW2G         Kirk Henry \"old school\"   \n",
       "568431  513699  B000VK33C6  A3LRLNH9WJDQY6                     Diane Milan   \n",
       "568432  203834  B000VK4CTO  A1V5J0VTEL8DS8                           Peter   \n",
       "568433  377295  B004VLWASE  A36DVRTEHDJKNP                           Steve   \n",
       "568434  330098  B001OHX1ZY   A88XJQH33JG01                         maryann   \n",
       "568435  377319  B001IAQ8KC   AQO4BNFU7T4EH                 Andrew P Freese   \n",
       "568436  203701  B004AW1Z94  A1D6FDBK9FJI8C                      Jason Mark   \n",
       "568437  432397  B003A199AI  A2VI7ZC4CWDUPW                   Vanessa Close   \n",
       "568438  432396  B003A199AI  A3F0WUGQIS488X                        Daniel L   \n",
       "568439   80520  B008ADQYYU  A2DKVL26ZX0WGS                             Sil   \n",
       "568440   50682  B007PQTIRI  A2XWFSMXJ1RR0R                          Mel M.   \n",
       "568441  398671  B001D09KAM   AUS545VE0P2J1                            Paul   \n",
       "568442   80622  B000WFKHN8   A29FD8FJONPAJ                    Baxter \"Uru\"   \n",
       "568443  254881  B007PA32L2  A2ZOKXJOQULWXS                  marie johnston   \n",
       "568444  398672  B001D09KAM  A2TKFP9YMPASAS                       sammy3856   \n",
       "568445  254880  B007PA32L2  A3JK142YXC2RGK          judaicagirl \"Dalia L.\"   \n",
       "568446  254879  B007PA32L2  A2EJ1GFUFYUEBM                    michael crow   \n",
       "568447  377320  B001IAQ8KC  A1JXRHA7PD04ZF                            John   \n",
       "568448  274819  B005VOOOM0   AZS3RRB62EJVP                          Dg7023   \n",
       "568449  305646  B001ELL4E0   AZ3EHLAKPMUU6                        bigtiger   \n",
       "568450  202269  B000P0QHOI   AN4FZJKFHMAS0                  Dawn E. Curran   \n",
       "568451  106712  B001HTG6E2  A29Y8V009MI4G5                            Cate   \n",
       "568452  465911  B005OU6UD2  A2550XGZEFDH2Y      Melanie G. Nihart \"Grammy\"   \n",
       "568453  424141  B000EMK53G  A2B7BUH8834Y6M           Shelley Gammon \"Geek\"   \n",
       "\n",
       "        HelpfulnessNumerator  HelpfulnessDenominator  Score       Time  \\\n",
       "0                          0                       0      1 1999-02-12   \n",
       "1                          1                       2      1 1999-06-12   \n",
       "2                          1                       2      1 1999-06-12   \n",
       "3                          1                       2      1 1999-06-12   \n",
       "4                          0                       0      1 1999-08-10   \n",
       "5                          2                       2      1 1999-10-25   \n",
       "6                         19                      23      0 2000-01-19   \n",
       "7                         19                      23      0 2000-01-19   \n",
       "8                         19                      23      0 2000-01-19   \n",
       "9                          0                       0      1 2000-01-24   \n",
       "10                         2                       3      1 2000-02-26   \n",
       "11                         2                       3      1 2000-02-26   \n",
       "12                         2                       3      1 2000-02-26   \n",
       "13                         0                       0      1 2000-03-01   \n",
       "14                         0                       3      1 2000-03-06   \n",
       "15                         0                       1      1 2000-03-06   \n",
       "16                         0                       3      1 2000-03-06   \n",
       "17                         5                       5      1 2000-03-10   \n",
       "18                         5                       5      1 2000-03-10   \n",
       "19                         5                       5      1 2000-03-10   \n",
       "20                        18                      18      1 2000-05-12   \n",
       "21                         7                       7      1 2000-06-23   \n",
       "22                        10                      10      1 2000-06-29   \n",
       "23                         7                       8      1 2000-07-31   \n",
       "24                         2                       2      1 2000-08-15   \n",
       "25                         2                       2      1 2000-08-15   \n",
       "26                         2                       2      1 2000-08-15   \n",
       "27                         2                       2      1 2000-09-01   \n",
       "28                         2                       2      1 2000-09-01   \n",
       "29                         2                       2      1 2000-09-01   \n",
       "...                      ...                     ...    ...        ...   \n",
       "568424                     0                       0      1 2012-12-10   \n",
       "568425                     0                       0      1 2012-12-10   \n",
       "568426                     0                       0      1 2012-12-10   \n",
       "568427                     0                       0      1 2012-12-10   \n",
       "568428                     0                       0      1 2012-12-10   \n",
       "568429                     0                       0      1 2012-12-10   \n",
       "568430                     0                       0      1 2012-12-10   \n",
       "568431                     0                       0      1 2012-12-10   \n",
       "568432                     0                       0      0 2012-12-10   \n",
       "568433                     0                       0      1 2012-12-10   \n",
       "568434                     0                       0      1 2012-12-10   \n",
       "568435                     0                       0      1 2012-12-10   \n",
       "568436                     0                       0      0 2012-12-10   \n",
       "568437                     2                       2      1 2012-12-10   \n",
       "568438                     2                       2      1 2012-12-10   \n",
       "568439                     0                       0      1 2012-12-10   \n",
       "568440                     0                       0      1 2012-12-10   \n",
       "568441                     0                       0      1 2012-12-10   \n",
       "568442                     0                       0      1 2012-12-10   \n",
       "568443                     0                       0      1 2012-12-10   \n",
       "568444                     0                       0      1 2012-12-10   \n",
       "568445                     0                       0      0 2012-12-10   \n",
       "568446                     0                       0      0 2012-12-10   \n",
       "568447                     0                       0      1 2012-12-10   \n",
       "568448                     0                       0      1 2012-12-10   \n",
       "568449                     0                       0      1 2012-12-10   \n",
       "568450                     0                       0      1 2012-12-10   \n",
       "568451                     0                       0      1 2012-12-10   \n",
       "568452                     0                       0      0 2012-12-10   \n",
       "568453                     0                       0      1 2012-12-10   \n",
       "\n",
       "                                                  Summary  \\\n",
       "0                                    Entertainingl Funny!   \n",
       "1                                 A modern day fairy tale   \n",
       "2                                 A modern day fairy tale   \n",
       "3                                 A modern day fairy tale   \n",
       "4                               EVERY book is educational   \n",
       "5       This whole series is great way to spend time w...   \n",
       "6         WARNING: CLAMSHELL EDITION IS EDITED TV VERSION   \n",
       "7         WARNING: CLAMSHELL EDITION IS EDITED TV VERSION   \n",
       "8         WARNING: CLAMSHELL EDITION IS EDITED TV VERSION   \n",
       "9                                  A sure death for flies   \n",
       "10               Bettlejuice...Bettlejuice...BETTLEJUICE!   \n",
       "11               Bettlejuice...Bettlejuice...BETTLEJUICE!   \n",
       "12               Bettlejuice...Bettlejuice...BETTLEJUICE!   \n",
       "13                                             FANTASTIC!   \n",
       "14          Research - Beatlejuice video - French version   \n",
       "15                                               Research   \n",
       "16          Research - Beatlejuice video - French version   \n",
       "17           Fabulous Comedic Fanasy Directed by a Master   \n",
       "18           Fabulous Comedic Fanasy Directed by a Master   \n",
       "19           Fabulous Comedic Fanasy Directed by a Master   \n",
       "20                                      Who Needs Wilton?   \n",
       "21                                          Great Product   \n",
       "22                         WOW Make your own 'slickers' !   \n",
       "23                               End your Gopher Problems   \n",
       "24      A fresh, original film from master storyteller...   \n",
       "25      A fresh, original film from master storyteller...   \n",
       "26      A fresh, original film from master storyteller...   \n",
       "27                                                  GREAT   \n",
       "28                                                  GREAT   \n",
       "29                                                  GREAT   \n",
       "...                                                   ...   \n",
       "568424                 delicious, full-flavored cocoa mix   \n",
       "568425                                     salty caramels   \n",
       "568426                                 Dare to be Pleased   \n",
       "568427                                    Not all that...   \n",
       "568428                                 Good hearty flavor   \n",
       "568429                                  Great for Baklava   \n",
       "568430                                   LUV This Coffee!   \n",
       "568431                                          Healthier   \n",
       "568432                             A treat they won't eat   \n",
       "568433                                 non-wheat crackers   \n",
       "568434                    best buy on hemp protein powder   \n",
       "568435                                            Not Hot   \n",
       "568436                             I think this is a scam   \n",
       "568437                              Absolutely Love These   \n",
       "568438              Perfect for Eating without Expanding!   \n",
       "568439                                 Terrific Rasberry!   \n",
       "568440                              Robust coconut flavor   \n",
       "568441                                         Try frozen   \n",
       "568442                             My three cats love it!   \n",
       "568443                         pumpkin spice K Cup Coffee   \n",
       "568444                              Kind Bars from Amazon   \n",
       "568445                   Tastes like Constant Comment Tea   \n",
       "568446                                                bad   \n",
       "568447                                         Good stuff   \n",
       "568448                        Great tasting protein bars!   \n",
       "568449                                             Cereal   \n",
       "568450                                     Great Licorice   \n",
       "568451                                   Delicious treat!   \n",
       "568452                                     Small dog chew   \n",
       "568453  Shockingly good - even if you're not a fan of ...   \n",
       "\n",
       "                                                     Text  \n",
       "0       Beetlejuice is a well written movie ..... ever...  \n",
       "1       A twist of rumplestiskin captured on film, sta...  \n",
       "2       A twist of rumplestiskin captured on film, sta...  \n",
       "3       A twist of rumplestiskin captured on film, sta...  \n",
       "4       this witty little book makes my son laugh at l...  \n",
       "5       I can remember seeing the show when it aired o...  \n",
       "6       I, myself always enjoyed this movie, it's very...  \n",
       "7       I, myself always enjoyed this movie, it's very...  \n",
       "8       I, myself always enjoyed this movie, it's very...  \n",
       "9       I bought a few of these after my apartment was...  \n",
       "10      What happens when you say his name three times...  \n",
       "11      What happens when you say his name three times...  \n",
       "12      What happens when you say his name three times...  \n",
       "13      Beetlejuice is an excellent and funny movie. K...  \n",
       "14      I'm getting crazy.I'm looking for Beatlejuice ...  \n",
       "15      I'm getting crazy.<p>Is it really impossible t...  \n",
       "16      I'm getting crazy.I'm looking for Beatlejuice ...  \n",
       "17      Beetlejuice is an awe-inspiring wonderfully am...  \n",
       "18      Beetlejuice is an awe-inspiring wonderfully am...  \n",
       "19      Beetlejuice is an awe-inspiring wonderfully am...  \n",
       "20      I'm sick of scads of nasty toothpicks all over...  \n",
       "21      This was a really good idea and the final prod...  \n",
       "22      I just received my shipment and could hardly w...  \n",
       "23      I have just recently purchased the Woodstream ...  \n",
       "24      This is such a great film, I don't even know h...  \n",
       "25      This is such a great film, I don't even know h...  \n",
       "26      This is such a great film, I don't even know h...  \n",
       "27      THIS IS ONE MOVIE THAT SHOULD BE IN YOUR MOVIE...  \n",
       "28      THIS IS ONE MOVIE THAT SHOULD BE IN YOUR MOVIE...  \n",
       "29      THIS IS ONE MOVIE THAT SHOULD BE IN YOUR MOVIE...  \n",
       "...                                                   ...  \n",
       "568424  This is probably the best-tasting cocoa I've e...  \n",
       "568425  These were the best caramels I have ever eaten...  \n",
       "568426  Cookies are delicious and make a nice after di...  \n",
       "568427  To those of you who tried this and wrote a lif...  \n",
       "568428  The family loved every bite. I'll be trying al...  \n",
       "568429  Great size for the occasional user who must ha...  \n",
       "568430  I'm a big time coffee drinker and I tend to li...  \n",
       "568431  I feel better about feeding this product to my...  \n",
       "568432  My two kittens (6 & 7 Months) don't even think...  \n",
       "568433  I've tried the other lentil crackersw in a que...  \n",
       "568434  This is the best way to buy Nutiva Organic Hem...  \n",
       "568435  Product claims to be \"Extra Hot\".<br />It's no...  \n",
       "568436  it's advertised as 21oz, but they sent me an 1...  \n",
       "568437  I like to try new things and when I came acros...  \n",
       "568438  I love these !<br /> I always crave salty/ cru...  \n",
       "568439  So I just have to say this matcha is delicious...  \n",
       "568440  Finally!  A delicious coconut cereal.  And it'...  \n",
       "568441  I just finished my second box of the dark choc...  \n",
       "568442  I have three cats all varying in age. My oldes...  \n",
       "568443  My husband LOVES this coffee, we didn't order ...  \n",
       "568444  The Kind Cranberry Almond bars are healthy for...  \n",
       "568445  High hopes for this product, but it is very we...  \n",
       "568446  i bought a 24 pack, thinking it would be good....  \n",
       "568447  I have used this product for years.  It is the...  \n",
       "568448  I've been paying a lot for protein bars that h...  \n",
       "568449  I enjoy waking up and eating this oatmeal it i...  \n",
       "568450  This Lucky Country Licorice is some of the bes...  \n",
       "568451  These jelly beans are a treat for my daughter-...  \n",
       "568452  Both of my dogs did not want it.  The chew was...  \n",
       "568453  I discovered this bar quite by accident in the...  \n",
       "\n",
       "[568454 rows x 10 columns]"
      ]
     },
     "execution_count": 11,
     "metadata": {
      "tags": []
     },
     "output_type": "execute_result"
    }
   ],
   "source": [
    "filtered_data.reset_index(drop = True)"
   ]
  },
  {
   "cell_type": "code",
   "execution_count": 0,
   "metadata": {
    "colab": {},
    "colab_type": "code",
    "id": "1GX58Y8k6Y3l"
   },
   "outputs": [],
   "source": []
  },
  {
   "cell_type": "code",
   "execution_count": 0,
   "metadata": {
    "colab": {
     "base_uri": "https://localhost:8080/",
     "height": 34
    },
    "colab_type": "code",
    "id": "e6tT9BWz6Y3o",
    "outputId": "8e1e24dc-e609-444f-b2d8-d6a554a72af0"
   },
   "outputs": [
    {
     "data": {
      "text/plain": [
       "'display = pd.read_sql_query(\"\"\"\\nSELECT UserId, ProductId, ProfileName, Time, Score, Text, COUNT(*)\\nFROM Reviews\\nGROUP BY UserId\\nHAVING COUNT(*)>1\\n\"\"\", con)'"
      ]
     },
     "execution_count": 12,
     "metadata": {
      "tags": []
     },
     "output_type": "execute_result"
    }
   ],
   "source": [
    "'''display = pd.read_sql_query(\"\"\"\n",
    "SELECT UserId, ProductId, ProfileName, Time, Score, Text, COUNT(*)\n",
    "FROM Reviews\n",
    "GROUP BY UserId\n",
    "HAVING COUNT(*)>1\n",
    "\"\"\", con)'''"
   ]
  },
  {
   "cell_type": "code",
   "execution_count": 0,
   "metadata": {
    "colab": {
     "base_uri": "https://localhost:8080/",
     "height": 34
    },
    "colab_type": "code",
    "id": "OXDI3oBW6Y3q",
    "outputId": "328a20bd-6c67-4368-9a66-965437d48d32",
    "scrolled": true
   },
   "outputs": [
    {
     "data": {
      "text/plain": [
       "'print(display.shape)\\ndisplay.head()'"
      ]
     },
     "execution_count": 13,
     "metadata": {
      "tags": []
     },
     "output_type": "execute_result"
    }
   ],
   "source": [
    "'''print(display.shape)\n",
    "display.head()'''"
   ]
  },
  {
   "cell_type": "code",
   "execution_count": 0,
   "metadata": {
    "colab": {},
    "colab_type": "code",
    "id": "faSDq55Z6Y3v"
   },
   "outputs": [],
   "source": [
    "#display[display['UserId']=='AZY10LLTJ71NX']"
   ]
  },
  {
   "cell_type": "code",
   "execution_count": 0,
   "metadata": {
    "colab": {},
    "colab_type": "code",
    "id": "pPiMwmZA6Y3y"
   },
   "outputs": [],
   "source": [
    "#display['COUNT(*)'].sum()"
   ]
  },
  {
   "cell_type": "markdown",
   "metadata": {
    "colab_type": "text",
    "id": "fG4V5lYF6Y32"
   },
   "source": [
    "#  [2] Exploratory Data Analysis"
   ]
  },
  {
   "cell_type": "markdown",
   "metadata": {
    "colab_type": "text",
    "id": "kdg7DK8f6Y34"
   },
   "source": [
    "## [2.1] Data Cleaning: Deduplication\n",
    "\n",
    "It is observed (as shown in the table below) that the reviews data had many duplicate entries. Hence it was necessary to remove duplicates in order to get unbiased results for the analysis of the data.  Following is an example:"
   ]
  },
  {
   "cell_type": "code",
   "execution_count": 0,
   "metadata": {
    "colab": {
     "base_uri": "https://localhost:8080/",
     "height": 34
    },
    "colab_type": "code",
    "id": "Q_7BKmso6Y34",
    "outputId": "702aeb27-69cc-43bb-d63b-451b4589b56c",
    "scrolled": false
   },
   "outputs": [
    {
     "data": {
      "text/plain": [
       "'display= pd.read_sql_query(\"\"\"\\nSELECT *\\nFROM Reviews\\nWHERE Score != 3 AND UserId=\"AR5J8UI46CURR\"\\nORDER BY ProductID\\n\"\"\", con)\\ndisplay.head()'"
      ]
     },
     "execution_count": 16,
     "metadata": {
      "tags": []
     },
     "output_type": "execute_result"
    }
   ],
   "source": [
    "'''display= pd.read_sql_query(\"\"\"\n",
    "SELECT *\n",
    "FROM Reviews\n",
    "WHERE Score != 3 AND UserId=\"AR5J8UI46CURR\"\n",
    "ORDER BY ProductID\n",
    "\"\"\", con)\n",
    "display.head()'''"
   ]
  },
  {
   "cell_type": "markdown",
   "metadata": {
    "colab_type": "text",
    "id": "tFalsN1A6Y4A"
   },
   "source": [
    "As it can be seen above that same user has multiple reviews with same values for HelpfulnessNumerator, HelpfulnessDenominator, Score, Time, Summary and Text and on doing analysis it was found that <br>\n",
    "<br> \n",
    "ProductId=B000HDOPZG was Loacker Quadratini Vanilla Wafer Cookies, 8.82-Ounce Packages (Pack of 8)<br>\n",
    "<br> \n",
    "ProductId=B000HDL1RQ was Loacker Quadratini Lemon Wafer Cookies, 8.82-Ounce Packages (Pack of 8) and so on<br>\n",
    "\n",
    "It was inferred after analysis that reviews with same parameters other than ProductId belonged to the same product just having different flavour or quantity. Hence in order to reduce redundancy it was decided to eliminate the rows having same parameters.<br>\n",
    "\n",
    "The method used for the same was that we first sort the data according to ProductId and then just keep the first similar product review and delelte the others. for eg. in the above just the review for ProductId=B000HDL1RQ remains. This method ensures that there is only one representative for each product and deduplication without sorting would lead to possibility of different representatives still existing for the same product."
   ]
  },
  {
   "cell_type": "code",
   "execution_count": 0,
   "metadata": {
    "colab": {},
    "colab_type": "code",
    "id": "uDPHRHwR6Y4E"
   },
   "outputs": [],
   "source": [
    "#Sorting data according to ProductId in ascending order\n",
    "sorted_data=filtered_data.sort_values('ProductId', axis=0, ascending=True, inplace=False, kind='quicksort', na_position='last')"
   ]
  },
  {
   "cell_type": "code",
   "execution_count": 0,
   "metadata": {
    "colab": {
     "base_uri": "https://localhost:8080/",
     "height": 34
    },
    "colab_type": "code",
    "id": "zkOOsBE-6Y4I",
    "outputId": "e6fb0dae-10fd-47e9-8901-ea32b9551d9d"
   },
   "outputs": [
    {
     "data": {
      "text/plain": [
       "(393933, 10)"
      ]
     },
     "execution_count": 18,
     "metadata": {
      "tags": []
     },
     "output_type": "execute_result"
    }
   ],
   "source": [
    "#Deduplication of entries\n",
    "final=sorted_data.drop_duplicates(subset={\"UserId\",\"ProfileName\",\"Time\",\"Text\"}, keep='first', inplace=False)\n",
    "final.shape"
   ]
  },
  {
   "cell_type": "code",
   "execution_count": 0,
   "metadata": {
    "colab": {
     "base_uri": "https://localhost:8080/",
     "height": 34
    },
    "colab_type": "code",
    "id": "hcApOGVo6Y4O",
    "outputId": "1a722331-ffce-4290-c777-4fecc98fb44b"
   },
   "outputs": [
    {
     "data": {
      "text/plain": [
       "69.29901100176971"
      ]
     },
     "execution_count": 19,
     "metadata": {
      "tags": []
     },
     "output_type": "execute_result"
    }
   ],
   "source": [
    "#Checking to see how much % of data still remains\n",
    "(final['Id'].size*1.0)/(filtered_data['Id'].size*1.0)*100"
   ]
  },
  {
   "cell_type": "markdown",
   "metadata": {
    "colab_type": "text",
    "id": "kBCP6wM_6Y4R"
   },
   "source": [
    "<b>Observation:-</b> It was also seen that in two rows given below the value of HelpfulnessNumerator is greater than HelpfulnessDenominator which is not practically possible hence these two rows too are removed from calcualtions"
   ]
  },
  {
   "cell_type": "code",
   "execution_count": 0,
   "metadata": {
    "colab": {
     "base_uri": "https://localhost:8080/",
     "height": 34
    },
    "colab_type": "code",
    "id": "wzqyy_RQ6Y4T",
    "outputId": "9852bba0-56e1-4552-e78d-3cf19153c58b"
   },
   "outputs": [
    {
     "data": {
      "text/plain": [
       "'display= pd.read_sql_query(\"\"\"\\nSELECT *\\nFROM Reviews\\nWHERE Score != 3 AND Id=44737 OR Id=64422\\nORDER BY ProductID\\n\"\"\", con)\\n\\ndisplay.head()'"
      ]
     },
     "execution_count": 20,
     "metadata": {
      "tags": []
     },
     "output_type": "execute_result"
    }
   ],
   "source": [
    "'''display= pd.read_sql_query(\"\"\"\n",
    "SELECT *\n",
    "FROM Reviews\n",
    "WHERE Score != 3 AND Id=44737 OR Id=64422\n",
    "ORDER BY ProductID\n",
    "\"\"\", con)\n",
    "\n",
    "display.head()'''"
   ]
  },
  {
   "cell_type": "code",
   "execution_count": 0,
   "metadata": {
    "colab": {},
    "colab_type": "code",
    "id": "1vwY7cNs6Y4X"
   },
   "outputs": [],
   "source": [
    "final=final[final.HelpfulnessNumerator<=final.HelpfulnessDenominator]"
   ]
  },
  {
   "cell_type": "code",
   "execution_count": 0,
   "metadata": {
    "colab": {
     "base_uri": "https://localhost:8080/",
     "height": 85
    },
    "colab_type": "code",
    "id": "l4Oniox86Y4Z",
    "outputId": "93ad76fc-a399-4df2-dc13-e9325679c40b"
   },
   "outputs": [
    {
     "name": "stdout",
     "output_type": "stream",
     "text": [
      "(393931, 10)\n"
     ]
    },
    {
     "data": {
      "text/plain": [
       "1    336824\n",
       "0     57107\n",
       "Name: Score, dtype: int64"
      ]
     },
     "execution_count": 22,
     "metadata": {
      "tags": []
     },
     "output_type": "execute_result"
    }
   ],
   "source": [
    "#Before starting the next phase of preprocessing lets see the number of entries left\n",
    "print(final.shape)\n",
    "\n",
    "#How many positive and negative reviews are present in our dataset?\n",
    "final['Score'].value_counts()"
   ]
  },
  {
   "cell_type": "code",
   "execution_count": 0,
   "metadata": {
    "colab": {
     "base_uri": "https://localhost:8080/",
     "height": 34
    },
    "colab_type": "code",
    "id": "pSsR8OE86Y4c",
    "outputId": "928050a9-ee9b-4970-be52-d066c60aef7d"
   },
   "outputs": [
    {
     "data": {
      "text/plain": [
       "(393931, 10)"
      ]
     },
     "execution_count": 23,
     "metadata": {
      "tags": []
     },
     "output_type": "execute_result"
    }
   ],
   "source": [
    "final.shape"
   ]
  },
  {
   "cell_type": "markdown",
   "metadata": {
    "colab_type": "text",
    "id": "qvdiICXL6Y4f"
   },
   "source": [
    "#  [3] Preprocessing"
   ]
  },
  {
   "cell_type": "markdown",
   "metadata": {
    "colab_type": "text",
    "id": "71xMi5VK6Y4h"
   },
   "source": [
    "## [3.1].  Preprocessing Review Text\n",
    "\n",
    "Now that we have finished deduplication our data requires some preprocessing before we go on further with analysis and making the prediction model.\n",
    "\n",
    "Hence in the Preprocessing phase we do the following in the order below:-\n",
    "\n",
    "1. Begin by removing the html tags\n",
    "2. Remove any punctuations or limited set of special characters like , or . or # etc.\n",
    "3. Check if the word is made up of english letters and is not alpha-numeric\n",
    "4. Check to see if the length of the word is greater than 2 (as it was researched that there is no adjective in 2-letters)\n",
    "5. Convert the word to lowercase\n",
    "6. Remove Stopwords\n",
    "7. Finally Snowball Stemming the word (it was obsereved to be better than Porter Stemming)<br>\n",
    "\n",
    "After which we collect the words used to describe positive and negative reviews"
   ]
  },
  {
   "cell_type": "code",
   "execution_count": 0,
   "metadata": {
    "colab": {
     "base_uri": "https://localhost:8080/",
     "height": 176
    },
    "colab_type": "code",
    "id": "wKRgN-EB6Y4h",
    "outputId": "a9aeca79-1922-4299-e2e5-271d294952b9"
   },
   "outputs": [
    {
     "name": "stdout",
     "output_type": "stream",
     "text": [
      "It's a great book with adorable illustrations.  A true classic.  Kids love the poem and there is music that goes with it, if you can find it.  I think it's sung by Carol King.\n",
      "==================================================\n",
      "Well if you have had this product before you know it is amazing.  I am not going to describe the taste but i will tell you the product was shipped neatly and fresh.  Everything tasted great and the expiration date was much further into the future than this would have ever lasted.  Top notch.\n",
      "==================================================\n",
      "Cat thought the bubbles were interesting, but didn't go crazy over them. They smell funny, leave a residue, and don't maintain form when they touch down as advertised. I'll go pick up a big bottle of regular bubbles for him to chase. Not worth the price.\n",
      "==================================================\n",
      "The previous reviewer's experience is lamentable but after reading the reviews for other Brussel's Bonsai & after reception of my own tree it's clear that his experience was the exception, not the rule.<br /><br />The tree arrived well-packaged, lush & green. The soil was moist & wrapped in plastic to ensure it remained that way. The tree is planted in a dark blue glazed ceramic pot. Included was a small pamphlet outlining the basics of Indoor Bonsai care. Overall, quite nice & well done. I wouldn't hesitate to order another tree from Brussel's. See my images above.<br /><br />UPDATE 08/11/2011:<br /><br />I ordered a second ficus from Brussel's & it arrived in the same excellent condition as before & attractively trained. Very, very pleased.\n",
      "==================================================\n"
     ]
    }
   ],
   "source": [
    "# printing some random reviews\n",
    "sent_0 = final['Text'].values[0]\n",
    "print(sent_0)\n",
    "print(\"=\"*50)\n",
    "\n",
    "sent_1000 = final['Text'].values[1000]\n",
    "print(sent_1000)\n",
    "print(\"=\"*50)\n",
    "\n",
    "sent_1500 = final['Text'].values[1500]\n",
    "print(sent_1500)\n",
    "print(\"=\"*50)\n",
    "\n",
    "sent_4900 = final['Text'].values[4300]\n",
    "print(sent_4900)\n",
    "print(\"=\"*50)"
   ]
  },
  {
   "cell_type": "code",
   "execution_count": 0,
   "metadata": {
    "colab": {
     "base_uri": "https://localhost:8080/",
     "height": 57
    },
    "colab_type": "code",
    "id": "aj2eSSsd6Y4m",
    "outputId": "bbd7e380-4f25-4fc7-ed35-f25cac293c40"
   },
   "outputs": [
    {
     "name": "stdout",
     "output_type": "stream",
     "text": [
      "It's a great book with adorable illustrations.  A true classic.  Kids love the poem and there is music that goes with it, if you can find it.  I think it's sung by Carol King.\n"
     ]
    }
   ],
   "source": [
    "# remove urls from text python: https://stackoverflow.com/a/40823105/4084039\n",
    "sent_0 = re.sub(r\"http\\S+\", \"\", sent_0)\n",
    "sent_1000 = re.sub(r\"http\\S+\", \"\", sent_1000)\n",
    "sent_150 = re.sub(r\"http\\S+\", \"\", sent_1500)\n",
    "sent_4900 = re.sub(r\"http\\S+\", \"\", sent_4900)\n",
    "\n",
    "print(sent_0)"
   ]
  },
  {
   "cell_type": "code",
   "execution_count": 0,
   "metadata": {
    "colab": {
     "base_uri": "https://localhost:8080/",
     "height": 159
    },
    "colab_type": "code",
    "id": "neHh31qO6Y4r",
    "outputId": "ada06563-460b-47e1-df0b-f1f304514c80"
   },
   "outputs": [
    {
     "name": "stdout",
     "output_type": "stream",
     "text": [
      "It's a great book with adorable illustrations.  A true classic.  Kids love the poem and there is music that goes with it, if you can find it.  I think it's sung by Carol King.\n",
      "==================================================\n",
      "Well if you have had this product before you know it is amazing.  I am not going to describe the taste but i will tell you the product was shipped neatly and fresh.  Everything tasted great and the expiration date was much further into the future than this would have ever lasted.  Top notch.\n",
      "==================================================\n",
      "Cat thought the bubbles were interesting, but didn't go crazy over them. They smell funny, leave a residue, and don't maintain form when they touch down as advertised. I'll go pick up a big bottle of regular bubbles for him to chase. Not worth the price.\n",
      "==================================================\n",
      "The previous reviewer's experience is lamentable but after reading the reviews for other Brussel's Bonsai & after reception of my own tree it's clear that his experience was the exception, not the rule.The tree arrived well-packaged, lush & green. The soil was moist & wrapped in plastic to ensure it remained that way. The tree is planted in a dark blue glazed ceramic pot. Included was a small pamphlet outlining the basics of Indoor Bonsai care. Overall, quite nice & well done. I wouldn't hesitate to order another tree from Brussel's. See my images above.UPDATE 08/11/2011:I ordered a second ficus from Brussel's & it arrived in the same excellent condition as before & attractively trained. Very, very pleased.\n"
     ]
    }
   ],
   "source": [
    "# https://stackoverflow.com/questions/16206380/python-beautifulsoup-how-to-remove-all-tags-from-an-element\n",
    "from bs4 import BeautifulSoup\n",
    "\n",
    "soup = BeautifulSoup(sent_0, 'lxml')\n",
    "text = soup.get_text()\n",
    "print(text)\n",
    "print(\"=\"*50)\n",
    "\n",
    "soup = BeautifulSoup(sent_1000, 'lxml')\n",
    "text = soup.get_text()\n",
    "print(text)\n",
    "print(\"=\"*50)\n",
    "\n",
    "soup = BeautifulSoup(sent_1500, 'lxml')\n",
    "text = soup.get_text()\n",
    "print(text)\n",
    "print(\"=\"*50)\n",
    "\n",
    "soup = BeautifulSoup(sent_4900, 'lxml')\n",
    "text = soup.get_text()\n",
    "print(text)"
   ]
  },
  {
   "cell_type": "code",
   "execution_count": 0,
   "metadata": {
    "colab": {},
    "colab_type": "code",
    "id": "JA-dVCAh6Y4t"
   },
   "outputs": [],
   "source": [
    "# https://stackoverflow.com/a/47091490/4084039\n",
    "import re\n",
    "\n",
    "def decontracted(phrase):\n",
    "    # specific\n",
    "    phrase = re.sub(r\"won't\", \"will not\", phrase)\n",
    "    phrase = re.sub(r\"can\\'t\", \"can not\", phrase)\n",
    "\n",
    "    # general\n",
    "    phrase = re.sub(r\"n\\'t\", \" not\", phrase)\n",
    "    phrase = re.sub(r\"\\'re\", \" are\", phrase)\n",
    "    phrase = re.sub(r\"\\'s\", \" is\", phrase)\n",
    "    phrase = re.sub(r\"\\'d\", \" would\", phrase)\n",
    "    phrase = re.sub(r\"\\'ll\", \" will\", phrase)\n",
    "    phrase = re.sub(r\"\\'t\", \" not\", phrase)\n",
    "    phrase = re.sub(r\"\\'ve\", \" have\", phrase)\n",
    "    phrase = re.sub(r\"\\'m\", \" am\", phrase)\n",
    "    return phrase"
   ]
  },
  {
   "cell_type": "code",
   "execution_count": 0,
   "metadata": {
    "colab": {
     "base_uri": "https://localhost:8080/",
     "height": 74
    },
    "colab_type": "code",
    "id": "9opcoV0P6Y40",
    "outputId": "a7316e04-2c44-4837-ab7c-3e63b470f4d8"
   },
   "outputs": [
    {
     "name": "stdout",
     "output_type": "stream",
     "text": [
      "Cat thought the bubbles were interesting, but did not go crazy over them. They smell funny, leave a residue, and do not maintain form when they touch down as advertised. I will go pick up a big bottle of regular bubbles for him to chase. Not worth the price.\n",
      "==================================================\n"
     ]
    }
   ],
   "source": [
    "sent_1500 = decontracted(sent_1500)\n",
    "print(sent_1500)\n",
    "print(\"=\"*50)"
   ]
  },
  {
   "cell_type": "code",
   "execution_count": 0,
   "metadata": {
    "colab": {
     "base_uri": "https://localhost:8080/",
     "height": 57
    },
    "colab_type": "code",
    "id": "8i8TTpo16Y45",
    "outputId": "774585d2-308e-4f8e-96a1-59829886cec3"
   },
   "outputs": [
    {
     "name": "stdout",
     "output_type": "stream",
     "text": [
      "It's a great book with adorable illustrations.  A true classic.  Kids love the poem and there is music that goes with it, if you can find it.  I think it's sung by Carol King.\n"
     ]
    }
   ],
   "source": [
    "#remove words with numbers python: https://stackoverflow.com/a/18082370/4084039\n",
    "sent_0 = re.sub(\"\\S*\\d\\S*\", \"\", sent_0).strip()\n",
    "print(sent_0)"
   ]
  },
  {
   "cell_type": "code",
   "execution_count": 0,
   "metadata": {
    "colab": {
     "base_uri": "https://localhost:8080/",
     "height": 57
    },
    "colab_type": "code",
    "id": "RBKtqLPT6Y4-",
    "outputId": "89af1c82-2ce6-47ff-921e-f366ef0ffb61"
   },
   "outputs": [
    {
     "name": "stdout",
     "output_type": "stream",
     "text": [
      "Cat thought the bubbles were interesting but did not go crazy over them They smell funny leave a residue and do not maintain form when they touch down as advertised I will go pick up a big bottle of regular bubbles for him to chase Not worth the price \n"
     ]
    }
   ],
   "source": [
    "#remove spacial character: https://stackoverflow.com/a/5843547/4084039\n",
    "sent_1500 = re.sub('[^A-Za-z0-9]+', ' ', sent_1500)\n",
    "print(sent_1500)"
   ]
  },
  {
   "cell_type": "code",
   "execution_count": 0,
   "metadata": {
    "colab": {},
    "colab_type": "code",
    "id": "mKw4LWG06Y5C"
   },
   "outputs": [],
   "source": [
    "# https://gist.github.com/sebleier/554280\n",
    "# we are removing the words from the stop words list: 'no', 'nor', 'not'\n",
    "# <br /><br /> ==> after the above steps, we are getting \"br br\"\n",
    "# we are including them into stop words list\n",
    "# instead of <br /> if we have <br/> these tags would have revmoved in the 1st step\n",
    "\n",
    "stopwords= set(['br', 'the', 'i', 'me', 'my', 'myself', 'we', 'our', 'ours', 'ourselves', 'you', \"you're\", \"you've\",\\\n",
    "            \"you'll\", \"you'd\", 'your', 'yours', 'yourself', 'yourselves', 'he', 'him', 'his', 'himself', \\\n",
    "            'she', \"she's\", 'her', 'hers', 'herself', 'it', \"it's\", 'its', 'itself', 'they', 'them', 'their',\\\n",
    "            'theirs', 'themselves', 'what', 'which', 'who', 'whom', 'this', 'that', \"that'll\", 'these', 'those', \\\n",
    "            'am', 'is', 'are', 'was', 'were', 'be', 'been', 'being', 'have', 'has', 'had', 'having', 'do', 'does', \\\n",
    "            'did', 'doing', 'a', 'an', 'the', 'and', 'but', 'if', 'or', 'because', 'as', 'until', 'while', 'of', \\\n",
    "            'at', 'by', 'for', 'with', 'about', 'against', 'between', 'into', 'through', 'during', 'before', 'after',\\\n",
    "            'above', 'below', 'to', 'from', 'up', 'down', 'in', 'out', 'on', 'off', 'over', 'under', 'again', 'further',\\\n",
    "            'then', 'once', 'here', 'there', 'when', 'where', 'why', 'how', 'all', 'any', 'both', 'each', 'few', 'more',\\\n",
    "            'most', 'other', 'some', 'such', 'only', 'own', 'same', 'so', 'than', 'too', 'very', \\\n",
    "            's', 't', 'can', 'will', 'just', 'don', \"don't\", 'should', \"should've\", 'now', 'd', 'll', 'm', 'o', 're', \\\n",
    "            've', 'y', 'ain', 'aren', \"aren't\", 'couldn', \"couldn't\", 'didn', \"didn't\", 'doesn', \"doesn't\", 'hadn',\\\n",
    "            \"hadn't\", 'hasn', \"hasn't\", 'haven', \"haven't\", 'isn', \"isn't\", 'ma', 'mightn', \"mightn't\", 'mustn',\\\n",
    "            \"mustn't\", 'needn', \"needn't\", 'shan', \"shan't\", 'shouldn', \"shouldn't\", 'wasn', \"wasn't\", 'weren', \"weren't\", \\\n",
    "            'won', \"won't\", 'wouldn', \"wouldn't\"])"
   ]
  },
  {
   "cell_type": "code",
   "execution_count": 0,
   "metadata": {
    "colab": {
     "base_uri": "https://localhost:8080/",
     "height": 34
    },
    "colab_type": "code",
    "id": "AiLnt8tr6Y5E",
    "outputId": "cbfc13e5-56ee-4e03-daf9-b289a7b03b9d"
   },
   "outputs": [
    {
     "name": "stderr",
     "output_type": "stream",
     "text": [
      "100%|██████████| 393931/393931 [02:58<00:00, 2206.16it/s]\n"
     ]
    }
   ],
   "source": [
    "# Combining all the above stundents \n",
    "from tqdm import tqdm\n",
    "preprocessed_reviews = []\n",
    "# tqdm is for printing the status bar\n",
    "for sentance in tqdm(final['Text'].values):\n",
    "    sentance = re.sub(r\"http\\S+\", \"\", sentance)\n",
    "    sentance = BeautifulSoup(sentance, 'lxml').get_text()\n",
    "    sentance = decontracted(sentance)\n",
    "    sentance = re.sub(\"\\S*\\d\\S*\", \"\", sentance).strip()\n",
    "    sentance = re.sub('[^A-Za-z]+', ' ', sentance)\n",
    "    # https://gist.github.com/sebleier/554280\n",
    "    sentance = ' '.join(e.lower() for e in sentance.split() if e.lower() not in stopwords)\n",
    "    preprocessed_reviews.append(sentance.strip())"
   ]
  },
  {
   "cell_type": "code",
   "execution_count": 0,
   "metadata": {
    "colab": {
     "base_uri": "https://localhost:8080/",
     "height": 57
    },
    "colab_type": "code",
    "id": "xe2FYWTsrOUA",
    "outputId": "417dd96a-effb-424b-ec7b-8d87deb8f08e"
   },
   "outputs": [
    {
     "data": {
      "text/plain": [
       "'\\nfinal[\"New_Text\"] = preprocessed_reviews\\n\\na = final[final[\"Score\"]==0][0:500]\\nb = final[final[\"Score\"]==1][0:500]\\n\\n#Stacking both positive and negative data\\na = a.append(b, ignore_index = True)\\n\\n#Shuffling the data points to mix the data\\nfrom sklearn.utils import shuffle\\na = shuffle(a)'"
      ]
     },
     "execution_count": 33,
     "metadata": {
      "tags": []
     },
     "output_type": "execute_result"
    }
   ],
   "source": [
    "#Used when 50% of positive and 50% of negative reviews are needed.\n",
    "'''\n",
    "final[\"New_Text\"] = preprocessed_reviews\n",
    "\n",
    "a = final[final[\"Score\"]==0][0:500]\n",
    "b = final[final[\"Score\"]==1][0:500]\n",
    "\n",
    "#Stacking both positive and negative data\n",
    "a = a.append(b, ignore_index = True)\n",
    "\n",
    "#Shuffling the data points to mix the data\n",
    "from sklearn.utils import shuffle\n",
    "a = shuffle(a)'''"
   ]
  },
  {
   "cell_type": "code",
   "execution_count": 0,
   "metadata": {
    "colab": {},
    "colab_type": "code",
    "id": "bXCOv-a6sKVO"
   },
   "outputs": [],
   "source": []
  },
  {
   "cell_type": "code",
   "execution_count": 0,
   "metadata": {
    "colab": {},
    "colab_type": "code",
    "id": "4ZTYVKQK6Y5N"
   },
   "outputs": [],
   "source": [
    "#Train-Test Split\n",
    "\n",
    "X_train,X_test,y_train, y_test = train_test_split(list(preprocessed_reviews[0:20000]), list(final[\"Score\"][0:20000]), random_state = 42, test_size = 0.3, stratify = list(final[\"Score\"][0:20000]))"
   ]
  },
  {
   "cell_type": "code",
   "execution_count": 0,
   "metadata": {
    "colab": {},
    "colab_type": "code",
    "id": "iOrTCyI9rD0q"
   },
   "outputs": [],
   "source": []
  },
  {
   "cell_type": "markdown",
   "metadata": {
    "colab_type": "text",
    "id": "DUzT4iRH6Y5R"
   },
   "source": [
    "<h2><font color='red'>[3.2] Preprocessing Review Summary</font></h2>"
   ]
  },
  {
   "cell_type": "code",
   "execution_count": 0,
   "metadata": {
    "colab": {},
    "colab_type": "code",
    "id": "K1jUnrqk6Y5S"
   },
   "outputs": [],
   "source": [
    "## Similartly you can do preprocessing for review summary also."
   ]
  },
  {
   "cell_type": "markdown",
   "metadata": {
    "colab_type": "text",
    "id": "DblZaJ6h6Y5U"
   },
   "source": [
    "# [4] Featurization"
   ]
  },
  {
   "cell_type": "markdown",
   "metadata": {
    "colab_type": "text",
    "id": "RvfD3w6V6Y5V"
   },
   "source": [
    "## [4.1] BAG OF WORDS"
   ]
  },
  {
   "cell_type": "code",
   "execution_count": 0,
   "metadata": {
    "colab": {
     "base_uri": "https://localhost:8080/",
     "height": 187
    },
    "colab_type": "code",
    "id": "oz8CRx5k6Y5X",
    "outputId": "8606d184-d9d3-43ca-a254-34ff1e271edd"
   },
   "outputs": [
    {
     "name": "stdout",
     "output_type": "stream",
     "text": [
      "some feature names  ['actually', 'add', 'almost', 'also', 'always', 'amazon', 'amount', 'another', 'anything', 'around']\n",
      "==================================================\n",
      "the type of count vectorizer  <class 'scipy.sparse.csr.csr_matrix'>\n",
      "the shape of out text BOW vectorizer  (14000, 200)\n",
      "the number of unique words  200\n",
      "==================================================\n",
      "for test data\n",
      "the type of count vectorizer  <class 'scipy.sparse.csr.csr_matrix'>\n",
      "the shape of out text BOW vectorizer  (6000, 200)\n",
      "the number of unique words  200\n"
     ]
    }
   ],
   "source": [
    "#BoW\n",
    "count_vect = CountVectorizer(max_features = 200) #in scikit-learn\n",
    "count_vect.fit(X_train)\n",
    "print(\"some feature names \", count_vect.get_feature_names()[:10])\n",
    "print('='*50)\n",
    "\n",
    "final_counts = count_vect.transform(X_train)\n",
    "final_counts_test = count_vect.transform(X_test)\n",
    "print(\"the type of count vectorizer \",type(final_counts))\n",
    "print(\"the shape of out text BOW vectorizer \",final_counts.get_shape())\n",
    "print(\"the number of unique words \", final_counts.get_shape()[1])\n",
    "print(\"=\"*50)\n",
    "print(\"for test data\")\n",
    "print(\"the type of count vectorizer \",type(final_counts_test))\n",
    "print(\"the shape of out text BOW vectorizer \",final_counts_test.get_shape())\n",
    "print(\"the number of unique words \", final_counts_test.get_shape()[1])"
   ]
  },
  {
   "cell_type": "markdown",
   "metadata": {
    "colab_type": "text",
    "id": "EZi3Gbna6Y5c"
   },
   "source": [
    "## [4.2] Bi-Grams and n-Grams."
   ]
  },
  {
   "cell_type": "code",
   "execution_count": 0,
   "metadata": {
    "colab": {
     "base_uri": "https://localhost:8080/",
     "height": 153
    },
    "colab_type": "code",
    "id": "mNA3gyNX6Y5d",
    "outputId": "ed60d529-ddd9-41c0-8968-8d7d002b1a40"
   },
   "outputs": [
    {
     "name": "stdout",
     "output_type": "stream",
     "text": [
      "the type of count vectorizer  <class 'scipy.sparse.csr.csr_matrix'>\n",
      "the shape of out text BOW vectorizer  (14000, 5000)\n",
      "the number of unique words including both unigrams and bigrams  5000\n",
      "==================================================\n",
      "for test data\n",
      "the type of count vectorizer  <class 'scipy.sparse.csr.csr_matrix'>\n",
      "the shape of out text BOW vectorizer  (6000, 5000)\n",
      "the number of unique words including both unigrams and bigrams  5000\n"
     ]
    }
   ],
   "source": [
    "#bi-gram, tri-gram and n-gram\n",
    "\n",
    "#removing stop words like \"not\" should be avoided before building n-grams\n",
    "# count_vect = CountVectorizer(ngram_range=(1,2))\n",
    "# please do read the CountVectorizer documentation http://scikit-learn.org/stable/modules/generated/sklearn.feature_extraction.text.CountVectorizer.html\n",
    "\n",
    "# you can choose these numebrs min_df=10, max_features=5000, of your choice\n",
    "count_vect = CountVectorizer(ngram_range=(1,2), min_df=10, max_features=5000)\n",
    "final_bigram_counts = count_vect.fit_transform(X_train)\n",
    "final_bigram_counts_test = count_vect.transform(X_test)\n",
    "print(\"the type of count vectorizer \",type(final_bigram_counts))\n",
    "print(\"the shape of out text BOW vectorizer \",final_bigram_counts.get_shape())\n",
    "print(\"the number of unique words including both unigrams and bigrams \", final_bigram_counts.get_shape()[1])\n",
    "\n",
    "print(\"=\"*50)\n",
    "print(\"for test data\")\n",
    "\n",
    "print(\"the type of count vectorizer \",type(final_bigram_counts_test))\n",
    "print(\"the shape of out text BOW vectorizer \",final_bigram_counts_test.get_shape())\n",
    "print(\"the number of unique words including both unigrams and bigrams \", final_bigram_counts_test.get_shape()[1])"
   ]
  },
  {
   "cell_type": "markdown",
   "metadata": {
    "colab_type": "text",
    "id": "Oj9L6QcE6Y5h"
   },
   "source": [
    "## [4.3] TF-IDF"
   ]
  },
  {
   "cell_type": "code",
   "execution_count": 0,
   "metadata": {
    "colab": {
     "base_uri": "https://localhost:8080/",
     "height": 187
    },
    "colab_type": "code",
    "id": "x1asOa-s6Y5i",
    "outputId": "88312c2f-04bf-4141-913a-779fdb433b9f"
   },
   "outputs": [
    {
     "name": "stdout",
     "output_type": "stream",
     "text": [
      "some sample features(unique words in the corpus) ['actually', 'add', 'almost', 'also', 'always', 'amazon', 'amount', 'another', 'anything', 'around']\n",
      "==================================================\n",
      "the type of count vectorizer  <class 'scipy.sparse.csr.csr_matrix'>\n",
      "the shape of out text TFIDF vectorizer  (14000, 200)\n",
      "the number of unique words including both unigrams and bigrams  200\n",
      "==================================================\n",
      "for test data\n",
      "the type of count vectorizer  <class 'scipy.sparse.csr.csr_matrix'>\n",
      "the shape of out text TFIDF vectorizer  (6000, 200)\n",
      "the number of unique words including both unigrams and bigrams  200\n"
     ]
    }
   ],
   "source": [
    "tf_idf_vect = TfidfVectorizer(ngram_range=(1,2), min_df=10, max_features = 200)\n",
    "tf_idf_vect.fit(X_train)\n",
    "print(\"some sample features(unique words in the corpus)\",tf_idf_vect.get_feature_names()[0:10])\n",
    "print('='*50)\n",
    "\n",
    "final_tf_idf = tf_idf_vect.transform(X_train)\n",
    "final_tf_idf_test = tf_idf_vect.transform(X_test)\n",
    "\n",
    "print(\"the type of count vectorizer \",type(final_tf_idf))\n",
    "print(\"the shape of out text TFIDF vectorizer \",final_tf_idf.get_shape())\n",
    "print(\"the number of unique words including both unigrams and bigrams \", final_tf_idf.get_shape()[1])\n",
    "\n",
    "print(\"=\"*50)\n",
    "print(\"for test data\")\n",
    "\n",
    "print(\"the type of count vectorizer \",type(final_tf_idf_test))\n",
    "print(\"the shape of out text TFIDF vectorizer \",final_tf_idf_test.get_shape())\n",
    "print(\"the number of unique words including both unigrams and bigrams \", final_tf_idf_test.get_shape()[1])"
   ]
  },
  {
   "cell_type": "code",
   "execution_count": 0,
   "metadata": {
    "colab": {},
    "colab_type": "code",
    "id": "75eHm96e6Y5l"
   },
   "outputs": [],
   "source": []
  },
  {
   "cell_type": "markdown",
   "metadata": {
    "colab_type": "text",
    "id": "npLWv8M66Y5m"
   },
   "source": [
    "## [4.4] Word2Vec"
   ]
  },
  {
   "cell_type": "code",
   "execution_count": 0,
   "metadata": {
    "colab": {},
    "colab_type": "code",
    "id": "ZtiaSGDW6Y5n"
   },
   "outputs": [],
   "source": [
    "# Train your own Word2Vec model using your own text corpus for train data\n",
    "i=0\n",
    "list_of_sentance=[]\n",
    "for sentance in X_train:\n",
    "    list_of_sentance.append(sentance.split())"
   ]
  },
  {
   "cell_type": "code",
   "execution_count": 0,
   "metadata": {
    "colab": {},
    "colab_type": "code",
    "id": "nFhMG5_anEG6"
   },
   "outputs": [],
   "source": [
    "# Train your own Word2Vec model using your own text corpus for test data\n",
    "i=0\n",
    "list_of_sentance_test=[]\n",
    "for sentance in X_test:\n",
    "    list_of_sentance_test.append(sentance.split())"
   ]
  },
  {
   "cell_type": "code",
   "execution_count": 0,
   "metadata": {
    "colab": {
     "base_uri": "https://localhost:8080/",
     "height": 91
    },
    "colab_type": "code",
    "id": "zKn0btoQ6Y5q",
    "outputId": "bfc44a74-d746-4aae-f0c1-dfda52366d0f",
    "scrolled": true
   },
   "outputs": [
    {
     "name": "stdout",
     "output_type": "stream",
     "text": [
      "[('good', 0.8626651763916016), ('wonderful', 0.7947291731834412), ('excellent', 0.7797785997390747), ('fantastic', 0.7426627278327942), ('amazing', 0.7361242175102234), ('awesome', 0.7321888208389282), ('perfect', 0.7315688729286194), ('love', 0.7119004726409912), ('fine', 0.6943828463554382), ('delicious', 0.6886692047119141)]\n",
      "==================================================\n",
      "[('unfiltered', 0.960004448890686), ('abroad', 0.9342438578605652), ('favorites', 0.9341275095939636), ('ive', 0.933422327041626), ('rank', 0.9327754974365234), ('stacks', 0.9294769763946533), ('coca', 0.9286816120147705), ('heard', 0.9250746965408325), ('name', 0.9249507784843445), ('sweetest', 0.9236856698989868)]\n"
     ]
    }
   ],
   "source": [
    "# Using Google News Word2Vectors\n",
    "\n",
    "# in this project we are using a pretrained model by google\n",
    "# its 3.3G file, once you load this into your memory \n",
    "# it occupies ~9Gb, so please do this step only if you have >12G of ram\n",
    "# we will provide a pickle file wich contains a dict , \n",
    "# and it contains all our courpus words as keys and  model[word] as values\n",
    "# To use this code-snippet, download \"GoogleNews-vectors-negative300.bin\" \n",
    "# from https://drive.google.com/file/d/0B7XkCwpI5KDYNlNUTTlSS21pQmM/edit\n",
    "# it's 1.9GB in size.\n",
    "\n",
    "\n",
    "# http://kavita-ganesan.com/gensim-word2vec-tutorial-starter-code/#.W17SRFAzZPY\n",
    "# you can comment this whole cell\n",
    "# or change these varible according to your need\n",
    "\n",
    "is_your_ram_gt_16g=False\n",
    "want_to_use_google_w2v = False\n",
    "want_to_train_w2v = True\n",
    "\n",
    "if want_to_train_w2v:\n",
    "    # min_count = 5 considers only words that occured atleast 5 times\n",
    "    w2v_model=Word2Vec(list_of_sentance,min_count=5,size=50, workers=4)\n",
    "    print(w2v_model.wv.most_similar('great'))\n",
    "    print('='*50)\n",
    "    print(w2v_model.wv.most_similar('worst'))\n",
    "    \n",
    "elif want_to_use_google_w2v and is_your_ram_gt_16g:\n",
    "    if os.path.isfile('GoogleNews-vectors-negative300.bin'):\n",
    "        w2v_model=KeyedVectors.load_word2vec_format('GoogleNews-vectors-negative300.bin', binary=True)\n",
    "        print(w2v_model.wv.most_similar('great'))\n",
    "        print(w2v_model.wv.most_similar('worst'))\n",
    "    else:\n",
    "        print(\"you don't have gogole's word2vec file, keep want_to_train_w2v = True, to train your own w2v \")"
   ]
  },
  {
   "cell_type": "code",
   "execution_count": 0,
   "metadata": {
    "colab": {
     "base_uri": "https://localhost:8080/",
     "height": 74
    },
    "colab_type": "code",
    "id": "2ocE4xn06Y5t",
    "outputId": "a977dcf4-58a5-451d-e977-657675c4aa7d"
   },
   "outputs": [
    {
     "name": "stdout",
     "output_type": "stream",
     "text": [
      "number of words that occured minimum 5 times  8052\n",
      "sample words  ['every', 'time', 'pick', 'peanut', 'butter', 'goo', 'completely', 'loses', 'mind', 'sits', 'floor', 'eats', 'instead', 'chewing', 'everything', 'else', 'house', 'happy', 'couple', 'bucks', 'seller', 'responded', 'concerns', 'beyond', 'expectations', 'would', 'highly', 'recommend', 'buying', 'product', 'fresh', 'service', 'responsive', 'made', 'french', 'onion', 'soup', 'added', 'protein', 'tastes', 'great', 'especially', 'glad', 'high', 'sent', 'gift', 'review', 'sister', 'good', 'family']\n"
     ]
    }
   ],
   "source": [
    "#Creating a word vocabulary based on training data.\n",
    "w2v_words = list(w2v_model.wv.vocab)\n",
    "print(\"number of words that occured minimum 5 times \",len(w2v_words))\n",
    "print(\"sample words \", w2v_words[0:50])"
   ]
  },
  {
   "cell_type": "code",
   "execution_count": 0,
   "metadata": {
    "colab": {},
    "colab_type": "code",
    "id": "WS-q6Y-IrNeq"
   },
   "outputs": [],
   "source": []
  },
  {
   "cell_type": "markdown",
   "metadata": {
    "colab_type": "text",
    "id": "_VxN8did6Y5z"
   },
   "source": [
    "## [4.4.1] Converting text into vectors using Avg W2V, TFIDF-W2V"
   ]
  },
  {
   "cell_type": "markdown",
   "metadata": {
    "colab_type": "text",
    "id": "PmPQvMGJ6Y50"
   },
   "source": [
    "#### [4.4.1.1] Avg W2v"
   ]
  },
  {
   "cell_type": "code",
   "execution_count": 0,
   "metadata": {
    "colab": {
     "base_uri": "https://localhost:8080/",
     "height": 68
    },
    "colab_type": "code",
    "id": "9ApCN4MW6Y51",
    "outputId": "c862e2da-fc5e-4061-952b-a8e8231d85d5"
   },
   "outputs": [
    {
     "name": "stderr",
     "output_type": "stream",
     "text": [
      "100%|██████████| 14000/14000 [00:27<00:00, 513.48it/s]"
     ]
    },
    {
     "name": "stdout",
     "output_type": "stream",
     "text": [
      "14000\n",
      "50\n"
     ]
    },
    {
     "name": "stderr",
     "output_type": "stream",
     "text": [
      "\n"
     ]
    }
   ],
   "source": [
    "#Converting each word of a review from training data into vector of len 50, adding them up and the finding an average. Hence converting training data into vector form.\n",
    "\n",
    "# average Word2Vec\n",
    "# compute average word2vec for each review.\n",
    "sent_vectors = []; # the avg-w2v for each sentence/review is stored in this list\n",
    "for sent in tqdm(list_of_sentance): # for each review/sentence\n",
    "    sent_vec = np.zeros(50) # as word vectors are of zero length 50, you might need to change this to 300 if you use google's w2v\n",
    "    cnt_words =0; # num of words with a valid vector in the sentence/review\n",
    "    for word in sent: # for each word in a review/sentence\n",
    "        if word in w2v_words:\n",
    "            vec = w2v_model.wv[word]\n",
    "            sent_vec += vec\n",
    "            cnt_words += 1\n",
    "    if cnt_words != 0:\n",
    "        sent_vec /= cnt_words\n",
    "    sent_vectors.append(sent_vec)\n",
    "print(len(sent_vectors))\n",
    "print(len(sent_vectors[0]))"
   ]
  },
  {
   "cell_type": "code",
   "execution_count": 0,
   "metadata": {
    "colab": {},
    "colab_type": "code",
    "id": "nSUd1veuhZgb"
   },
   "outputs": [],
   "source": [
    "#Resulting vector representation of Training data\n",
    "X_tr_w2v = sent_vectors"
   ]
  },
  {
   "cell_type": "code",
   "execution_count": 0,
   "metadata": {
    "colab": {
     "base_uri": "https://localhost:8080/",
     "height": 68
    },
    "colab_type": "code",
    "id": "BIETgwt06Y55",
    "outputId": "649e6776-74f9-4a59-bd35-c9aa2013c8a8"
   },
   "outputs": [
    {
     "name": "stderr",
     "output_type": "stream",
     "text": [
      "100%|██████████| 6000/6000 [00:11<00:00, 506.01it/s]"
     ]
    },
    {
     "name": "stdout",
     "output_type": "stream",
     "text": [
      "6000\n",
      "50\n"
     ]
    },
    {
     "name": "stderr",
     "output_type": "stream",
     "text": [
      "\n"
     ]
    }
   ],
   "source": [
    "#Converting each word of a review from test data into vector of len 50, adding them up and the finding an average. Hence converting test data into vector form.\n",
    "\n",
    "# average Word2Vec\n",
    "# compute average word2vec for each review.\n",
    "sent_vectors = []; # the avg-w2v for each sentence/review is stored in this list\n",
    "for sent in tqdm(list_of_sentance_test): # for each review/sentence\n",
    "    sent_vec = np.zeros(50) # as word vectors are of zero length 50, you might need to change this to 300 if you use google's w2v\n",
    "    cnt_words =0; # num of words with a valid vector in the sentence/review\n",
    "    for word in sent: # for each word in a review/sentence\n",
    "        if word in w2v_words:\n",
    "            vec = w2v_model.wv[word]\n",
    "            sent_vec += vec\n",
    "            cnt_words += 1\n",
    "    if cnt_words != 0:\n",
    "        sent_vec /= cnt_words\n",
    "    sent_vectors.append(sent_vec)\n",
    "print(len(sent_vectors))\n",
    "print(len(sent_vectors[0]))"
   ]
  },
  {
   "cell_type": "code",
   "execution_count": 0,
   "metadata": {
    "colab": {},
    "colab_type": "code",
    "id": "goqKY2TDcnlg"
   },
   "outputs": [],
   "source": [
    "#Resulting vector representation of reviews of Test data\n",
    "X_ts_w2v = sent_vectors"
   ]
  },
  {
   "cell_type": "markdown",
   "metadata": {
    "colab_type": "text",
    "id": "RWA0P2Vx6Y5_"
   },
   "source": [
    "#### [4.4.1.2] TFIDF weighted W2v"
   ]
  },
  {
   "cell_type": "code",
   "execution_count": 0,
   "metadata": {
    "colab": {},
    "colab_type": "code",
    "id": "Na9lPT0o6Y6B"
   },
   "outputs": [],
   "source": [
    "#Training the TfidfVectorizer on Train data\n",
    "\n",
    "# S = [\"abc def pqr\", \"def def def abc\", \"pqr pqr def\"]\n",
    "model = TfidfVectorizer()\n",
    "tf_idf_matrix = model.fit_transform(X_train)\n",
    "# we are converting a dictionary with word as a key, and the idf as a value\n",
    "dictionary = dict(zip(model.get_feature_names(), list(model.idf_)))"
   ]
  },
  {
   "cell_type": "code",
   "execution_count": 0,
   "metadata": {
    "colab": {
     "base_uri": "https://localhost:8080/",
     "height": 34
    },
    "colab_type": "code",
    "id": "_PDj4R9Y6Y6E",
    "outputId": "382d3160-ae28-463a-ab71-b2fe2f15c719",
    "scrolled": true
   },
   "outputs": [
    {
     "name": "stderr",
     "output_type": "stream",
     "text": [
      "100%|██████████| 14000/14000 [03:42<00:00, 62.92it/s]\n"
     ]
    }
   ],
   "source": [
    "#Converting each word of a review from Train data into Tfidf W2v vector representation of len 50. Hence converting Train data into vector form.\n",
    "\n",
    "# TF-IDF weighted Word2Vec\n",
    "tfidf_feat = model.get_feature_names() # tfidf words/col-names\n",
    "# final_tf_idf is the sparse matrix with row= sentence, col=word and cell_val = tfidf\n",
    "\n",
    "tfidf_sent_vectors = []; # the tfidf-w2v for each sentence/review is stored in this list\n",
    "row=0;\n",
    "for sent in tqdm(list_of_sentance): # for each review/sentence \n",
    "    sent_vec = np.zeros(50) # as word vectors are of zero length\n",
    "    weight_sum =0; # num of words with a valid vector in the sentence/review\n",
    "    for word in sent: # for each word in a review/sentence\n",
    "        if word in w2v_words and word in tfidf_feat:\n",
    "            vec = w2v_model.wv[word]\n",
    "#             tf_idf = tf_idf_matrix[row, tfidf_feat.index(word)]\n",
    "            # to reduce the computation we are \n",
    "            # dictionary[word] = idf value of word in whole courpus\n",
    "            # sent.count(word) = tf valeus of word in this review\n",
    "            tf_idf = dictionary[word]*(sent.count(word)/len(sent))\n",
    "            sent_vec += (vec * tf_idf)\n",
    "            weight_sum += tf_idf\n",
    "    if weight_sum != 0:\n",
    "        sent_vec /= weight_sum\n",
    "    tfidf_sent_vectors.append(sent_vec)\n",
    "    row += 1"
   ]
  },
  {
   "cell_type": "code",
   "execution_count": 0,
   "metadata": {
    "colab": {},
    "colab_type": "code",
    "id": "y0Q-ujMaiBX9"
   },
   "outputs": [],
   "source": [
    "#Resulting vector representation of reviews of Train data\n",
    "X_tr_tf = tfidf_sent_vectors"
   ]
  },
  {
   "cell_type": "code",
   "execution_count": 0,
   "metadata": {
    "colab": {
     "base_uri": "https://localhost:8080/",
     "height": 34
    },
    "colab_type": "code",
    "id": "qzYHRByPhy8C",
    "outputId": "9dfa3a7e-f930-4766-e4fd-faf7e469e50c"
   },
   "outputs": [
    {
     "name": "stderr",
     "output_type": "stream",
     "text": [
      "100%|██████████| 6000/6000 [01:32<00:00, 65.12it/s]\n"
     ]
    }
   ],
   "source": [
    "#Converting each word of a review from Test data into Tfidf W2v vector representation of len 50. Hence converting Test data into vector form.\n",
    "#Test data is converted to vectors using w2v_model and TfidfVectorizer which were built on Training data.\n",
    "\n",
    "# TF-IDF weighted Word2Vec\n",
    "tfidf_feat = model.get_feature_names() # tfidf words/col-names\n",
    "# final_tf_idf is the sparse matrix with row= sentence, col=word and cell_val = tfidf\n",
    "\n",
    "tfidf_sent_vectors = []; # the tfidf-w2v for each sentence/review is stored in this list\n",
    "row=0;\n",
    "for sent in tqdm(list_of_sentance_test): # for each review/sentence \n",
    "    sent_vec = np.zeros(50) # as word vectors are of zero length\n",
    "    weight_sum =0; # num of words with a valid vector in the sentence/review\n",
    "    for word in sent: # for each word in a review/sentence\n",
    "        if word in w2v_words and word in tfidf_feat:\n",
    "            vec = w2v_model.wv[word]\n",
    "#             tf_idf = tf_idf_matrix[row, tfidf_feat.index(word)]\n",
    "            # to reduce the computation we are \n",
    "            # dictionary[word] = idf value of word in whole courpus\n",
    "            # sent.count(word) = tf valeus of word in this review\n",
    "            tf_idf = dictionary[word]*(sent.count(word)/len(sent))\n",
    "            sent_vec += (vec * tf_idf)\n",
    "            weight_sum += tf_idf\n",
    "    if weight_sum != 0:\n",
    "        sent_vec /= weight_sum\n",
    "    tfidf_sent_vectors.append(sent_vec)\n",
    "    row += 1"
   ]
  },
  {
   "cell_type": "code",
   "execution_count": 0,
   "metadata": {
    "colab": {},
    "colab_type": "code",
    "id": "1lmEyBcejLnb"
   },
   "outputs": [],
   "source": [
    "#Resulting vector representation of reviews of Test data\n",
    "X_ts_tf = tfidf_sent_vectors"
   ]
  },
  {
   "cell_type": "markdown",
   "metadata": {
    "colab_type": "text",
    "id": "Geir80q-6Y6K"
   },
   "source": [
    "# [5] Assignment 3: KNN"
   ]
  },
  {
   "cell_type": "markdown",
   "metadata": {
    "colab_type": "text",
    "id": "qWL7IhpR6Y6K"
   },
   "source": [
    "<ol>\n",
    "    <li><strong>Apply Knn(brute force version) on these feature sets</strong>\n",
    "        <ul>\n",
    "            <li><font color='red'>SET 1:</font>Review text, preprocessed one converted into vectors using (BOW)</li>\n",
    "            <li><font color='red'>SET 2:</font>Review text, preprocessed one converted into vectors using (TFIDF)</li>\n",
    "            <li><font color='red'>SET 3:</font>Review text, preprocessed one converted into vectors using (AVG W2v)</li>\n",
    "            <li><font color='red'>SET 4:</font>Review text, preprocessed one converted into vectors using (TFIDF W2v)</li>\n",
    "        </ul>\n",
    "    </li>\n",
    "    <br>\n",
    "    <li><strong>Apply Knn(kd tree version) on these feature sets</strong>\n",
    "        <br><font color='red'>NOTE: </font>sklearn implementation of kd-tree accepts only dense matrices, you need to convert the sparse matrices of CountVectorizer/TfidfVectorizer into dense matices. You can convert sparse matrices to dense using .toarray() attribute. For more information please visit this <a href='https://docs.scipy.org/doc/scipy-0.18.1/reference/generated/scipy.sparse.csr_matrix.toarray.html'>link</a>\n",
    "        <ul>\n",
    "            <li><font color='red'>SET 5:</font>Review text, preprocessed one converted into vectors using (BOW) but with restriction on maximum features generated.\n",
    "            <pre>\n",
    "            count_vect = CountVectorizer(min_df=10, max_features=500) \n",
    "            count_vect.fit(preprocessed_reviews)\n",
    "            </pre>\n",
    "            </li>\n",
    "            <li><font color='red'>SET 6:</font>Review text, preprocessed one converted into vectors using (TFIDF) but with restriction on maximum features generated.\n",
    "            <pre>\n",
    "                tf_idf_vect = TfidfVectorizer(min_df=10, max_features=500)\n",
    "                tf_idf_vect.fit(preprocessed_reviews)\n",
    "            </pre>\n",
    "            </li>\n",
    "            <li><font color='red'>SET 3:</font>Review text, preprocessed one converted into vectors using (AVG W2v)</li>\n",
    "            <li><font color='red'>SET 4:</font>Review text, preprocessed one converted into vectors using (TFIDF W2v)</li>\n",
    "        </ul>\n",
    "    </li>\n",
    "    <br>\n",
    "    <li><strong>The hyper paramter tuning(find best K)</strong>\n",
    "        <ul>\n",
    "    <li>Find the best hyper parameter which will give the maximum <a href='https://www.appliedaicourse.com/course/applied-ai-course-online/lessons/receiver-operating-characteristic-curve-roc-curve-and-auc-1/'>AUC</a> value</li>\n",
    "    <li>Find the best hyper paramter using k-fold cross validation or simple cross validation data</li>\n",
    "    <li>Use gridsearch cv or randomsearch cv or you can also write your own for loops to do this task of hyperparameter tuning</li>\n",
    "        </ul>\n",
    "    </li>\n",
    "    <br>\n",
    "    <li>\n",
    "    <strong>Representation of results</strong>\n",
    "        <ul>\n",
    "    <li>You need to plot the performance of model both on train data and cross validation data for each hyper parameter, like shown in the figure\n",
    "    <img src='train_cv_auc.JPG' width=300px></li>\n",
    "    <li>Once after you found the best hyper parameter, you need to train your model with it, and find the AUC on test data and plot the ROC curve on both train and test.\n",
    "    <img src='train_test_auc.JPG' width=300px></li>\n",
    "    <li>Along with plotting ROC curve, you need to print the <a href='https://www.appliedaicourse.com/course/applied-ai-course-online/lessons/confusion-matrix-tpr-fpr-fnr-tnr-1/'>confusion matrix</a> with predicted and original labels of test data points\n",
    "    <img src='confusion_matrix.png' width=300px></li>\n",
    "        </ul>\n",
    "    </li>\n",
    "    <br>\n",
    "    <li><strong>Conclusion</strong>\n",
    "        <ul>\n",
    "    <li>You need to summarize the results at the end of the notebook, summarize it in the table format. To print out a table please refer to this prettytable library<a href='http://zetcode.com/python/prettytable/'> link</a> \n",
    "        <img src='summary.JPG' width=400px>\n",
    "    </li>\n",
    "        </ul>\n",
    "</ol>"
   ]
  },
  {
   "cell_type": "markdown",
   "metadata": {
    "colab_type": "text",
    "id": "UN7n96fy6Y6M"
   },
   "source": [
    "<h4><font color='red'>Note: Data Leakage</font></h4>\n",
    "\n",
    "1. There will be an issue of data-leakage if you vectorize the entire data and then split it into train/cv/test.\n",
    "2. To avoid the issue of data-leakag, make sure to split your data first and then vectorize it. \n",
    "3. While vectorizing your data, apply the method fit_transform() on you train data, and apply the method transform() on cv/test data.\n",
    "4. For more details please go through this <a href='https://soundcloud.com/applied-ai-course/leakage-bow-and-tfidf'>link.</a>"
   ]
  },
  {
   "cell_type": "code",
   "execution_count": 0,
   "metadata": {
    "colab": {},
    "colab_type": "code",
    "id": "vAaQOrUn6Y6M"
   },
   "outputs": [],
   "source": [
    "# Common User defined function used.\n",
    "\n",
    "#Plots AUC Score vs Neighbors \n",
    "def plot_best_hyperparameter(gridcv):            \n",
    "    cv_result = pd.DataFrame(gridcv.cv_results_)      #gridcv.cv_results_ outputs dict object of cross validation score and train score. \n",
    "    '''cv = {\n",
    "    \"neighbors\" : cv_result[\"param_n_neighbors\"],\n",
    "    \"train score\" : cv_result[\"mean_train_score\"],\n",
    "    \"validation score\" : cv_result[\"mean_test_score\"]}'''\n",
    "\n",
    "    #CV_score = pd.DataFrame(cv)\n",
    "    \n",
    "    #Plot for Train and Test data\n",
    "    plt.figure()\n",
    "    plt.title(\"Best hyperparameter for Train and Test data\")\n",
    "    line1 = plt.plot(cv_result[\"param_n_neighbors\"], cv_result[\"mean_train_score\"], label = \"Train_AUC_Score\")\n",
    "    line2 = plt.plot(cv_result[\"param_n_neighbors\"], cv_result[\"mean_test_score\"], label = \"Cross_Validation_AUC_Score\")\n",
    "    plt.xticks(rotation=90)\n",
    "    plt.xlabel(\"Neighbors/ K\")\n",
    "    plt.ylabel(\"AUC Score\")\n",
    "    plt.legend()\n",
    "    plt.show()\n",
    "    \n",
    "   \n",
    "    '''plt.figure()\n",
    "    plt.title(\"Best hyperparameter for validation data\")\n",
    "    plt.plot(cv_result[\"param_n_neighbors\"], cv_result[\"mean_test_score\"])\n",
    "    plt.xticks(rotation=90)\n",
    "    plt.xlabel(\"Neighbors\")\n",
    "    plt.ylabel(\"AUC Score\")\n",
    "    plt.show()'''\n",
    "\n",
    "\n",
    "def plot_roc_curve(test_y, predict_proba_y):     #Plots ROC Curve\n",
    "    \n",
    "    fpr, tpr, threshold = roc_curve(test_y, predict_proba_y)\n",
    "    auc_area = metrics.auc(fpr, tpr)\n",
    "    \n",
    "    plt.figure()\n",
    "    plt.plot(fpr, tpr, color = 'darkorange', linewidth = 2,label = \"AUC: %0.2f\" %auc_area)\n",
    "    plt.plot([0,1],[0,1], linewidth = 2, linestyle=\"--\")\n",
    "    plt.xlim([0,1])\n",
    "    plt.ylim([0,1])\n",
    "    plt.xlabel(\"FPR\")\n",
    "    plt.ylabel(\"TPR\")\n",
    "    plt.title(\"ROC Curve\")\n",
    "    plt.legend(loc = \"lower right\")\n",
    "    plt.show()\n",
    "    \n",
    "\n",
    "    \n",
    "def plot_confusion_mat(test_y, predict_proba_y):    #Plots Confusion Matrix\n",
    "\n",
    "    cnf_mat = confusion_matrix(test_y, predict_proba_y)\n",
    "    cnf_df = pd.DataFrame(cnf_mat, index = [\"Actual: 0\", \"Actual: 1\"], columns = [\"Predicted: 0\", \"Predicted: 1\"], dtype= float)\n",
    "\n",
    "    plt.figure(figsize=(5,3))\n",
    "    plt.title(\"Confusion Matrix\")\n",
    "    sns.heatmap(cnf_df, annot = True, fmt = \"g\")\n"
   ]
  },
  {
   "cell_type": "code",
   "execution_count": 0,
   "metadata": {
    "colab": {},
    "colab_type": "code",
    "id": "iDI4Jcxcg_pX"
   },
   "outputs": [],
   "source": []
  },
  {
   "cell_type": "markdown",
   "metadata": {
    "colab_type": "text",
    "id": "E7MUYSeU6Y6i"
   },
   "source": [
    "## [5.2] Applying KNN kd-tree"
   ]
  },
  {
   "cell_type": "markdown",
   "metadata": {
    "colab_type": "text",
    "id": "4NDFlVpg6Y6i"
   },
   "source": [
    "### [5.2.1] Applying KNN kd-tree on BOW,<font color='red'> SET 5</font>"
   ]
  },
  {
   "cell_type": "code",
   "execution_count": 0,
   "metadata": {
    "colab": {
     "base_uri": "https://localhost:8080/",
     "height": 313
    },
    "colab_type": "code",
    "id": "OjrbhZ2i6Y6j",
    "outputId": "bd9d7f5d-b540-42c6-e3c4-d07203057710"
   },
   "outputs": [
    {
     "name": "stdout",
     "output_type": "stream",
     "text": [
      "{'n_neighbors': 93}\n"
     ]
    },
    {
     "data": {
      "image/png": "[encoded data removed]",
      "text/plain": [
       "<Figure size 432x288 with 1 Axes>"
      ]
     },
     "metadata": {
      "tags": []
     },
     "output_type": "display_data"
    }
   ],
   "source": [
    "# Please write all the code with proper documentation\n",
    "#final_counts = final_counts.toarray()\n",
    "\n",
    "#count_vect = CountVectorizer(max_features = 200) \n",
    "#count_vect.fit(X_train)\n",
    "\n",
    "#final_counts = count_vect.transform(X_train)\n",
    "#final_counts_test = count_vect.transform(X_test)\n",
    "\n",
    "#Converting the sparse matrix to dense\n",
    "final_counts = final_counts.toarray()\n",
    "final_counts_test = final_counts_test.toarray()\n",
    "\n",
    "from sklearn.model_selection import GridSearchCV\n",
    "from sklearn.neighbors import KNeighborsClassifier\n",
    "\n",
    "#Parameters\n",
    "\n",
    "'''params = {\"n_neighbors\":[3,5,7,9,11,13,15,17,19,23,25,27,29,31,35,41,45,51,75,99]\n",
    "         }'''\n",
    "\n",
    "params = {\"n_neighbors\":[3,13,23,33,43,53,63,73,83,93]\n",
    "         }\n",
    "\n",
    "knn_bow = KNeighborsClassifier(algorithm = \"kd_tree\")\n",
    "\n",
    "gridcv = GridSearchCV(knn_bow, params, scoring = 'roc_auc')\n",
    "gridcv.fit(final_counts, y_train)\n",
    "print(gridcv.best_params_)\n",
    "\n",
    "bst_paramtr = gridcv.best_params_[\"n_neighbors\"]\n",
    "\n",
    "#Plots the graph for all  parameters to find best hyperparameter.\n",
    "plot_best_hyperparameter(gridcv)"
   ]
  },
  {
   "cell_type": "code",
   "execution_count": 0,
   "metadata": {
    "colab": {
     "base_uri": "https://localhost:8080/",
     "height": 520
    },
    "colab_type": "code",
    "id": "hwSzrwP_6Y6l",
    "outputId": "861d1867-bfeb-47e3-db6a-2e173bb1d4e0"
   },
   "outputs": [
    {
     "name": "stdout",
     "output_type": "stream",
     "text": [
      "AUC for KNN with BOW for KD Tree method:  0.7619648873428133\n"
     ]
    },
    {
     "data": {
      "image/png": "[encoded data removed]",
      "text/plain": [
       "<Figure size 432x288 with 1 Axes>"
      ]
     },
     "metadata": {
      "tags": []
     },
     "output_type": "display_data"
    },
    {
     "data": {
      "image/png": "[encoded data removed]",
      "text/plain": [
       "<Figure size 360x216 with 2 Axes>"
      ]
     },
     "metadata": {
      "tags": []
     },
     "output_type": "display_data"
    }
   ],
   "source": [
    "from sklearn.metrics import roc_auc_score\n",
    "#final_counts_test = final_counts_test.toarray()\n",
    "\n",
    "knn_bow_1 = KNeighborsClassifier(n_neighbors = bst_paramtr , algorithm = \"kd_tree\")\n",
    "knn_bow_1.fit(final_counts, y_train)\n",
    "\n",
    "y_predict_proba_bow_kd = knn_bow_1.predict_proba(final_counts_test)[:,1]\n",
    "y_predict_bow_kd = knn_bow_1.predict(final_counts_test)\n",
    "\n",
    "roc_auc = roc_auc_score(y_test, y_predict_proba_bow_kd)\n",
    "\n",
    "print(\"AUC for KNN with BOW for KD Tree method: \", roc_auc)\n",
    "\n",
    "#Plots ROC curve\n",
    "plot_roc_curve(y_test, y_predict_proba_bow_kd)\n",
    "\n",
    "#Plots Confusion matrix\n",
    "plot_confusion_mat(y_test, y_predict_bow_kd)"
   ]
  },
  {
   "cell_type": "code",
   "execution_count": 0,
   "metadata": {
    "colab": {},
    "colab_type": "code",
    "id": "R059zcur6Y6p"
   },
   "outputs": [],
   "source": []
  },
  {
   "cell_type": "markdown",
   "metadata": {
    "colab_type": "text",
    "id": "8kzt6DBk6Y6r"
   },
   "source": [
    "### [5.2.2] Applying KNN kd-tree on TFIDF,<font color='red'> SET 6</font>"
   ]
  },
  {
   "cell_type": "code",
   "execution_count": 0,
   "metadata": {
    "colab": {
     "base_uri": "https://localhost:8080/",
     "height": 313
    },
    "colab_type": "code",
    "id": "BLjvA4M-6Y6r",
    "outputId": "307302c0-d24c-475f-80b4-e5ae589de990"
   },
   "outputs": [
    {
     "name": "stdout",
     "output_type": "stream",
     "text": [
      "{'n_neighbors': 93}\n"
     ]
    },
    {
     "data": {
      "image/png": "[encoded data removed]",
      "text/plain": [
       "<Figure size 432x288 with 1 Axes>"
      ]
     },
     "metadata": {
      "tags": []
     },
     "output_type": "display_data"
    }
   ],
   "source": [
    "# Please write all the code with proper documentation\n",
    "\n",
    "#tf_idf_vect = TfidfVectorizer(ngram_range=(1,2), min_df=10, max_features = 200)\n",
    "#tf_idf_vect.fit(X_train)\n",
    "\n",
    "#final_counts = tf_idf_vect.transform(X_train)\n",
    "#final_counts_test = tf_idf_vect.transform(X_test)\n",
    "\n",
    "#Converts sparse matix to dense\n",
    "final_tf_idf = final_tf_idf.toarray()\n",
    "final_tf_idf_test = final_tf_idf_test.toarray()\n",
    "\n",
    "#Parameters\n",
    "'''params = {\"n_neighbors\":[25,27,29,31,35,41,45,51,75,99]\n",
    "         }'''\n",
    "\n",
    "params = {\"n_neighbors\":[3,13,23,33,43,53,63,73,83,93]\n",
    "         }\n",
    "\n",
    "knn_bow = KNeighborsClassifier(algorithm = \"kd_tree\")\n",
    "\n",
    "gridcv = GridSearchCV(knn_bow, params, scoring = 'roc_auc', cv = 5)\n",
    "gridcv.fit(final_tf_idf, y_train)\n",
    "print(gridcv.best_params_)\n",
    "\n",
    "bst_paramtr = gridcv.best_params_[\"n_neighbors\"]\n",
    "\n",
    "plot_best_hyperparameter(gridcv)"
   ]
  },
  {
   "cell_type": "code",
   "execution_count": 0,
   "metadata": {
    "colab": {
     "base_uri": "https://localhost:8080/",
     "height": 520
    },
    "colab_type": "code",
    "id": "oBMIbsbD6Y6v",
    "outputId": "385efb7a-6172-4705-aaff-b66e01a32aee"
   },
   "outputs": [
    {
     "name": "stdout",
     "output_type": "stream",
     "text": [
      "AUC for KNN with TFIDF for KD Tree method:  0.7808253804626971\n"
     ]
    },
    {
     "data": {
      "image/png": "[encoded data removed]",
      "text/plain": [
       "<Figure size 432x288 with 1 Axes>"
      ]
     },
     "metadata": {
      "tags": []
     },
     "output_type": "display_data"
    },
    {
     "data": {
      "image/png": "[encoded data removed]",
      "text/plain": [
       "<Figure size 360x216 with 2 Axes>"
      ]
     },
     "metadata": {
      "tags": []
     },
     "output_type": "display_data"
    }
   ],
   "source": [
    "knn_bow_1 = KNeighborsClassifier(n_neighbors = bst_paramtr , algorithm = \"kd_tree\")\n",
    "knn_bow_1.fit(final_tf_idf, y_train)\n",
    "\n",
    "y_predict_proba_tfidf_kd = knn_bow_1.predict_proba(final_tf_idf_test)[:,1]\n",
    "y_predict_tfidf_kd = knn_bow_1.predict(final_tf_idf_test)\n",
    "\n",
    "roc_auc = roc_auc_score(y_test, y_predict_proba_tfidf_kd)\n",
    "\n",
    "print(\"AUC for KNN with TFIDF for KD Tree method: \", roc_auc)\n",
    "\n",
    "#Plots ROC curve\n",
    "plot_roc_curve(y_test, y_predict_proba_tfidf_kd)\n",
    "\n",
    "#Plots Confusion matrix\n",
    "plot_confusion_mat(y_test, y_predict_tfidf_kd)"
   ]
  },
  {
   "cell_type": "code",
   "execution_count": 0,
   "metadata": {
    "colab": {},
    "colab_type": "code",
    "id": "2lroC9HW6Y6z"
   },
   "outputs": [],
   "source": []
  },
  {
   "cell_type": "markdown",
   "metadata": {
    "colab_type": "text",
    "id": "qG__l2H16Y60"
   },
   "source": [
    "### [5.2.3] Applying KNN kd-tree on AVG W2V,<font color='red'> SET 3</font>"
   ]
  },
  {
   "cell_type": "code",
   "execution_count": 0,
   "metadata": {
    "colab": {
     "base_uri": "https://localhost:8080/",
     "height": 313
    },
    "colab_type": "code",
    "id": "dtWceKnB6Y60",
    "outputId": "bc8001ac-e020-4cb6-c352-be9a74cb4147"
   },
   "outputs": [
    {
     "name": "stdout",
     "output_type": "stream",
     "text": [
      "{'n_neighbors': 83}\n"
     ]
    },
    {
     "data": {
      "image/png": "[encoded data removed]",
      "text/plain": [
       "<Figure size 432x288 with 1 Axes>"
      ]
     },
     "metadata": {
      "tags": []
     },
     "output_type": "display_data"
    }
   ],
   "source": [
    "# Please write all the code with proper documentation\n",
    "\n",
    "#Parameters\n",
    "'''params = {\"n_neighbors\":[25,27,29,31,35,41,45,51,75,99]\n",
    "         }'''\n",
    "params = {\"n_neighbors\":[3,13,23,33,43,53,63,73,83,93]\n",
    "         }\n",
    "\n",
    "knn_bow = KNeighborsClassifier(algorithm = \"kd_tree\")\n",
    "\n",
    "gridcv = GridSearchCV(knn_bow, params, scoring = 'roc_auc', cv = 5)\n",
    "gridcv.fit(X_tr_w2v, y_train)\n",
    "print(gridcv.best_params_)\n",
    "\n",
    "bst_paramtr = gridcv.best_params_[\"n_neighbors\"]\n",
    "\n",
    "#Plots the graph for all  parameters to find best hyperparameter.\n",
    "plot_best_hyperparameter(gridcv)"
   ]
  },
  {
   "cell_type": "code",
   "execution_count": 0,
   "metadata": {
    "colab": {
     "base_uri": "https://localhost:8080/",
     "height": 520
    },
    "colab_type": "code",
    "id": "xBVaYF666Y62",
    "outputId": "8f408551-21fe-4996-ffea-1d90493e2a14"
   },
   "outputs": [
    {
     "name": "stdout",
     "output_type": "stream",
     "text": [
      "AUC for KNN with AVG W2V for KD Tree method:  0.7915083276163657\n"
     ]
    },
    {
     "data": {
      "image/png": "[encoded data removed]",
      "text/plain": [
       "<Figure size 432x288 with 1 Axes>"
      ]
     },
     "metadata": {
      "tags": []
     },
     "output_type": "display_data"
    },
    {
     "data": {
      "image/png": "[encoded data removed]",
      "text/plain": [
       "<Figure size 360x216 with 2 Axes>"
      ]
     },
     "metadata": {
      "tags": []
     },
     "output_type": "display_data"
    }
   ],
   "source": [
    "from sklearn.model_selection import GridSearchCV\n",
    "from sklearn.neighbors import KNeighborsClassifier\n",
    "from sklearn.metrics import roc_auc_score\n",
    "\n",
    "knn_bow_1 = KNeighborsClassifier(n_neighbors = bst_paramtr , algorithm = \"kd_tree\")\n",
    "knn_bow_1.fit(X_tr_w2v, y_train)\n",
    "\n",
    "y_predict_proba_w2v_kd = knn_bow_1.predict_proba(X_ts_w2v)[:,1]\n",
    "y_predict_w2v_kd = knn_bow_1.predict(X_ts_w2v)\n",
    "\n",
    "roc_auc = roc_auc_score(y_test, y_predict_proba_w2v_kd)\n",
    "\n",
    "print(\"AUC for KNN with AVG W2V for KD Tree method: \", roc_auc)\n",
    "\n",
    "#Plots ROC curve \n",
    "plot_roc_curve(y_test, y_predict_proba_w2v_kd)\n",
    "\n",
    "#Plots Confusion matrix\n",
    "plot_confusion_mat(y_test, y_predict_w2v_kd)"
   ]
  },
  {
   "cell_type": "markdown",
   "metadata": {
    "colab_type": "text",
    "id": "7SjoI3N76Y64"
   },
   "source": [
    "### [5.2.4] Applying KNN kd-tree on TFIDF W2V,<font color='red'> SET 4</font>"
   ]
  },
  {
   "cell_type": "code",
   "execution_count": 0,
   "metadata": {
    "colab": {
     "base_uri": "https://localhost:8080/",
     "height": 313
    },
    "colab_type": "code",
    "id": "OV8VJK3N6Y64",
    "outputId": "9f23d65c-184c-4e78-82ca-7539b285147b"
   },
   "outputs": [
    {
     "name": "stdout",
     "output_type": "stream",
     "text": [
      "{'n_neighbors': 83}\n"
     ]
    },
    {
     "data": {
      "image/png": "[encoded data removed]",
      "text/plain": [
       "<Figure size 432x288 with 1 Axes>"
      ]
     },
     "metadata": {
      "tags": []
     },
     "output_type": "display_data"
    }
   ],
   "source": [
    "# Please write all the code with proper documentation\n",
    "\n",
    "#Parameters\n",
    "'''params = {\"n_neighbors\":[25,27,29,31,35,41,45,51,75,99]\n",
    "         }'''\n",
    "params = {\"n_neighbors\":[3,13,23,33,43,53,63,73,83,93]\n",
    "         }\n",
    "knn_bow = KNeighborsClassifier(algorithm = \"kd_tree\")\n",
    "\n",
    "gridcv = GridSearchCV(knn_bow, params, scoring = 'roc_auc', cv = 5)\n",
    "gridcv.fit(X_tr_tf, y_train)\n",
    "print(gridcv.best_params_)\n",
    "\n",
    "bst_paramtr = gridcv.best_params_[\"n_neighbors\"]\n",
    "\n",
    "#Plots the graph for all  parameters to find best hyperparameter.\n",
    "plot_best_hyperparameter(gridcv)"
   ]
  },
  {
   "cell_type": "code",
   "execution_count": 0,
   "metadata": {
    "colab": {
     "base_uri": "https://localhost:8080/",
     "height": 520
    },
    "colab_type": "code",
    "id": "snX9ctbu6Y69",
    "outputId": "c16014fd-9b13-4eff-c970-9a46db327ac5"
   },
   "outputs": [
    {
     "name": "stdout",
     "output_type": "stream",
     "text": [
      "AUC for KNN with TFIDF W2V for KD Tree method:  0.7502317841249089\n"
     ]
    },
    {
     "data": {
      "image/png": "[encoded data removed]",
      "text/plain": [
       "<Figure size 432x288 with 1 Axes>"
      ]
     },
     "metadata": {
      "tags": []
     },
     "output_type": "display_data"
    },
    {
     "data": {
      "image/png": "[encoded data removed]",
      "text/plain": [
       "<Figure size 360x216 with 2 Axes>"
      ]
     },
     "metadata": {
      "tags": []
     },
     "output_type": "display_data"
    }
   ],
   "source": [
    "knn_bow_1 = KNeighborsClassifier(n_neighbors = bst_paramtr , algorithm = \"kd_tree\")\n",
    "knn_bow_1.fit(X_tr_tf, y_train)\n",
    "\n",
    "y_predict_proba_tfidf_w2v_kd = knn_bow_1.predict_proba(X_ts_tf)[:,1]\n",
    "y_predict_tfidf_w2v_kd = knn_bow_1.predict(X_ts_tf)\n",
    "\n",
    "roc_auc = roc_auc_score(y_test, y_predict_proba_tfidf_w2v_kd)\n",
    "\n",
    "print(\"AUC for KNN with TFIDF W2V for KD Tree method: \", roc_auc)\n",
    "\n",
    "#Plots ROC curve\n",
    "plot_roc_curve(y_test, y_predict_proba_tfidf_w2v_kd)\n",
    "\n",
    "#Plots Confusion matrix\n",
    "plot_confusion_mat(y_test, y_predict_tfidf_w2v_kd)"
   ]
  },
  {
   "cell_type": "markdown",
   "metadata": {
    "colab_type": "text",
    "id": "cZrgymUA6Y6_"
   },
   "source": [
    "# [6] Conclusions"
   ]
  },
  {
   "cell_type": "code",
   "execution_count": 2,
   "metadata": {
    "colab": {
     "base_uri": "https://localhost:8080/",
     "height": 363
    },
    "colab_type": "code",
    "id": "wgy44fk96Y7A",
    "outputId": "e314183e-37c7-4936-896d-7cef6228c967"
   },
   "outputs": [
    {
     "name": "stdout",
     "output_type": "stream",
     "text": [
      "\n",
      "Note: For this assignment I have used 20K datapoints for KD Tree algo and 50k points for Brute Force method as mentioned.\n",
      "\n",
      "\n",
      "Table: Summary of all the Vectorization techniques and Algorithms used.\n",
      "+-------------+-------------------------+--------------------------+----------------+\n",
      "|  Algorithm  | Vectorization Technique | Best Test hyperparameter | AUC Test Score |\n",
      "+-------------+-------------------------+--------------------------+----------------+\n",
      "| Brute force |           BOW           |            93            |    0.74126     |\n",
      "| Brute force |          TFIDF          |            93            |    0.57777     |\n",
      "| Brute force |         AVG W2V         |            83            |    0.84825     |\n",
      "| Brute force |        TFIDF W2V        |            83            |     0.8155     |\n",
      "|   KD Tree   |           BOW           |            93            |    0.76196     |\n",
      "|   KD Tree   |          TFIDF          |            93            |    0.78082     |\n",
      "|   KD Tree   |         AVG W2V         |            83            |     0.7915     |\n",
      "|   KD Tree   |        TFIDF W2V        |            83            |     0.7502     |\n",
      "+-------------+-------------------------+--------------------------+----------------+\n",
      "\n",
      "Looking at the above table, we can conclude that for the given dataset, KNN model with AVG W2V vectorization and Brute force method seems to give the better AUC Score of 0.84825\n"
     ]
    }
   ],
   "source": [
    "# Please compare all your models using Prettytable library\n",
    "\n",
    "print(\"\\nNote: For this assignment I have used 20K datapoints for KD Tree algo and 50k points for Brute Force method as mentioned.\\n\")\n",
    "\n",
    "print(\"\\nTable: Summary of all the Vectorization techniques and Algorithms used.\")\n",
    "\n",
    "table = prettytable.PrettyTable()\n",
    "table.field_names=[\"Algorithm\", \"Vectorization Technique\",\"Best Test hyperparameter\", \"AUC Test Score\"]\n",
    "\n",
    "table.add_row([\"Brute force\",\"BOW\",93,0.74126])\n",
    "table.add_row([\"Brute force\",\"TFIDF\",93,0.57777])\n",
    "table.add_row([\"Brute force\",\"AVG W2V\",83,0.84825])\n",
    "table.add_row([\"Brute force\",\"TFIDF W2V\",83,0.8155])\n",
    "table.add_row([\"KD Tree\",\"BOW\",93,0.76196])\n",
    "table.add_row([\"KD Tree\",\"TFIDF\",93,0.78082])\n",
    "table.add_row([\"KD Tree\",\"AVG W2V\",83,0.7915])\n",
    "table.add_row([\"KD Tree\",\"TFIDF W2V\",83,0.7502])\n",
    "\n",
    "print(table)\n",
    "\n",
    "\n",
    "print(\"\\nLooking at the above table, we can conclude that for the given dataset, KNN model with AVG W2V vectorization and Brute force method seems to give the better AUC Score of 0.84825\")"
   ]
  }
 ],
 "metadata": {
  "accelerator": "GPU",
  "colab": {
   "collapsed_sections": [],
   "name": "03_Amazon_knn_brute_force.ipynb",
   "provenance": [],
   "version": "0.3.2"
  },
  "kernelspec": {
   "display_name": "Python 3",
   "language": "python",
   "name": "python3"
  },
  "language_info": {
   "codemirror_mode": {
    "name": "ipython",
    "version": 3
   },
   "file_extension": ".py",
   "mimetype": "text/x-python",
   "name": "python",
   "nbconvert_exporter": "python",
   "pygments_lexer": "ipython3",
   "version": "3.7.0"
  }
 },
 "nbformat": 4,
 "nbformat_minor": 1
}
