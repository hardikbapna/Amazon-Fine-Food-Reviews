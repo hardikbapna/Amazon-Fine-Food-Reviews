{
 "cells": [
  {
   "cell_type": "markdown",
   "metadata": {
    "colab_type": "text",
    "id": "cdBMmXJx6Y28"
   },
   "source": [
    "# Amazon Fine Food Reviews Analysis\n",
    "\n",
    "\n",
    "Data Source: https://www.kaggle.com/snap/amazon-fine-food-reviews <br>\n",
    "\n",
    "EDA: https://nycdatascience.com/blog/student-works/amazon-fine-foods-visualization/\n",
    "\n",
    "\n",
    "The Amazon Fine Food Reviews dataset consists of reviews of fine foods from Amazon.<br>\n",
    "\n",
    "Number of reviews: 568,454<br>\n",
    "Number of users: 256,059<br>\n",
    "Number of products: 74,258<br>\n",
    "Timespan: Oct 1999 - Oct 2012<br>\n",
    "Number of Attributes/Columns in data: 10 \n",
    "\n",
    "Attribute Information:\n",
    "\n",
    "1. Id\n",
    "2. ProductId - unique identifier for the product\n",
    "3. UserId - unqiue identifier for the user\n",
    "4. ProfileName\n",
    "5. HelpfulnessNumerator - number of users who found the review helpful\n",
    "6. HelpfulnessDenominator - number of users who indicated whether they found the review helpful or not\n",
    "7. Score - rating between 1 and 5\n",
    "8. Time - timestamp for the review\n",
    "9. Summary - brief summary of the review\n",
    "10. Text - text of the review\n",
    "\n",
    "\n",
    "#### Objective:\n",
    "Given a review, determine whether the review is positive (rating of 4 or 5) or negative (rating of 1 or 2).\n",
    "\n",
    "<br>\n",
    "[Q] How to determine if a review is positive or negative?<br>\n",
    "<br> \n",
    "[Ans] We could use Score/Rating. A rating of 4 or 5 can be cosnidered as a positive review. A rating of 1 or 2 can be considered as negative one. A review of rating 3 is considered nuetral and such reviews are ignored from our analysis. This is an approximate and proxy way of determining the polarity (positivity/negativity) of a review.\n",
    "\n",
    "\n"
   ]
  },
  {
   "cell_type": "markdown",
   "metadata": {
    "colab_type": "text",
    "id": "0_uObGmS6Y2-"
   },
   "source": [
    "# [1]. Reading Data"
   ]
  },
  {
   "cell_type": "markdown",
   "metadata": {
    "colab_type": "text",
    "id": "xgT2Z9RM6Y2_"
   },
   "source": [
    "## [1.1] Loading the data\n",
    "\n",
    "The dataset is available in two forms\n",
    "1. .csv file\n",
    "2. SQLite Database\n",
    "\n",
    "In order to load the data, We have used the SQLITE dataset as it is easier to query the data and visualise the data efficiently.\n",
    "<br> \n",
    "\n",
    "Here as we only want to get the global sentiment of the recommendations (positive or negative), we will purposefully ignore all Scores equal to 3. If the score is above 3, then the recommendation wil be set to \"positive\". Otherwise, it will be set to \"negative\"."
   ]
  },
  {
   "cell_type": "code",
   "execution_count": 0,
   "metadata": {
    "colab": {},
    "colab_type": "code",
    "id": "sM1d9Zi_6Y3A"
   },
   "outputs": [],
   "source": [
    "%matplotlib inline\n",
    "import warnings\n",
    "warnings.filterwarnings(\"ignore\")\n",
    "\n",
    "\n",
    "import sqlite3\n",
    "import pandas as pd\n",
    "import numpy as np\n",
    "import nltk\n",
    "import string\n",
    "import matplotlib.pyplot as plt\n",
    "import seaborn as sns\n",
    "from sklearn.model_selection import train_test_split\n",
    "from sklearn.feature_extraction.text import TfidfTransformer\n",
    "from sklearn.feature_extraction.text import TfidfVectorizer\n",
    "\n",
    "from sklearn.feature_extraction.text import CountVectorizer\n",
    "from sklearn.metrics import confusion_matrix\n",
    "from sklearn import metrics\n",
    "from sklearn.metrics import roc_curve, auc\n",
    "from nltk.stem.porter import PorterStemmer\n",
    "\n",
    "import re\n",
    "# Tutorial about Python regular expressions: https://pymotw.com/2/re/\n",
    "import string\n",
    "from nltk.corpus import stopwords\n",
    "from nltk.stem import PorterStemmer\n",
    "from nltk.stem.wordnet import WordNetLemmatizer\n",
    "\n",
    "from gensim.models import Word2Vec\n",
    "from gensim.models import KeyedVectors\n",
    "import pickle\n",
    "\n",
    "from tqdm import tqdm\n",
    "import os\n",
    "import prettytable"
   ]
  },
  {
   "cell_type": "code",
   "execution_count": 0,
   "metadata": {
    "colab": {},
    "colab_type": "code",
    "id": "yB4fsKab6Y3H"
   },
   "outputs": [],
   "source": [
    "#USER DEFINED FUNCTIONS\n",
    "\n",
    "#changing reviews with score less than 3 to be positive and vice-versa\n",
    "def data_filter(filtered_data):\n",
    "    actualScore = filtered_data['Score']\n",
    "    positiveNegative = actualScore.map(partition) \n",
    "    filtered_data['Score'] = positiveNegative\n",
    "    return filtered_data[\"Score\"]\n",
    "\n",
    "\n",
    "# Give reviews with Score>3 a positive rating(1), and reviews with a score<3 a negative rating(0).\n",
    "def partition(x):\n",
    "    if x < 3:\n",
    "        return 0\n",
    "    return 1"
   ]
  },
  {
   "cell_type": "code",
   "execution_count": 3,
   "metadata": {
    "colab": {
     "base_uri": "https://localhost:8080/",
     "height": 52
    },
    "colab_type": "code",
    "id": "_5Rufz8W9Gre",
    "outputId": "32546fd2-583f-44e7-de22-bf211822c9aa"
   },
   "outputs": [
    {
     "name": "stdout",
     "output_type": "stream",
     "text": [
      "\u001b[?25l\r",
      "\u001b[K    1% |▎                               | 10kB 15.4MB/s eta 0:00:01\r",
      "\u001b[K    2% |▋                               | 20kB 1.8MB/s eta 0:00:01\r",
      "\u001b[K    3% |█                               | 30kB 2.4MB/s eta 0:00:01\r",
      "\u001b[K    4% |█▎                              | 40kB 1.7MB/s eta 0:00:01\r",
      "\u001b[K    5% |█▋                              | 51kB 2.2MB/s eta 0:00:01\r",
      "\u001b[K    6% |██                              | 61kB 2.6MB/s eta 0:00:01\r",
      "\u001b[K    7% |██▎                             | 71kB 2.9MB/s eta 0:00:01\r",
      "\u001b[K    8% |██▋                             | 81kB 3.3MB/s eta 0:00:01\r",
      "\u001b[K    9% |███                             | 92kB 3.6MB/s eta 0:00:01\r",
      "\u001b[K    10% |███▎                            | 102kB 2.9MB/s eta 0:00:01\r",
      "\u001b[K    11% |███▋                            | 112kB 2.9MB/s eta 0:00:01\r",
      "\u001b[K    12% |████                            | 122kB 4.1MB/s eta 0:00:01\r",
      "\u001b[K    13% |████▎                           | 133kB 4.3MB/s eta 0:00:01\r",
      "\u001b[K    14% |████▋                           | 143kB 7.8MB/s eta 0:00:01\r",
      "\u001b[K    15% |█████                           | 153kB 7.8MB/s eta 0:00:01\r",
      "\u001b[K    16% |█████▎                          | 163kB 7.8MB/s eta 0:00:01\r",
      "\u001b[K    17% |█████▋                          | 174kB 8.1MB/s eta 0:00:01\r",
      "\u001b[K    18% |██████                          | 184kB 8.2MB/s eta 0:00:01\r",
      "\u001b[K    19% |██████▎                         | 194kB 8.2MB/s eta 0:00:01\r",
      "\u001b[K    20% |██████▋                         | 204kB 44.5MB/s eta 0:00:01\r",
      "\u001b[K    21% |███████                         | 215kB 8.7MB/s eta 0:00:01\r",
      "\u001b[K    22% |███████▎                        | 225kB 8.6MB/s eta 0:00:01\r",
      "\u001b[K    23% |███████▋                        | 235kB 8.7MB/s eta 0:00:01\r",
      "\u001b[K    24% |████████                        | 245kB 8.7MB/s eta 0:00:01\r",
      "\u001b[K    25% |████████▎                       | 256kB 8.7MB/s eta 0:00:01\r",
      "\u001b[K    26% |████████▋                       | 266kB 8.6MB/s eta 0:00:01\r",
      "\u001b[K    27% |█████████                       | 276kB 8.7MB/s eta 0:00:01\r",
      "\u001b[K    29% |█████████▎                      | 286kB 8.6MB/s eta 0:00:01\r",
      "\u001b[K    30% |█████████▋                      | 296kB 8.6MB/s eta 0:00:01\r",
      "\u001b[K    31% |██████████                      | 307kB 8.7MB/s eta 0:00:01\r",
      "\u001b[K    32% |██████████▎                     | 317kB 47.6MB/s eta 0:00:01\r",
      "\u001b[K    33% |██████████▋                     | 327kB 48.8MB/s eta 0:00:01\r",
      "\u001b[K    34% |███████████                     | 337kB 50.4MB/s eta 0:00:01\r",
      "\u001b[K    35% |███████████▎                    | 348kB 46.6MB/s eta 0:00:01\r",
      "\u001b[K    36% |███████████▋                    | 358kB 45.9MB/s eta 0:00:01\r",
      "\u001b[K    37% |████████████                    | 368kB 51.5MB/s eta 0:00:01\r",
      "\u001b[K    38% |████████████▎                   | 378kB 53.4MB/s eta 0:00:01\r",
      "\u001b[K    39% |████████████▋                   | 389kB 55.2MB/s eta 0:00:01\r",
      "\u001b[K    40% |█████████████                   | 399kB 55.8MB/s eta 0:00:01\r",
      "\u001b[K    41% |█████████████▎                  | 409kB 56.4MB/s eta 0:00:01\r",
      "\u001b[K    42% |█████████████▋                  | 419kB 57.5MB/s eta 0:00:01\r",
      "\u001b[K    43% |██████████████                  | 430kB 57.8MB/s eta 0:00:01\r",
      "\u001b[K    44% |██████████████▎                 | 440kB 58.0MB/s eta 0:00:01\r",
      "\u001b[K    45% |██████████████▋                 | 450kB 10.7MB/s eta 0:00:01\r",
      "\u001b[K    46% |███████████████                 | 460kB 10.6MB/s eta 0:00:01\r",
      "\u001b[K    47% |███████████████▎                | 471kB 10.6MB/s eta 0:00:01\r",
      "\u001b[K    48% |███████████████▋                | 481kB 10.5MB/s eta 0:00:01\r",
      "\u001b[K    49% |████████████████                | 491kB 10.5MB/s eta 0:00:01\r",
      "\u001b[K    50% |████████████████▎               | 501kB 10.5MB/s eta 0:00:01\r",
      "\u001b[K    51% |████████████████▋               | 512kB 10.3MB/s eta 0:00:01\r",
      "\u001b[K    52% |█████████████████               | 522kB 10.3MB/s eta 0:00:01\r",
      "\u001b[K    53% |█████████████████▎              | 532kB 10.2MB/s eta 0:00:01\r",
      "\u001b[K    54% |█████████████████▋              | 542kB 10.2MB/s eta 0:00:01\r",
      "\u001b[K    55% |██████████████████              | 552kB 50.5MB/s eta 0:00:01\r",
      "\u001b[K    57% |██████████████████▎             | 563kB 53.8MB/s eta 0:00:01\r",
      "\u001b[K    58% |██████████████████▋             | 573kB 54.4MB/s eta 0:00:01\r",
      "\u001b[K    59% |███████████████████             | 583kB 58.2MB/s eta 0:00:01\r",
      "\u001b[K    60% |███████████████████▎            | 593kB 58.1MB/s eta 0:00:01\r",
      "\u001b[K    61% |███████████████████▋            | 604kB 58.3MB/s eta 0:00:01\r",
      "\u001b[K    62% |████████████████████            | 614kB 62.2MB/s eta 0:00:01\r",
      "\u001b[K    63% |████████████████████▎           | 624kB 64.1MB/s eta 0:00:01\r",
      "\u001b[K    64% |████████████████████▋           | 634kB 66.3MB/s eta 0:00:01\r",
      "\u001b[K    65% |█████████████████████           | 645kB 66.9MB/s eta 0:00:01\r",
      "\u001b[K    66% |█████████████████████▎          | 655kB 65.2MB/s eta 0:00:01\r",
      "\u001b[K    67% |█████████████████████▋          | 665kB 51.3MB/s eta 0:00:01\r",
      "\u001b[K    68% |██████████████████████          | 675kB 51.1MB/s eta 0:00:01\r",
      "\u001b[K    69% |██████████████████████▎         | 686kB 50.4MB/s eta 0:00:01\r",
      "\u001b[K    70% |██████████████████████▋         | 696kB 49.8MB/s eta 0:00:01\r",
      "\u001b[K    71% |███████████████████████         | 706kB 49.5MB/s eta 0:00:01\r",
      "\u001b[K    72% |███████████████████████▎        | 716kB 49.8MB/s eta 0:00:01\r",
      "\u001b[K    73% |███████████████████████▋        | 727kB 50.1MB/s eta 0:00:01\r",
      "\u001b[K    74% |████████████████████████        | 737kB 49.8MB/s eta 0:00:01\r",
      "\u001b[K    75% |████████████████████████▎       | 747kB 49.8MB/s eta 0:00:01\r",
      "\u001b[K    76% |████████████████████████▋       | 757kB 49.5MB/s eta 0:00:01\r",
      "\u001b[K    77% |████████████████████████▉       | 768kB 62.6MB/s eta 0:00:01\r",
      "\u001b[K    78% |█████████████████████████▏      | 778kB 13.1MB/s eta 0:00:01\r",
      "\u001b[K    79% |█████████████████████████▌      | 788kB 13.1MB/s eta 0:00:01\r",
      "\u001b[K    80% |█████████████████████████▉      | 798kB 12.9MB/s eta 0:00:01\r",
      "\u001b[K    81% |██████████████████████████▏     | 808kB 12.8MB/s eta 0:00:01\r",
      "\u001b[K    82% |██████████████████████████▌     | 819kB 12.8MB/s eta 0:00:01\r",
      "\u001b[K    83% |██████████████████████████▉     | 829kB 12.8MB/s eta 0:00:01\r",
      "\u001b[K    85% |███████████████████████████▏    | 839kB 12.8MB/s eta 0:00:01\r",
      "\u001b[K    86% |███████████████████████████▌    | 849kB 12.8MB/s eta 0:00:01\r",
      "\u001b[K    87% |███████████████████████████▉    | 860kB 12.5MB/s eta 0:00:01\r",
      "\u001b[K    88% |████████████████████████████▏   | 870kB 12.4MB/s eta 0:00:01\r",
      "\u001b[K    89% |████████████████████████████▌   | 880kB 49.8MB/s eta 0:00:01\r",
      "\u001b[K    90% |████████████████████████████▉   | 890kB 50.7MB/s eta 0:00:01\r",
      "\u001b[K    91% |█████████████████████████████▏  | 901kB 55.8MB/s eta 0:00:01\r",
      "\u001b[K    92% |█████████████████████████████▌  | 911kB 56.7MB/s eta 0:00:01\r",
      "\u001b[K    93% |█████████████████████████████▉  | 921kB 57.7MB/s eta 0:00:01\r",
      "\u001b[K    94% |██████████████████████████████▏ | 931kB 57.6MB/s eta 0:00:01\r",
      "\u001b[K    95% |██████████████████████████████▌ | 942kB 57.3MB/s eta 0:00:01\r",
      "\u001b[K    96% |██████████████████████████████▉ | 952kB 56.9MB/s eta 0:00:01\r",
      "\u001b[K    97% |███████████████████████████████▏| 962kB 67.6MB/s eta 0:00:01\r",
      "\u001b[K    98% |███████████████████████████████▌| 972kB 66.3MB/s eta 0:00:01\r",
      "\u001b[K    99% |███████████████████████████████▉| 983kB 65.5MB/s eta 0:00:01\r",
      "\u001b[K    100% |████████████████████████████████| 993kB 21.4MB/s \n",
      "\u001b[?25h  Building wheel for PyDrive (setup.py) ... \u001b[?25ldone\n",
      "\u001b[?25h"
     ]
    }
   ],
   "source": [
    "# Code to read csv file into colaboratory:\n",
    "!pip install -U -q PyDrive\n",
    "from pydrive.auth import GoogleAuth\n",
    "from pydrive.drive import GoogleDrive\n",
    "from google.colab import auth\n",
    "from oauth2client.client import GoogleCredentials\n",
    "\n",
    "# 1. Authenticate and create the PyDrive client.\n",
    "auth.authenticate_user()\n",
    "gauth = GoogleAuth()\n",
    "gauth.credentials = GoogleCredentials.get_application_default()\n",
    "drive = GoogleDrive(gauth)\n",
    "\n",
    "#2. Get the file #Training Variants\n",
    "downloaded = drive.CreateFile({'id':'1PPCURbwWREuTo7ZgIt9MZv26tpsAp9Bs'}) # replace the id with id of file you want to access\n",
    "downloaded.GetContentFile('Reviews.csv')\n",
    "\n",
    "downloaded1 = drive.CreateFile({'id':'1PPC'}) # replace the id with id of file you want to access\n",
    "downloaded.GetContentFile('Reviews.csv')\n",
    "\n",
    "downloaded = drive.CreateFile({'id':'1PPCURbwWREuTo7ZgIt9MZv26tpsAp9Bs'}) # replace the id with id of file you want to access\n",
    "downloaded.GetContentFile('Reviews.csv')\n",
    "\n",
    "downloaded = drive.CreateFile({'id':'1PPCURbwWREuTo7ZgIt9MZv26tpsAp9Bs'}) # replace the id with id of file you want to access\n",
    "downloaded.GetContentFile('Reviews.csv')\n",
    "\n",
    "#3. Read file as panda dataframe\n",
    "import pandas as pd\n",
    "data = pd.read_csv('Reviews.csv')"
   ]
  },
  {
   "cell_type": "code",
   "execution_count": 4,
   "metadata": {
    "colab": {
     "base_uri": "https://localhost:8080/",
     "height": 1286
    },
    "colab_type": "code",
    "id": "wf8JI4Rnpu-n",
    "outputId": "6807e461-cd47-4df8-d2b7-c513eda5284a"
   },
   "outputs": [
    {
     "data": {
      "text/html": [
       "<div>\n",
       "<style scoped>\n",
       "    .dataframe tbody tr th:only-of-type {\n",
       "        vertical-align: middle;\n",
       "    }\n",
       "\n",
       "    .dataframe tbody tr th {\n",
       "        vertical-align: top;\n",
       "    }\n",
       "\n",
       "    .dataframe thead th {\n",
       "        text-align: right;\n",
       "    }\n",
       "</style>\n",
       "<table border=\"1\" class=\"dataframe\">\n",
       "  <thead>\n",
       "    <tr style=\"text-align: right;\">\n",
       "      <th></th>\n",
       "      <th>Id</th>\n",
       "      <th>ProductId</th>\n",
       "      <th>UserId</th>\n",
       "      <th>ProfileName</th>\n",
       "      <th>HelpfulnessNumerator</th>\n",
       "      <th>HelpfulnessDenominator</th>\n",
       "      <th>Score</th>\n",
       "      <th>Time</th>\n",
       "      <th>Summary</th>\n",
       "      <th>Text</th>\n",
       "    </tr>\n",
       "  </thead>\n",
       "  <tbody>\n",
       "    <tr>\n",
       "      <th>0</th>\n",
       "      <td>1</td>\n",
       "      <td>B001E4KFG0</td>\n",
       "      <td>A3SGXH7AUHU8GW</td>\n",
       "      <td>delmartian</td>\n",
       "      <td>1</td>\n",
       "      <td>1</td>\n",
       "      <td>5</td>\n",
       "      <td>1303862400</td>\n",
       "      <td>Good Quality Dog Food</td>\n",
       "      <td>I have bought several of the Vitality canned d...</td>\n",
       "    </tr>\n",
       "    <tr>\n",
       "      <th>1</th>\n",
       "      <td>2</td>\n",
       "      <td>B00813GRG4</td>\n",
       "      <td>A1D87F6ZCVE5NK</td>\n",
       "      <td>dll pa</td>\n",
       "      <td>0</td>\n",
       "      <td>0</td>\n",
       "      <td>1</td>\n",
       "      <td>1346976000</td>\n",
       "      <td>Not as Advertised</td>\n",
       "      <td>Product arrived labeled as Jumbo Salted Peanut...</td>\n",
       "    </tr>\n",
       "    <tr>\n",
       "      <th>2</th>\n",
       "      <td>3</td>\n",
       "      <td>B000LQOCH0</td>\n",
       "      <td>ABXLMWJIXXAIN</td>\n",
       "      <td>Natalia Corres \"Natalia Corres\"</td>\n",
       "      <td>1</td>\n",
       "      <td>1</td>\n",
       "      <td>4</td>\n",
       "      <td>1219017600</td>\n",
       "      <td>\"Delight\" says it all</td>\n",
       "      <td>This is a confection that has been around a fe...</td>\n",
       "    </tr>\n",
       "    <tr>\n",
       "      <th>3</th>\n",
       "      <td>4</td>\n",
       "      <td>B000UA0QIQ</td>\n",
       "      <td>A395BORC6FGVXV</td>\n",
       "      <td>Karl</td>\n",
       "      <td>3</td>\n",
       "      <td>3</td>\n",
       "      <td>2</td>\n",
       "      <td>1307923200</td>\n",
       "      <td>Cough Medicine</td>\n",
       "      <td>If you are looking for the secret ingredient i...</td>\n",
       "    </tr>\n",
       "    <tr>\n",
       "      <th>4</th>\n",
       "      <td>5</td>\n",
       "      <td>B006K2ZZ7K</td>\n",
       "      <td>A1UQRSCLF8GW1T</td>\n",
       "      <td>Michael D. Bigham \"M. Wassir\"</td>\n",
       "      <td>0</td>\n",
       "      <td>0</td>\n",
       "      <td>5</td>\n",
       "      <td>1350777600</td>\n",
       "      <td>Great taffy</td>\n",
       "      <td>Great taffy at a great price.  There was a wid...</td>\n",
       "    </tr>\n",
       "    <tr>\n",
       "      <th>5</th>\n",
       "      <td>6</td>\n",
       "      <td>B006K2ZZ7K</td>\n",
       "      <td>ADT0SRK1MGOEU</td>\n",
       "      <td>Twoapennything</td>\n",
       "      <td>0</td>\n",
       "      <td>0</td>\n",
       "      <td>4</td>\n",
       "      <td>1342051200</td>\n",
       "      <td>Nice Taffy</td>\n",
       "      <td>I got a wild hair for taffy and ordered this f...</td>\n",
       "    </tr>\n",
       "    <tr>\n",
       "      <th>6</th>\n",
       "      <td>7</td>\n",
       "      <td>B006K2ZZ7K</td>\n",
       "      <td>A1SP2KVKFXXRU1</td>\n",
       "      <td>David C. Sullivan</td>\n",
       "      <td>0</td>\n",
       "      <td>0</td>\n",
       "      <td>5</td>\n",
       "      <td>1340150400</td>\n",
       "      <td>Great!  Just as good as the expensive brands!</td>\n",
       "      <td>This saltwater taffy had great flavors and was...</td>\n",
       "    </tr>\n",
       "    <tr>\n",
       "      <th>7</th>\n",
       "      <td>8</td>\n",
       "      <td>B006K2ZZ7K</td>\n",
       "      <td>A3JRGQVEQN31IQ</td>\n",
       "      <td>Pamela G. Williams</td>\n",
       "      <td>0</td>\n",
       "      <td>0</td>\n",
       "      <td>5</td>\n",
       "      <td>1336003200</td>\n",
       "      <td>Wonderful, tasty taffy</td>\n",
       "      <td>This taffy is so good.  It is very soft and ch...</td>\n",
       "    </tr>\n",
       "    <tr>\n",
       "      <th>8</th>\n",
       "      <td>9</td>\n",
       "      <td>B000E7L2R4</td>\n",
       "      <td>A1MZYO9TZK0BBI</td>\n",
       "      <td>R. James</td>\n",
       "      <td>1</td>\n",
       "      <td>1</td>\n",
       "      <td>5</td>\n",
       "      <td>1322006400</td>\n",
       "      <td>Yay Barley</td>\n",
       "      <td>Right now I'm mostly just sprouting this so my...</td>\n",
       "    </tr>\n",
       "    <tr>\n",
       "      <th>9</th>\n",
       "      <td>10</td>\n",
       "      <td>B00171APVA</td>\n",
       "      <td>A21BT40VZCCYT4</td>\n",
       "      <td>Carol A. Reed</td>\n",
       "      <td>0</td>\n",
       "      <td>0</td>\n",
       "      <td>5</td>\n",
       "      <td>1351209600</td>\n",
       "      <td>Healthy Dog Food</td>\n",
       "      <td>This is a very healthy dog food. Good for thei...</td>\n",
       "    </tr>\n",
       "    <tr>\n",
       "      <th>10</th>\n",
       "      <td>11</td>\n",
       "      <td>B0001PB9FE</td>\n",
       "      <td>A3HDKO7OW0QNK4</td>\n",
       "      <td>Canadian Fan</td>\n",
       "      <td>1</td>\n",
       "      <td>1</td>\n",
       "      <td>5</td>\n",
       "      <td>1107820800</td>\n",
       "      <td>The Best Hot Sauce in the World</td>\n",
       "      <td>I don't know if it's the cactus or the tequila...</td>\n",
       "    </tr>\n",
       "    <tr>\n",
       "      <th>11</th>\n",
       "      <td>12</td>\n",
       "      <td>B0009XLVG0</td>\n",
       "      <td>A2725IB4YY9JEB</td>\n",
       "      <td>A Poeng \"SparkyGoHome\"</td>\n",
       "      <td>4</td>\n",
       "      <td>4</td>\n",
       "      <td>5</td>\n",
       "      <td>1282867200</td>\n",
       "      <td>My cats LOVE this \"diet\" food better than thei...</td>\n",
       "      <td>One of my boys needed to lose some weight and ...</td>\n",
       "    </tr>\n",
       "    <tr>\n",
       "      <th>12</th>\n",
       "      <td>13</td>\n",
       "      <td>B0009XLVG0</td>\n",
       "      <td>A327PCT23YH90</td>\n",
       "      <td>LT</td>\n",
       "      <td>1</td>\n",
       "      <td>1</td>\n",
       "      <td>1</td>\n",
       "      <td>1339545600</td>\n",
       "      <td>My Cats Are Not Fans of the New Food</td>\n",
       "      <td>My cats have been happily eating Felidae Plati...</td>\n",
       "    </tr>\n",
       "    <tr>\n",
       "      <th>13</th>\n",
       "      <td>14</td>\n",
       "      <td>B001GVISJM</td>\n",
       "      <td>A18ECVX2RJ7HUE</td>\n",
       "      <td>willie \"roadie\"</td>\n",
       "      <td>2</td>\n",
       "      <td>2</td>\n",
       "      <td>4</td>\n",
       "      <td>1288915200</td>\n",
       "      <td>fresh and greasy!</td>\n",
       "      <td>good flavor! these came securely packed... the...</td>\n",
       "    </tr>\n",
       "    <tr>\n",
       "      <th>14</th>\n",
       "      <td>15</td>\n",
       "      <td>B001GVISJM</td>\n",
       "      <td>A2MUGFV2TDQ47K</td>\n",
       "      <td>Lynrie \"Oh HELL no\"</td>\n",
       "      <td>4</td>\n",
       "      <td>5</td>\n",
       "      <td>5</td>\n",
       "      <td>1268352000</td>\n",
       "      <td>Strawberry Twizzlers - Yummy</td>\n",
       "      <td>The Strawberry Twizzlers are my guilty pleasur...</td>\n",
       "    </tr>\n",
       "    <tr>\n",
       "      <th>15</th>\n",
       "      <td>16</td>\n",
       "      <td>B001GVISJM</td>\n",
       "      <td>A1CZX3CP8IKQIJ</td>\n",
       "      <td>Brian A. Lee</td>\n",
       "      <td>4</td>\n",
       "      <td>5</td>\n",
       "      <td>5</td>\n",
       "      <td>1262044800</td>\n",
       "      <td>Lots of twizzlers, just what you expect.</td>\n",
       "      <td>My daughter loves twizzlers and this shipment ...</td>\n",
       "    </tr>\n",
       "    <tr>\n",
       "      <th>16</th>\n",
       "      <td>17</td>\n",
       "      <td>B001GVISJM</td>\n",
       "      <td>A3KLWF6WQ5BNYO</td>\n",
       "      <td>Erica Neathery</td>\n",
       "      <td>0</td>\n",
       "      <td>0</td>\n",
       "      <td>2</td>\n",
       "      <td>1348099200</td>\n",
       "      <td>poor taste</td>\n",
       "      <td>I love eating them and they are good for watch...</td>\n",
       "    </tr>\n",
       "    <tr>\n",
       "      <th>17</th>\n",
       "      <td>18</td>\n",
       "      <td>B001GVISJM</td>\n",
       "      <td>AFKW14U97Z6QO</td>\n",
       "      <td>Becca</td>\n",
       "      <td>0</td>\n",
       "      <td>0</td>\n",
       "      <td>5</td>\n",
       "      <td>1345075200</td>\n",
       "      <td>Love it!</td>\n",
       "      <td>I am very satisfied with my Twizzler purchase....</td>\n",
       "    </tr>\n",
       "    <tr>\n",
       "      <th>18</th>\n",
       "      <td>19</td>\n",
       "      <td>B001GVISJM</td>\n",
       "      <td>A2A9X58G2GTBLP</td>\n",
       "      <td>Wolfee1</td>\n",
       "      <td>0</td>\n",
       "      <td>0</td>\n",
       "      <td>5</td>\n",
       "      <td>1324598400</td>\n",
       "      <td>GREAT SWEET CANDY!</td>\n",
       "      <td>Twizzlers, Strawberry my childhood favorite ca...</td>\n",
       "    </tr>\n",
       "    <tr>\n",
       "      <th>19</th>\n",
       "      <td>20</td>\n",
       "      <td>B001GVISJM</td>\n",
       "      <td>A3IV7CL2C13K2U</td>\n",
       "      <td>Greg</td>\n",
       "      <td>0</td>\n",
       "      <td>0</td>\n",
       "      <td>5</td>\n",
       "      <td>1318032000</td>\n",
       "      <td>Home delivered twizlers</td>\n",
       "      <td>Candy was delivered very fast and was purchase...</td>\n",
       "    </tr>\n",
       "  </tbody>\n",
       "</table>\n",
       "</div>"
      ],
      "text/plain": [
       "    Id   ProductId          UserId                      ProfileName  \\\n",
       "0    1  B001E4KFG0  A3SGXH7AUHU8GW                       delmartian   \n",
       "1    2  B00813GRG4  A1D87F6ZCVE5NK                           dll pa   \n",
       "2    3  B000LQOCH0   ABXLMWJIXXAIN  Natalia Corres \"Natalia Corres\"   \n",
       "3    4  B000UA0QIQ  A395BORC6FGVXV                             Karl   \n",
       "4    5  B006K2ZZ7K  A1UQRSCLF8GW1T    Michael D. Bigham \"M. Wassir\"   \n",
       "5    6  B006K2ZZ7K   ADT0SRK1MGOEU                   Twoapennything   \n",
       "6    7  B006K2ZZ7K  A1SP2KVKFXXRU1                David C. Sullivan   \n",
       "7    8  B006K2ZZ7K  A3JRGQVEQN31IQ               Pamela G. Williams   \n",
       "8    9  B000E7L2R4  A1MZYO9TZK0BBI                         R. James   \n",
       "9   10  B00171APVA  A21BT40VZCCYT4                    Carol A. Reed   \n",
       "10  11  B0001PB9FE  A3HDKO7OW0QNK4                     Canadian Fan   \n",
       "11  12  B0009XLVG0  A2725IB4YY9JEB           A Poeng \"SparkyGoHome\"   \n",
       "12  13  B0009XLVG0   A327PCT23YH90                               LT   \n",
       "13  14  B001GVISJM  A18ECVX2RJ7HUE                  willie \"roadie\"   \n",
       "14  15  B001GVISJM  A2MUGFV2TDQ47K              Lynrie \"Oh HELL no\"   \n",
       "15  16  B001GVISJM  A1CZX3CP8IKQIJ                     Brian A. Lee   \n",
       "16  17  B001GVISJM  A3KLWF6WQ5BNYO                   Erica Neathery   \n",
       "17  18  B001GVISJM   AFKW14U97Z6QO                            Becca   \n",
       "18  19  B001GVISJM  A2A9X58G2GTBLP                          Wolfee1   \n",
       "19  20  B001GVISJM  A3IV7CL2C13K2U                             Greg   \n",
       "\n",
       "    HelpfulnessNumerator  HelpfulnessDenominator  Score        Time  \\\n",
       "0                      1                       1      5  1303862400   \n",
       "1                      0                       0      1  1346976000   \n",
       "2                      1                       1      4  1219017600   \n",
       "3                      3                       3      2  1307923200   \n",
       "4                      0                       0      5  1350777600   \n",
       "5                      0                       0      4  1342051200   \n",
       "6                      0                       0      5  1340150400   \n",
       "7                      0                       0      5  1336003200   \n",
       "8                      1                       1      5  1322006400   \n",
       "9                      0                       0      5  1351209600   \n",
       "10                     1                       1      5  1107820800   \n",
       "11                     4                       4      5  1282867200   \n",
       "12                     1                       1      1  1339545600   \n",
       "13                     2                       2      4  1288915200   \n",
       "14                     4                       5      5  1268352000   \n",
       "15                     4                       5      5  1262044800   \n",
       "16                     0                       0      2  1348099200   \n",
       "17                     0                       0      5  1345075200   \n",
       "18                     0                       0      5  1324598400   \n",
       "19                     0                       0      5  1318032000   \n",
       "\n",
       "                                              Summary  \\\n",
       "0                               Good Quality Dog Food   \n",
       "1                                   Not as Advertised   \n",
       "2                               \"Delight\" says it all   \n",
       "3                                      Cough Medicine   \n",
       "4                                         Great taffy   \n",
       "5                                          Nice Taffy   \n",
       "6       Great!  Just as good as the expensive brands!   \n",
       "7                              Wonderful, tasty taffy   \n",
       "8                                          Yay Barley   \n",
       "9                                    Healthy Dog Food   \n",
       "10                    The Best Hot Sauce in the World   \n",
       "11  My cats LOVE this \"diet\" food better than thei...   \n",
       "12               My Cats Are Not Fans of the New Food   \n",
       "13                                  fresh and greasy!   \n",
       "14                       Strawberry Twizzlers - Yummy   \n",
       "15           Lots of twizzlers, just what you expect.   \n",
       "16                                         poor taste   \n",
       "17                                           Love it!   \n",
       "18                                 GREAT SWEET CANDY!   \n",
       "19                            Home delivered twizlers   \n",
       "\n",
       "                                                 Text  \n",
       "0   I have bought several of the Vitality canned d...  \n",
       "1   Product arrived labeled as Jumbo Salted Peanut...  \n",
       "2   This is a confection that has been around a fe...  \n",
       "3   If you are looking for the secret ingredient i...  \n",
       "4   Great taffy at a great price.  There was a wid...  \n",
       "5   I got a wild hair for taffy and ordered this f...  \n",
       "6   This saltwater taffy had great flavors and was...  \n",
       "7   This taffy is so good.  It is very soft and ch...  \n",
       "8   Right now I'm mostly just sprouting this so my...  \n",
       "9   This is a very healthy dog food. Good for thei...  \n",
       "10  I don't know if it's the cactus or the tequila...  \n",
       "11  One of my boys needed to lose some weight and ...  \n",
       "12  My cats have been happily eating Felidae Plati...  \n",
       "13  good flavor! these came securely packed... the...  \n",
       "14  The Strawberry Twizzlers are my guilty pleasur...  \n",
       "15  My daughter loves twizzlers and this shipment ...  \n",
       "16  I love eating them and they are good for watch...  \n",
       "17  I am very satisfied with my Twizzler purchase....  \n",
       "18  Twizzlers, Strawberry my childhood favorite ca...  \n",
       "19  Candy was delivered very fast and was purchase...  "
      ]
     },
     "execution_count": 4,
     "metadata": {
      "tags": []
     },
     "output_type": "execute_result"
    }
   ],
   "source": [
    "data.head(20)"
   ]
  },
  {
   "cell_type": "code",
   "execution_count": 0,
   "metadata": {
    "colab": {},
    "colab_type": "code",
    "id": "tfI-6Hv19pUy"
   },
   "outputs": [],
   "source": [
    "#Converting from timestamp to datetime object.\n",
    "\n",
    "from datetime import datetime\n",
    "Time = []\n",
    "for i in list(data[\"Time\"]):\n",
    "  Time.append(datetime.fromtimestamp(i).strftime('%d-%m-%Y'))\n",
    "  \n",
    "data[\"Time\"] = pd.to_datetime(Time)\n",
    "data = data.sort_values(\"Time\") "
   ]
  },
  {
   "cell_type": "code",
   "execution_count": 6,
   "metadata": {
    "colab": {
     "base_uri": "https://localhost:8080/",
     "height": 2038
    },
    "colab_type": "code",
    "id": "wh3OD667rfua",
    "outputId": "1e292b2a-d39e-4ae8-bc21-137e2597b710"
   },
   "outputs": [
    {
     "data": {
      "text/html": [
       "<div>\n",
       "<style scoped>\n",
       "    .dataframe tbody tr th:only-of-type {\n",
       "        vertical-align: middle;\n",
       "    }\n",
       "\n",
       "    .dataframe tbody tr th {\n",
       "        vertical-align: top;\n",
       "    }\n",
       "\n",
       "    .dataframe thead th {\n",
       "        text-align: right;\n",
       "    }\n",
       "</style>\n",
       "<table border=\"1\" class=\"dataframe\">\n",
       "  <thead>\n",
       "    <tr style=\"text-align: right;\">\n",
       "      <th></th>\n",
       "      <th>Id</th>\n",
       "      <th>ProductId</th>\n",
       "      <th>UserId</th>\n",
       "      <th>ProfileName</th>\n",
       "      <th>HelpfulnessNumerator</th>\n",
       "      <th>HelpfulnessDenominator</th>\n",
       "      <th>Score</th>\n",
       "      <th>Time</th>\n",
       "      <th>Summary</th>\n",
       "      <th>Text</th>\n",
       "    </tr>\n",
       "  </thead>\n",
       "  <tbody>\n",
       "    <tr>\n",
       "      <th>451855</th>\n",
       "      <td>451856</td>\n",
       "      <td>B00004CXX9</td>\n",
       "      <td>AIUWLEQ1ADEG5</td>\n",
       "      <td>Elizabeth Medina</td>\n",
       "      <td>0</td>\n",
       "      <td>0</td>\n",
       "      <td>5</td>\n",
       "      <td>1999-02-12</td>\n",
       "      <td>Entertainingl Funny!</td>\n",
       "      <td>Beetlejuice is a well written movie ..... ever...</td>\n",
       "    </tr>\n",
       "    <tr>\n",
       "      <th>230284</th>\n",
       "      <td>230285</td>\n",
       "      <td>B00004RYGX</td>\n",
       "      <td>A344SMIA5JECGM</td>\n",
       "      <td>Vincent P. Ross</td>\n",
       "      <td>1</td>\n",
       "      <td>2</td>\n",
       "      <td>5</td>\n",
       "      <td>1999-06-12</td>\n",
       "      <td>A modern day fairy tale</td>\n",
       "      <td>A twist of rumplestiskin captured on film, sta...</td>\n",
       "    </tr>\n",
       "    <tr>\n",
       "      <th>451877</th>\n",
       "      <td>451878</td>\n",
       "      <td>B00004CXX9</td>\n",
       "      <td>A344SMIA5JECGM</td>\n",
       "      <td>Vincent P. Ross</td>\n",
       "      <td>1</td>\n",
       "      <td>2</td>\n",
       "      <td>5</td>\n",
       "      <td>1999-06-12</td>\n",
       "      <td>A modern day fairy tale</td>\n",
       "      <td>A twist of rumplestiskin captured on film, sta...</td>\n",
       "    </tr>\n",
       "    <tr>\n",
       "      <th>374358</th>\n",
       "      <td>374359</td>\n",
       "      <td>B00004CI84</td>\n",
       "      <td>A344SMIA5JECGM</td>\n",
       "      <td>Vincent P. Ross</td>\n",
       "      <td>1</td>\n",
       "      <td>2</td>\n",
       "      <td>5</td>\n",
       "      <td>1999-06-12</td>\n",
       "      <td>A modern day fairy tale</td>\n",
       "      <td>A twist of rumplestiskin captured on film, sta...</td>\n",
       "    </tr>\n",
       "    <tr>\n",
       "      <th>150523</th>\n",
       "      <td>150524</td>\n",
       "      <td>0006641040</td>\n",
       "      <td>ACITT7DI6IDDL</td>\n",
       "      <td>shari zychinski</td>\n",
       "      <td>0</td>\n",
       "      <td>0</td>\n",
       "      <td>5</td>\n",
       "      <td>1999-08-10</td>\n",
       "      <td>EVERY book is educational</td>\n",
       "      <td>this witty little book makes my son laugh at l...</td>\n",
       "    </tr>\n",
       "    <tr>\n",
       "      <th>150500</th>\n",
       "      <td>150501</td>\n",
       "      <td>0006641040</td>\n",
       "      <td>AJ46FKXOVC7NR</td>\n",
       "      <td>Nicholas A Mesiano</td>\n",
       "      <td>2</td>\n",
       "      <td>2</td>\n",
       "      <td>5</td>\n",
       "      <td>1999-10-25</td>\n",
       "      <td>This whole series is great way to spend time w...</td>\n",
       "      <td>I can remember seeing the show when it aired o...</td>\n",
       "    </tr>\n",
       "    <tr>\n",
       "      <th>230268</th>\n",
       "      <td>230269</td>\n",
       "      <td>B00004RYGX</td>\n",
       "      <td>A1B2IZU1JLZA6</td>\n",
       "      <td>Wes</td>\n",
       "      <td>19</td>\n",
       "      <td>23</td>\n",
       "      <td>1</td>\n",
       "      <td>2000-01-19</td>\n",
       "      <td>WARNING: CLAMSHELL EDITION IS EDITED TV VERSION</td>\n",
       "      <td>I, myself always enjoyed this movie, it's very...</td>\n",
       "    </tr>\n",
       "    <tr>\n",
       "      <th>374342</th>\n",
       "      <td>374343</td>\n",
       "      <td>B00004CI84</td>\n",
       "      <td>A1B2IZU1JLZA6</td>\n",
       "      <td>Wes</td>\n",
       "      <td>19</td>\n",
       "      <td>23</td>\n",
       "      <td>1</td>\n",
       "      <td>2000-01-19</td>\n",
       "      <td>WARNING: CLAMSHELL EDITION IS EDITED TV VERSION</td>\n",
       "      <td>I, myself always enjoyed this movie, it's very...</td>\n",
       "    </tr>\n",
       "    <tr>\n",
       "      <th>451863</th>\n",
       "      <td>451864</td>\n",
       "      <td>B00004CXX9</td>\n",
       "      <td>A1B2IZU1JLZA6</td>\n",
       "      <td>Wes</td>\n",
       "      <td>19</td>\n",
       "      <td>23</td>\n",
       "      <td>1</td>\n",
       "      <td>2000-01-19</td>\n",
       "      <td>WARNING: CLAMSHELL EDITION IS EDITED TV VERSION</td>\n",
       "      <td>I, myself always enjoyed this movie, it's very...</td>\n",
       "    </tr>\n",
       "    <tr>\n",
       "      <th>76881</th>\n",
       "      <td>76882</td>\n",
       "      <td>B00002N8SM</td>\n",
       "      <td>A32DW342WBJ6BX</td>\n",
       "      <td>Buttersugar</td>\n",
       "      <td>0</td>\n",
       "      <td>0</td>\n",
       "      <td>5</td>\n",
       "      <td>2000-01-24</td>\n",
       "      <td>A sure death for flies</td>\n",
       "      <td>I bought a few of these after my apartment was...</td>\n",
       "    </tr>\n",
       "    <tr>\n",
       "      <th>451976</th>\n",
       "      <td>451977</td>\n",
       "      <td>B00004CXX9</td>\n",
       "      <td>ACJR7EQF9S6FP</td>\n",
       "      <td>Jeremy Robertson</td>\n",
       "      <td>2</td>\n",
       "      <td>3</td>\n",
       "      <td>4</td>\n",
       "      <td>2000-02-26</td>\n",
       "      <td>Bettlejuice...Bettlejuice...BETTLEJUICE!</td>\n",
       "      <td>What happens when you say his name three times...</td>\n",
       "    </tr>\n",
       "    <tr>\n",
       "      <th>374449</th>\n",
       "      <td>374450</td>\n",
       "      <td>B00004CI84</td>\n",
       "      <td>ACJR7EQF9S6FP</td>\n",
       "      <td>Jeremy Robertson</td>\n",
       "      <td>2</td>\n",
       "      <td>3</td>\n",
       "      <td>4</td>\n",
       "      <td>2000-02-26</td>\n",
       "      <td>Bettlejuice...Bettlejuice...BETTLEJUICE!</td>\n",
       "      <td>What happens when you say his name three times...</td>\n",
       "    </tr>\n",
       "    <tr>\n",
       "      <th>230375</th>\n",
       "      <td>230376</td>\n",
       "      <td>B00004RYGX</td>\n",
       "      <td>ACJR7EQF9S6FP</td>\n",
       "      <td>Jeremy Robertson</td>\n",
       "      <td>2</td>\n",
       "      <td>3</td>\n",
       "      <td>4</td>\n",
       "      <td>2000-02-26</td>\n",
       "      <td>Bettlejuice...Bettlejuice...BETTLEJUICE!</td>\n",
       "      <td>What happens when you say his name three times...</td>\n",
       "    </tr>\n",
       "    <tr>\n",
       "      <th>451854</th>\n",
       "      <td>451855</td>\n",
       "      <td>B00004CXX9</td>\n",
       "      <td>AJH6LUC1UT1ON</td>\n",
       "      <td>The Phantom of the Opera</td>\n",
       "      <td>0</td>\n",
       "      <td>0</td>\n",
       "      <td>5</td>\n",
       "      <td>2000-03-01</td>\n",
       "      <td>FANTASTIC!</td>\n",
       "      <td>Beetlejuice is an excellent and funny movie. K...</td>\n",
       "    </tr>\n",
       "    <tr>\n",
       "      <th>230325</th>\n",
       "      <td>230326</td>\n",
       "      <td>B00004RYGX</td>\n",
       "      <td>A2DEE7F9XKP3ZR</td>\n",
       "      <td>jerome</td>\n",
       "      <td>0</td>\n",
       "      <td>3</td>\n",
       "      <td>5</td>\n",
       "      <td>2000-03-06</td>\n",
       "      <td>Research - Beatlejuice video - French version</td>\n",
       "      <td>I'm getting crazy.I'm looking for Beatlejuice ...</td>\n",
       "    </tr>\n",
       "    <tr>\n",
       "      <th>451902</th>\n",
       "      <td>451903</td>\n",
       "      <td>B00004CXX9</td>\n",
       "      <td>A2DEE7F9XKP3ZR</td>\n",
       "      <td>jerome</td>\n",
       "      <td>0</td>\n",
       "      <td>1</td>\n",
       "      <td>5</td>\n",
       "      <td>2000-03-06</td>\n",
       "      <td>Research</td>\n",
       "      <td>I'm getting crazy.&lt;p&gt;Is it really impossible t...</td>\n",
       "    </tr>\n",
       "    <tr>\n",
       "      <th>374399</th>\n",
       "      <td>374400</td>\n",
       "      <td>B00004CI84</td>\n",
       "      <td>A2DEE7F9XKP3ZR</td>\n",
       "      <td>jerome</td>\n",
       "      <td>0</td>\n",
       "      <td>3</td>\n",
       "      <td>5</td>\n",
       "      <td>2000-03-06</td>\n",
       "      <td>Research - Beatlejuice video - French version</td>\n",
       "      <td>I'm getting crazy.I'm looking for Beatlejuice ...</td>\n",
       "    </tr>\n",
       "    <tr>\n",
       "      <th>230333</th>\n",
       "      <td>230334</td>\n",
       "      <td>B00004RYGX</td>\n",
       "      <td>A1GB1Q193DNFGR</td>\n",
       "      <td>Bruce Lee Pullen</td>\n",
       "      <td>5</td>\n",
       "      <td>5</td>\n",
       "      <td>5</td>\n",
       "      <td>2000-03-10</td>\n",
       "      <td>Fabulous Comedic Fanasy Directed by a Master</td>\n",
       "      <td>Beetlejuice is an awe-inspiring wonderfully am...</td>\n",
       "    </tr>\n",
       "    <tr>\n",
       "      <th>374407</th>\n",
       "      <td>374408</td>\n",
       "      <td>B00004CI84</td>\n",
       "      <td>A1GB1Q193DNFGR</td>\n",
       "      <td>Bruce Lee Pullen</td>\n",
       "      <td>5</td>\n",
       "      <td>5</td>\n",
       "      <td>5</td>\n",
       "      <td>2000-03-10</td>\n",
       "      <td>Fabulous Comedic Fanasy Directed by a Master</td>\n",
       "      <td>Beetlejuice is an awe-inspiring wonderfully am...</td>\n",
       "    </tr>\n",
       "    <tr>\n",
       "      <th>451934</th>\n",
       "      <td>451935</td>\n",
       "      <td>B00004CXX9</td>\n",
       "      <td>A1GB1Q193DNFGR</td>\n",
       "      <td>Bruce Lee Pullen</td>\n",
       "      <td>5</td>\n",
       "      <td>5</td>\n",
       "      <td>5</td>\n",
       "      <td>2000-03-10</td>\n",
       "      <td>Fabulous Comedic Fanasy Directed by a Master</td>\n",
       "      <td>Beetlejuice is an awe-inspiring wonderfully am...</td>\n",
       "    </tr>\n",
       "  </tbody>\n",
       "</table>\n",
       "</div>"
      ],
      "text/plain": [
       "            Id   ProductId          UserId               ProfileName  \\\n",
       "451855  451856  B00004CXX9   AIUWLEQ1ADEG5          Elizabeth Medina   \n",
       "230284  230285  B00004RYGX  A344SMIA5JECGM           Vincent P. Ross   \n",
       "451877  451878  B00004CXX9  A344SMIA5JECGM           Vincent P. Ross   \n",
       "374358  374359  B00004CI84  A344SMIA5JECGM           Vincent P. Ross   \n",
       "150523  150524  0006641040   ACITT7DI6IDDL           shari zychinski   \n",
       "150500  150501  0006641040   AJ46FKXOVC7NR        Nicholas A Mesiano   \n",
       "230268  230269  B00004RYGX   A1B2IZU1JLZA6                       Wes   \n",
       "374342  374343  B00004CI84   A1B2IZU1JLZA6                       Wes   \n",
       "451863  451864  B00004CXX9   A1B2IZU1JLZA6                       Wes   \n",
       "76881    76882  B00002N8SM  A32DW342WBJ6BX               Buttersugar   \n",
       "451976  451977  B00004CXX9   ACJR7EQF9S6FP          Jeremy Robertson   \n",
       "374449  374450  B00004CI84   ACJR7EQF9S6FP          Jeremy Robertson   \n",
       "230375  230376  B00004RYGX   ACJR7EQF9S6FP          Jeremy Robertson   \n",
       "451854  451855  B00004CXX9   AJH6LUC1UT1ON  The Phantom of the Opera   \n",
       "230325  230326  B00004RYGX  A2DEE7F9XKP3ZR                    jerome   \n",
       "451902  451903  B00004CXX9  A2DEE7F9XKP3ZR                    jerome   \n",
       "374399  374400  B00004CI84  A2DEE7F9XKP3ZR                    jerome   \n",
       "230333  230334  B00004RYGX  A1GB1Q193DNFGR          Bruce Lee Pullen   \n",
       "374407  374408  B00004CI84  A1GB1Q193DNFGR          Bruce Lee Pullen   \n",
       "451934  451935  B00004CXX9  A1GB1Q193DNFGR          Bruce Lee Pullen   \n",
       "\n",
       "        HelpfulnessNumerator  HelpfulnessDenominator  Score       Time  \\\n",
       "451855                     0                       0      5 1999-02-12   \n",
       "230284                     1                       2      5 1999-06-12   \n",
       "451877                     1                       2      5 1999-06-12   \n",
       "374358                     1                       2      5 1999-06-12   \n",
       "150523                     0                       0      5 1999-08-10   \n",
       "150500                     2                       2      5 1999-10-25   \n",
       "230268                    19                      23      1 2000-01-19   \n",
       "374342                    19                      23      1 2000-01-19   \n",
       "451863                    19                      23      1 2000-01-19   \n",
       "76881                      0                       0      5 2000-01-24   \n",
       "451976                     2                       3      4 2000-02-26   \n",
       "374449                     2                       3      4 2000-02-26   \n",
       "230375                     2                       3      4 2000-02-26   \n",
       "451854                     0                       0      5 2000-03-01   \n",
       "230325                     0                       3      5 2000-03-06   \n",
       "451902                     0                       1      5 2000-03-06   \n",
       "374399                     0                       3      5 2000-03-06   \n",
       "230333                     5                       5      5 2000-03-10   \n",
       "374407                     5                       5      5 2000-03-10   \n",
       "451934                     5                       5      5 2000-03-10   \n",
       "\n",
       "                                                  Summary  \\\n",
       "451855                               Entertainingl Funny!   \n",
       "230284                            A modern day fairy tale   \n",
       "451877                            A modern day fairy tale   \n",
       "374358                            A modern day fairy tale   \n",
       "150523                          EVERY book is educational   \n",
       "150500  This whole series is great way to spend time w...   \n",
       "230268    WARNING: CLAMSHELL EDITION IS EDITED TV VERSION   \n",
       "374342    WARNING: CLAMSHELL EDITION IS EDITED TV VERSION   \n",
       "451863    WARNING: CLAMSHELL EDITION IS EDITED TV VERSION   \n",
       "76881                              A sure death for flies   \n",
       "451976           Bettlejuice...Bettlejuice...BETTLEJUICE!   \n",
       "374449           Bettlejuice...Bettlejuice...BETTLEJUICE!   \n",
       "230375           Bettlejuice...Bettlejuice...BETTLEJUICE!   \n",
       "451854                                         FANTASTIC!   \n",
       "230325      Research - Beatlejuice video - French version   \n",
       "451902                                           Research   \n",
       "374399      Research - Beatlejuice video - French version   \n",
       "230333       Fabulous Comedic Fanasy Directed by a Master   \n",
       "374407       Fabulous Comedic Fanasy Directed by a Master   \n",
       "451934       Fabulous Comedic Fanasy Directed by a Master   \n",
       "\n",
       "                                                     Text  \n",
       "451855  Beetlejuice is a well written movie ..... ever...  \n",
       "230284  A twist of rumplestiskin captured on film, sta...  \n",
       "451877  A twist of rumplestiskin captured on film, sta...  \n",
       "374358  A twist of rumplestiskin captured on film, sta...  \n",
       "150523  this witty little book makes my son laugh at l...  \n",
       "150500  I can remember seeing the show when it aired o...  \n",
       "230268  I, myself always enjoyed this movie, it's very...  \n",
       "374342  I, myself always enjoyed this movie, it's very...  \n",
       "451863  I, myself always enjoyed this movie, it's very...  \n",
       "76881   I bought a few of these after my apartment was...  \n",
       "451976  What happens when you say his name three times...  \n",
       "374449  What happens when you say his name three times...  \n",
       "230375  What happens when you say his name three times...  \n",
       "451854  Beetlejuice is an excellent and funny movie. K...  \n",
       "230325  I'm getting crazy.I'm looking for Beatlejuice ...  \n",
       "451902  I'm getting crazy.<p>Is it really impossible t...  \n",
       "374399  I'm getting crazy.I'm looking for Beatlejuice ...  \n",
       "230333  Beetlejuice is an awe-inspiring wonderfully am...  \n",
       "374407  Beetlejuice is an awe-inspiring wonderfully am...  \n",
       "451934  Beetlejuice is an awe-inspiring wonderfully am...  "
      ]
     },
     "execution_count": 6,
     "metadata": {
      "tags": []
     },
     "output_type": "execute_result"
    }
   ],
   "source": [
    "data.head(20)"
   ]
  },
  {
   "cell_type": "code",
   "execution_count": 7,
   "metadata": {
    "colab": {
     "base_uri": "https://localhost:8080/",
     "height": 55
    },
    "colab_type": "code",
    "id": "ij2vya-f6Y3K",
    "outputId": "a5a18926-cfd0-4eb2-e827-32e1841b1577"
   },
   "outputs": [
    {
     "data": {
      "text/plain": [
       "'\\n# Give reviews with Score>3 a positive rating(1), and reviews with a score<3 a negative rating(0).\\ndef partition(x):\\n    if x < 3:\\n        return 0\\n    return 1\\n\\n#changing reviews with score less than 3 to be positive and vice-versa\\n\\ndef data_filter(filtered_data):\\n    actualScore = filtered_data[\\'Score\\']\\n    positiveNegative = actualScore.map(partition) \\n    filtered_data[\\'Score\\'] = positiveNegative\\n    return filtered_data[\"Score\"]\\n\\n\\n#print(\"Number of data points in our data\", filtered_data.shape)\\n#filtered_data.head(3)\\n'"
      ]
     },
     "execution_count": 7,
     "metadata": {
      "tags": []
     },
     "output_type": "execute_result"
    }
   ],
   "source": [
    "# using SQLite Table to read data.\n",
    "con = sqlite3.connect('database.sqlite') \n",
    "\n",
    "# filtering only positive and negative reviews i.e. \n",
    "# not taking into consideration those reviews with Score=3\n",
    "# SELECT * FROM Reviews WHERE Score != 3 LIMIT 500000, will give top 500000 data points\n",
    "# you can change the number to any other number based on your computing power\n",
    "\n",
    "# filtered_data = pd.read_sql_query(\"\"\" SELECT * FROM Reviews WHERE Score != 3 LIMIT 500000\"\"\", con) \n",
    "# for tsne assignment you can take 5k data points\n",
    "\n",
    "\n",
    "filtered_data = data\n",
    "\n",
    "#Reading equal amount of positive and negative data.\n",
    "#filtered_data_1 = data[data[\"Score\"]>3][0:10000]\n",
    "#filtered_data_2 = data[data[\"Score\"]<=2][0:10000]\n",
    "\n",
    "#filtered_data_1[\"Score\"] = data_filter(filtered_data_1)\n",
    "#filtered_data_2[\"Score\"] = data_filter(filtered_data_2)\n",
    "\n",
    "'''\n",
    "# Give reviews with Score>3 a positive rating(1), and reviews with a score<3 a negative rating(0).\n",
    "def partition(x):\n",
    "    if x < 3:\n",
    "        return 0\n",
    "    return 1\n",
    "\n",
    "#changing reviews with score less than 3 to be positive and vice-versa\n",
    "\n",
    "def data_filter(filtered_data):\n",
    "    actualScore = filtered_data['Score']\n",
    "    positiveNegative = actualScore.map(partition) \n",
    "    filtered_data['Score'] = positiveNegative\n",
    "    return filtered_data[\"Score\"]\n",
    "\n",
    "\n",
    "#print(\"Number of data points in our data\", filtered_data.shape)\n",
    "#filtered_data.head(3)\n",
    "'''"
   ]
  },
  {
   "cell_type": "code",
   "execution_count": 0,
   "metadata": {
    "colab": {},
    "colab_type": "code",
    "id": "-MyeRpzO6Y3P"
   },
   "outputs": [],
   "source": []
  },
  {
   "cell_type": "code",
   "execution_count": 0,
   "metadata": {
    "colab": {},
    "colab_type": "code",
    "id": "tCLv1Ce6yZNM"
   },
   "outputs": [],
   "source": []
  },
  {
   "cell_type": "code",
   "execution_count": 8,
   "metadata": {
    "colab": {
     "base_uri": "https://localhost:8080/",
     "height": 55
    },
    "colab_type": "code",
    "id": "iGjB6L4k6Y3R",
    "outputId": "cbb62b84-603c-4481-b170-8c619ad26e20"
   },
   "outputs": [
    {
     "data": {
      "text/plain": [
       "'\\n\\n#Stacking both positive and negative data\\nfiltered_data = filtered_data_1.append(filtered_data_2, ignore_index = True)\\n\\n#Shuffling the data points to mix the data\\nfrom sklearn.utils import shuffle\\nfiltered_data = shuffle(filtered_data)\\n\\n'"
      ]
     },
     "execution_count": 8,
     "metadata": {
      "tags": []
     },
     "output_type": "execute_result"
    }
   ],
   "source": [
    "'''\n",
    "\n",
    "#Stacking both positive and negative data\n",
    "filtered_data = filtered_data_1.append(filtered_data_2, ignore_index = True)\n",
    "\n",
    "#Shuffling the data points to mix the data\n",
    "from sklearn.utils import shuffle\n",
    "filtered_data = shuffle(filtered_data)\n",
    "\n",
    "'''"
   ]
  },
  {
   "cell_type": "code",
   "execution_count": 0,
   "metadata": {
    "colab": {},
    "colab_type": "code",
    "id": "UVRBwZOT54l0"
   },
   "outputs": [],
   "source": [
    "#Calling function partition\n",
    "filtered_data[\"Score\"] = filtered_data[\"Score\"].map(partition)"
   ]
  },
  {
   "cell_type": "code",
   "execution_count": 10,
   "metadata": {
    "colab": {
     "base_uri": "https://localhost:8080/",
     "height": 208
    },
    "colab_type": "code",
    "id": "nQfQPKuh6Y3U",
    "outputId": "2f162bcf-c82f-4ee5-91aa-a64967667c86"
   },
   "outputs": [
    {
     "name": "stdout",
     "output_type": "stream",
     "text": [
      "Number of data points in our data (568454, 10)\n"
     ]
    },
    {
     "data": {
      "text/html": [
       "<div>\n",
       "<style scoped>\n",
       "    .dataframe tbody tr th:only-of-type {\n",
       "        vertical-align: middle;\n",
       "    }\n",
       "\n",
       "    .dataframe tbody tr th {\n",
       "        vertical-align: top;\n",
       "    }\n",
       "\n",
       "    .dataframe thead th {\n",
       "        text-align: right;\n",
       "    }\n",
       "</style>\n",
       "<table border=\"1\" class=\"dataframe\">\n",
       "  <thead>\n",
       "    <tr style=\"text-align: right;\">\n",
       "      <th></th>\n",
       "      <th>Id</th>\n",
       "      <th>ProductId</th>\n",
       "      <th>UserId</th>\n",
       "      <th>ProfileName</th>\n",
       "      <th>HelpfulnessNumerator</th>\n",
       "      <th>HelpfulnessDenominator</th>\n",
       "      <th>Score</th>\n",
       "      <th>Time</th>\n",
       "      <th>Summary</th>\n",
       "      <th>Text</th>\n",
       "    </tr>\n",
       "  </thead>\n",
       "  <tbody>\n",
       "    <tr>\n",
       "      <th>451855</th>\n",
       "      <td>451856</td>\n",
       "      <td>B00004CXX9</td>\n",
       "      <td>AIUWLEQ1ADEG5</td>\n",
       "      <td>Elizabeth Medina</td>\n",
       "      <td>0</td>\n",
       "      <td>0</td>\n",
       "      <td>1</td>\n",
       "      <td>1999-02-12</td>\n",
       "      <td>Entertainingl Funny!</td>\n",
       "      <td>Beetlejuice is a well written movie ..... ever...</td>\n",
       "    </tr>\n",
       "    <tr>\n",
       "      <th>230284</th>\n",
       "      <td>230285</td>\n",
       "      <td>B00004RYGX</td>\n",
       "      <td>A344SMIA5JECGM</td>\n",
       "      <td>Vincent P. Ross</td>\n",
       "      <td>1</td>\n",
       "      <td>2</td>\n",
       "      <td>1</td>\n",
       "      <td>1999-06-12</td>\n",
       "      <td>A modern day fairy tale</td>\n",
       "      <td>A twist of rumplestiskin captured on film, sta...</td>\n",
       "    </tr>\n",
       "    <tr>\n",
       "      <th>451877</th>\n",
       "      <td>451878</td>\n",
       "      <td>B00004CXX9</td>\n",
       "      <td>A344SMIA5JECGM</td>\n",
       "      <td>Vincent P. Ross</td>\n",
       "      <td>1</td>\n",
       "      <td>2</td>\n",
       "      <td>1</td>\n",
       "      <td>1999-06-12</td>\n",
       "      <td>A modern day fairy tale</td>\n",
       "      <td>A twist of rumplestiskin captured on film, sta...</td>\n",
       "    </tr>\n",
       "  </tbody>\n",
       "</table>\n",
       "</div>"
      ],
      "text/plain": [
       "            Id   ProductId          UserId       ProfileName  \\\n",
       "451855  451856  B00004CXX9   AIUWLEQ1ADEG5  Elizabeth Medina   \n",
       "230284  230285  B00004RYGX  A344SMIA5JECGM   Vincent P. Ross   \n",
       "451877  451878  B00004CXX9  A344SMIA5JECGM   Vincent P. Ross   \n",
       "\n",
       "        HelpfulnessNumerator  HelpfulnessDenominator  Score       Time  \\\n",
       "451855                     0                       0      1 1999-02-12   \n",
       "230284                     1                       2      1 1999-06-12   \n",
       "451877                     1                       2      1 1999-06-12   \n",
       "\n",
       "                        Summary  \\\n",
       "451855     Entertainingl Funny!   \n",
       "230284  A modern day fairy tale   \n",
       "451877  A modern day fairy tale   \n",
       "\n",
       "                                                     Text  \n",
       "451855  Beetlejuice is a well written movie ..... ever...  \n",
       "230284  A twist of rumplestiskin captured on film, sta...  \n",
       "451877  A twist of rumplestiskin captured on film, sta...  "
      ]
     },
     "execution_count": 10,
     "metadata": {
      "tags": []
     },
     "output_type": "execute_result"
    }
   ],
   "source": [
    "print(\"Number of data points in our data\", filtered_data.shape)\n",
    "filtered_data.head(3)"
   ]
  },
  {
   "cell_type": "code",
   "execution_count": 11,
   "metadata": {
    "colab": {
     "base_uri": "https://localhost:8080/",
     "height": 5817
    },
    "colab_type": "code",
    "id": "dVc-nl9h6Y3f",
    "outputId": "fad86274-7a03-466c-ff95-e72481fc7d40"
   },
   "outputs": [
    {
     "data": {
      "text/html": [
       "<div>\n",
       "<style scoped>\n",
       "    .dataframe tbody tr th:only-of-type {\n",
       "        vertical-align: middle;\n",
       "    }\n",
       "\n",
       "    .dataframe tbody tr th {\n",
       "        vertical-align: top;\n",
       "    }\n",
       "\n",
       "    .dataframe thead th {\n",
       "        text-align: right;\n",
       "    }\n",
       "</style>\n",
       "<table border=\"1\" class=\"dataframe\">\n",
       "  <thead>\n",
       "    <tr style=\"text-align: right;\">\n",
       "      <th></th>\n",
       "      <th>Id</th>\n",
       "      <th>ProductId</th>\n",
       "      <th>UserId</th>\n",
       "      <th>ProfileName</th>\n",
       "      <th>HelpfulnessNumerator</th>\n",
       "      <th>HelpfulnessDenominator</th>\n",
       "      <th>Score</th>\n",
       "      <th>Time</th>\n",
       "      <th>Summary</th>\n",
       "      <th>Text</th>\n",
       "    </tr>\n",
       "  </thead>\n",
       "  <tbody>\n",
       "    <tr>\n",
       "      <th>0</th>\n",
       "      <td>451856</td>\n",
       "      <td>B00004CXX9</td>\n",
       "      <td>AIUWLEQ1ADEG5</td>\n",
       "      <td>Elizabeth Medina</td>\n",
       "      <td>0</td>\n",
       "      <td>0</td>\n",
       "      <td>1</td>\n",
       "      <td>1999-02-12</td>\n",
       "      <td>Entertainingl Funny!</td>\n",
       "      <td>Beetlejuice is a well written movie ..... ever...</td>\n",
       "    </tr>\n",
       "    <tr>\n",
       "      <th>1</th>\n",
       "      <td>230285</td>\n",
       "      <td>B00004RYGX</td>\n",
       "      <td>A344SMIA5JECGM</td>\n",
       "      <td>Vincent P. Ross</td>\n",
       "      <td>1</td>\n",
       "      <td>2</td>\n",
       "      <td>1</td>\n",
       "      <td>1999-06-12</td>\n",
       "      <td>A modern day fairy tale</td>\n",
       "      <td>A twist of rumplestiskin captured on film, sta...</td>\n",
       "    </tr>\n",
       "    <tr>\n",
       "      <th>2</th>\n",
       "      <td>451878</td>\n",
       "      <td>B00004CXX9</td>\n",
       "      <td>A344SMIA5JECGM</td>\n",
       "      <td>Vincent P. Ross</td>\n",
       "      <td>1</td>\n",
       "      <td>2</td>\n",
       "      <td>1</td>\n",
       "      <td>1999-06-12</td>\n",
       "      <td>A modern day fairy tale</td>\n",
       "      <td>A twist of rumplestiskin captured on film, sta...</td>\n",
       "    </tr>\n",
       "    <tr>\n",
       "      <th>3</th>\n",
       "      <td>374359</td>\n",
       "      <td>B00004CI84</td>\n",
       "      <td>A344SMIA5JECGM</td>\n",
       "      <td>Vincent P. Ross</td>\n",
       "      <td>1</td>\n",
       "      <td>2</td>\n",
       "      <td>1</td>\n",
       "      <td>1999-06-12</td>\n",
       "      <td>A modern day fairy tale</td>\n",
       "      <td>A twist of rumplestiskin captured on film, sta...</td>\n",
       "    </tr>\n",
       "    <tr>\n",
       "      <th>4</th>\n",
       "      <td>150524</td>\n",
       "      <td>0006641040</td>\n",
       "      <td>ACITT7DI6IDDL</td>\n",
       "      <td>shari zychinski</td>\n",
       "      <td>0</td>\n",
       "      <td>0</td>\n",
       "      <td>1</td>\n",
       "      <td>1999-08-10</td>\n",
       "      <td>EVERY book is educational</td>\n",
       "      <td>this witty little book makes my son laugh at l...</td>\n",
       "    </tr>\n",
       "    <tr>\n",
       "      <th>5</th>\n",
       "      <td>150501</td>\n",
       "      <td>0006641040</td>\n",
       "      <td>AJ46FKXOVC7NR</td>\n",
       "      <td>Nicholas A Mesiano</td>\n",
       "      <td>2</td>\n",
       "      <td>2</td>\n",
       "      <td>1</td>\n",
       "      <td>1999-10-25</td>\n",
       "      <td>This whole series is great way to spend time w...</td>\n",
       "      <td>I can remember seeing the show when it aired o...</td>\n",
       "    </tr>\n",
       "    <tr>\n",
       "      <th>6</th>\n",
       "      <td>230269</td>\n",
       "      <td>B00004RYGX</td>\n",
       "      <td>A1B2IZU1JLZA6</td>\n",
       "      <td>Wes</td>\n",
       "      <td>19</td>\n",
       "      <td>23</td>\n",
       "      <td>0</td>\n",
       "      <td>2000-01-19</td>\n",
       "      <td>WARNING: CLAMSHELL EDITION IS EDITED TV VERSION</td>\n",
       "      <td>I, myself always enjoyed this movie, it's very...</td>\n",
       "    </tr>\n",
       "    <tr>\n",
       "      <th>7</th>\n",
       "      <td>374343</td>\n",
       "      <td>B00004CI84</td>\n",
       "      <td>A1B2IZU1JLZA6</td>\n",
       "      <td>Wes</td>\n",
       "      <td>19</td>\n",
       "      <td>23</td>\n",
       "      <td>0</td>\n",
       "      <td>2000-01-19</td>\n",
       "      <td>WARNING: CLAMSHELL EDITION IS EDITED TV VERSION</td>\n",
       "      <td>I, myself always enjoyed this movie, it's very...</td>\n",
       "    </tr>\n",
       "    <tr>\n",
       "      <th>8</th>\n",
       "      <td>451864</td>\n",
       "      <td>B00004CXX9</td>\n",
       "      <td>A1B2IZU1JLZA6</td>\n",
       "      <td>Wes</td>\n",
       "      <td>19</td>\n",
       "      <td>23</td>\n",
       "      <td>0</td>\n",
       "      <td>2000-01-19</td>\n",
       "      <td>WARNING: CLAMSHELL EDITION IS EDITED TV VERSION</td>\n",
       "      <td>I, myself always enjoyed this movie, it's very...</td>\n",
       "    </tr>\n",
       "    <tr>\n",
       "      <th>9</th>\n",
       "      <td>76882</td>\n",
       "      <td>B00002N8SM</td>\n",
       "      <td>A32DW342WBJ6BX</td>\n",
       "      <td>Buttersugar</td>\n",
       "      <td>0</td>\n",
       "      <td>0</td>\n",
       "      <td>1</td>\n",
       "      <td>2000-01-24</td>\n",
       "      <td>A sure death for flies</td>\n",
       "      <td>I bought a few of these after my apartment was...</td>\n",
       "    </tr>\n",
       "    <tr>\n",
       "      <th>10</th>\n",
       "      <td>451977</td>\n",
       "      <td>B00004CXX9</td>\n",
       "      <td>ACJR7EQF9S6FP</td>\n",
       "      <td>Jeremy Robertson</td>\n",
       "      <td>2</td>\n",
       "      <td>3</td>\n",
       "      <td>1</td>\n",
       "      <td>2000-02-26</td>\n",
       "      <td>Bettlejuice...Bettlejuice...BETTLEJUICE!</td>\n",
       "      <td>What happens when you say his name three times...</td>\n",
       "    </tr>\n",
       "    <tr>\n",
       "      <th>11</th>\n",
       "      <td>374450</td>\n",
       "      <td>B00004CI84</td>\n",
       "      <td>ACJR7EQF9S6FP</td>\n",
       "      <td>Jeremy Robertson</td>\n",
       "      <td>2</td>\n",
       "      <td>3</td>\n",
       "      <td>1</td>\n",
       "      <td>2000-02-26</td>\n",
       "      <td>Bettlejuice...Bettlejuice...BETTLEJUICE!</td>\n",
       "      <td>What happens when you say his name three times...</td>\n",
       "    </tr>\n",
       "    <tr>\n",
       "      <th>12</th>\n",
       "      <td>230376</td>\n",
       "      <td>B00004RYGX</td>\n",
       "      <td>ACJR7EQF9S6FP</td>\n",
       "      <td>Jeremy Robertson</td>\n",
       "      <td>2</td>\n",
       "      <td>3</td>\n",
       "      <td>1</td>\n",
       "      <td>2000-02-26</td>\n",
       "      <td>Bettlejuice...Bettlejuice...BETTLEJUICE!</td>\n",
       "      <td>What happens when you say his name three times...</td>\n",
       "    </tr>\n",
       "    <tr>\n",
       "      <th>13</th>\n",
       "      <td>451855</td>\n",
       "      <td>B00004CXX9</td>\n",
       "      <td>AJH6LUC1UT1ON</td>\n",
       "      <td>The Phantom of the Opera</td>\n",
       "      <td>0</td>\n",
       "      <td>0</td>\n",
       "      <td>1</td>\n",
       "      <td>2000-03-01</td>\n",
       "      <td>FANTASTIC!</td>\n",
       "      <td>Beetlejuice is an excellent and funny movie. K...</td>\n",
       "    </tr>\n",
       "    <tr>\n",
       "      <th>14</th>\n",
       "      <td>230326</td>\n",
       "      <td>B00004RYGX</td>\n",
       "      <td>A2DEE7F9XKP3ZR</td>\n",
       "      <td>jerome</td>\n",
       "      <td>0</td>\n",
       "      <td>3</td>\n",
       "      <td>1</td>\n",
       "      <td>2000-03-06</td>\n",
       "      <td>Research - Beatlejuice video - French version</td>\n",
       "      <td>I'm getting crazy.I'm looking for Beatlejuice ...</td>\n",
       "    </tr>\n",
       "    <tr>\n",
       "      <th>15</th>\n",
       "      <td>451903</td>\n",
       "      <td>B00004CXX9</td>\n",
       "      <td>A2DEE7F9XKP3ZR</td>\n",
       "      <td>jerome</td>\n",
       "      <td>0</td>\n",
       "      <td>1</td>\n",
       "      <td>1</td>\n",
       "      <td>2000-03-06</td>\n",
       "      <td>Research</td>\n",
       "      <td>I'm getting crazy.&lt;p&gt;Is it really impossible t...</td>\n",
       "    </tr>\n",
       "    <tr>\n",
       "      <th>16</th>\n",
       "      <td>374400</td>\n",
       "      <td>B00004CI84</td>\n",
       "      <td>A2DEE7F9XKP3ZR</td>\n",
       "      <td>jerome</td>\n",
       "      <td>0</td>\n",
       "      <td>3</td>\n",
       "      <td>1</td>\n",
       "      <td>2000-03-06</td>\n",
       "      <td>Research - Beatlejuice video - French version</td>\n",
       "      <td>I'm getting crazy.I'm looking for Beatlejuice ...</td>\n",
       "    </tr>\n",
       "    <tr>\n",
       "      <th>17</th>\n",
       "      <td>230334</td>\n",
       "      <td>B00004RYGX</td>\n",
       "      <td>A1GB1Q193DNFGR</td>\n",
       "      <td>Bruce Lee Pullen</td>\n",
       "      <td>5</td>\n",
       "      <td>5</td>\n",
       "      <td>1</td>\n",
       "      <td>2000-03-10</td>\n",
       "      <td>Fabulous Comedic Fanasy Directed by a Master</td>\n",
       "      <td>Beetlejuice is an awe-inspiring wonderfully am...</td>\n",
       "    </tr>\n",
       "    <tr>\n",
       "      <th>18</th>\n",
       "      <td>374408</td>\n",
       "      <td>B00004CI84</td>\n",
       "      <td>A1GB1Q193DNFGR</td>\n",
       "      <td>Bruce Lee Pullen</td>\n",
       "      <td>5</td>\n",
       "      <td>5</td>\n",
       "      <td>1</td>\n",
       "      <td>2000-03-10</td>\n",
       "      <td>Fabulous Comedic Fanasy Directed by a Master</td>\n",
       "      <td>Beetlejuice is an awe-inspiring wonderfully am...</td>\n",
       "    </tr>\n",
       "    <tr>\n",
       "      <th>19</th>\n",
       "      <td>451935</td>\n",
       "      <td>B00004CXX9</td>\n",
       "      <td>A1GB1Q193DNFGR</td>\n",
       "      <td>Bruce Lee Pullen</td>\n",
       "      <td>5</td>\n",
       "      <td>5</td>\n",
       "      <td>1</td>\n",
       "      <td>2000-03-10</td>\n",
       "      <td>Fabulous Comedic Fanasy Directed by a Master</td>\n",
       "      <td>Beetlejuice is an awe-inspiring wonderfully am...</td>\n",
       "    </tr>\n",
       "    <tr>\n",
       "      <th>20</th>\n",
       "      <td>149768</td>\n",
       "      <td>B00004S1C5</td>\n",
       "      <td>A7P76IGRZZBFJ</td>\n",
       "      <td>E. Thompson \"Soooooper Genius\"</td>\n",
       "      <td>18</td>\n",
       "      <td>18</td>\n",
       "      <td>1</td>\n",
       "      <td>2000-05-12</td>\n",
       "      <td>Who Needs Wilton?</td>\n",
       "      <td>I'm sick of scads of nasty toothpicks all over...</td>\n",
       "    </tr>\n",
       "    <tr>\n",
       "      <th>21</th>\n",
       "      <td>1245</td>\n",
       "      <td>B00002Z754</td>\n",
       "      <td>A29Z5PI9BW2PU3</td>\n",
       "      <td>Robbie</td>\n",
       "      <td>7</td>\n",
       "      <td>7</td>\n",
       "      <td>1</td>\n",
       "      <td>2000-06-23</td>\n",
       "      <td>Great Product</td>\n",
       "      <td>This was a really good idea and the final prod...</td>\n",
       "    </tr>\n",
       "    <tr>\n",
       "      <th>22</th>\n",
       "      <td>1244</td>\n",
       "      <td>B00002Z754</td>\n",
       "      <td>A3B8RCEI0FXFI6</td>\n",
       "      <td>B G Chase</td>\n",
       "      <td>10</td>\n",
       "      <td>10</td>\n",
       "      <td>1</td>\n",
       "      <td>2000-06-29</td>\n",
       "      <td>WOW Make your own 'slickers' !</td>\n",
       "      <td>I just received my shipment and could hardly w...</td>\n",
       "    </tr>\n",
       "    <tr>\n",
       "      <th>23</th>\n",
       "      <td>131217</td>\n",
       "      <td>B00004RAMX</td>\n",
       "      <td>A5NQLNC6QPGSI</td>\n",
       "      <td>Kim Nason</td>\n",
       "      <td>7</td>\n",
       "      <td>8</td>\n",
       "      <td>1</td>\n",
       "      <td>2000-07-31</td>\n",
       "      <td>End your Gopher Problems</td>\n",
       "      <td>I have just recently purchased the Woodstream ...</td>\n",
       "    </tr>\n",
       "    <tr>\n",
       "      <th>24</th>\n",
       "      <td>451948</td>\n",
       "      <td>B00004CXX9</td>\n",
       "      <td>A1FJOY14X3MUHE</td>\n",
       "      <td>Justin Howard</td>\n",
       "      <td>2</td>\n",
       "      <td>2</td>\n",
       "      <td>1</td>\n",
       "      <td>2000-08-15</td>\n",
       "      <td>A fresh, original film from master storyteller...</td>\n",
       "      <td>This is such a great film, I don't even know h...</td>\n",
       "    </tr>\n",
       "    <tr>\n",
       "      <th>25</th>\n",
       "      <td>374421</td>\n",
       "      <td>B00004CI84</td>\n",
       "      <td>A1FJOY14X3MUHE</td>\n",
       "      <td>Justin Howard</td>\n",
       "      <td>2</td>\n",
       "      <td>2</td>\n",
       "      <td>1</td>\n",
       "      <td>2000-08-15</td>\n",
       "      <td>A fresh, original film from master storyteller...</td>\n",
       "      <td>This is such a great film, I don't even know h...</td>\n",
       "    </tr>\n",
       "    <tr>\n",
       "      <th>26</th>\n",
       "      <td>230347</td>\n",
       "      <td>B00004RYGX</td>\n",
       "      <td>A1FJOY14X3MUHE</td>\n",
       "      <td>Justin Howard</td>\n",
       "      <td>2</td>\n",
       "      <td>2</td>\n",
       "      <td>1</td>\n",
       "      <td>2000-08-15</td>\n",
       "      <td>A fresh, original film from master storyteller...</td>\n",
       "      <td>This is such a great film, I don't even know h...</td>\n",
       "    </tr>\n",
       "    <tr>\n",
       "      <th>27</th>\n",
       "      <td>374422</td>\n",
       "      <td>B00004CI84</td>\n",
       "      <td>A1048CYU0OV4O8</td>\n",
       "      <td>Judy L. Eans</td>\n",
       "      <td>2</td>\n",
       "      <td>2</td>\n",
       "      <td>1</td>\n",
       "      <td>2000-09-01</td>\n",
       "      <td>GREAT</td>\n",
       "      <td>THIS IS ONE MOVIE THAT SHOULD BE IN YOUR MOVIE...</td>\n",
       "    </tr>\n",
       "    <tr>\n",
       "      <th>28</th>\n",
       "      <td>230348</td>\n",
       "      <td>B00004RYGX</td>\n",
       "      <td>A1048CYU0OV4O8</td>\n",
       "      <td>Judy L. Eans</td>\n",
       "      <td>2</td>\n",
       "      <td>2</td>\n",
       "      <td>1</td>\n",
       "      <td>2000-09-01</td>\n",
       "      <td>GREAT</td>\n",
       "      <td>THIS IS ONE MOVIE THAT SHOULD BE IN YOUR MOVIE...</td>\n",
       "    </tr>\n",
       "    <tr>\n",
       "      <th>29</th>\n",
       "      <td>451949</td>\n",
       "      <td>B00004CXX9</td>\n",
       "      <td>A1048CYU0OV4O8</td>\n",
       "      <td>Judy L. Eans</td>\n",
       "      <td>2</td>\n",
       "      <td>2</td>\n",
       "      <td>1</td>\n",
       "      <td>2000-09-01</td>\n",
       "      <td>GREAT</td>\n",
       "      <td>THIS IS ONE MOVIE THAT SHOULD BE IN YOUR MOVIE...</td>\n",
       "    </tr>\n",
       "    <tr>\n",
       "      <th>...</th>\n",
       "      <td>...</td>\n",
       "      <td>...</td>\n",
       "      <td>...</td>\n",
       "      <td>...</td>\n",
       "      <td>...</td>\n",
       "      <td>...</td>\n",
       "      <td>...</td>\n",
       "      <td>...</td>\n",
       "      <td>...</td>\n",
       "      <td>...</td>\n",
       "    </tr>\n",
       "    <tr>\n",
       "      <th>568424</th>\n",
       "      <td>17883</td>\n",
       "      <td>B001EO653M</td>\n",
       "      <td>A3IGARBJ4SE9EQ</td>\n",
       "      <td>Arielle M.</td>\n",
       "      <td>0</td>\n",
       "      <td>0</td>\n",
       "      <td>1</td>\n",
       "      <td>2012-12-10</td>\n",
       "      <td>delicious, full-flavored cocoa mix</td>\n",
       "      <td>This is probably the best-tasting cocoa I've e...</td>\n",
       "    </tr>\n",
       "    <tr>\n",
       "      <th>568425</th>\n",
       "      <td>200504</td>\n",
       "      <td>B007PXI6CO</td>\n",
       "      <td>A1007OFJTJRYII</td>\n",
       "      <td>Jan</td>\n",
       "      <td>0</td>\n",
       "      <td>0</td>\n",
       "      <td>1</td>\n",
       "      <td>2012-12-10</td>\n",
       "      <td>salty caramels</td>\n",
       "      <td>These were the best caramels I have ever eaten...</td>\n",
       "    </tr>\n",
       "    <tr>\n",
       "      <th>568426</th>\n",
       "      <td>275087</td>\n",
       "      <td>B000FF3V06</td>\n",
       "      <td>A3EEJG97L9YIAB</td>\n",
       "      <td>Linda</td>\n",
       "      <td>0</td>\n",
       "      <td>0</td>\n",
       "      <td>1</td>\n",
       "      <td>2012-12-10</td>\n",
       "      <td>Dare to be Pleased</td>\n",
       "      <td>Cookies are delicious and make a nice after di...</td>\n",
       "    </tr>\n",
       "    <tr>\n",
       "      <th>568427</th>\n",
       "      <td>566827</td>\n",
       "      <td>B001PQTYN2</td>\n",
       "      <td>AR4GVRPKO4MBL</td>\n",
       "      <td>ShahinX1</td>\n",
       "      <td>0</td>\n",
       "      <td>0</td>\n",
       "      <td>1</td>\n",
       "      <td>2012-12-10</td>\n",
       "      <td>Not all that...</td>\n",
       "      <td>To those of you who tried this and wrote a lif...</td>\n",
       "    </tr>\n",
       "    <tr>\n",
       "      <th>568428</th>\n",
       "      <td>201918</td>\n",
       "      <td>B009062AQW</td>\n",
       "      <td>ARUJ8B1HTISK0</td>\n",
       "      <td>Blondie</td>\n",
       "      <td>0</td>\n",
       "      <td>0</td>\n",
       "      <td>1</td>\n",
       "      <td>2012-12-10</td>\n",
       "      <td>Good hearty flavor</td>\n",
       "      <td>The family loved every bite. I'll be trying al...</td>\n",
       "    </tr>\n",
       "    <tr>\n",
       "      <th>568429</th>\n",
       "      <td>201995</td>\n",
       "      <td>B000LQL9M6</td>\n",
       "      <td>AI2R6R7UP4NYB</td>\n",
       "      <td>Sparky</td>\n",
       "      <td>0</td>\n",
       "      <td>0</td>\n",
       "      <td>1</td>\n",
       "      <td>2012-12-10</td>\n",
       "      <td>Great for Baklava</td>\n",
       "      <td>Great size for the occasional user who must ha...</td>\n",
       "    </tr>\n",
       "    <tr>\n",
       "      <th>568430</th>\n",
       "      <td>549437</td>\n",
       "      <td>B004TGZRJA</td>\n",
       "      <td>A2GDTF5XZFVW2G</td>\n",
       "      <td>Kirk Henry \"old school\"</td>\n",
       "      <td>0</td>\n",
       "      <td>0</td>\n",
       "      <td>1</td>\n",
       "      <td>2012-12-10</td>\n",
       "      <td>LUV This Coffee!</td>\n",
       "      <td>I'm a big time coffee drinker and I tend to li...</td>\n",
       "    </tr>\n",
       "    <tr>\n",
       "      <th>568431</th>\n",
       "      <td>513699</td>\n",
       "      <td>B000VK33C6</td>\n",
       "      <td>A3LRLNH9WJDQY6</td>\n",
       "      <td>Diane Milan</td>\n",
       "      <td>0</td>\n",
       "      <td>0</td>\n",
       "      <td>1</td>\n",
       "      <td>2012-12-10</td>\n",
       "      <td>Healthier</td>\n",
       "      <td>I feel better about feeding this product to my...</td>\n",
       "    </tr>\n",
       "    <tr>\n",
       "      <th>568432</th>\n",
       "      <td>203834</td>\n",
       "      <td>B000VK4CTO</td>\n",
       "      <td>A1V5J0VTEL8DS8</td>\n",
       "      <td>Peter</td>\n",
       "      <td>0</td>\n",
       "      <td>0</td>\n",
       "      <td>0</td>\n",
       "      <td>2012-12-10</td>\n",
       "      <td>A treat they won't eat</td>\n",
       "      <td>My two kittens (6 &amp; 7 Months) don't even think...</td>\n",
       "    </tr>\n",
       "    <tr>\n",
       "      <th>568433</th>\n",
       "      <td>377295</td>\n",
       "      <td>B004VLWASE</td>\n",
       "      <td>A36DVRTEHDJKNP</td>\n",
       "      <td>Steve</td>\n",
       "      <td>0</td>\n",
       "      <td>0</td>\n",
       "      <td>1</td>\n",
       "      <td>2012-12-10</td>\n",
       "      <td>non-wheat crackers</td>\n",
       "      <td>I've tried the other lentil crackersw in a que...</td>\n",
       "    </tr>\n",
       "    <tr>\n",
       "      <th>568434</th>\n",
       "      <td>330098</td>\n",
       "      <td>B001OHX1ZY</td>\n",
       "      <td>A88XJQH33JG01</td>\n",
       "      <td>maryann</td>\n",
       "      <td>0</td>\n",
       "      <td>0</td>\n",
       "      <td>1</td>\n",
       "      <td>2012-12-10</td>\n",
       "      <td>best buy on hemp protein powder</td>\n",
       "      <td>This is the best way to buy Nutiva Organic Hem...</td>\n",
       "    </tr>\n",
       "    <tr>\n",
       "      <th>568435</th>\n",
       "      <td>377319</td>\n",
       "      <td>B001IAQ8KC</td>\n",
       "      <td>AQO4BNFU7T4EH</td>\n",
       "      <td>Andrew P Freese</td>\n",
       "      <td>0</td>\n",
       "      <td>0</td>\n",
       "      <td>1</td>\n",
       "      <td>2012-12-10</td>\n",
       "      <td>Not Hot</td>\n",
       "      <td>Product claims to be \"Extra Hot\".&lt;br /&gt;It's no...</td>\n",
       "    </tr>\n",
       "    <tr>\n",
       "      <th>568436</th>\n",
       "      <td>203701</td>\n",
       "      <td>B004AW1Z94</td>\n",
       "      <td>A1D6FDBK9FJI8C</td>\n",
       "      <td>Jason Mark</td>\n",
       "      <td>0</td>\n",
       "      <td>0</td>\n",
       "      <td>0</td>\n",
       "      <td>2012-12-10</td>\n",
       "      <td>I think this is a scam</td>\n",
       "      <td>it's advertised as 21oz, but they sent me an 1...</td>\n",
       "    </tr>\n",
       "    <tr>\n",
       "      <th>568437</th>\n",
       "      <td>432397</td>\n",
       "      <td>B003A199AI</td>\n",
       "      <td>A2VI7ZC4CWDUPW</td>\n",
       "      <td>Vanessa Close</td>\n",
       "      <td>2</td>\n",
       "      <td>2</td>\n",
       "      <td>1</td>\n",
       "      <td>2012-12-10</td>\n",
       "      <td>Absolutely Love These</td>\n",
       "      <td>I like to try new things and when I came acros...</td>\n",
       "    </tr>\n",
       "    <tr>\n",
       "      <th>568438</th>\n",
       "      <td>432396</td>\n",
       "      <td>B003A199AI</td>\n",
       "      <td>A3F0WUGQIS488X</td>\n",
       "      <td>Daniel L</td>\n",
       "      <td>2</td>\n",
       "      <td>2</td>\n",
       "      <td>1</td>\n",
       "      <td>2012-12-10</td>\n",
       "      <td>Perfect for Eating without Expanding!</td>\n",
       "      <td>I love these !&lt;br /&gt; I always crave salty/ cru...</td>\n",
       "    </tr>\n",
       "    <tr>\n",
       "      <th>568439</th>\n",
       "      <td>80520</td>\n",
       "      <td>B008ADQYYU</td>\n",
       "      <td>A2DKVL26ZX0WGS</td>\n",
       "      <td>Sil</td>\n",
       "      <td>0</td>\n",
       "      <td>0</td>\n",
       "      <td>1</td>\n",
       "      <td>2012-12-10</td>\n",
       "      <td>Terrific Rasberry!</td>\n",
       "      <td>So I just have to say this matcha is delicious...</td>\n",
       "    </tr>\n",
       "    <tr>\n",
       "      <th>568440</th>\n",
       "      <td>50682</td>\n",
       "      <td>B007PQTIRI</td>\n",
       "      <td>A2XWFSMXJ1RR0R</td>\n",
       "      <td>Mel M.</td>\n",
       "      <td>0</td>\n",
       "      <td>0</td>\n",
       "      <td>1</td>\n",
       "      <td>2012-12-10</td>\n",
       "      <td>Robust coconut flavor</td>\n",
       "      <td>Finally!  A delicious coconut cereal.  And it'...</td>\n",
       "    </tr>\n",
       "    <tr>\n",
       "      <th>568441</th>\n",
       "      <td>398671</td>\n",
       "      <td>B001D09KAM</td>\n",
       "      <td>AUS545VE0P2J1</td>\n",
       "      <td>Paul</td>\n",
       "      <td>0</td>\n",
       "      <td>0</td>\n",
       "      <td>1</td>\n",
       "      <td>2012-12-10</td>\n",
       "      <td>Try frozen</td>\n",
       "      <td>I just finished my second box of the dark choc...</td>\n",
       "    </tr>\n",
       "    <tr>\n",
       "      <th>568442</th>\n",
       "      <td>80622</td>\n",
       "      <td>B000WFKHN8</td>\n",
       "      <td>A29FD8FJONPAJ</td>\n",
       "      <td>Baxter \"Uru\"</td>\n",
       "      <td>0</td>\n",
       "      <td>0</td>\n",
       "      <td>1</td>\n",
       "      <td>2012-12-10</td>\n",
       "      <td>My three cats love it!</td>\n",
       "      <td>I have three cats all varying in age. My oldes...</td>\n",
       "    </tr>\n",
       "    <tr>\n",
       "      <th>568443</th>\n",
       "      <td>254881</td>\n",
       "      <td>B007PA32L2</td>\n",
       "      <td>A2ZOKXJOQULWXS</td>\n",
       "      <td>marie johnston</td>\n",
       "      <td>0</td>\n",
       "      <td>0</td>\n",
       "      <td>1</td>\n",
       "      <td>2012-12-10</td>\n",
       "      <td>pumpkin spice K Cup Coffee</td>\n",
       "      <td>My husband LOVES this coffee, we didn't order ...</td>\n",
       "    </tr>\n",
       "    <tr>\n",
       "      <th>568444</th>\n",
       "      <td>398672</td>\n",
       "      <td>B001D09KAM</td>\n",
       "      <td>A2TKFP9YMPASAS</td>\n",
       "      <td>sammy3856</td>\n",
       "      <td>0</td>\n",
       "      <td>0</td>\n",
       "      <td>1</td>\n",
       "      <td>2012-12-10</td>\n",
       "      <td>Kind Bars from Amazon</td>\n",
       "      <td>The Kind Cranberry Almond bars are healthy for...</td>\n",
       "    </tr>\n",
       "    <tr>\n",
       "      <th>568445</th>\n",
       "      <td>254880</td>\n",
       "      <td>B007PA32L2</td>\n",
       "      <td>A3JK142YXC2RGK</td>\n",
       "      <td>judaicagirl \"Dalia L.\"</td>\n",
       "      <td>0</td>\n",
       "      <td>0</td>\n",
       "      <td>0</td>\n",
       "      <td>2012-12-10</td>\n",
       "      <td>Tastes like Constant Comment Tea</td>\n",
       "      <td>High hopes for this product, but it is very we...</td>\n",
       "    </tr>\n",
       "    <tr>\n",
       "      <th>568446</th>\n",
       "      <td>254879</td>\n",
       "      <td>B007PA32L2</td>\n",
       "      <td>A2EJ1GFUFYUEBM</td>\n",
       "      <td>michael crow</td>\n",
       "      <td>0</td>\n",
       "      <td>0</td>\n",
       "      <td>0</td>\n",
       "      <td>2012-12-10</td>\n",
       "      <td>bad</td>\n",
       "      <td>i bought a 24 pack, thinking it would be good....</td>\n",
       "    </tr>\n",
       "    <tr>\n",
       "      <th>568447</th>\n",
       "      <td>377320</td>\n",
       "      <td>B001IAQ8KC</td>\n",
       "      <td>A1JXRHA7PD04ZF</td>\n",
       "      <td>John</td>\n",
       "      <td>0</td>\n",
       "      <td>0</td>\n",
       "      <td>1</td>\n",
       "      <td>2012-12-10</td>\n",
       "      <td>Good stuff</td>\n",
       "      <td>I have used this product for years.  It is the...</td>\n",
       "    </tr>\n",
       "    <tr>\n",
       "      <th>568448</th>\n",
       "      <td>274819</td>\n",
       "      <td>B005VOOOM0</td>\n",
       "      <td>AZS3RRB62EJVP</td>\n",
       "      <td>Dg7023</td>\n",
       "      <td>0</td>\n",
       "      <td>0</td>\n",
       "      <td>1</td>\n",
       "      <td>2012-12-10</td>\n",
       "      <td>Great tasting protein bars!</td>\n",
       "      <td>I've been paying a lot for protein bars that h...</td>\n",
       "    </tr>\n",
       "    <tr>\n",
       "      <th>568449</th>\n",
       "      <td>305646</td>\n",
       "      <td>B001ELL4E0</td>\n",
       "      <td>AZ3EHLAKPMUU6</td>\n",
       "      <td>bigtiger</td>\n",
       "      <td>0</td>\n",
       "      <td>0</td>\n",
       "      <td>1</td>\n",
       "      <td>2012-12-10</td>\n",
       "      <td>Cereal</td>\n",
       "      <td>I enjoy waking up and eating this oatmeal it i...</td>\n",
       "    </tr>\n",
       "    <tr>\n",
       "      <th>568450</th>\n",
       "      <td>202269</td>\n",
       "      <td>B000P0QHOI</td>\n",
       "      <td>AN4FZJKFHMAS0</td>\n",
       "      <td>Dawn E. Curran</td>\n",
       "      <td>0</td>\n",
       "      <td>0</td>\n",
       "      <td>1</td>\n",
       "      <td>2012-12-10</td>\n",
       "      <td>Great Licorice</td>\n",
       "      <td>This Lucky Country Licorice is some of the bes...</td>\n",
       "    </tr>\n",
       "    <tr>\n",
       "      <th>568451</th>\n",
       "      <td>106712</td>\n",
       "      <td>B001HTG6E2</td>\n",
       "      <td>A29Y8V009MI4G5</td>\n",
       "      <td>Cate</td>\n",
       "      <td>0</td>\n",
       "      <td>0</td>\n",
       "      <td>1</td>\n",
       "      <td>2012-12-10</td>\n",
       "      <td>Delicious treat!</td>\n",
       "      <td>These jelly beans are a treat for my daughter-...</td>\n",
       "    </tr>\n",
       "    <tr>\n",
       "      <th>568452</th>\n",
       "      <td>465911</td>\n",
       "      <td>B005OU6UD2</td>\n",
       "      <td>A2550XGZEFDH2Y</td>\n",
       "      <td>Melanie G. Nihart \"Grammy\"</td>\n",
       "      <td>0</td>\n",
       "      <td>0</td>\n",
       "      <td>0</td>\n",
       "      <td>2012-12-10</td>\n",
       "      <td>Small dog chew</td>\n",
       "      <td>Both of my dogs did not want it.  The chew was...</td>\n",
       "    </tr>\n",
       "    <tr>\n",
       "      <th>568453</th>\n",
       "      <td>424141</td>\n",
       "      <td>B000EMK53G</td>\n",
       "      <td>A2B7BUH8834Y6M</td>\n",
       "      <td>Shelley Gammon \"Geek\"</td>\n",
       "      <td>0</td>\n",
       "      <td>0</td>\n",
       "      <td>1</td>\n",
       "      <td>2012-12-10</td>\n",
       "      <td>Shockingly good - even if you're not a fan of ...</td>\n",
       "      <td>I discovered this bar quite by accident in the...</td>\n",
       "    </tr>\n",
       "  </tbody>\n",
       "</table>\n",
       "<p>568454 rows × 10 columns</p>\n",
       "</div>"
      ],
      "text/plain": [
       "            Id   ProductId          UserId                     ProfileName  \\\n",
       "0       451856  B00004CXX9   AIUWLEQ1ADEG5                Elizabeth Medina   \n",
       "1       230285  B00004RYGX  A344SMIA5JECGM                 Vincent P. Ross   \n",
       "2       451878  B00004CXX9  A344SMIA5JECGM                 Vincent P. Ross   \n",
       "3       374359  B00004CI84  A344SMIA5JECGM                 Vincent P. Ross   \n",
       "4       150524  0006641040   ACITT7DI6IDDL                 shari zychinski   \n",
       "5       150501  0006641040   AJ46FKXOVC7NR              Nicholas A Mesiano   \n",
       "6       230269  B00004RYGX   A1B2IZU1JLZA6                             Wes   \n",
       "7       374343  B00004CI84   A1B2IZU1JLZA6                             Wes   \n",
       "8       451864  B00004CXX9   A1B2IZU1JLZA6                             Wes   \n",
       "9        76882  B00002N8SM  A32DW342WBJ6BX                     Buttersugar   \n",
       "10      451977  B00004CXX9   ACJR7EQF9S6FP                Jeremy Robertson   \n",
       "11      374450  B00004CI84   ACJR7EQF9S6FP                Jeremy Robertson   \n",
       "12      230376  B00004RYGX   ACJR7EQF9S6FP                Jeremy Robertson   \n",
       "13      451855  B00004CXX9   AJH6LUC1UT1ON        The Phantom of the Opera   \n",
       "14      230326  B00004RYGX  A2DEE7F9XKP3ZR                          jerome   \n",
       "15      451903  B00004CXX9  A2DEE7F9XKP3ZR                          jerome   \n",
       "16      374400  B00004CI84  A2DEE7F9XKP3ZR                          jerome   \n",
       "17      230334  B00004RYGX  A1GB1Q193DNFGR                Bruce Lee Pullen   \n",
       "18      374408  B00004CI84  A1GB1Q193DNFGR                Bruce Lee Pullen   \n",
       "19      451935  B00004CXX9  A1GB1Q193DNFGR                Bruce Lee Pullen   \n",
       "20      149768  B00004S1C5   A7P76IGRZZBFJ  E. Thompson \"Soooooper Genius\"   \n",
       "21        1245  B00002Z754  A29Z5PI9BW2PU3                          Robbie   \n",
       "22        1244  B00002Z754  A3B8RCEI0FXFI6                       B G Chase   \n",
       "23      131217  B00004RAMX   A5NQLNC6QPGSI                       Kim Nason   \n",
       "24      451948  B00004CXX9  A1FJOY14X3MUHE                   Justin Howard   \n",
       "25      374421  B00004CI84  A1FJOY14X3MUHE                   Justin Howard   \n",
       "26      230347  B00004RYGX  A1FJOY14X3MUHE                   Justin Howard   \n",
       "27      374422  B00004CI84  A1048CYU0OV4O8                    Judy L. Eans   \n",
       "28      230348  B00004RYGX  A1048CYU0OV4O8                    Judy L. Eans   \n",
       "29      451949  B00004CXX9  A1048CYU0OV4O8                    Judy L. Eans   \n",
       "...        ...         ...             ...                             ...   \n",
       "568424   17883  B001EO653M  A3IGARBJ4SE9EQ                      Arielle M.   \n",
       "568425  200504  B007PXI6CO  A1007OFJTJRYII                             Jan   \n",
       "568426  275087  B000FF3V06  A3EEJG97L9YIAB                           Linda   \n",
       "568427  566827  B001PQTYN2   AR4GVRPKO4MBL                        ShahinX1   \n",
       "568428  201918  B009062AQW   ARUJ8B1HTISK0                         Blondie   \n",
       "568429  201995  B000LQL9M6   AI2R6R7UP4NYB                          Sparky   \n",
       "568430  549437  B004TGZRJA  A2GDTF5XZFVW2G         Kirk Henry \"old school\"   \n",
       "568431  513699  B000VK33C6  A3LRLNH9WJDQY6                     Diane Milan   \n",
       "568432  203834  B000VK4CTO  A1V5J0VTEL8DS8                           Peter   \n",
       "568433  377295  B004VLWASE  A36DVRTEHDJKNP                           Steve   \n",
       "568434  330098  B001OHX1ZY   A88XJQH33JG01                         maryann   \n",
       "568435  377319  B001IAQ8KC   AQO4BNFU7T4EH                 Andrew P Freese   \n",
       "568436  203701  B004AW1Z94  A1D6FDBK9FJI8C                      Jason Mark   \n",
       "568437  432397  B003A199AI  A2VI7ZC4CWDUPW                   Vanessa Close   \n",
       "568438  432396  B003A199AI  A3F0WUGQIS488X                        Daniel L   \n",
       "568439   80520  B008ADQYYU  A2DKVL26ZX0WGS                             Sil   \n",
       "568440   50682  B007PQTIRI  A2XWFSMXJ1RR0R                          Mel M.   \n",
       "568441  398671  B001D09KAM   AUS545VE0P2J1                            Paul   \n",
       "568442   80622  B000WFKHN8   A29FD8FJONPAJ                    Baxter \"Uru\"   \n",
       "568443  254881  B007PA32L2  A2ZOKXJOQULWXS                  marie johnston   \n",
       "568444  398672  B001D09KAM  A2TKFP9YMPASAS                       sammy3856   \n",
       "568445  254880  B007PA32L2  A3JK142YXC2RGK          judaicagirl \"Dalia L.\"   \n",
       "568446  254879  B007PA32L2  A2EJ1GFUFYUEBM                    michael crow   \n",
       "568447  377320  B001IAQ8KC  A1JXRHA7PD04ZF                            John   \n",
       "568448  274819  B005VOOOM0   AZS3RRB62EJVP                          Dg7023   \n",
       "568449  305646  B001ELL4E0   AZ3EHLAKPMUU6                        bigtiger   \n",
       "568450  202269  B000P0QHOI   AN4FZJKFHMAS0                  Dawn E. Curran   \n",
       "568451  106712  B001HTG6E2  A29Y8V009MI4G5                            Cate   \n",
       "568452  465911  B005OU6UD2  A2550XGZEFDH2Y      Melanie G. Nihart \"Grammy\"   \n",
       "568453  424141  B000EMK53G  A2B7BUH8834Y6M           Shelley Gammon \"Geek\"   \n",
       "\n",
       "        HelpfulnessNumerator  HelpfulnessDenominator  Score       Time  \\\n",
       "0                          0                       0      1 1999-02-12   \n",
       "1                          1                       2      1 1999-06-12   \n",
       "2                          1                       2      1 1999-06-12   \n",
       "3                          1                       2      1 1999-06-12   \n",
       "4                          0                       0      1 1999-08-10   \n",
       "5                          2                       2      1 1999-10-25   \n",
       "6                         19                      23      0 2000-01-19   \n",
       "7                         19                      23      0 2000-01-19   \n",
       "8                         19                      23      0 2000-01-19   \n",
       "9                          0                       0      1 2000-01-24   \n",
       "10                         2                       3      1 2000-02-26   \n",
       "11                         2                       3      1 2000-02-26   \n",
       "12                         2                       3      1 2000-02-26   \n",
       "13                         0                       0      1 2000-03-01   \n",
       "14                         0                       3      1 2000-03-06   \n",
       "15                         0                       1      1 2000-03-06   \n",
       "16                         0                       3      1 2000-03-06   \n",
       "17                         5                       5      1 2000-03-10   \n",
       "18                         5                       5      1 2000-03-10   \n",
       "19                         5                       5      1 2000-03-10   \n",
       "20                        18                      18      1 2000-05-12   \n",
       "21                         7                       7      1 2000-06-23   \n",
       "22                        10                      10      1 2000-06-29   \n",
       "23                         7                       8      1 2000-07-31   \n",
       "24                         2                       2      1 2000-08-15   \n",
       "25                         2                       2      1 2000-08-15   \n",
       "26                         2                       2      1 2000-08-15   \n",
       "27                         2                       2      1 2000-09-01   \n",
       "28                         2                       2      1 2000-09-01   \n",
       "29                         2                       2      1 2000-09-01   \n",
       "...                      ...                     ...    ...        ...   \n",
       "568424                     0                       0      1 2012-12-10   \n",
       "568425                     0                       0      1 2012-12-10   \n",
       "568426                     0                       0      1 2012-12-10   \n",
       "568427                     0                       0      1 2012-12-10   \n",
       "568428                     0                       0      1 2012-12-10   \n",
       "568429                     0                       0      1 2012-12-10   \n",
       "568430                     0                       0      1 2012-12-10   \n",
       "568431                     0                       0      1 2012-12-10   \n",
       "568432                     0                       0      0 2012-12-10   \n",
       "568433                     0                       0      1 2012-12-10   \n",
       "568434                     0                       0      1 2012-12-10   \n",
       "568435                     0                       0      1 2012-12-10   \n",
       "568436                     0                       0      0 2012-12-10   \n",
       "568437                     2                       2      1 2012-12-10   \n",
       "568438                     2                       2      1 2012-12-10   \n",
       "568439                     0                       0      1 2012-12-10   \n",
       "568440                     0                       0      1 2012-12-10   \n",
       "568441                     0                       0      1 2012-12-10   \n",
       "568442                     0                       0      1 2012-12-10   \n",
       "568443                     0                       0      1 2012-12-10   \n",
       "568444                     0                       0      1 2012-12-10   \n",
       "568445                     0                       0      0 2012-12-10   \n",
       "568446                     0                       0      0 2012-12-10   \n",
       "568447                     0                       0      1 2012-12-10   \n",
       "568448                     0                       0      1 2012-12-10   \n",
       "568449                     0                       0      1 2012-12-10   \n",
       "568450                     0                       0      1 2012-12-10   \n",
       "568451                     0                       0      1 2012-12-10   \n",
       "568452                     0                       0      0 2012-12-10   \n",
       "568453                     0                       0      1 2012-12-10   \n",
       "\n",
       "                                                  Summary  \\\n",
       "0                                    Entertainingl Funny!   \n",
       "1                                 A modern day fairy tale   \n",
       "2                                 A modern day fairy tale   \n",
       "3                                 A modern day fairy tale   \n",
       "4                               EVERY book is educational   \n",
       "5       This whole series is great way to spend time w...   \n",
       "6         WARNING: CLAMSHELL EDITION IS EDITED TV VERSION   \n",
       "7         WARNING: CLAMSHELL EDITION IS EDITED TV VERSION   \n",
       "8         WARNING: CLAMSHELL EDITION IS EDITED TV VERSION   \n",
       "9                                  A sure death for flies   \n",
       "10               Bettlejuice...Bettlejuice...BETTLEJUICE!   \n",
       "11               Bettlejuice...Bettlejuice...BETTLEJUICE!   \n",
       "12               Bettlejuice...Bettlejuice...BETTLEJUICE!   \n",
       "13                                             FANTASTIC!   \n",
       "14          Research - Beatlejuice video - French version   \n",
       "15                                               Research   \n",
       "16          Research - Beatlejuice video - French version   \n",
       "17           Fabulous Comedic Fanasy Directed by a Master   \n",
       "18           Fabulous Comedic Fanasy Directed by a Master   \n",
       "19           Fabulous Comedic Fanasy Directed by a Master   \n",
       "20                                      Who Needs Wilton?   \n",
       "21                                          Great Product   \n",
       "22                         WOW Make your own 'slickers' !   \n",
       "23                               End your Gopher Problems   \n",
       "24      A fresh, original film from master storyteller...   \n",
       "25      A fresh, original film from master storyteller...   \n",
       "26      A fresh, original film from master storyteller...   \n",
       "27                                                  GREAT   \n",
       "28                                                  GREAT   \n",
       "29                                                  GREAT   \n",
       "...                                                   ...   \n",
       "568424                 delicious, full-flavored cocoa mix   \n",
       "568425                                     salty caramels   \n",
       "568426                                 Dare to be Pleased   \n",
       "568427                                    Not all that...   \n",
       "568428                                 Good hearty flavor   \n",
       "568429                                  Great for Baklava   \n",
       "568430                                   LUV This Coffee!   \n",
       "568431                                          Healthier   \n",
       "568432                             A treat they won't eat   \n",
       "568433                                 non-wheat crackers   \n",
       "568434                    best buy on hemp protein powder   \n",
       "568435                                            Not Hot   \n",
       "568436                             I think this is a scam   \n",
       "568437                              Absolutely Love These   \n",
       "568438              Perfect for Eating without Expanding!   \n",
       "568439                                 Terrific Rasberry!   \n",
       "568440                              Robust coconut flavor   \n",
       "568441                                         Try frozen   \n",
       "568442                             My three cats love it!   \n",
       "568443                         pumpkin spice K Cup Coffee   \n",
       "568444                              Kind Bars from Amazon   \n",
       "568445                   Tastes like Constant Comment Tea   \n",
       "568446                                                bad   \n",
       "568447                                         Good stuff   \n",
       "568448                        Great tasting protein bars!   \n",
       "568449                                             Cereal   \n",
       "568450                                     Great Licorice   \n",
       "568451                                   Delicious treat!   \n",
       "568452                                     Small dog chew   \n",
       "568453  Shockingly good - even if you're not a fan of ...   \n",
       "\n",
       "                                                     Text  \n",
       "0       Beetlejuice is a well written movie ..... ever...  \n",
       "1       A twist of rumplestiskin captured on film, sta...  \n",
       "2       A twist of rumplestiskin captured on film, sta...  \n",
       "3       A twist of rumplestiskin captured on film, sta...  \n",
       "4       this witty little book makes my son laugh at l...  \n",
       "5       I can remember seeing the show when it aired o...  \n",
       "6       I, myself always enjoyed this movie, it's very...  \n",
       "7       I, myself always enjoyed this movie, it's very...  \n",
       "8       I, myself always enjoyed this movie, it's very...  \n",
       "9       I bought a few of these after my apartment was...  \n",
       "10      What happens when you say his name three times...  \n",
       "11      What happens when you say his name three times...  \n",
       "12      What happens when you say his name three times...  \n",
       "13      Beetlejuice is an excellent and funny movie. K...  \n",
       "14      I'm getting crazy.I'm looking for Beatlejuice ...  \n",
       "15      I'm getting crazy.<p>Is it really impossible t...  \n",
       "16      I'm getting crazy.I'm looking for Beatlejuice ...  \n",
       "17      Beetlejuice is an awe-inspiring wonderfully am...  \n",
       "18      Beetlejuice is an awe-inspiring wonderfully am...  \n",
       "19      Beetlejuice is an awe-inspiring wonderfully am...  \n",
       "20      I'm sick of scads of nasty toothpicks all over...  \n",
       "21      This was a really good idea and the final prod...  \n",
       "22      I just received my shipment and could hardly w...  \n",
       "23      I have just recently purchased the Woodstream ...  \n",
       "24      This is such a great film, I don't even know h...  \n",
       "25      This is such a great film, I don't even know h...  \n",
       "26      This is such a great film, I don't even know h...  \n",
       "27      THIS IS ONE MOVIE THAT SHOULD BE IN YOUR MOVIE...  \n",
       "28      THIS IS ONE MOVIE THAT SHOULD BE IN YOUR MOVIE...  \n",
       "29      THIS IS ONE MOVIE THAT SHOULD BE IN YOUR MOVIE...  \n",
       "...                                                   ...  \n",
       "568424  This is probably the best-tasting cocoa I've e...  \n",
       "568425  These were the best caramels I have ever eaten...  \n",
       "568426  Cookies are delicious and make a nice after di...  \n",
       "568427  To those of you who tried this and wrote a lif...  \n",
       "568428  The family loved every bite. I'll be trying al...  \n",
       "568429  Great size for the occasional user who must ha...  \n",
       "568430  I'm a big time coffee drinker and I tend to li...  \n",
       "568431  I feel better about feeding this product to my...  \n",
       "568432  My two kittens (6 & 7 Months) don't even think...  \n",
       "568433  I've tried the other lentil crackersw in a que...  \n",
       "568434  This is the best way to buy Nutiva Organic Hem...  \n",
       "568435  Product claims to be \"Extra Hot\".<br />It's no...  \n",
       "568436  it's advertised as 21oz, but they sent me an 1...  \n",
       "568437  I like to try new things and when I came acros...  \n",
       "568438  I love these !<br /> I always crave salty/ cru...  \n",
       "568439  So I just have to say this matcha is delicious...  \n",
       "568440  Finally!  A delicious coconut cereal.  And it'...  \n",
       "568441  I just finished my second box of the dark choc...  \n",
       "568442  I have three cats all varying in age. My oldes...  \n",
       "568443  My husband LOVES this coffee, we didn't order ...  \n",
       "568444  The Kind Cranberry Almond bars are healthy for...  \n",
       "568445  High hopes for this product, but it is very we...  \n",
       "568446  i bought a 24 pack, thinking it would be good....  \n",
       "568447  I have used this product for years.  It is the...  \n",
       "568448  I've been paying a lot for protein bars that h...  \n",
       "568449  I enjoy waking up and eating this oatmeal it i...  \n",
       "568450  This Lucky Country Licorice is some of the bes...  \n",
       "568451  These jelly beans are a treat for my daughter-...  \n",
       "568452  Both of my dogs did not want it.  The chew was...  \n",
       "568453  I discovered this bar quite by accident in the...  \n",
       "\n",
       "[568454 rows x 10 columns]"
      ]
     },
     "execution_count": 11,
     "metadata": {
      "tags": []
     },
     "output_type": "execute_result"
    }
   ],
   "source": [
    "filtered_data.reset_index(drop = True)"
   ]
  },
  {
   "cell_type": "code",
   "execution_count": 0,
   "metadata": {
    "colab": {},
    "colab_type": "code",
    "id": "1GX58Y8k6Y3l"
   },
   "outputs": [],
   "source": []
  },
  {
   "cell_type": "code",
   "execution_count": 12,
   "metadata": {
    "colab": {
     "base_uri": "https://localhost:8080/",
     "height": 35
    },
    "colab_type": "code",
    "id": "e6tT9BWz6Y3o",
    "outputId": "718c7cd7-777e-4788-ff19-0bc004a9052f"
   },
   "outputs": [
    {
     "data": {
      "text/plain": [
       "'display = pd.read_sql_query(\"\"\"\\nSELECT UserId, ProductId, ProfileName, Time, Score, Text, COUNT(*)\\nFROM Reviews\\nGROUP BY UserId\\nHAVING COUNT(*)>1\\n\"\"\", con)'"
      ]
     },
     "execution_count": 12,
     "metadata": {
      "tags": []
     },
     "output_type": "execute_result"
    }
   ],
   "source": [
    "'''display = pd.read_sql_query(\"\"\"\n",
    "SELECT UserId, ProductId, ProfileName, Time, Score, Text, COUNT(*)\n",
    "FROM Reviews\n",
    "GROUP BY UserId\n",
    "HAVING COUNT(*)>1\n",
    "\"\"\", con)'''"
   ]
  },
  {
   "cell_type": "code",
   "execution_count": 13,
   "metadata": {
    "colab": {
     "base_uri": "https://localhost:8080/",
     "height": 35
    },
    "colab_type": "code",
    "id": "OXDI3oBW6Y3q",
    "outputId": "c0825194-7179-400c-e6e9-8df7941b55df",
    "scrolled": true
   },
   "outputs": [
    {
     "data": {
      "text/plain": [
       "'print(display.shape)\\ndisplay.head()'"
      ]
     },
     "execution_count": 13,
     "metadata": {
      "tags": []
     },
     "output_type": "execute_result"
    }
   ],
   "source": [
    "'''print(display.shape)\n",
    "display.head()'''"
   ]
  },
  {
   "cell_type": "code",
   "execution_count": 0,
   "metadata": {
    "colab": {},
    "colab_type": "code",
    "id": "faSDq55Z6Y3v"
   },
   "outputs": [],
   "source": [
    "#display[display['UserId']=='AZY10LLTJ71NX']"
   ]
  },
  {
   "cell_type": "code",
   "execution_count": 0,
   "metadata": {
    "colab": {},
    "colab_type": "code",
    "id": "pPiMwmZA6Y3y"
   },
   "outputs": [],
   "source": [
    "#display['COUNT(*)'].sum()"
   ]
  },
  {
   "cell_type": "markdown",
   "metadata": {
    "colab_type": "text",
    "id": "fG4V5lYF6Y32"
   },
   "source": [
    "#  [2] Exploratory Data Analysis"
   ]
  },
  {
   "cell_type": "markdown",
   "metadata": {
    "colab_type": "text",
    "id": "kdg7DK8f6Y34"
   },
   "source": [
    "## [2.1] Data Cleaning: Deduplication\n",
    "\n",
    "It is observed (as shown in the table below) that the reviews data had many duplicate entries. Hence it was necessary to remove duplicates in order to get unbiased results for the analysis of the data.  Following is an example:"
   ]
  },
  {
   "cell_type": "code",
   "execution_count": 16,
   "metadata": {
    "colab": {
     "base_uri": "https://localhost:8080/",
     "height": 35
    },
    "colab_type": "code",
    "id": "Q_7BKmso6Y34",
    "outputId": "187e6245-f2c9-49c1-c229-13be10136ab5",
    "scrolled": false
   },
   "outputs": [
    {
     "data": {
      "text/plain": [
       "'display= pd.read_sql_query(\"\"\"\\nSELECT *\\nFROM Reviews\\nWHERE Score != 3 AND UserId=\"AR5J8UI46CURR\"\\nORDER BY ProductID\\n\"\"\", con)\\ndisplay.head()'"
      ]
     },
     "execution_count": 16,
     "metadata": {
      "tags": []
     },
     "output_type": "execute_result"
    }
   ],
   "source": [
    "'''display= pd.read_sql_query(\"\"\"\n",
    "SELECT *\n",
    "FROM Reviews\n",
    "WHERE Score != 3 AND UserId=\"AR5J8UI46CURR\"\n",
    "ORDER BY ProductID\n",
    "\"\"\", con)\n",
    "display.head()'''"
   ]
  },
  {
   "cell_type": "markdown",
   "metadata": {
    "colab_type": "text",
    "id": "tFalsN1A6Y4A"
   },
   "source": [
    "As it can be seen above that same user has multiple reviews with same values for HelpfulnessNumerator, HelpfulnessDenominator, Score, Time, Summary and Text and on doing analysis it was found that <br>\n",
    "<br> \n",
    "ProductId=B000HDOPZG was Loacker Quadratini Vanilla Wafer Cookies, 8.82-Ounce Packages (Pack of 8)<br>\n",
    "<br> \n",
    "ProductId=B000HDL1RQ was Loacker Quadratini Lemon Wafer Cookies, 8.82-Ounce Packages (Pack of 8) and so on<br>\n",
    "\n",
    "It was inferred after analysis that reviews with same parameters other than ProductId belonged to the same product just having different flavour or quantity. Hence in order to reduce redundancy it was decided to eliminate the rows having same parameters.<br>\n",
    "\n",
    "The method used for the same was that we first sort the data according to ProductId and then just keep the first similar product review and delelte the others. for eg. in the above just the review for ProductId=B000HDL1RQ remains. This method ensures that there is only one representative for each product and deduplication without sorting would lead to possibility of different representatives still existing for the same product."
   ]
  },
  {
   "cell_type": "code",
   "execution_count": 0,
   "metadata": {
    "colab": {},
    "colab_type": "code",
    "id": "uDPHRHwR6Y4E"
   },
   "outputs": [],
   "source": [
    "#Sorting data according to ProductId in ascending order\n",
    "sorted_data=filtered_data.sort_values('ProductId', axis=0, ascending=True, inplace=False, kind='quicksort', na_position='last')"
   ]
  },
  {
   "cell_type": "code",
   "execution_count": 18,
   "metadata": {
    "colab": {
     "base_uri": "https://localhost:8080/",
     "height": 35
    },
    "colab_type": "code",
    "id": "zkOOsBE-6Y4I",
    "outputId": "5c670239-9847-4297-c677-5089c3c51892"
   },
   "outputs": [
    {
     "data": {
      "text/plain": [
       "(393933, 10)"
      ]
     },
     "execution_count": 18,
     "metadata": {
      "tags": []
     },
     "output_type": "execute_result"
    }
   ],
   "source": [
    "#Deduplication of entries\n",
    "final=sorted_data.drop_duplicates(subset={\"UserId\",\"ProfileName\",\"Time\",\"Text\"}, keep='first', inplace=False)\n",
    "final.shape"
   ]
  },
  {
   "cell_type": "code",
   "execution_count": 19,
   "metadata": {
    "colab": {
     "base_uri": "https://localhost:8080/",
     "height": 35
    },
    "colab_type": "code",
    "id": "hcApOGVo6Y4O",
    "outputId": "5cc950d8-fdf7-476a-b1ae-efb2964aff1f"
   },
   "outputs": [
    {
     "data": {
      "text/plain": [
       "69.29901100176971"
      ]
     },
     "execution_count": 19,
     "metadata": {
      "tags": []
     },
     "output_type": "execute_result"
    }
   ],
   "source": [
    "#Checking to see how much % of data still remains\n",
    "(final['Id'].size*1.0)/(filtered_data['Id'].size*1.0)*100"
   ]
  },
  {
   "cell_type": "markdown",
   "metadata": {
    "colab_type": "text",
    "id": "kBCP6wM_6Y4R"
   },
   "source": [
    "<b>Observation:-</b> It was also seen that in two rows given below the value of HelpfulnessNumerator is greater than HelpfulnessDenominator which is not practically possible hence these two rows too are removed from calcualtions"
   ]
  },
  {
   "cell_type": "code",
   "execution_count": 20,
   "metadata": {
    "colab": {
     "base_uri": "https://localhost:8080/",
     "height": 35
    },
    "colab_type": "code",
    "id": "wzqyy_RQ6Y4T",
    "outputId": "11203d8f-44a9-43d5-9719-0dbab7a19e21"
   },
   "outputs": [
    {
     "data": {
      "text/plain": [
       "'display= pd.read_sql_query(\"\"\"\\nSELECT *\\nFROM Reviews\\nWHERE Score != 3 AND Id=44737 OR Id=64422\\nORDER BY ProductID\\n\"\"\", con)\\n\\ndisplay.head()'"
      ]
     },
     "execution_count": 20,
     "metadata": {
      "tags": []
     },
     "output_type": "execute_result"
    }
   ],
   "source": [
    "'''display= pd.read_sql_query(\"\"\"\n",
    "SELECT *\n",
    "FROM Reviews\n",
    "WHERE Score != 3 AND Id=44737 OR Id=64422\n",
    "ORDER BY ProductID\n",
    "\"\"\", con)\n",
    "\n",
    "display.head()'''"
   ]
  },
  {
   "cell_type": "code",
   "execution_count": 0,
   "metadata": {
    "colab": {},
    "colab_type": "code",
    "id": "1vwY7cNs6Y4X"
   },
   "outputs": [],
   "source": [
    "final=final[final.HelpfulnessNumerator<=final.HelpfulnessDenominator]"
   ]
  },
  {
   "cell_type": "code",
   "execution_count": 22,
   "metadata": {
    "colab": {
     "base_uri": "https://localhost:8080/",
     "height": 88
    },
    "colab_type": "code",
    "id": "l4Oniox86Y4Z",
    "outputId": "c7a2341d-a7b6-4a91-8224-44959dda981c"
   },
   "outputs": [
    {
     "name": "stdout",
     "output_type": "stream",
     "text": [
      "(393931, 10)\n"
     ]
    },
    {
     "data": {
      "text/plain": [
       "1    336824\n",
       "0     57107\n",
       "Name: Score, dtype: int64"
      ]
     },
     "execution_count": 22,
     "metadata": {
      "tags": []
     },
     "output_type": "execute_result"
    }
   ],
   "source": [
    "#Before starting the next phase of preprocessing lets see the number of entries left\n",
    "print(final.shape)\n",
    "\n",
    "#How many positive and negative reviews are present in our dataset?\n",
    "final['Score'].value_counts()"
   ]
  },
  {
   "cell_type": "code",
   "execution_count": 23,
   "metadata": {
    "colab": {
     "base_uri": "https://localhost:8080/",
     "height": 35
    },
    "colab_type": "code",
    "id": "pSsR8OE86Y4c",
    "outputId": "ab746e9a-b7e2-4b68-f676-25dbcf67216e"
   },
   "outputs": [
    {
     "data": {
      "text/plain": [
       "(393931, 10)"
      ]
     },
     "execution_count": 23,
     "metadata": {
      "tags": []
     },
     "output_type": "execute_result"
    }
   ],
   "source": [
    "final.shape"
   ]
  },
  {
   "cell_type": "markdown",
   "metadata": {
    "colab_type": "text",
    "id": "qvdiICXL6Y4f"
   },
   "source": [
    "#  [3] Preprocessing"
   ]
  },
  {
   "cell_type": "markdown",
   "metadata": {
    "colab_type": "text",
    "id": "71xMi5VK6Y4h"
   },
   "source": [
    "## [3.1].  Preprocessing Review Text\n",
    "\n",
    "Now that we have finished deduplication our data requires some preprocessing before we go on further with analysis and making the prediction model.\n",
    "\n",
    "Hence in the Preprocessing phase we do the following in the order below:-\n",
    "\n",
    "1. Begin by removing the html tags\n",
    "2. Remove any punctuations or limited set of special characters like , or . or # etc.\n",
    "3. Check if the word is made up of english letters and is not alpha-numeric\n",
    "4. Check to see if the length of the word is greater than 2 (as it was researched that there is no adjective in 2-letters)\n",
    "5. Convert the word to lowercase\n",
    "6. Remove Stopwords\n",
    "7. Finally Snowball Stemming the word (it was obsereved to be better than Porter Stemming)<br>\n",
    "\n",
    "After which we collect the words used to describe positive and negative reviews"
   ]
  },
  {
   "cell_type": "code",
   "execution_count": 24,
   "metadata": {
    "colab": {
     "base_uri": "https://localhost:8080/",
     "height": 179
    },
    "colab_type": "code",
    "id": "wKRgN-EB6Y4h",
    "outputId": "9307502a-b62d-4df5-8e51-95073b447392"
   },
   "outputs": [
    {
     "name": "stdout",
     "output_type": "stream",
     "text": [
      "It's a great book with adorable illustrations.  A true classic.  Kids love the poem and there is music that goes with it, if you can find it.  I think it's sung by Carol King.\n",
      "==================================================\n",
      "Well if you have had this product before you know it is amazing.  I am not going to describe the taste but i will tell you the product was shipped neatly and fresh.  Everything tasted great and the expiration date was much further into the future than this would have ever lasted.  Top notch.\n",
      "==================================================\n",
      "Cat thought the bubbles were interesting, but didn't go crazy over them. They smell funny, leave a residue, and don't maintain form when they touch down as advertised. I'll go pick up a big bottle of regular bubbles for him to chase. Not worth the price.\n",
      "==================================================\n",
      "The previous reviewer's experience is lamentable but after reading the reviews for other Brussel's Bonsai & after reception of my own tree it's clear that his experience was the exception, not the rule.<br /><br />The tree arrived well-packaged, lush & green. The soil was moist & wrapped in plastic to ensure it remained that way. The tree is planted in a dark blue glazed ceramic pot. Included was a small pamphlet outlining the basics of Indoor Bonsai care. Overall, quite nice & well done. I wouldn't hesitate to order another tree from Brussel's. See my images above.<br /><br />UPDATE 08/11/2011:<br /><br />I ordered a second ficus from Brussel's & it arrived in the same excellent condition as before & attractively trained. Very, very pleased.\n",
      "==================================================\n"
     ]
    }
   ],
   "source": [
    "# printing some random reviews\n",
    "sent_0 = final['Text'].values[0]\n",
    "print(sent_0)\n",
    "print(\"=\"*50)\n",
    "\n",
    "sent_1000 = final['Text'].values[1000]\n",
    "print(sent_1000)\n",
    "print(\"=\"*50)\n",
    "\n",
    "sent_1500 = final['Text'].values[1500]\n",
    "print(sent_1500)\n",
    "print(\"=\"*50)\n",
    "\n",
    "sent_4900 = final['Text'].values[4300]\n",
    "print(sent_4900)\n",
    "print(\"=\"*50)"
   ]
  },
  {
   "cell_type": "code",
   "execution_count": 25,
   "metadata": {
    "colab": {
     "base_uri": "https://localhost:8080/",
     "height": 55
    },
    "colab_type": "code",
    "id": "aj2eSSsd6Y4m",
    "outputId": "9783b961-eeb5-49c7-f417-2e3bfbacf469"
   },
   "outputs": [
    {
     "name": "stdout",
     "output_type": "stream",
     "text": [
      "It's a great book with adorable illustrations.  A true classic.  Kids love the poem and there is music that goes with it, if you can find it.  I think it's sung by Carol King.\n"
     ]
    }
   ],
   "source": [
    "# remove urls from text python: https://stackoverflow.com/a/40823105/4084039\n",
    "sent_0 = re.sub(r\"http\\S+\", \"\", sent_0)\n",
    "sent_1000 = re.sub(r\"http\\S+\", \"\", sent_1000)\n",
    "sent_150 = re.sub(r\"http\\S+\", \"\", sent_1500)\n",
    "sent_4900 = re.sub(r\"http\\S+\", \"\", sent_4900)\n",
    "\n",
    "print(sent_0)"
   ]
  },
  {
   "cell_type": "code",
   "execution_count": 26,
   "metadata": {
    "colab": {
     "base_uri": "https://localhost:8080/",
     "height": 161
    },
    "colab_type": "code",
    "id": "neHh31qO6Y4r",
    "outputId": "cba5f90b-ecb8-4f68-ad9e-6f9508675025"
   },
   "outputs": [
    {
     "name": "stdout",
     "output_type": "stream",
     "text": [
      "It's a great book with adorable illustrations.  A true classic.  Kids love the poem and there is music that goes with it, if you can find it.  I think it's sung by Carol King.\n",
      "==================================================\n",
      "Well if you have had this product before you know it is amazing.  I am not going to describe the taste but i will tell you the product was shipped neatly and fresh.  Everything tasted great and the expiration date was much further into the future than this would have ever lasted.  Top notch.\n",
      "==================================================\n",
      "Cat thought the bubbles were interesting, but didn't go crazy over them. They smell funny, leave a residue, and don't maintain form when they touch down as advertised. I'll go pick up a big bottle of regular bubbles for him to chase. Not worth the price.\n",
      "==================================================\n",
      "The previous reviewer's experience is lamentable but after reading the reviews for other Brussel's Bonsai & after reception of my own tree it's clear that his experience was the exception, not the rule.The tree arrived well-packaged, lush & green. The soil was moist & wrapped in plastic to ensure it remained that way. The tree is planted in a dark blue glazed ceramic pot. Included was a small pamphlet outlining the basics of Indoor Bonsai care. Overall, quite nice & well done. I wouldn't hesitate to order another tree from Brussel's. See my images above.UPDATE 08/11/2011:I ordered a second ficus from Brussel's & it arrived in the same excellent condition as before & attractively trained. Very, very pleased.\n"
     ]
    }
   ],
   "source": [
    "# https://stackoverflow.com/questions/16206380/python-beautifulsoup-how-to-remove-all-tags-from-an-element\n",
    "from bs4 import BeautifulSoup\n",
    "\n",
    "soup = BeautifulSoup(sent_0, 'lxml')\n",
    "text = soup.get_text()\n",
    "print(text)\n",
    "print(\"=\"*50)\n",
    "\n",
    "soup = BeautifulSoup(sent_1000, 'lxml')\n",
    "text = soup.get_text()\n",
    "print(text)\n",
    "print(\"=\"*50)\n",
    "\n",
    "soup = BeautifulSoup(sent_1500, 'lxml')\n",
    "text = soup.get_text()\n",
    "print(text)\n",
    "print(\"=\"*50)\n",
    "\n",
    "soup = BeautifulSoup(sent_4900, 'lxml')\n",
    "text = soup.get_text()\n",
    "print(text)"
   ]
  },
  {
   "cell_type": "code",
   "execution_count": 0,
   "metadata": {
    "colab": {},
    "colab_type": "code",
    "id": "JA-dVCAh6Y4t"
   },
   "outputs": [],
   "source": [
    "# https://stackoverflow.com/a/47091490/4084039\n",
    "import re\n",
    "\n",
    "def decontracted(phrase):\n",
    "    # specific\n",
    "    phrase = re.sub(r\"won't\", \"will not\", phrase)\n",
    "    phrase = re.sub(r\"can\\'t\", \"can not\", phrase)\n",
    "\n",
    "    # general\n",
    "    phrase = re.sub(r\"n\\'t\", \" not\", phrase)\n",
    "    phrase = re.sub(r\"\\'re\", \" are\", phrase)\n",
    "    phrase = re.sub(r\"\\'s\", \" is\", phrase)\n",
    "    phrase = re.sub(r\"\\'d\", \" would\", phrase)\n",
    "    phrase = re.sub(r\"\\'ll\", \" will\", phrase)\n",
    "    phrase = re.sub(r\"\\'t\", \" not\", phrase)\n",
    "    phrase = re.sub(r\"\\'ve\", \" have\", phrase)\n",
    "    phrase = re.sub(r\"\\'m\", \" am\", phrase)\n",
    "    return phrase"
   ]
  },
  {
   "cell_type": "code",
   "execution_count": 28,
   "metadata": {
    "colab": {
     "base_uri": "https://localhost:8080/",
     "height": 72
    },
    "colab_type": "code",
    "id": "9opcoV0P6Y40",
    "outputId": "7c5f8dc0-da85-4000-aebf-e60ab08ca804"
   },
   "outputs": [
    {
     "name": "stdout",
     "output_type": "stream",
     "text": [
      "Cat thought the bubbles were interesting, but did not go crazy over them. They smell funny, leave a residue, and do not maintain form when they touch down as advertised. I will go pick up a big bottle of regular bubbles for him to chase. Not worth the price.\n",
      "==================================================\n"
     ]
    }
   ],
   "source": [
    "sent_1500 = decontracted(sent_1500)\n",
    "print(sent_1500)\n",
    "print(\"=\"*50)"
   ]
  },
  {
   "cell_type": "code",
   "execution_count": 29,
   "metadata": {
    "colab": {
     "base_uri": "https://localhost:8080/",
     "height": 55
    },
    "colab_type": "code",
    "id": "8i8TTpo16Y45",
    "outputId": "f51cc237-f65b-4de4-f0db-95c406484cb1"
   },
   "outputs": [
    {
     "name": "stdout",
     "output_type": "stream",
     "text": [
      "It's a great book with adorable illustrations.  A true classic.  Kids love the poem and there is music that goes with it, if you can find it.  I think it's sung by Carol King.\n"
     ]
    }
   ],
   "source": [
    "#remove words with numbers python: https://stackoverflow.com/a/18082370/4084039\n",
    "sent_0 = re.sub(\"\\S*\\d\\S*\", \"\", sent_0).strip()\n",
    "print(sent_0)"
   ]
  },
  {
   "cell_type": "code",
   "execution_count": 30,
   "metadata": {
    "colab": {
     "base_uri": "https://localhost:8080/",
     "height": 55
    },
    "colab_type": "code",
    "id": "RBKtqLPT6Y4-",
    "outputId": "672b9a68-e25a-4bbf-9ce8-05aafd064b9c"
   },
   "outputs": [
    {
     "name": "stdout",
     "output_type": "stream",
     "text": [
      "Cat thought the bubbles were interesting but did not go crazy over them They smell funny leave a residue and do not maintain form when they touch down as advertised I will go pick up a big bottle of regular bubbles for him to chase Not worth the price \n"
     ]
    }
   ],
   "source": [
    "#remove spacial character: https://stackoverflow.com/a/5843547/4084039\n",
    "sent_1500 = re.sub('[^A-Za-z0-9]+', ' ', sent_1500)\n",
    "print(sent_1500)"
   ]
  },
  {
   "cell_type": "code",
   "execution_count": 0,
   "metadata": {
    "colab": {},
    "colab_type": "code",
    "id": "mKw4LWG06Y5C"
   },
   "outputs": [],
   "source": [
    "# https://gist.github.com/sebleier/554280\n",
    "# we are removing the words from the stop words list: 'no', 'nor', 'not'\n",
    "# <br /><br /> ==> after the above steps, we are getting \"br br\"\n",
    "# we are including them into stop words list\n",
    "# instead of <br /> if we have <br/> these tags would have revmoved in the 1st step\n",
    "\n",
    "stopwords= set(['br', 'the', 'i', 'me', 'my', 'myself', 'we', 'our', 'ours', 'ourselves', 'you', \"you're\", \"you've\",\\\n",
    "            \"you'll\", \"you'd\", 'your', 'yours', 'yourself', 'yourselves', 'he', 'him', 'his', 'himself', \\\n",
    "            'she', \"she's\", 'her', 'hers', 'herself', 'it', \"it's\", 'its', 'itself', 'they', 'them', 'their',\\\n",
    "            'theirs', 'themselves', 'what', 'which', 'who', 'whom', 'this', 'that', \"that'll\", 'these', 'those', \\\n",
    "            'am', 'is', 'are', 'was', 'were', 'be', 'been', 'being', 'have', 'has', 'had', 'having', 'do', 'does', \\\n",
    "            'did', 'doing', 'a', 'an', 'the', 'and', 'but', 'if', 'or', 'because', 'as', 'until', 'while', 'of', \\\n",
    "            'at', 'by', 'for', 'with', 'about', 'against', 'between', 'into', 'through', 'during', 'before', 'after',\\\n",
    "            'above', 'below', 'to', 'from', 'up', 'down', 'in', 'out', 'on', 'off', 'over', 'under', 'again', 'further',\\\n",
    "            'then', 'once', 'here', 'there', 'when', 'where', 'why', 'how', 'all', 'any', 'both', 'each', 'few', 'more',\\\n",
    "            'most', 'other', 'some', 'such', 'only', 'own', 'same', 'so', 'than', 'too', 'very', \\\n",
    "            's', 't', 'can', 'will', 'just', 'don', \"don't\", 'should', \"should've\", 'now', 'd', 'll', 'm', 'o', 're', \\\n",
    "            've', 'y', 'ain', 'aren', \"aren't\", 'couldn', \"couldn't\", 'didn', \"didn't\", 'doesn', \"doesn't\", 'hadn',\\\n",
    "            \"hadn't\", 'hasn', \"hasn't\", 'haven', \"haven't\", 'isn', \"isn't\", 'ma', 'mightn', \"mightn't\", 'mustn',\\\n",
    "            \"mustn't\", 'needn', \"needn't\", 'shan', \"shan't\", 'shouldn', \"shouldn't\", 'wasn', \"wasn't\", 'weren', \"weren't\", \\\n",
    "            'won', \"won't\", 'wouldn', \"wouldn't\"])"
   ]
  },
  {
   "cell_type": "code",
   "execution_count": 32,
   "metadata": {
    "colab": {
     "base_uri": "https://localhost:8080/",
     "height": 35
    },
    "colab_type": "code",
    "id": "AiLnt8tr6Y5E",
    "outputId": "118f047e-6b96-4971-c35d-58e1098405cb"
   },
   "outputs": [
    {
     "name": "stderr",
     "output_type": "stream",
     "text": [
      "100%|██████████| 393931/393931 [03:04<00:00, 2130.26it/s]\n"
     ]
    }
   ],
   "source": [
    "# Combining all the above stundents \n",
    "from tqdm import tqdm\n",
    "preprocessed_reviews = []\n",
    "# tqdm is for printing the status bar\n",
    "for sentance in tqdm(final['Text'].values):\n",
    "    sentance = re.sub(r\"http\\S+\", \"\", sentance)\n",
    "    sentance = BeautifulSoup(sentance, 'lxml').get_text()\n",
    "    sentance = decontracted(sentance)\n",
    "    sentance = re.sub(\"\\S*\\d\\S*\", \"\", sentance).strip()\n",
    "    sentance = re.sub('[^A-Za-z]+', ' ', sentance)\n",
    "    # https://gist.github.com/sebleier/554280\n",
    "    sentance = ' '.join(e.lower() for e in sentance.split() if e.lower() not in stopwords)\n",
    "    preprocessed_reviews.append(sentance.strip())"
   ]
  },
  {
   "cell_type": "code",
   "execution_count": 0,
   "metadata": {
    "colab": {},
    "colab_type": "code",
    "id": "bXCOv-a6sKVO"
   },
   "outputs": [],
   "source": [
    "#Used when 50% of positive and 50% of negative reviews are needed.\n",
    "\n",
    "final[\"New_Text\"] = preprocessed_reviews\n",
    "\n",
    "a = final[final[\"Score\"]==0][0:50000]\n",
    "b = final[final[\"Score\"]==1][0:50000]\n",
    "\n",
    "#Stacking both positive and negative data\n",
    "a = a.append(b, ignore_index = True)\n",
    "\n",
    "#Shuffling the data points to mix the data\n",
    "from sklearn.utils import shuffle\n",
    "reviews_preprocessed = shuffle(a)"
   ]
  },
  {
   "cell_type": "code",
   "execution_count": 37,
   "metadata": {
    "colab": {
     "base_uri": "https://localhost:8080/",
     "height": 35
    },
    "colab_type": "code",
    "id": "tN6RUCdDR7F3",
    "outputId": "5d25326b-0900-4d10-a65e-488fce611a92"
   },
   "outputs": [
    {
     "data": {
      "text/plain": [
       "(100000, 11)"
      ]
     },
     "execution_count": 37,
     "metadata": {
      "tags": []
     },
     "output_type": "execute_result"
    }
   ],
   "source": [
    "reviews_preprocessed.shape"
   ]
  },
  {
   "cell_type": "code",
   "execution_count": 0,
   "metadata": {
    "colab": {},
    "colab_type": "code",
    "id": "4ZTYVKQK6Y5N"
   },
   "outputs": [],
   "source": [
    "#Train-Test Split\n",
    "\n",
    "X_train,X_test,y_train, y_test = train_test_split(list(reviews_preprocessed[\"New_Text\"]), list(reviews_preprocessed[\"Score\"]), random_state = 42, test_size = 0.3, stratify = list(reviews_preprocessed[\"Score\"]))"
   ]
  },
  {
   "cell_type": "code",
   "execution_count": 0,
   "metadata": {
    "colab": {},
    "colab_type": "code",
    "id": "iOrTCyI9rD0q"
   },
   "outputs": [],
   "source": []
  },
  {
   "cell_type": "code",
   "execution_count": 0,
   "metadata": {
    "colab": {},
    "colab_type": "code",
    "id": "dezeWk6dFABx"
   },
   "outputs": [],
   "source": [
    "#X_train_with_scores = pd.DataFrame([X_train,y_train]).T"
   ]
  },
  {
   "cell_type": "code",
   "execution_count": 0,
   "metadata": {
    "colab": {},
    "colab_type": "code",
    "id": "cFqBmGIKF8qH"
   },
   "outputs": [],
   "source": [
    "#pos_reviews_x_train = X_train_with_scores[X_train_with_scores[1]==1][0]\n",
    "#neg_reviews_x_train = X_train_with_scores[X_train_with_scores[1]==0][0]"
   ]
  },
  {
   "cell_type": "code",
   "execution_count": 0,
   "metadata": {
    "colab": {},
    "colab_type": "code",
    "id": "IKt244kaHDL9"
   },
   "outputs": [],
   "source": [
    "#pos_sparse"
   ]
  },
  {
   "cell_type": "markdown",
   "metadata": {
    "colab_type": "text",
    "id": "DUzT4iRH6Y5R"
   },
   "source": [
    "<h2><font color='red'>[3.2] Preprocessing Review Summary</font></h2>"
   ]
  },
  {
   "cell_type": "code",
   "execution_count": 0,
   "metadata": {
    "colab": {},
    "colab_type": "code",
    "id": "K1jUnrqk6Y5S"
   },
   "outputs": [],
   "source": [
    "## Similartly you can do preprocessing for review summary also.\n"
   ]
  },
  {
   "cell_type": "markdown",
   "metadata": {
    "colab_type": "text",
    "id": "DblZaJ6h6Y5U"
   },
   "source": [
    "# [4] Featurization"
   ]
  },
  {
   "cell_type": "markdown",
   "metadata": {
    "colab_type": "text",
    "id": "RvfD3w6V6Y5V"
   },
   "source": [
    "## [4.1] BAG OF WORDS"
   ]
  },
  {
   "cell_type": "code",
   "execution_count": 42,
   "metadata": {
    "colab": {
     "base_uri": "https://localhost:8080/",
     "height": 195
    },
    "colab_type": "code",
    "id": "oz8CRx5k6Y5X",
    "outputId": "86ad77f3-c32c-43f5-a1aa-7c8bbadce808"
   },
   "outputs": [
    {
     "name": "stdout",
     "output_type": "stream",
     "text": [
      "some feature names  ['able', 'absolutely', 'actually', 'add', 'added', 'aftertaste', 'ago', 'almost', 'already', 'also']\n",
      "==================================================\n",
      "the type of count vectorizer  <class 'scipy.sparse.csr.csr_matrix'>\n",
      "the shape of out text BOW vectorizer  (70000, 500)\n",
      "the number of unique words  500\n",
      "==================================================\n",
      "for test data\n",
      "the type of count vectorizer  <class 'scipy.sparse.csr.csr_matrix'>\n",
      "the shape of out text BOW vectorizer  (30000, 500)\n",
      "the number of unique words  500\n"
     ]
    }
   ],
   "source": [
    "#BoW\n",
    "count_vect = CountVectorizer(max_features = 500) #in scikit-learn\n",
    "count_vect.fit(X_train)\n",
    "print(\"some feature names \", count_vect.get_feature_names()[:10])\n",
    "print('='*50)\n",
    "\n",
    "final_counts = count_vect.transform(X_train)\n",
    "final_counts_test = count_vect.transform(X_test)\n",
    "print(\"the type of count vectorizer \",type(final_counts))\n",
    "print(\"the shape of out text BOW vectorizer \",final_counts.get_shape())\n",
    "print(\"the number of unique words \", final_counts.get_shape()[1])\n",
    "print(\"=\"*50)\n",
    "print(\"for test data\")\n",
    "print(\"the type of count vectorizer \",type(final_counts_test))\n",
    "print(\"the shape of out text BOW vectorizer \",final_counts_test.get_shape())\n",
    "print(\"the number of unique words \", final_counts_test.get_shape()[1])"
   ]
  },
  {
   "cell_type": "markdown",
   "metadata": {
    "colab_type": "text",
    "id": "EZi3Gbna6Y5c"
   },
   "source": [
    "## [4.2] Bi-Grams and n-Grams."
   ]
  },
  {
   "cell_type": "code",
   "execution_count": 43,
   "metadata": {
    "colab": {
     "base_uri": "https://localhost:8080/",
     "height": 159
    },
    "colab_type": "code",
    "id": "mNA3gyNX6Y5d",
    "outputId": "d0c90bd0-b78b-4cea-af0b-b8f229264231"
   },
   "outputs": [
    {
     "name": "stdout",
     "output_type": "stream",
     "text": [
      "the type of count vectorizer  <class 'scipy.sparse.csr.csr_matrix'>\n",
      "the shape of out text BOW vectorizer  (70000, 500)\n",
      "the number of unique words including both unigrams and bigrams  500\n",
      "==================================================\n",
      "for test data\n",
      "the type of count vectorizer  <class 'scipy.sparse.csr.csr_matrix'>\n",
      "the shape of out text BOW vectorizer  (30000, 500)\n",
      "the number of unique words including both unigrams and bigrams  500\n"
     ]
    }
   ],
   "source": [
    "#bi-gram, tri-gram and n-gram\n",
    "\n",
    "#removing stop words like \"not\" should be avoided before building n-grams\n",
    "# count_vect = CountVectorizer(ngram_range=(1,2))\n",
    "# please do read the CountVectorizer documentation http://scikit-learn.org/stable/modules/generated/sklearn.feature_extraction.text.CountVectorizer.html\n",
    "\n",
    "# you can choose these numebrs min_df=10, max_features=5000, of your choice\n",
    "count_vect = CountVectorizer(ngram_range=(1,2), min_df=10, max_features=500)\n",
    "final_bigram_counts = count_vect.fit_transform(X_train)\n",
    "final_bigram_counts_test = count_vect.transform(X_test)\n",
    "print(\"the type of count vectorizer \",type(final_bigram_counts))\n",
    "print(\"the shape of out text BOW vectorizer \",final_bigram_counts.get_shape())\n",
    "print(\"the number of unique words including both unigrams and bigrams \", final_bigram_counts.get_shape()[1])\n",
    "\n",
    "print(\"=\"*50)\n",
    "print(\"for test data\")\n",
    "\n",
    "print(\"the type of count vectorizer \",type(final_bigram_counts_test))\n",
    "print(\"the shape of out text BOW vectorizer \",final_bigram_counts_test.get_shape())\n",
    "print(\"the number of unique words including both unigrams and bigrams \", final_bigram_counts_test.get_shape()[1])"
   ]
  },
  {
   "cell_type": "markdown",
   "metadata": {
    "colab_type": "text",
    "id": "Oj9L6QcE6Y5h"
   },
   "source": [
    "## [4.3] TF-IDF"
   ]
  },
  {
   "cell_type": "code",
   "execution_count": 44,
   "metadata": {
    "colab": {
     "base_uri": "https://localhost:8080/",
     "height": 195
    },
    "colab_type": "code",
    "id": "x1asOa-s6Y5i",
    "outputId": "26c82976-b318-48fc-b02f-d12ac636ec05"
   },
   "outputs": [
    {
     "name": "stdout",
     "output_type": "stream",
     "text": [
      "some sample features(unique words in the corpus) ['able', 'absolutely', 'actually', 'add', 'added', 'aftertaste', 'ago', 'almost', 'already', 'also']\n",
      "==================================================\n",
      "the type of count vectorizer  <class 'scipy.sparse.csr.csr_matrix'>\n",
      "the shape of out text TFIDF vectorizer  (70000, 500)\n",
      "the number of unique words including both unigrams and bigrams  500\n",
      "==================================================\n",
      "for test data\n",
      "the type of count vectorizer  <class 'scipy.sparse.csr.csr_matrix'>\n",
      "the shape of out text TFIDF vectorizer  (30000, 500)\n",
      "the number of unique words including both unigrams and bigrams  500\n"
     ]
    }
   ],
   "source": [
    "tf_idf_vect = TfidfVectorizer(ngram_range=(1,2), min_df=10, max_features = 500)\n",
    "tf_idf_vect.fit(X_train)\n",
    "print(\"some sample features(unique words in the corpus)\",tf_idf_vect.get_feature_names()[0:10])\n",
    "print('='*50)\n",
    "\n",
    "final_tf_idf = tf_idf_vect.transform(X_train)\n",
    "final_tf_idf_test = tf_idf_vect.transform(X_test)\n",
    "\n",
    "print(\"the type of count vectorizer \",type(final_tf_idf))\n",
    "print(\"the shape of out text TFIDF vectorizer \",final_tf_idf.get_shape())\n",
    "print(\"the number of unique words including both unigrams and bigrams \", final_tf_idf.get_shape()[1])\n",
    "\n",
    "print(\"=\"*50)\n",
    "print(\"for test data\")\n",
    "\n",
    "print(\"the type of count vectorizer \",type(final_tf_idf_test))\n",
    "print(\"the shape of out text TFIDF vectorizer \",final_tf_idf_test.get_shape())\n",
    "print(\"the number of unique words including both unigrams and bigrams \", final_tf_idf_test.get_shape()[1])"
   ]
  },
  {
   "cell_type": "code",
   "execution_count": 0,
   "metadata": {
    "colab": {},
    "colab_type": "code",
    "id": "75eHm96e6Y5l"
   },
   "outputs": [],
   "source": []
  },
  {
   "cell_type": "markdown",
   "metadata": {
    "colab_type": "text",
    "id": "npLWv8M66Y5m"
   },
   "source": [
    "## [4.4] Word2Vec"
   ]
  },
  {
   "cell_type": "code",
   "execution_count": 0,
   "metadata": {
    "colab": {},
    "colab_type": "code",
    "id": "ZtiaSGDW6Y5n"
   },
   "outputs": [],
   "source": [
    "# Train your own Word2Vec model using your own text corpus for train data\n",
    "i=0\n",
    "list_of_sentance=[]\n",
    "for sentance in X_train:\n",
    "    list_of_sentance.append(sentance.split())"
   ]
  },
  {
   "cell_type": "code",
   "execution_count": 0,
   "metadata": {
    "colab": {},
    "colab_type": "code",
    "id": "nFhMG5_anEG6"
   },
   "outputs": [],
   "source": [
    "# Train your own Word2Vec model using your own text corpus for test data\n",
    "i=0\n",
    "list_of_sentance_test=[]\n",
    "for sentance in X_test:\n",
    "    list_of_sentance_test.append(sentance.split())"
   ]
  },
  {
   "cell_type": "code",
   "execution_count": 47,
   "metadata": {
    "colab": {
     "base_uri": "https://localhost:8080/",
     "height": 90
    },
    "colab_type": "code",
    "id": "zKn0btoQ6Y5q",
    "outputId": "a4f52d8c-cb83-428e-92c5-d3263e40f9d2",
    "scrolled": true
   },
   "outputs": [
    {
     "name": "stdout",
     "output_type": "stream",
     "text": [
      "[('awesome', 0.8592933416366577), ('wonderful', 0.8466626405715942), ('fantastic', 0.8389652371406555), ('good', 0.8357700705528259), ('excellent', 0.8299025297164917), ('perfect', 0.7883657217025757), ('amazing', 0.7852176427841187), ('terrific', 0.7731220722198486), ('nice', 0.7164704203605652), ('delicious', 0.686628520488739)]\n",
      "==================================================\n",
      "[('nastiest', 0.8332876563072205), ('greatest', 0.7237464785575867), ('best', 0.7130252122879028), ('disgusting', 0.6784601807594299), ('horrible', 0.634000301361084), ('horrid', 0.6328745484352112), ('vile', 0.6121682524681091), ('awful', 0.599063515663147), ('terrible', 0.5925271511077881), ('foul', 0.5884574055671692)]\n"
     ]
    }
   ],
   "source": [
    "# Using Google News Word2Vectors\n",
    "\n",
    "# in this project we are using a pretrained model by google\n",
    "# its 3.3G file, once you load this into your memory \n",
    "# it occupies ~9Gb, so please do this step only if you have >12G of ram\n",
    "# we will provide a pickle file wich contains a dict , \n",
    "# and it contains all our courpus words as keys and  model[word] as values\n",
    "# To use this code-snippet, download \"GoogleNews-vectors-negative300.bin\" \n",
    "# from https://drive.google.com/file/d/0B7XkCwpI5KDYNlNUTTlSS21pQmM/edit\n",
    "# it's 1.9GB in size.\n",
    "\n",
    "\n",
    "# http://kavita-ganesan.com/gensim-word2vec-tutorial-starter-code/#.W17SRFAzZPY\n",
    "# you can comment this whole cell\n",
    "# or change these varible according to your need\n",
    "\n",
    "is_your_ram_gt_16g=False\n",
    "want_to_use_google_w2v = False\n",
    "want_to_train_w2v = True\n",
    "\n",
    "if want_to_train_w2v:\n",
    "    # min_count = 5 considers only words that occured atleast 5 times\n",
    "    w2v_model=Word2Vec(list_of_sentance,min_count=5,size=50, workers=4)\n",
    "    print(w2v_model.wv.most_similar('great'))\n",
    "    print('='*50)\n",
    "    print(w2v_model.wv.most_similar('worst'))\n",
    "    \n",
    "elif want_to_use_google_w2v and is_your_ram_gt_16g:\n",
    "    if os.path.isfile('GoogleNews-vectors-negative300.bin'):\n",
    "        w2v_model=KeyedVectors.load_word2vec_format('GoogleNews-vectors-negative300.bin', binary=True)\n",
    "        print(w2v_model.wv.most_similar('great'))\n",
    "        print(w2v_model.wv.most_similar('worst'))\n",
    "    else:\n",
    "        print(\"you don't have gogole's word2vec file, keep want_to_train_w2v = True, to train your own w2v \")"
   ]
  },
  {
   "cell_type": "code",
   "execution_count": 48,
   "metadata": {
    "colab": {
     "base_uri": "https://localhost:8080/",
     "height": 72
    },
    "colab_type": "code",
    "id": "2ocE4xn06Y5t",
    "outputId": "4a2e681b-178f-4130-c1a6-4935e6069de0"
   },
   "outputs": [
    {
     "name": "stdout",
     "output_type": "stream",
     "text": [
      "number of words that occured minimum 5 times  17061\n",
      "sample words  ['product', 'weird', 'taste', 'wonder', 'honey', 'spoiled', 'wish', 'could', 'brought', 'one', 'bottle', 'price', 'expecting', 'bottles', 'got', 'nasty', 'surprise', 'delivered', 'amazon', 'sells', 'brands', 'good', 'dog', 'would', 'anything', 'liver', 'treats', 'whenever', 'walk', 'drag', 'owners', 'house', 'treat', 'well', 'fact', 'buy', 'healthy', 'great', 'training', 'love', 'ingredients', 'say', 'grape', 'juice', 'concentrate', 'varietal', 'liquid', 'invert', 'sugar', 'kit']\n"
     ]
    }
   ],
   "source": [
    "#Creating a word vocabulary based on training data.\n",
    "w2v_words = list(w2v_model.wv.vocab)\n",
    "print(\"number of words that occured minimum 5 times \",len(w2v_words))\n",
    "print(\"sample words \", w2v_words[0:50])"
   ]
  },
  {
   "cell_type": "code",
   "execution_count": 0,
   "metadata": {
    "colab": {},
    "colab_type": "code",
    "id": "WS-q6Y-IrNeq"
   },
   "outputs": [],
   "source": []
  },
  {
   "cell_type": "markdown",
   "metadata": {
    "colab_type": "text",
    "id": "_VxN8did6Y5z"
   },
   "source": [
    "## [4.4.1] Converting text into vectors using Avg W2V, TFIDF-W2V"
   ]
  },
  {
   "cell_type": "markdown",
   "metadata": {
    "colab_type": "text",
    "id": "PmPQvMGJ6Y50"
   },
   "source": [
    "#### [4.4.1.1] Avg W2v"
   ]
  },
  {
   "cell_type": "code",
   "execution_count": 49,
   "metadata": {
    "colab": {
     "base_uri": "https://localhost:8080/",
     "height": 70
    },
    "colab_type": "code",
    "id": "9ApCN4MW6Y51",
    "outputId": "5354ba6e-e837-4cd6-d65d-8c005f39a68d"
   },
   "outputs": [
    {
     "name": "stderr",
     "output_type": "stream",
     "text": [
      "100%|██████████| 70000/70000 [02:31<00:00, 461.27it/s]"
     ]
    },
    {
     "name": "stdout",
     "output_type": "stream",
     "text": [
      "70000\n",
      "50\n"
     ]
    },
    {
     "name": "stderr",
     "output_type": "stream",
     "text": [
      "\n"
     ]
    }
   ],
   "source": [
    "#Converting each word of a review from training data into vector of len 50, adding them up and the finding an average. Hence converting training data into vector form.\n",
    "\n",
    "# average Word2Vec\n",
    "# compute average word2vec for each review.\n",
    "sent_vectors = []; # the avg-w2v for each sentence/review is stored in this list\n",
    "for sent in tqdm(list_of_sentance): # for each review/sentence\n",
    "    sent_vec = np.zeros(50) # as word vectors are of zero length 50, you might need to change this to 300 if you use google's w2v\n",
    "    cnt_words =0; # num of words with a valid vector in the sentence/review\n",
    "    for word in sent: # for each word in a review/sentence\n",
    "        if word in w2v_words:\n",
    "            vec = w2v_model.wv[word]\n",
    "            sent_vec += vec\n",
    "            cnt_words += 1\n",
    "    if cnt_words != 0:\n",
    "        sent_vec /= cnt_words\n",
    "    sent_vectors.append(sent_vec)\n",
    "print(len(sent_vectors))\n",
    "print(len(sent_vectors[0]))"
   ]
  },
  {
   "cell_type": "code",
   "execution_count": 0,
   "metadata": {
    "colab": {},
    "colab_type": "code",
    "id": "nSUd1veuhZgb"
   },
   "outputs": [],
   "source": [
    "#Resulting vector representation of Training data\n",
    "X_tr_w2v = sent_vectors"
   ]
  },
  {
   "cell_type": "code",
   "execution_count": 51,
   "metadata": {
    "colab": {
     "base_uri": "https://localhost:8080/",
     "height": 70
    },
    "colab_type": "code",
    "id": "BIETgwt06Y55",
    "outputId": "e0e06a62-fae6-4fca-fda5-a0f02821abdc"
   },
   "outputs": [
    {
     "name": "stderr",
     "output_type": "stream",
     "text": [
      "100%|██████████| 30000/30000 [01:05<00:00, 458.98it/s]"
     ]
    },
    {
     "name": "stdout",
     "output_type": "stream",
     "text": [
      "30000\n",
      "50\n"
     ]
    },
    {
     "name": "stderr",
     "output_type": "stream",
     "text": [
      "\n"
     ]
    }
   ],
   "source": [
    "#Converting each word of a review from test data into vector of len 50, adding them up and the finding an average. Hence converting test data into vector form.\n",
    "\n",
    "# average Word2Vec\n",
    "# compute average word2vec for each review.\n",
    "sent_vectors = []; # the avg-w2v for each sentence/review is stored in this list\n",
    "for sent in tqdm(list_of_sentance_test): # for each review/sentence\n",
    "    sent_vec = np.zeros(50) # as word vectors are of zero length 50, you might need to change this to 300 if you use google's w2v\n",
    "    cnt_words =0; # num of words with a valid vector in the sentence/review\n",
    "    for word in sent: # for each word in a review/sentence\n",
    "        if word in w2v_words:\n",
    "            vec = w2v_model.wv[word]\n",
    "            sent_vec += vec\n",
    "            cnt_words += 1\n",
    "    if cnt_words != 0:\n",
    "        sent_vec /= cnt_words\n",
    "    sent_vectors.append(sent_vec)\n",
    "print(len(sent_vectors))\n",
    "print(len(sent_vectors[0]))"
   ]
  },
  {
   "cell_type": "code",
   "execution_count": 0,
   "metadata": {
    "colab": {},
    "colab_type": "code",
    "id": "goqKY2TDcnlg"
   },
   "outputs": [],
   "source": [
    "#Resulting vector representation of reviews of Test data\n",
    "X_ts_w2v = sent_vectors"
   ]
  },
  {
   "cell_type": "markdown",
   "metadata": {
    "colab_type": "text",
    "id": "RWA0P2Vx6Y5_"
   },
   "source": [
    "#### [4.4.1.2] TFIDF weighted W2v"
   ]
  },
  {
   "cell_type": "code",
   "execution_count": 0,
   "metadata": {
    "colab": {},
    "colab_type": "code",
    "id": "Na9lPT0o6Y6B"
   },
   "outputs": [],
   "source": [
    "#Training the TfidfVectorizer on Train data\n",
    "\n",
    "# S = [\"abc def pqr\", \"def def def abc\", \"pqr pqr def\"]\n",
    "model = TfidfVectorizer()\n",
    "tf_idf_matrix = model.fit_transform(X_train)\n",
    "# we are converting a dictionary with word as a key, and the idf as a value\n",
    "dictionary = dict(zip(model.get_feature_names(), list(model.idf_)))"
   ]
  },
  {
   "cell_type": "code",
   "execution_count": 54,
   "metadata": {
    "colab": {
     "base_uri": "https://localhost:8080/",
     "height": 35
    },
    "colab_type": "code",
    "id": "_PDj4R9Y6Y6E",
    "outputId": "a460d4fb-5db7-484e-ebe3-4160dc4b63c3",
    "scrolled": true
   },
   "outputs": [
    {
     "name": "stderr",
     "output_type": "stream",
     "text": [
      "100%|██████████| 70000/70000 [30:51<00:00, 37.81it/s]\n"
     ]
    }
   ],
   "source": [
    "#Converting each word of a review from Train data into Tfidf W2v vector representation of len 50. Hence converting Train data into vector form.\n",
    "\n",
    "# TF-IDF weighted Word2Vec\n",
    "tfidf_feat = model.get_feature_names() # tfidf words/col-names\n",
    "# final_tf_idf is the sparse matrix with row= sentence, col=word and cell_val = tfidf\n",
    "\n",
    "tfidf_sent_vectors = []; # the tfidf-w2v for each sentence/review is stored in this list\n",
    "row=0;\n",
    "for sent in tqdm(list_of_sentance): # for each review/sentence \n",
    "    sent_vec = np.zeros(50) # as word vectors are of zero length\n",
    "    weight_sum =0; # num of words with a valid vector in the sentence/review\n",
    "    for word in sent: # for each word in a review/sentence\n",
    "        if word in w2v_words and word in tfidf_feat:\n",
    "            vec = w2v_model.wv[word]\n",
    "#             tf_idf = tf_idf_matrix[row, tfidf_feat.index(word)]\n",
    "            # to reduce the computation we are \n",
    "            # dictionary[word] = idf value of word in whole courpus\n",
    "            # sent.count(word) = tf valeus of word in this review\n",
    "            tf_idf = dictionary[word]*(sent.count(word)/len(sent))\n",
    "            sent_vec += (vec * tf_idf)\n",
    "            weight_sum += tf_idf\n",
    "    if weight_sum != 0:\n",
    "        sent_vec /= weight_sum\n",
    "    tfidf_sent_vectors.append(sent_vec)\n",
    "    row += 1"
   ]
  },
  {
   "cell_type": "code",
   "execution_count": 0,
   "metadata": {
    "colab": {},
    "colab_type": "code",
    "id": "y0Q-ujMaiBX9"
   },
   "outputs": [],
   "source": [
    "#Resulting vector representation of reviews of Train data\n",
    "X_tr_tf = tfidf_sent_vectors"
   ]
  },
  {
   "cell_type": "code",
   "execution_count": 56,
   "metadata": {
    "colab": {
     "base_uri": "https://localhost:8080/",
     "height": 35
    },
    "colab_type": "code",
    "id": "qzYHRByPhy8C",
    "outputId": "702bbd31-0a0b-4830-fc15-5c1ccbc00bf5"
   },
   "outputs": [
    {
     "name": "stderr",
     "output_type": "stream",
     "text": [
      "100%|██████████| 30000/30000 [13:09<00:00, 38.00it/s]\n"
     ]
    }
   ],
   "source": [
    "#Converting each word of a review from Test data into Tfidf W2v vector representation of len 50. Hence converting Test data into vector form.\n",
    "#Test data is converted to vectors using w2v_model and TfidfVectorizer which were built on Training data.\n",
    "\n",
    "# TF-IDF weighted Word2Vec\n",
    "tfidf_feat = model.get_feature_names() # tfidf words/col-names\n",
    "# final_tf_idf is the sparse matrix with row= sentence, col=word and cell_val = tfidf\n",
    "\n",
    "tfidf_sent_vectors = []; # the tfidf-w2v for each sentence/review is stored in this list\n",
    "row=0;\n",
    "for sent in tqdm(list_of_sentance_test): # for each review/sentence \n",
    "    sent_vec = np.zeros(50) # as word vectors are of zero length\n",
    "    weight_sum =0; # num of words with a valid vector in the sentence/review\n",
    "    for word in sent: # for each word in a review/sentence\n",
    "        if word in w2v_words and word in tfidf_feat:\n",
    "            vec = w2v_model.wv[word]\n",
    "#             tf_idf = tf_idf_matrix[row, tfidf_feat.index(word)]\n",
    "            # to reduce the computation we are \n",
    "            # dictionary[word] = idf value of word in whole courpus\n",
    "            # sent.count(word) = tf valeus of word in this review\n",
    "            tf_idf = dictionary[word]*(sent.count(word)/len(sent))\n",
    "            sent_vec += (vec * tf_idf)\n",
    "            weight_sum += tf_idf\n",
    "    if weight_sum != 0:\n",
    "        sent_vec /= weight_sum\n",
    "    tfidf_sent_vectors.append(sent_vec)\n",
    "    row += 1"
   ]
  },
  {
   "cell_type": "code",
   "execution_count": 0,
   "metadata": {
    "colab": {},
    "colab_type": "code",
    "id": "1lmEyBcejLnb"
   },
   "outputs": [],
   "source": [
    "#Resulting vector representation of reviews of Test data\n",
    "X_ts_tf = tfidf_sent_vectors"
   ]
  },
  {
   "cell_type": "code",
   "execution_count": 0,
   "metadata": {
    "colab": {},
    "colab_type": "code",
    "id": "HJBU-2sznFfL"
   },
   "outputs": [],
   "source": []
  },
  {
   "cell_type": "markdown",
   "metadata": {
    "colab_type": "text",
    "id": "jiYocvSHLPo4"
   },
   "source": [
    "# Applying Logistic Regression"
   ]
  },
  {
   "cell_type": "code",
   "execution_count": 0,
   "metadata": {
    "colab": {},
    "colab_type": "code",
    "id": "y_fQoaU8D85t"
   },
   "outputs": [],
   "source": [
    "# Common User defined function used.\n",
    "\n",
    "#Plots AUC Score vs Neighbors \n",
    "def plot_best_hyperparameter(gridcv):            \n",
    "    cv_result = pd.DataFrame(gridcv.cv_results_)      #gridcv.cv_results_ outputs dict object of cross validation score and train score. \n",
    "    '''cv = {\n",
    "    \"neighbors\" : cv_result[\"param_n_neighbors\"],\n",
    "    \"train score\" : cv_result[\"mean_train_score\"],\n",
    "    \"validation score\" : cv_result[\"mean_test_score\"]}'''\n",
    "\n",
    "    #CV_score = pd.DataFrame(cv)\n",
    "    \n",
    "    #Plot for Train and Test data\n",
    "    plt.figure()\n",
    "    plt.title(\"Best hyperparameter for Train and Test data\")\n",
    "    line1 = plt.plot(cv_result[\"param_alpha\"], cv_result[\"mean_train_score\"], label = \"Train_AUC_Score\")\n",
    "    line2 = plt.plot(cv_result[\"param_alpha\"], cv_result[\"mean_test_score\"], label = \"Cross_Validation_AUC_Score\")\n",
    "    plt.xticks(rotation=90)\n",
    "    plt.xlabel(\"Alpha\")\n",
    "    plt.ylabel(\"AUC Score\")\n",
    "    plt.legend()\n",
    "    plt.show()\n",
    "    \n",
    "   \n",
    "    '''plt.figure()\n",
    "    plt.title(\"Best hyperparameter for validation data\")\n",
    "    plt.plot(cv_result[\"param_n_neighbors\"], cv_result[\"mean_test_score\"])\n",
    "    plt.xticks(rotation=90)\n",
    "    plt.xlabel(\"Neighbors\")\n",
    "    plt.ylabel(\"AUC Score\")\n",
    "    plt.show()'''\n",
    "\n",
    "\n",
    "def plot_roc_curve(test_y, predict_proba_y):     #Plots ROC Curve\n",
    "    \n",
    "    fpr, tpr, threshold = roc_curve(test_y, predict_proba_y)\n",
    "    auc_area = metrics.auc(fpr, tpr)\n",
    "    \n",
    "    plt.figure()\n",
    "    plt.plot(fpr, tpr, color = 'darkorange', linewidth = 2,label = \"AUC: %0.2f\" %auc_area)\n",
    "    plt.plot([0,1],[0,1], linewidth = 2, linestyle=\"--\")\n",
    "    plt.xlim([0,1])\n",
    "    plt.ylim([0,1])\n",
    "    plt.xlabel(\"FPR\")\n",
    "    plt.ylabel(\"TPR\")\n",
    "    plt.title(\"ROC Curve\")\n",
    "    plt.legend(loc = \"lower right\")\n",
    "    plt.show()\n",
    "    \n",
    "\n",
    "    \n",
    "def plot_confusion_mat(test_y, predict_proba_y):    #Plots Confusion Matrix\n",
    "\n",
    "    cnf_mat = confusion_matrix(test_y, predict_proba_y)\n",
    "    cnf_df = pd.DataFrame(cnf_mat, index = [\"Actual: 0\", \"Actual: 1\"], columns = [\"Predicted: 0\", \"Predicted: 1\"], dtype= float)\n",
    "\n",
    "    plt.figure(figsize=(5,3))\n",
    "    plt.title(\"Confusion Matrix\")\n",
    "    sns.heatmap(cnf_df, annot = True, fmt = \"g\")"
   ]
  },
  {
   "cell_type": "markdown",
   "metadata": {
    "colab_type": "text",
    "id": "LE_XPVZJLPo4"
   },
   "source": [
    "## [5.1] Logistic Regression on BOW,<font color='red'> SET 1</font>"
   ]
  },
  {
   "cell_type": "code",
   "execution_count": 59,
   "metadata": {
    "colab": {
     "base_uri": "https://localhost:8080/",
     "height": 314
    },
    "colab_type": "code",
    "id": "dmJ8tk6XYh9J",
    "outputId": "657882b4-b0a4-4dd8-ab53-9d99b3ca2596"
   },
   "outputs": [
    {
     "name": "stdout",
     "output_type": "stream",
     "text": [
      "{'alpha': 0.001, 'penalty': 'l2'}\n"
     ]
    },
    {
     "data": {
      "image/png": "[encoded data removed]",
      "text/plain": [
       "<Figure size 432x288 with 1 Axes>"
      ]
     },
     "metadata": {
      "tags": []
     },
     "output_type": "display_data"
    }
   ],
   "source": [
    "# Please write all the code with proper documentation\n",
    "#final_counts = final_counts.toarray()\n",
    "\n",
    "#count_vect = CountVectorizer(max_features = 500) \n",
    "#count_vect.fit(X_train)\n",
    "\n",
    "final_counts = count_vect.transform(X_train)\n",
    "final_counts_test = count_vect.transform(X_test)\n",
    "\n",
    "'''#Converting the sparse matrix to dense\n",
    "final_counts = final_counts.toarray()\n",
    "final_counts_test = final_counts_test.toarray()'''\n",
    "\n",
    "from sklearn.model_selection import GridSearchCV\n",
    "from sklearn.linear_model import SGDClassifier\n",
    "\n",
    "#Parameters\n",
    "\n",
    "params = {\"alpha\":[0.00001,0.0001,0.001,0.01,0.1,1,10],\n",
    "          \"penalty\": [\"l1\", \"l2\"]\n",
    "         }\n",
    "\n",
    "log_reg_bow = SGDClassifier(loss = \"log\")\n",
    "\n",
    "gridcv = GridSearchCV(log_reg_bow, params, scoring = 'roc_auc')\n",
    "gridcv.fit(final_counts, y_train)\n",
    "print(gridcv.best_params_)\n",
    "\n",
    "bst_paramtr = gridcv.best_params_[\"alpha\"]\n",
    "\n",
    "#Plots the graph for all  parameters to find best hyperparameter.\n",
    "plot_best_hyperparameter(gridcv)"
   ]
  },
  {
   "cell_type": "markdown",
   "metadata": {
    "colab_type": "text",
    "id": "_iciJvj2LPo4"
   },
   "source": [
    "### [5.1.1] Applying Logistic Regression with L1 regularization on BOW,<font color='red'> SET 1</font>"
   ]
  },
  {
   "cell_type": "code",
   "execution_count": 60,
   "metadata": {
    "colab": {
     "base_uri": "https://localhost:8080/",
     "height": 521
    },
    "colab_type": "code",
    "id": "MyOVi-xYLPo5",
    "outputId": "30f911ab-1cd9-4fa2-83b5-c5509a4fe146"
   },
   "outputs": [
    {
     "name": "stdout",
     "output_type": "stream",
     "text": [
      "AUC for Logistic Regression with BOW:  0.8967066066666666\n"
     ]
    },
    {
     "data": {
      "image/png": "[encoded data removed]",
      "text/plain": [
       "<Figure size 432x288 with 1 Axes>"
      ]
     },
     "metadata": {
      "tags": []
     },
     "output_type": "display_data"
    },
    {
     "data": {
      "image/png": "[encoded data removed]",
      "text/plain": [
       "<Figure size 360x216 with 2 Axes>"
      ]
     },
     "metadata": {
      "tags": []
     },
     "output_type": "display_data"
    }
   ],
   "source": [
    "# Please write all the code with proper documentation\n",
    "\n",
    "from sklearn.metrics import roc_auc_score\n",
    "#final_counts_test = final_counts_test.toarray()\n",
    "\n",
    "log_reg_bow_1 = SGDClassifier(loss = \"log\", penalty = \"l1\", alpha = bst_paramtr)\n",
    "log_reg_bow_1.fit(final_counts, y_train)\n",
    "\n",
    "y_predict_proba_bow_kd = log_reg_bow_1.predict_proba(final_counts_test)[:,1]\n",
    "y_predict_bow_kd = log_reg_bow_1.predict(final_counts_test)\n",
    "\n",
    "roc_auc = roc_auc_score(y_test, y_predict_proba_bow_kd)\n",
    "\n",
    "print(\"AUC for Logistic Regression with BOW: \", roc_auc)\n",
    "\n",
    "#Plots ROC curve\n",
    "plot_roc_curve(y_test, y_predict_proba_bow_kd)\n",
    "\n",
    "#Plots Confusion matrix\n",
    "plot_confusion_mat(y_test, y_predict_bow_kd)"
   ]
  },
  {
   "cell_type": "markdown",
   "metadata": {
    "colab_type": "text",
    "id": "5h4NhywcLPo7"
   },
   "source": [
    "#### [5.1.1.1] Calculating sparsity on weight vector obtained using L1 regularization on BOW,<font color='red'> SET 1</font>"
   ]
  },
  {
   "cell_type": "code",
   "execution_count": 61,
   "metadata": {
    "colab": {
     "base_uri": "https://localhost:8080/",
     "height": 35
    },
    "colab_type": "code",
    "id": "rhF5isszVX6A",
    "outputId": "50704430-7d10-4cec-8e89-38af8786be97"
   },
   "outputs": [
    {
     "name": "stdout",
     "output_type": "stream",
     "text": [
      "Sparsity:  62.8 %\n"
     ]
    }
   ],
   "source": [
    "w = log_reg_bow_1.coef_\n",
    "\n",
    "Sparsity = ((len(w[0]) - np.count_nonzero(w[0]))/len(w[0]))*100\n",
    "print(\"Sparsity: \", Sparsity,\"%\")\n",
    "\n",
    "weights = w[0].tolist()"
   ]
  },
  {
   "cell_type": "code",
   "execution_count": 62,
   "metadata": {
    "colab": {
     "base_uri": "https://localhost:8080/",
     "height": 8906
    },
    "colab_type": "code",
    "id": "I2P35RjtzEQS",
    "outputId": "f028e673-f885-48da-cfcd-5d14bbaddffe"
   },
   "outputs": [
    {
     "data": {
      "text/plain": [
       "[0.05018531293706722,\n",
       " 0.0,\n",
       " 0.0,\n",
       " 0.42320088101845454,\n",
       " 0.0,\n",
       " 0.0,\n",
       " 0.0,\n",
       " 0.0,\n",
       " 0.0,\n",
       " 0.18491948130486813,\n",
       " 0.0,\n",
       " 0.44955302176924766,\n",
       " 0.25088193047765456,\n",
       " 0.0,\n",
       " 0.0,\n",
       " 0.0,\n",
       " 0.0,\n",
       " 0.0,\n",
       " 0.0,\n",
       " 0.0,\n",
       " 0.0,\n",
       " 0.0,\n",
       " -0.4560542595991652,\n",
       " -1.2107519716371646,\n",
       " 0.0,\n",
       " 0.0,\n",
       " -0.4841618773871919,\n",
       " 0.0,\n",
       " -0.06425157160175919,\n",
       " 0.0,\n",
       " 0.0,\n",
       " 0.0,\n",
       " -0.0998096737343221,\n",
       " 0.06474508983802836,\n",
       " 0.0,\n",
       " 0.0,\n",
       " 0.8998927508860681,\n",
       " 0.0,\n",
       " 0.0,\n",
       " 0.31709396951934615,\n",
       " -0.3649353799328864,\n",
       " 0.0,\n",
       " 0.0,\n",
       " 0.0,\n",
       " 0.0,\n",
       " -0.15661827228884448,\n",
       " -0.15762193142251954,\n",
       " -0.1569167035992331,\n",
       " -0.202891442819734,\n",
       " 0.0,\n",
       " 0.0,\n",
       " 0.0,\n",
       " 0.0,\n",
       " 0.0,\n",
       " 0.0,\n",
       " 0.0,\n",
       " 0.0,\n",
       " 0.0,\n",
       " 0.0,\n",
       " 0.0,\n",
       " 0.0,\n",
       " 0.0,\n",
       " -0.43721949332766535,\n",
       " 0.0,\n",
       " 0.0,\n",
       " 0.12049050519250523,\n",
       " 0.0,\n",
       " 0.0,\n",
       " 0.0,\n",
       " -0.1555687326628513,\n",
       " 0.0,\n",
       " 0.09479298462605681,\n",
       " 0.0,\n",
       " 0.03391641918625066,\n",
       " -0.6901347740504483,\n",
       " 0.0,\n",
       " -0.0062547104300610815,\n",
       " 0.0,\n",
       " 0.0,\n",
       " 0.0,\n",
       " -0.18476411546033739,\n",
       " 0.13098274010121325,\n",
       " 0.0,\n",
       " 0.0,\n",
       " 0.0,\n",
       " -0.3209684500144085,\n",
       " 0.0,\n",
       " 0.0,\n",
       " -0.013911216208549175,\n",
       " 0.0,\n",
       " 0.0,\n",
       " 0.04905542131441405,\n",
       " 0.0,\n",
       " -0.15163030335287328,\n",
       " 0.0,\n",
       " -0.03414562643367439,\n",
       " 0.0,\n",
       " 0.0,\n",
       " 0.0,\n",
       " 0.04127695478934708,\n",
       " -0.07877069495299467,\n",
       " 0.0,\n",
       " -0.07189030386341701,\n",
       " 0.0,\n",
       " 0.0,\n",
       " -0.4524424232298762,\n",
       " 0.4380485415773491,\n",
       " 0.0,\n",
       " 0.0,\n",
       " 0.0,\n",
       " 0.47540012834289147,\n",
       " 1.1318648911502802,\n",
       " -0.24377264946661886,\n",
       " 0.05374700170575171,\n",
       " 0.2168762115029552,\n",
       " 0.0,\n",
       " -1.1426229943280866,\n",
       " 0.0,\n",
       " 0.0,\n",
       " 0.009095700107616747,\n",
       " 0.0,\n",
       " 0.0,\n",
       " 0.0,\n",
       " -0.05501721918551388,\n",
       " 0.0,\n",
       " 0.5471114931896772,\n",
       " 0.0,\n",
       " 0.0,\n",
       " 0.0,\n",
       " 0.0,\n",
       " 0.0,\n",
       " 0.33400917019269655,\n",
       " 0.19796901584062512,\n",
       " 0.016728631317005853,\n",
       " 0.0,\n",
       " -0.13681951590576272,\n",
       " 0.0,\n",
       " 0.28950134953290485,\n",
       " 0.0906951408456834,\n",
       " 0.0,\n",
       " 1.038365743595108,\n",
       " -0.2719696389389719,\n",
       " 0.0,\n",
       " 0.0,\n",
       " 0.0,\n",
       " 0.0,\n",
       " 0.0,\n",
       " 0.0,\n",
       " 0.0,\n",
       " 0.0,\n",
       " 0.0,\n",
       " 0.44991022009332166,\n",
       " 0.0,\n",
       " 0.6449795389947742,\n",
       " 0.0,\n",
       " 0.40312010259995745,\n",
       " 0.0,\n",
       " 0.0,\n",
       " 0.0,\n",
       " -0.14680395194565798,\n",
       " 0.0,\n",
       " 0.0,\n",
       " 0.0,\n",
       " -0.010594443110323858,\n",
       " 0.0,\n",
       " 0.0,\n",
       " 0.09488226793787452,\n",
       " 0.04366560872767386,\n",
       " 0.21716105508519967,\n",
       " 0.2898024568099408,\n",
       " 0.0,\n",
       " 0.0,\n",
       " 0.0,\n",
       " 0.0,\n",
       " 0.0,\n",
       " 0.1808736160360562,\n",
       " 0.0,\n",
       " 0.0,\n",
       " 0.0,\n",
       " 0.6491963419214378,\n",
       " 0.0,\n",
       " 0.0,\n",
       " 0.031595276331551625,\n",
       " 0.0,\n",
       " -0.11298690085064743,\n",
       " 0.5513525554172094,\n",
       " -0.1217731211226335,\n",
       " 0.8876501873860682,\n",
       " 0.0,\n",
       " 0.0,\n",
       " 0.0,\n",
       " 0.0,\n",
       " 0.0,\n",
       " -0.3275171143660206,\n",
       " 0.0,\n",
       " -0.0964021242720176,\n",
       " 0.48417101918609406,\n",
       " 0.0,\n",
       " 0.0,\n",
       " 0.0,\n",
       " 0.0,\n",
       " 0.0,\n",
       " 0.0,\n",
       " 0.9530443644635436,\n",
       " 0.3293335165550287,\n",
       " 0.23875611631582339,\n",
       " 0.0,\n",
       " 0.0,\n",
       " -1.0297249024920254,\n",
       " 0.22538272309604257,\n",
       " 0.0,\n",
       " 0.0,\n",
       " -0.16165193753826443,\n",
       " 0.19702474797686878,\n",
       " -0.10068456630144923,\n",
       " -0.31398201868769804,\n",
       " -0.13153690626377523,\n",
       " 0.0,\n",
       " -0.19269437927072566,\n",
       " -0.2810703115394727,\n",
       " 0.0,\n",
       " 0.0,\n",
       " 0.0,\n",
       " -0.12493897148794295,\n",
       " 0.3921137993027835,\n",
       " 0.0,\n",
       " 0.0,\n",
       " 0.0,\n",
       " -0.3693463933166133,\n",
       " 0.0,\n",
       " 0.0,\n",
       " 0.0,\n",
       " -0.07973296769804657,\n",
       " 0.0,\n",
       " -0.0841249223177052,\n",
       " 0.0,\n",
       " 0.0,\n",
       " 0.0,\n",
       " 0.0,\n",
       " 0.0,\n",
       " -0.07041019660312,\n",
       " 0.0,\n",
       " 0.0,\n",
       " 0.0,\n",
       " 0.21205606206699298,\n",
       " 0.0,\n",
       " 0.0,\n",
       " 0.27847576751494424,\n",
       " 0.0,\n",
       " 0.0,\n",
       " -0.13502038023021448,\n",
       " 0.0,\n",
       " 0.0,\n",
       " 0.0,\n",
       " 0.5167171012625743,\n",
       " 0.3031474592662805,\n",
       " 1.0125862887924957,\n",
       " 0.0,\n",
       " 0.0,\n",
       " 0.16133759037343604,\n",
       " 0.13475817850201027,\n",
       " 0.0,\n",
       " 0.0,\n",
       " 0.0,\n",
       " 0.0,\n",
       " -0.3528610696467333,\n",
       " 0.0,\n",
       " 0.0,\n",
       " -0.028275986791139848,\n",
       " 0.0,\n",
       " 0.0,\n",
       " 0.0,\n",
       " 0.0,\n",
       " -0.9012429584279025,\n",
       " 0.0,\n",
       " 0.0,\n",
       " 0.312625197156476,\n",
       " 0.0,\n",
       " 0.0,\n",
       " 0.0,\n",
       " 0.0,\n",
       " 0.0,\n",
       " 0.19682030754977498,\n",
       " 0.0,\n",
       " -0.09615389237185655,\n",
       " 0.0,\n",
       " 0.4962845291508981,\n",
       " -0.17491415759242707,\n",
       " 0.0,\n",
       " -0.34262188599762505,\n",
       " -0.8980678557815349,\n",
       " 0.0,\n",
       " -0.3266281996035138,\n",
       " 0.0,\n",
       " -1.006716866921428,\n",
       " 0.0,\n",
       " 0.0,\n",
       " -0.8866851599723238,\n",
       " 0.0,\n",
       " -0.11796615773636569,\n",
       " 0.0,\n",
       " -0.30694421532810173,\n",
       " 0.0,\n",
       " 0.0,\n",
       " 0.0,\n",
       " 0.0,\n",
       " 0.0,\n",
       " 0.0,\n",
       " 0.0,\n",
       " 0.0,\n",
       " 0.0,\n",
       " -0.42176827914905435,\n",
       " 0.0,\n",
       " 0.0,\n",
       " -0.25965006454683465,\n",
       " 0.0,\n",
       " 0.0,\n",
       " -0.07792830485072837,\n",
       " 0.0,\n",
       " -0.0659130789179468,\n",
       " -0.1833960793952973,\n",
       " -0.20687238613128087,\n",
       " -0.18864436009348892,\n",
       " 0.0,\n",
       " 0.0,\n",
       " 0.0,\n",
       " -0.08799946607227137,\n",
       " 0.0,\n",
       " 0.0,\n",
       " 0.0,\n",
       " 0.0,\n",
       " 0.9479141963110406,\n",
       " 0.0,\n",
       " -0.09618408322149197,\n",
       " 0.0,\n",
       " 0.0,\n",
       " 0.0,\n",
       " -0.35481849979913666,\n",
       " 0.0,\n",
       " 0.0,\n",
       " 0.0,\n",
       " 0.0,\n",
       " 0.0,\n",
       " 0.0,\n",
       " 0.0,\n",
       " 0.0,\n",
       " 0.0,\n",
       " 0.03270677640046342,\n",
       " -0.29594298834018584,\n",
       " 0.0,\n",
       " -0.2011413801300451,\n",
       " 0.16223378012689443,\n",
       " 0.0,\n",
       " -0.1986932339198278,\n",
       " 0.06997896731013022,\n",
       " 0.0,\n",
       " 0.1492138910443308,\n",
       " 0.2175991529579027,\n",
       " 0.1661572540967282,\n",
       " 0.0,\n",
       " 0.0,\n",
       " 0.0,\n",
       " 0.1366225034103077,\n",
       " 0.0,\n",
       " -0.3148725605346288,\n",
       " 0.0,\n",
       " 0.0,\n",
       " 0.0,\n",
       " 0.0,\n",
       " 0.0,\n",
       " 0.0,\n",
       " -0.10876612913402801,\n",
       " -1.0119624316181168,\n",
       " 0.0,\n",
       " -0.33951133509795794,\n",
       " 0.0,\n",
       " 0.2658821719497677,\n",
       " 0.1916271287942243,\n",
       " 0.0,\n",
       " 0.0,\n",
       " 0.0,\n",
       " 0.0,\n",
       " 0.0,\n",
       " 0.0,\n",
       " 0.0,\n",
       " 0.0,\n",
       " 0.0,\n",
       " 0.0,\n",
       " 0.0,\n",
       " 0.0,\n",
       " 0.0,\n",
       " 0.0,\n",
       " -0.140330404483629,\n",
       " 0.0,\n",
       " 0.0,\n",
       " 0.0,\n",
       " 0.0,\n",
       " 0.06950009021860175,\n",
       " 0.0,\n",
       " 0.0,\n",
       " 0.1856864196510582,\n",
       " 0.0,\n",
       " 0.0,\n",
       " 0.0,\n",
       " 0.0,\n",
       " 0.2246532536336617,\n",
       " 0.0,\n",
       " 0.0,\n",
       " -0.21233631372256995,\n",
       " 0.2015202591529684,\n",
       " 0.0,\n",
       " -0.05359778884855491,\n",
       " 0.0,\n",
       " 0.0,\n",
       " 0.0,\n",
       " -0.8847447288501691,\n",
       " -0.12483494500426247,\n",
       " 0.08102568398251911,\n",
       " 0.0,\n",
       " -0.3303739148416123,\n",
       " 0.0,\n",
       " 0.13328681582379945,\n",
       " 0.6009051926725298,\n",
       " 0.0,\n",
       " 0.0,\n",
       " -0.04818038694289265,\n",
       " 0.0,\n",
       " 0.0,\n",
       " 0.0,\n",
       " 0.0,\n",
       " 0.016705941470148,\n",
       " -0.16463266438875604,\n",
       " 0.0,\n",
       " -0.3130645863948904,\n",
       " -0.25135974233579167,\n",
       " 0.0,\n",
       " 0.0,\n",
       " 0.5515032310189633,\n",
       " 0.07762498646954055,\n",
       " 0.11069883239632727,\n",
       " 0.0,\n",
       " -1.2040626808344546,\n",
       " -0.09486300116420028,\n",
       " 0.6172219674411705,\n",
       " 0.0,\n",
       " 0.0,\n",
       " 0.0,\n",
       " -0.3503432517908019,\n",
       " 0.15845079239763143,\n",
       " -0.599823248971267,\n",
       " 0.0,\n",
       " 0.0,\n",
       " 0.0,\n",
       " 0.0,\n",
       " 0.0,\n",
       " 0.0,\n",
       " 0.0,\n",
       " 0.3418919940668124,\n",
       " 0.0,\n",
       " 0.0,\n",
       " 0.0,\n",
       " 0.0,\n",
       " -0.07046649718507891,\n",
       " 0.0,\n",
       " -0.9121240959492942,\n",
       " 0.0,\n",
       " 0.30845558915238286,\n",
       " 0.0,\n",
       " 0.018145223344305225,\n",
       " 0.0,\n",
       " 0.0,\n",
       " 0.0,\n",
       " -0.018276580069914956,\n",
       " 0.0,\n",
       " -0.07745706592506649,\n",
       " -0.46451076714994344,\n",
       " -0.0925916450794373,\n",
       " -0.09174511009247212,\n",
       " 0.0,\n",
       " 0.0,\n",
       " 0.0,\n",
       " 0.2553197607758252,\n",
       " 0.0,\n",
       " 0.011310778611502741,\n",
       " 0.0,\n",
       " 0.0,\n",
       " 0.0,\n",
       " 0.332112031249088,\n",
       " 0.9926698237896696,\n",
       " 0.0,\n",
       " 0.6613927537268802,\n",
       " -2.1220087029102666,\n",
       " 0.0,\n",
       " -0.17539228315717925,\n",
       " 0.0,\n",
       " 0.0,\n",
       " 0.0,\n",
       " 0.3169370171313246,\n",
       " 0.0,\n",
       " 0.0]"
      ]
     },
     "execution_count": 62,
     "metadata": {
      "tags": []
     },
     "output_type": "execute_result"
    }
   ],
   "source": [
    "weights"
   ]
  },
  {
   "cell_type": "markdown",
   "metadata": {
    "colab_type": "text",
    "id": "aRHMa52qLPpA"
   },
   "source": [
    "### [5.1.2] Applying Logistic Regression with L2 regularization on BOW,<font color='red'> SET 1</font>"
   ]
  },
  {
   "cell_type": "code",
   "execution_count": 63,
   "metadata": {
    "colab": {
     "base_uri": "https://localhost:8080/",
     "height": 521
    },
    "colab_type": "code",
    "id": "GBbb9lxlLPpB",
    "outputId": "f141875a-883b-45cf-881c-52b1c3577e00"
   },
   "outputs": [
    {
     "name": "stdout",
     "output_type": "stream",
     "text": [
      "AUC for Logistic Regression with BOW:  0.9060445977777778\n"
     ]
    },
    {
     "data": {
      "image/png": "[encoded data removed]",
      "text/plain": [
       "<Figure size 432x288 with 1 Axes>"
      ]
     },
     "metadata": {
      "tags": []
     },
     "output_type": "display_data"
    },
    {
     "data": {
      "image/png": "[encoded data removed]",
      "text/plain": [
       "<Figure size 360x216 with 2 Axes>"
      ]
     },
     "metadata": {
      "tags": []
     },
     "output_type": "display_data"
    }
   ],
   "source": [
    "# Please write all the code with proper documentation\n",
    "\n",
    "from sklearn.metrics import roc_auc_score\n",
    "#final_counts_test = final_counts_test.toarray()\n",
    "\n",
    "log_reg_bow_1 = SGDClassifier(loss = \"log\", penalty = \"l2\", alpha = bst_paramtr)\n",
    "log_reg_bow_1.fit(final_counts, y_train)\n",
    "\n",
    "y_predict_proba_bow_kd = log_reg_bow_1.predict_proba(final_counts_test)[:,1]\n",
    "y_predict_bow_kd = log_reg_bow_1.predict(final_counts_test)\n",
    "\n",
    "\n",
    "roc_auc = roc_auc_score(y_test, y_predict_proba_bow_kd)\n",
    "\n",
    "print(\"AUC for Logistic Regression with BOW: \", roc_auc)\n",
    "\n",
    "#Plots ROC curve\n",
    "plot_roc_curve(y_test, y_predict_proba_bow_kd)\n",
    "\n",
    "#Plots Confusion matrix\n",
    "plot_confusion_mat(y_test, y_predict_bow_kd) "
   ]
  },
  {
   "cell_type": "markdown",
   "metadata": {
    "colab_type": "text",
    "id": "UaJkugTKLPpE"
   },
   "source": [
    "#### [5.1.2.1] Performing pertubation test (multicollinearity check) on BOW,<font color='red'> SET 1</font>"
   ]
  },
  {
   "cell_type": "code",
   "execution_count": 0,
   "metadata": {
    "colab": {},
    "colab_type": "code",
    "id": "DMPRqcNOWZ3N"
   },
   "outputs": [],
   "source": [
    "#Calculating error\n",
    "from random import randint\n",
    "e = []\n",
    "for i in range(len(final_counts.data)):\n",
    "  e.append(randint(1,9)/100)"
   ]
  },
  {
   "cell_type": "code",
   "execution_count": 0,
   "metadata": {
    "colab": {},
    "colab_type": "code",
    "id": "E1c5B1nELPpF"
   },
   "outputs": [],
   "source": [
    "# Please write all the code with proper documentation\n",
    "\n",
    "#Adding error to sparse matrix\n",
    "final_counts.data = final_counts.data + e\n",
    "\n",
    "#Retraining the model on data with error, ie X'\n",
    "log_reg_bow_err = SGDClassifier(loss = \"log\", penalty = \"l1\", alpha = bst_paramtr)\n",
    "log_reg_bow_err.fit(final_counts, y_train)\n",
    "\n",
    "#Finding out the weights W'\n",
    "weight_err = log_reg_bow_err.coef_\n",
    "\n",
    "#Adding small eps value to W and W'\n",
    "weights_adj = [weights[i]+10**-6 for i in range(len(weights))]\n",
    "weight_err_adj = [weight_err[i]+10**-6 for i in range(len(weight_err))]\n",
    "weight_err_adj = weight_err_adj[0]\n",
    "\n",
    "#Calculating (| (W-W') / (W) |)*100)\n",
    "percent_change = abs((weights_adj - weight_err_adj)/weights_adj)*100\n",
    "percent_change = sorted(percent_change)"
   ]
  },
  {
   "cell_type": "code",
   "execution_count": 0,
   "metadata": {
    "colab": {},
    "colab_type": "code",
    "id": "3zSLlJG2X94X"
   },
   "outputs": [],
   "source": [
    "percent_change = np.array(percent_change)"
   ]
  },
  {
   "cell_type": "code",
   "execution_count": 0,
   "metadata": {
    "colab": {},
    "colab_type": "code",
    "id": "fnilMgVGPJ31"
   },
   "outputs": [],
   "source": []
  },
  {
   "cell_type": "code",
   "execution_count": 67,
   "metadata": {
    "colab": {
     "base_uri": "https://localhost:8080/",
     "height": 1795
    },
    "colab_type": "code",
    "id": "P4d-uCMcYeaX",
    "outputId": "62dc69e0-cbc3-4c11-af2b-cbc409b54887"
   },
   "outputs": [
    {
     "name": "stdout",
     "output_type": "stream",
     "text": [
      "1  percentile:  0.0\n",
      "2  percentile:  0.0\n",
      "3  percentile:  0.0\n",
      "4  percentile:  0.0\n",
      "5  percentile:  0.0\n",
      "6  percentile:  0.0\n",
      "7  percentile:  0.0\n",
      "8  percentile:  0.0\n",
      "9  percentile:  0.0\n",
      "10  percentile:  0.0\n",
      "11  percentile:  0.0\n",
      "12  percentile:  0.0\n",
      "13  percentile:  0.0\n",
      "14  percentile:  0.0\n",
      "15  percentile:  0.0\n",
      "16  percentile:  0.0\n",
      "17  percentile:  0.0\n",
      "18  percentile:  0.0\n",
      "19  percentile:  0.0\n",
      "20  percentile:  0.0\n",
      "21  percentile:  0.0\n",
      "22  percentile:  0.0\n",
      "23  percentile:  0.0\n",
      "24  percentile:  0.0\n",
      "25  percentile:  0.0\n",
      "26  percentile:  0.0\n",
      "27  percentile:  0.0\n",
      "28  percentile:  0.0\n",
      "29  percentile:  0.0\n",
      "30  percentile:  0.0\n",
      "31  percentile:  0.0\n",
      "32  percentile:  0.0\n",
      "33  percentile:  0.0\n",
      "34  percentile:  0.0\n",
      "35  percentile:  0.0\n",
      "36  percentile:  0.0\n",
      "37  percentile:  0.0\n",
      "38  percentile:  0.0\n",
      "39  percentile:  0.0\n",
      "40  percentile:  0.0\n",
      "41  percentile:  0.0\n",
      "42  percentile:  0.0\n",
      "43  percentile:  0.0\n",
      "44  percentile:  0.0\n",
      "45  percentile:  0.0\n",
      "46  percentile:  0.0\n",
      "47  percentile:  0.0\n",
      "48  percentile:  0.0\n",
      "49  percentile:  0.0\n",
      "50  percentile:  0.0\n",
      "51  percentile:  0.0\n",
      "52  percentile:  0.0\n",
      "53  percentile:  0.0\n",
      "54  percentile:  0.0\n",
      "55  percentile:  0.0\n",
      "56  percentile:  0.0\n",
      "57  percentile:  0.0\n",
      "58  percentile:  0.053774084846734696\n",
      "59  percentile:  0.5128495833903732\n",
      "60  percentile:  0.9855157828406578\n",
      "61  percentile:  1.4663206703925034\n",
      "62  percentile:  1.8335565177243087\n",
      "63  percentile:  2.3143430908468283\n",
      "64  percentile:  2.761366294025772\n",
      "65  percentile:  3.2000560007626113\n",
      "66  percentile:  3.9614564183663425\n",
      "67  percentile:  4.4091215771027406\n",
      "68  percentile:  4.9397615633014516\n",
      "69  percentile:  5.985203490173157\n",
      "70  percentile:  6.454480738349846\n",
      "71  percentile:  7.339383976612716\n",
      "72  percentile:  7.851428243517241\n",
      "73  percentile:  9.150329194817925\n",
      "74  percentile:  11.047758156512476\n",
      "75  percentile:  11.900781231066187\n",
      "76  percentile:  13.06482150927065\n",
      "77  percentile:  14.166685158119881\n",
      "78  percentile:  16.544266007328773\n",
      "79  percentile:  17.99494180129394\n",
      "80  percentile:  18.85390351031227\n",
      "81  percentile:  20.410406724548185\n",
      "82  percentile:  23.173226020579822\n",
      "83  percentile:  25.445314562421224\n",
      "84  percentile:  31.25735004969517\n",
      "85  percentile:  35.221069372119004\n",
      "86  percentile:  39.8838749004707\n",
      "87  percentile:  61.62246447751745\n",
      "88  percentile:  84.0449729229114\n",
      "89  percentile:  99.99710949352465\n",
      "90  percentile:  99.99846607203209\n",
      "91  percentile:  99.99974805263865\n",
      "92  percentile:  100.00064839099913\n",
      "93  percentile:  100.00127048441276\n",
      "94  percentile:  100.0029651971051\n",
      "95  percentile:  164.941774217532\n",
      "96  percentile:  2856057.974974596\n",
      "97  percentile:  6607156.023527168\n",
      "98  percentile:  12575297.24441598\n",
      "99  percentile:  14897496.034667091\n",
      "100  percentile:  35773227.93010074\n"
     ]
    }
   ],
   "source": [
    "for i in range(1,101):\n",
    "  print(i, \" percentile: \", np.percentile(percent_change, i))"
   ]
  },
  {
   "cell_type": "code",
   "execution_count": 87,
   "metadata": {
    "colab": {
     "base_uri": "https://localhost:8080/",
     "height": 177
    },
    "colab_type": "code",
    "id": "axi2kgQcxEN1",
    "outputId": "632793ab-d9f8-49e8-b0f5-b67996ba4af2"
   },
   "outputs": [
    {
     "name": "stdout",
     "output_type": "stream",
     "text": [
      "95.1  percentile:  188.91054580254098\n",
      "95.2  percentile:  52579.19876783664\n",
      "95.3  percentile:  596994.6968256185\n",
      "95.4  percentile:  1108358.7951083572\n",
      "95.5  percentile:  1294238.4564744264\n",
      "95.6  percentile:  1523006.000703887\n",
      "95.7  percentile:  2195273.2427250883\n",
      "95.8  percentile:  2811613.689847513\n",
      "95.9  percentile:  2819417.344859262\n"
     ]
    }
   ],
   "source": [
    "for i in [95.1,95.2,95.3,95.4,95.5,95.6,95.7,95.8,95.9]:\n",
    "  print(i, \" percentile: \", np.percentile(percent_change, i))"
   ]
  },
  {
   "cell_type": "code",
   "execution_count": 88,
   "metadata": {
    "colab": {
     "base_uri": "https://localhost:8080/",
     "height": 515
    },
    "colab_type": "code",
    "id": "DQu44w4M7TfM",
    "outputId": "924eb9d4-fec2-4232-9a35-e6d854d268be"
   },
   "outputs": [
    {
     "name": "stdout",
     "output_type": "stream",
     "text": [
      "Threshold:  95.2\n",
      "\n",
      " Features whose Percentage Change is more than thresholds: \n",
      " 5       aftertaste\n",
      "7           almost\n",
      "13          amazon\n",
      "15         another\n",
      "50           bread\n",
      "55          buying\n",
      "57          called\n",
      "101           cups\n",
      "136           ever\n",
      "158           fish\n",
      "201           help\n",
      "249           look\n",
      "253            lot\n",
      "306            old\n",
      "336        plastic\n",
      "344          price\n",
      "359         rather\n",
      "381          sauce\n",
      "435    tastes like\n",
      "452           time\n",
      "458         treats\n",
      "460            try\n",
      "470        vanilla\n",
      "496           year\n",
      "Name: features, dtype: object\n"
     ]
    }
   ],
   "source": [
    "#Features whose Percentage Change is more than thresholds\n",
    "\n",
    "features_500 = count_vect.get_feature_names()[:500]\n",
    "df = pd.DataFrame(features_500)\n",
    "df[\"features\"] = features_500\n",
    "df[\"Weight\"] = weights_adj\n",
    "df[\"Weights_err\"] = weight_err_adj\n",
    "df[\"Percent_change\"] = abs((df[\"Weight\"] - df[\"Weights_err\"])/df[\"Weight\"])*100\n",
    "pert_features = df[df[\"Percent_change\"]>52579.1987][\"features\"]\n",
    "print(\"Threshold: \", 95.2)\n",
    "print(\"\\n Features whose Percentage Change is more than thresholds: \\n\", pert_features)"
   ]
  },
  {
   "cell_type": "markdown",
   "metadata": {
    "colab_type": "text",
    "id": "eB1rF0BQLPpG"
   },
   "source": [
    "### [5.1.3] Feature Importance on BOW,<font color='red'> SET 1</font>"
   ]
  },
  {
   "cell_type": "markdown",
   "metadata": {
    "colab_type": "text",
    "id": "JZTP19dqLPpI"
   },
   "source": [
    "#### [5.1.3.1] Top 10 important features of positive class from<font color='red'> SET 1</font>"
   ]
  },
  {
   "cell_type": "code",
   "execution_count": 0,
   "metadata": {
    "colab": {},
    "colab_type": "code",
    "id": "4R-TqMbWWO6h"
   },
   "outputs": [],
   "source": [
    "pos_feature = []\n",
    "neg_feature = []\n",
    "pos_index = []\n",
    "neg_index = []\n",
    "\n",
    "for i in weights:\n",
    "  if i>0:\n",
    "    pos_feature.append(i)\n",
    "    pos_index.append(weights.index(i))\n",
    "  \n",
    "  elif i<0:\n",
    "    neg_feature.append(i)\n",
    "    neg_index.append(weights.index(i))\n",
    "    \n",
    "pos_feature_names = []\n",
    "for i in pos_index:\n",
    "  pos_feature_names.append(count_vect.get_feature_names()[i])\n",
    "  \n",
    "neg_feature_names = []\n",
    "for i in neg_index:\n",
    "  neg_feature_names.append(count_vect.get_feature_names()[i])"
   ]
  },
  {
   "cell_type": "code",
   "execution_count": 90,
   "metadata": {
    "colab": {
     "base_uri": "https://localhost:8080/",
     "height": 212
    },
    "colab_type": "code",
    "id": "oGRpCVJgLPpI",
    "outputId": "596541df-591c-4233-816a-1b13df9d0458"
   },
   "outputs": [
    {
     "name": "stdout",
     "output_type": "stream",
     "text": [
      "Top 10 positive features are: \n"
     ]
    },
    {
     "data": {
      "text/plain": [
       "[(7.136590228703117, 'great'),\n",
       " (6.716661842622325, 'delicious'),\n",
       " (6.539101905606546, 'best'),\n",
       " (5.930839783074126, 'wonderful'),\n",
       " (5.833192600965227, 'excellent'),\n",
       " (5.803569573407037, 'perfect'),\n",
       " (5.445836805122069, 'loves'),\n",
       " (5.120496364088453, 'good'),\n",
       " (5.065214265565086, 'amazing'),\n",
       " (4.619344056364491, 'thank')]"
      ]
     },
     "execution_count": 90,
     "metadata": {
      "tags": []
     },
     "output_type": "execute_result"
    }
   ],
   "source": [
    "# Please write all the code with proper documentation\n",
    "features = list(zip(tuple(pos_feature), tuple(pos_feature_names)))\n",
    "\n",
    "def getKey(item):\n",
    "    return item[0]\n",
    "  \n",
    "feature = features.sort(key =getKey, reverse = True)\n",
    "\n",
    "print(\"Top 10 positive features are: \")\n",
    "features[0:10]"
   ]
  },
  {
   "cell_type": "markdown",
   "metadata": {
    "colab_type": "text",
    "id": "UJLYBE1gLPpJ"
   },
   "source": [
    "#### [5.1.3.2] Top 10 important features of negative class from<font color='red'> SET 1</font>"
   ]
  },
  {
   "cell_type": "code",
   "execution_count": 91,
   "metadata": {
    "colab": {
     "base_uri": "https://localhost:8080/",
     "height": 212
    },
    "colab_type": "code",
    "id": "c9r7Zjx1LPpK",
    "outputId": "478f8acb-afd3-4511-8600-9a8e3ab7cd91"
   },
   "outputs": [
    {
     "name": "stdout",
     "output_type": "stream",
     "text": [
      "Top 10 negative features are: \n"
     ]
    },
    {
     "data": {
      "text/plain": [
       "[(-11.141532479553508, 'worst'),\n",
       " (-8.429458390744049, 'not recommend'),\n",
       " (-8.316921133580806, 'awful'),\n",
       " (-7.77204104342598, 'terrible'),\n",
       " (-6.937461016756706, 'horrible'),\n",
       " (-6.3398460334996996, 'return'),\n",
       " (-5.3263456807609115, 'not good'),\n",
       " (-5.31930053747852, 'unfortunately'),\n",
       " (-5.069300805339427, 'disappointed'),\n",
       " (-5.031180081242521, 'money')]"
      ]
     },
     "execution_count": 91,
     "metadata": {
      "tags": []
     },
     "output_type": "execute_result"
    }
   ],
   "source": [
    "# Please write all the code with proper documentation\n",
    "features = list(zip(tuple(neg_feature), tuple(neg_feature_names)))\n",
    "\n",
    "def getKey(item):\n",
    "    return item[0]\n",
    "  \n",
    "feature = features.sort(key =getKey)\n",
    "\n",
    "print(\"Top 10 negative features are: \")\n",
    "features[0:10]"
   ]
  },
  {
   "cell_type": "markdown",
   "metadata": {
    "colab_type": "text",
    "id": "nKn3VXcZLPpN"
   },
   "source": [
    "## [5.2] Logistic Regression on TFIDF,<font color='red'> SET 2</font>"
   ]
  },
  {
   "cell_type": "code",
   "execution_count": 92,
   "metadata": {
    "colab": {
     "base_uri": "https://localhost:8080/",
     "height": 314
    },
    "colab_type": "code",
    "id": "7SHsTTPBFZoF",
    "outputId": "f57ab5fc-40f7-4661-dfa3-7db994e0ded1"
   },
   "outputs": [
    {
     "name": "stdout",
     "output_type": "stream",
     "text": [
      "{'alpha': 0.0001, 'penalty': 'l2'}\n"
     ]
    },
    {
     "data": {
      "image/png": "[encoded data removed]",
      "text/plain": [
       "<Figure size 432x288 with 1 Axes>"
      ]
     },
     "metadata": {
      "tags": []
     },
     "output_type": "display_data"
    }
   ],
   "source": [
    "# Please write all the code with proper documentation\n",
    "\n",
    "\n",
    "#tf_idf_vect = TfidfVectorizer(ngram_range=(1,2), min_df=10)\n",
    "#tf_idf_vect.fit(X_train)\n",
    "\n",
    "'''#Converting the sparse matrix to dense\n",
    "final_counts = final_counts.toarray()\n",
    "final_counts_test = final_counts_test.toarray()'''\n",
    "\n",
    "from sklearn.model_selection import GridSearchCV\n",
    "from sklearn.linear_model import SGDClassifier\n",
    "\n",
    "#Parameters\n",
    "\n",
    "params = {\"alpha\":[0.00001,0.0001,0.001,0.01,0.1,1,10],\n",
    "          \"penalty\": [\"l1\", \"l2\"]\n",
    "         }\n",
    "\n",
    "log_reg_bow = SGDClassifier(loss = \"log\")\n",
    "\n",
    "gridcv = GridSearchCV(log_reg_bow, params, scoring = 'roc_auc')\n",
    "gridcv.fit(final_tf_idf, y_train)\n",
    "print(gridcv.best_params_)\n",
    "\n",
    "bst_paramtr = gridcv.best_params_[\"alpha\"]\n",
    "\n",
    "#Plots the graph for all  parameters to find best hyperparameter.\n",
    "plot_best_hyperparameter(gridcv)"
   ]
  },
  {
   "cell_type": "markdown",
   "metadata": {
    "colab_type": "text",
    "id": "naTBSzm6LPpN"
   },
   "source": [
    "### [5.2.1] Applying Logistic Regression with L1 regularization on TFIDF,<font color='red'> SET 2</font>"
   ]
  },
  {
   "cell_type": "code",
   "execution_count": 93,
   "metadata": {
    "colab": {
     "base_uri": "https://localhost:8080/",
     "height": 521
    },
    "colab_type": "code",
    "id": "PEhaagXXLPpS",
    "outputId": "57138789-9dd2-4f93-c1ee-f7de4e7efee3"
   },
   "outputs": [
    {
     "name": "stdout",
     "output_type": "stream",
     "text": [
      "AUC for Logistic Regression with TFIDF:  0.9130657044444445\n"
     ]
    },
    {
     "data": {
      "image/png": "[encoded data removed]",
      "text/plain": [
       "<Figure size 432x288 with 1 Axes>"
      ]
     },
     "metadata": {
      "tags": []
     },
     "output_type": "display_data"
    },
    {
     "data": {
      "image/png": "[encoded data removed]",
      "text/plain": [
       "<Figure size 360x216 with 2 Axes>"
      ]
     },
     "metadata": {
      "tags": []
     },
     "output_type": "display_data"
    }
   ],
   "source": [
    "# Please write all the code with proper documentation\n",
    "\n",
    "from sklearn.metrics import roc_auc_score\n",
    "#final_counts_test = final_counts_test.toarray()\n",
    "\n",
    "log_reg_bow_1 = SGDClassifier(loss = \"log\", penalty = \"l1\", alpha = bst_paramtr)\n",
    "log_reg_bow_1.fit(final_tf_idf, y_train)\n",
    "\n",
    "y_predict_proba_bow_kd = log_reg_bow_1.predict_proba(final_tf_idf_test)[:,1]\n",
    "y_predict_bow_kd = log_reg_bow_1.predict(final_tf_idf_test)\n",
    "\n",
    "roc_auc = roc_auc_score(y_test, y_predict_proba_bow_kd)\n",
    "\n",
    "print(\"AUC for Logistic Regression with TFIDF: \", roc_auc)\n",
    "\n",
    "#Plots ROC curve\n",
    "plot_roc_curve(y_test, y_predict_proba_bow_kd)\n",
    "\n",
    "#Plots Confusion matrix\n",
    "plot_confusion_mat(y_test, y_predict_bow_kd)"
   ]
  },
  {
   "cell_type": "code",
   "execution_count": 0,
   "metadata": {
    "colab": {},
    "colab_type": "code",
    "id": "BYBOch-iI127"
   },
   "outputs": [],
   "source": [
    "w = log_reg_bow_1.coef_\n",
    "weights = w[0].tolist()"
   ]
  },
  {
   "cell_type": "markdown",
   "metadata": {
    "colab_type": "text",
    "id": "NdFShHQJLPpV"
   },
   "source": [
    "### [5.2.2] Applying Logistic Regression with L2 regularization on TFIDF,<font color='red'> SET 2</font>"
   ]
  },
  {
   "cell_type": "code",
   "execution_count": 95,
   "metadata": {
    "colab": {
     "base_uri": "https://localhost:8080/",
     "height": 521
    },
    "colab_type": "code",
    "id": "Jyhq3JDzLPpW",
    "outputId": "57555048-ed4b-4a25-a6c2-b27ba791e80c"
   },
   "outputs": [
    {
     "name": "stdout",
     "output_type": "stream",
     "text": [
      "AUC for Logistic Regression with TFIDF:  0.9130821844444446\n"
     ]
    },
    {
     "data": {
      "image/png": "[encoded data removed]",
      "text/plain": [
       "<Figure size 432x288 with 1 Axes>"
      ]
     },
     "metadata": {
      "tags": []
     },
     "output_type": "display_data"
    },
    {
     "data": {
      "image/png": "[encoded data removed]",
      "text/plain": [
       "<Figure size 360x216 with 2 Axes>"
      ]
     },
     "metadata": {
      "tags": []
     },
     "output_type": "display_data"
    }
   ],
   "source": [
    "# Please write all the code with proper documentation\n",
    "\n",
    "from sklearn.metrics import roc_auc_score\n",
    "#final_counts_test = final_counts_test.toarray()\n",
    "\n",
    "log_reg_bow_1 = SGDClassifier(loss = \"log\", penalty = \"l2\", alpha = bst_paramtr)\n",
    "log_reg_bow_1.fit(final_tf_idf, y_train)\n",
    "\n",
    "y_predict_proba_bow_kd = log_reg_bow_1.predict_proba(final_tf_idf_test)[:,1]\n",
    "y_predict_bow_kd = log_reg_bow_1.predict(final_tf_idf_test)\n",
    "\n",
    "\n",
    "roc_auc = roc_auc_score(y_test, y_predict_proba_bow_kd)\n",
    "\n",
    "print(\"AUC for Logistic Regression with TFIDF: \", roc_auc)\n",
    "\n",
    "#Plots ROC curve\n",
    "plot_roc_curve(y_test, y_predict_proba_bow_kd)\n",
    "\n",
    "#Plots Confusion matrix\n",
    "plot_confusion_mat(y_test, y_predict_bow_kd) "
   ]
  },
  {
   "cell_type": "markdown",
   "metadata": {
    "colab_type": "text",
    "id": "xeeJ8eVvLPpX"
   },
   "source": [
    "### [5.2.3] Feature Importance on TFIDF,<font color='red'> SET 2</font>"
   ]
  },
  {
   "cell_type": "markdown",
   "metadata": {
    "colab_type": "text",
    "id": "Cj9XEmqQLPpY"
   },
   "source": [
    "#### [5.2.3.1] Top 10 important features of positive class from<font color='red'> SET 2</font>"
   ]
  },
  {
   "cell_type": "code",
   "execution_count": 0,
   "metadata": {
    "colab": {},
    "colab_type": "code",
    "id": "p2y7osNCIidD"
   },
   "outputs": [],
   "source": []
  },
  {
   "cell_type": "code",
   "execution_count": 0,
   "metadata": {
    "colab": {},
    "colab_type": "code",
    "id": "RG10txygLPpb"
   },
   "outputs": [],
   "source": [
    "pos_feature = []\n",
    "neg_feature = []\n",
    "pos_index = []\n",
    "neg_index = []\n",
    "\n",
    "for i in weights:\n",
    "  if i>0:\n",
    "    pos_feature.append(i)\n",
    "    pos_index.append(weights.index(i))\n",
    "  \n",
    "  elif i<0:\n",
    "    neg_feature.append(i)\n",
    "    neg_index.append(weights.index(i))\n",
    "    \n",
    "pos_feature_names = []\n",
    "for i in pos_index:\n",
    "  pos_feature_names.append(count_vect.get_feature_names()[i])\n",
    "  \n",
    "neg_feature_names = []\n",
    "for i in neg_index:\n",
    "  neg_feature_names.append(count_vect.get_feature_names()[i])"
   ]
  },
  {
   "cell_type": "code",
   "execution_count": 97,
   "metadata": {
    "colab": {
     "base_uri": "https://localhost:8080/",
     "height": 212
    },
    "colab_type": "code",
    "id": "wYejTJ0sIKVU",
    "outputId": "696b2108-8a3c-42b0-b089-90d646d3f20c"
   },
   "outputs": [
    {
     "name": "stdout",
     "output_type": "stream",
     "text": [
      "Top 10 positive features are: \n"
     ]
    },
    {
     "data": {
      "text/plain": [
       "[(6.613178930983765, 'great'),\n",
       " (5.933756957379564, 'delicious'),\n",
       " (5.543498959742314, 'best'),\n",
       " (5.065000626843489, 'perfect'),\n",
       " (5.057980144210894, 'wonderful'),\n",
       " (5.054931884891947, 'excellent'),\n",
       " (4.901574538661903, 'loves'),\n",
       " (4.679040891033247, 'good'),\n",
       " (4.264264903908218, 'amazing'),\n",
       " (3.700734897965724, 'love')]"
      ]
     },
     "execution_count": 97,
     "metadata": {
      "tags": []
     },
     "output_type": "execute_result"
    }
   ],
   "source": [
    "# Please write all the code with proper documentation\n",
    "features = list(zip(tuple(pos_feature), tuple(pos_feature_names)))\n",
    "\n",
    "def getKey(item):\n",
    "    return item[0]\n",
    "  \n",
    "feature = features.sort(key =getKey, reverse = True)\n",
    "\n",
    "print(\"Top 10 positive features are: \")\n",
    "features[0:10]"
   ]
  },
  {
   "cell_type": "markdown",
   "metadata": {
    "colab_type": "text",
    "id": "PowEfns4LPpg"
   },
   "source": [
    "#### [5.2.3.2] Top 10 important features of negative class from<font color='red'> SET 2</font>"
   ]
  },
  {
   "cell_type": "code",
   "execution_count": 98,
   "metadata": {
    "colab": {
     "base_uri": "https://localhost:8080/",
     "height": 212
    },
    "colab_type": "code",
    "id": "G7jrma95LPpg",
    "outputId": "c48d2fc1-c344-4056-987b-ac59eee8ac86"
   },
   "outputs": [
    {
     "name": "stdout",
     "output_type": "stream",
     "text": [
      "Top 10 negative features are: \n"
     ]
    },
    {
     "data": {
      "text/plain": [
       "[(-8.070732424382552, 'worst'),\n",
       " (-6.812062867253148, 'awful'),\n",
       " (-6.260843150779823, 'terrible'),\n",
       " (-6.038902742289164, 'not recommend'),\n",
       " (-5.487280811565868, 'horrible'),\n",
       " (-5.271578053560366, 'disappointed'),\n",
       " (-4.902467513861499, 'return'),\n",
       " (-4.6846342206505085, 'not good'),\n",
       " (-4.625296699734897, 'not'),\n",
       " (-4.487460688091693, 'unfortunately')]"
      ]
     },
     "execution_count": 98,
     "metadata": {
      "tags": []
     },
     "output_type": "execute_result"
    }
   ],
   "source": [
    "# Please write all the code with proper documentation\n",
    "features = list(zip(tuple(neg_feature), tuple(neg_feature_names)))\n",
    "\n",
    "def getKey(item):\n",
    "    return item[0]\n",
    "  \n",
    "feature = features.sort(key =getKey)\n",
    "\n",
    "print(\"Top 10 negative features are: \")\n",
    "features[0:10]"
   ]
  },
  {
   "cell_type": "markdown",
   "metadata": {
    "colab_type": "text",
    "id": "sqYadGOgLPpi"
   },
   "source": [
    "## [5.3] Logistic Regression on AVG W2V,<font color='red'> SET 3</font>"
   ]
  },
  {
   "cell_type": "code",
   "execution_count": 99,
   "metadata": {
    "colab": {
     "base_uri": "https://localhost:8080/",
     "height": 314
    },
    "colab_type": "code",
    "id": "J1oSWdnqJXAl",
    "outputId": "592aee14-ec22-47c3-f227-9c3632a6c71e"
   },
   "outputs": [
    {
     "name": "stdout",
     "output_type": "stream",
     "text": [
      "{'alpha': 0.001, 'penalty': 'l2'}\n"
     ]
    },
    {
     "data": {
      "image/png": "[encoded data removed]",
      "text/plain": [
       "<Figure size 432x288 with 1 Axes>"
      ]
     },
     "metadata": {
      "tags": []
     },
     "output_type": "display_data"
    }
   ],
   "source": [
    "# Please write all the code with proper documentation\n",
    "\n",
    "\n",
    "\n",
    "from sklearn.model_selection import GridSearchCV\n",
    "from sklearn.linear_model import SGDClassifier\n",
    "\n",
    "#Parameters\n",
    "\n",
    "params = {\"alpha\":[0.00001,0.0001,0.001,0.01,0.1,1,10],\n",
    "          \"penalty\": [\"l1\", \"l2\"]\n",
    "         }\n",
    "\n",
    "log_reg_bow = SGDClassifier(loss = \"log\")\n",
    "\n",
    "gridcv = GridSearchCV(log_reg_bow, params, scoring = 'roc_auc')\n",
    "gridcv.fit(X_tr_w2v, y_train)\n",
    "print(gridcv.best_params_)\n",
    "\n",
    "bst_paramtr = gridcv.best_params_[\"alpha\"]\n",
    "\n",
    "#Plots the graph for all  parameters to find best hyperparameter.\n",
    "plot_best_hyperparameter(gridcv)"
   ]
  },
  {
   "cell_type": "markdown",
   "metadata": {
    "colab_type": "text",
    "id": "kByBCEA1LPpj"
   },
   "source": [
    "### [5.3.1] Applying Logistic Regression with L1 regularization on AVG W2V<font color='red'> SET 3</font>"
   ]
  },
  {
   "cell_type": "code",
   "execution_count": 100,
   "metadata": {
    "colab": {
     "base_uri": "https://localhost:8080/",
     "height": 521
    },
    "colab_type": "code",
    "id": "yCQ_4iJkLPpj",
    "outputId": "af127c27-fd6e-4bbc-e893-63089a67ee8e"
   },
   "outputs": [
    {
     "name": "stdout",
     "output_type": "stream",
     "text": [
      "AUC for Logistic Regression with AVG W2V:  0.9155333088888888\n"
     ]
    },
    {
     "data": {
      "image/png": "[encoded data removed]",
      "text/plain": [
       "<Figure size 432x288 with 1 Axes>"
      ]
     },
     "metadata": {
      "tags": []
     },
     "output_type": "display_data"
    },
    {
     "data": {
      "image/png": "[encoded data removed]",
      "text/plain": [
       "<Figure size 360x216 with 2 Axes>"
      ]
     },
     "metadata": {
      "tags": []
     },
     "output_type": "display_data"
    }
   ],
   "source": [
    "# Please write all the code with proper documentation\n",
    "\n",
    "from sklearn.metrics import roc_auc_score\n",
    "#final_counts_test = final_counts_test.toarray()\n",
    "\n",
    "log_reg_bow_1 = SGDClassifier(loss = \"log\", penalty = \"l1\", alpha = bst_paramtr)\n",
    "log_reg_bow_1.fit(X_tr_w2v, y_train)\n",
    "\n",
    "y_predict_proba_bow_kd = log_reg_bow_1.predict_proba(X_ts_w2v)[:,1]\n",
    "y_predict_bow_kd = log_reg_bow_1.predict(X_ts_w2v)\n",
    "\n",
    "roc_auc = roc_auc_score(y_test, y_predict_proba_bow_kd)\n",
    "\n",
    "print(\"AUC for Logistic Regression with AVG W2V: \", roc_auc)\n",
    "\n",
    "#Plots ROC curve\n",
    "plot_roc_curve(y_test, y_predict_proba_bow_kd)\n",
    "\n",
    "#Plots Confusion matrix\n",
    "plot_confusion_mat(y_test, y_predict_bow_kd)"
   ]
  },
  {
   "cell_type": "markdown",
   "metadata": {
    "colab_type": "text",
    "id": "O_8Gu2SfLPpn"
   },
   "source": [
    "### [5.3.2] Applying Logistic Regression with L2 regularization on AVG W2V,<font color='red'> SET 3</font>"
   ]
  },
  {
   "cell_type": "code",
   "execution_count": 101,
   "metadata": {
    "colab": {
     "base_uri": "https://localhost:8080/",
     "height": 521
    },
    "colab_type": "code",
    "id": "Zy3s4jk1LPpn",
    "outputId": "b7f0eeab-5a3e-4b1a-b312-3259f1c76d8a"
   },
   "outputs": [
    {
     "name": "stdout",
     "output_type": "stream",
     "text": [
      "AUC for Logistic Regression with AVG W2V:  0.9163800644444444\n"
     ]
    },
    {
     "data": {
      "image/png": "[encoded data removed]",
      "text/plain": [
       "<Figure size 432x288 with 1 Axes>"
      ]
     },
     "metadata": {
      "tags": []
     },
     "output_type": "display_data"
    },
    {
     "data": {
      "image/png": "[encoded data removed]",
      "text/plain": [
       "<Figure size 360x216 with 2 Axes>"
      ]
     },
     "metadata": {
      "tags": []
     },
     "output_type": "display_data"
    }
   ],
   "source": [
    "# Please write all the code with proper documentation\n",
    "\n",
    "from sklearn.metrics import roc_auc_score\n",
    "#final_counts_test = final_counts_test.toarray()\n",
    "\n",
    "log_reg_bow_1 = SGDClassifier(loss = \"log\", penalty = \"l2\", alpha = bst_paramtr)\n",
    "log_reg_bow_1.fit(X_tr_w2v, y_train)\n",
    "\n",
    "y_predict_proba_bow_kd = log_reg_bow_1.predict_proba(X_ts_w2v)[:,1]\n",
    "y_predict_bow_kd = log_reg_bow_1.predict(X_ts_w2v)\n",
    "\n",
    "roc_auc = roc_auc_score(y_test, y_predict_proba_bow_kd)\n",
    "\n",
    "print(\"AUC for Logistic Regression with AVG W2V: \", roc_auc)\n",
    "\n",
    "#Plots ROC curve\n",
    "plot_roc_curve(y_test, y_predict_proba_bow_kd)\n",
    "\n",
    "#Plots Confusion matrix\n",
    "plot_confusion_mat(y_test, y_predict_bow_kd)"
   ]
  },
  {
   "cell_type": "markdown",
   "metadata": {
    "colab_type": "text",
    "id": "pdXTwVIPLPpp"
   },
   "source": [
    "## [5.4] Logistic Regression on TFIDF W2V,<font color='red'> SET 4</font>"
   ]
  },
  {
   "cell_type": "code",
   "execution_count": 102,
   "metadata": {
    "colab": {
     "base_uri": "https://localhost:8080/",
     "height": 314
    },
    "colab_type": "code",
    "id": "AYckklHGLVDF",
    "outputId": "66ef10e7-7885-4157-8497-36f02ef68f72"
   },
   "outputs": [
    {
     "name": "stdout",
     "output_type": "stream",
     "text": [
      "{'alpha': 0.001, 'penalty': 'l2'}\n"
     ]
    },
    {
     "data": {
      "image/png": "[encoded data removed]",
      "text/plain": [
       "<Figure size 432x288 with 1 Axes>"
      ]
     },
     "metadata": {
      "tags": []
     },
     "output_type": "display_data"
    }
   ],
   "source": [
    "# Please write all the code with proper documentation\n",
    "\n",
    "\n",
    "\n",
    "from sklearn.model_selection import GridSearchCV\n",
    "from sklearn.linear_model import SGDClassifier\n",
    "\n",
    "#Parameters\n",
    "\n",
    "params = {\"alpha\":[0.00001,0.0001,0.001,0.01,0.1,1,10],\n",
    "          \"penalty\": [\"l1\", \"l2\"]\n",
    "         }\n",
    "\n",
    "log_reg_bow = SGDClassifier(loss = \"log\")\n",
    "\n",
    "gridcv = GridSearchCV(log_reg_bow, params, scoring = 'roc_auc')\n",
    "gridcv.fit(X_tr_tf, y_train)\n",
    "print(gridcv.best_params_)\n",
    "\n",
    "bst_paramtr = gridcv.best_params_[\"alpha\"]\n",
    "\n",
    "#Plots the graph for all  parameters to find best hyperparameter.\n",
    "plot_best_hyperparameter(gridcv)"
   ]
  },
  {
   "cell_type": "markdown",
   "metadata": {
    "colab_type": "text",
    "id": "WP9NjwNSLPpp"
   },
   "source": [
    "### [5.4.1] Applying Logistic Regression with L1 regularization on TFIDF W2V,<font color='red'> SET 4</font>"
   ]
  },
  {
   "cell_type": "code",
   "execution_count": 103,
   "metadata": {
    "colab": {
     "base_uri": "https://localhost:8080/",
     "height": 521
    },
    "colab_type": "code",
    "id": "207gYymwLPpq",
    "outputId": "818a89c4-5b21-4df7-f8c4-85828f8a517c"
   },
   "outputs": [
    {
     "name": "stdout",
     "output_type": "stream",
     "text": [
      "AUC for Logistic Regression with TFIDF W2V:  0.8928205977777779\n"
     ]
    },
    {
     "data": {
      "image/png": "[encoded data removed]",
      "text/plain": [
       "<Figure size 432x288 with 1 Axes>"
      ]
     },
     "metadata": {
      "tags": []
     },
     "output_type": "display_data"
    },
    {
     "data": {
      "image/png": "[encoded data removed]",
      "text/plain": [
       "<Figure size 360x216 with 2 Axes>"
      ]
     },
     "metadata": {
      "tags": []
     },
     "output_type": "display_data"
    }
   ],
   "source": [
    "# Please write all the code with proper documentation\n",
    "\n",
    "from sklearn.metrics import roc_auc_score\n",
    "#final_counts_test = final_counts_test.toarray()\n",
    "\n",
    "log_reg_bow_1 = SGDClassifier(loss = \"log\", penalty = \"l1\", alpha = bst_paramtr)\n",
    "log_reg_bow_1.fit(X_tr_tf, y_train)\n",
    "\n",
    "y_predict_proba_bow_kd = log_reg_bow_1.predict_proba(X_ts_tf)[:,1]\n",
    "y_predict_bow_kd = log_reg_bow_1.predict(X_ts_tf)\n",
    "\n",
    "roc_auc = roc_auc_score(y_test, y_predict_proba_bow_kd)\n",
    "\n",
    "print(\"AUC for Logistic Regression with TFIDF W2V: \", roc_auc)\n",
    "\n",
    "#Plots ROC curve\n",
    "plot_roc_curve(y_test, y_predict_proba_bow_kd)\n",
    "\n",
    "#Plots Confusion matrix\n",
    "plot_confusion_mat(y_test, y_predict_bow_kd)"
   ]
  },
  {
   "cell_type": "markdown",
   "metadata": {
    "colab_type": "text",
    "id": "ynUK2tYDLPps"
   },
   "source": [
    "### [5.4.2] Applying Logistic Regression with L2 regularization on TFIDF W2V,<font color='red'> SET 4</font>"
   ]
  },
  {
   "cell_type": "code",
   "execution_count": 104,
   "metadata": {
    "colab": {
     "base_uri": "https://localhost:8080/",
     "height": 521
    },
    "colab_type": "code",
    "id": "hVYuiXl2LPpt",
    "outputId": "e6296c7a-db01-4b3d-c8f6-7d7ff90b3406"
   },
   "outputs": [
    {
     "name": "stdout",
     "output_type": "stream",
     "text": [
      "AUC for Logistic Regression with TFIDF W2V:  0.8934687666666666\n"
     ]
    },
    {
     "data": {
      "image/png": "[encoded data removed]",
      "text/plain": [
       "<Figure size 432x288 with 1 Axes>"
      ]
     },
     "metadata": {
      "tags": []
     },
     "output_type": "display_data"
    },
    {
     "data": {
      "image/png": "[encoded data removed]",
      "text/plain": [
       "<Figure size 360x216 with 2 Axes>"
      ]
     },
     "metadata": {
      "tags": []
     },
     "output_type": "display_data"
    }
   ],
   "source": [
    "# Please write all the code with proper documentation\n",
    "\n",
    "from sklearn.metrics import roc_auc_score\n",
    "#final_counts_test = final_counts_test.toarray()\n",
    "\n",
    "log_reg_bow_1 = SGDClassifier(loss = \"log\", penalty = \"l2\", alpha = bst_paramtr)\n",
    "log_reg_bow_1.fit(X_tr_tf, y_train)\n",
    "\n",
    "y_predict_proba_bow_kd = log_reg_bow_1.predict_proba(X_ts_tf)[:,1]\n",
    "y_predict_bow_kd = log_reg_bow_1.predict(X_ts_tf)\n",
    "\n",
    "roc_auc = roc_auc_score(y_test, y_predict_proba_bow_kd)\n",
    "\n",
    "print(\"AUC for Logistic Regression with TFIDF W2V: \", roc_auc)\n",
    "\n",
    "#Plots ROC curve\n",
    "plot_roc_curve(y_test, y_predict_proba_bow_kd)\n",
    "\n",
    "#Plots Confusion matrix\n",
    "plot_confusion_mat(y_test, y_predict_bow_kd)"
   ]
  },
  {
   "cell_type": "code",
   "execution_count": 0,
   "metadata": {
    "colab": {},
    "colab_type": "code",
    "id": "u6CS70rwCiqj"
   },
   "outputs": [],
   "source": []
  },
  {
   "cell_type": "code",
   "execution_count": 0,
   "metadata": {
    "colab": {},
    "colab_type": "code",
    "id": "AqAibgObClua"
   },
   "outputs": [],
   "source": []
  },
  {
   "cell_type": "code",
   "execution_count": 0,
   "metadata": {
    "colab": {},
    "colab_type": "code",
    "id": "U58AvRtrCl0A"
   },
   "outputs": [],
   "source": []
  },
  {
   "cell_type": "code",
   "execution_count": 0,
   "metadata": {
    "colab": {},
    "colab_type": "code",
    "id": "_jTRyx1gClrU"
   },
   "outputs": [],
   "source": []
  },
  {
   "cell_type": "markdown",
   "metadata": {
    "colab_type": "text",
    "id": "cZrgymUA6Y6_"
   },
   "source": [
    "# [6] Conclusions"
   ]
  },
  {
   "cell_type": "code",
   "execution_count": 107,
   "metadata": {
    "colab": {
     "base_uri": "https://localhost:8080/",
     "height": 375
    },
    "colab_type": "code",
    "id": "wgy44fk96Y7A",
    "outputId": "e57efc32-24d2-4a5b-dd5a-aa20834b5290"
   },
   "outputs": [
    {
     "name": "stdout",
     "output_type": "stream",
     "text": [
      "\n",
      "Note: For this assignment I have used 100K datapoints.\n",
      "\n",
      "\n",
      "Table: Summary of all the Vectorization techniques and Algorithms used.\n",
      "+---------------------+-------------------------+--------------------------+----------------+\n",
      "| Regularization Type | Vectorization Technique | Best Test hyperparameter | AUC Test Score |\n",
      "+---------------------+-------------------------+--------------------------+----------------+\n",
      "|  L1 Regularization  |           BOW           |          0.001           |     0.8967     |\n",
      "|  L1 Regularization  |          TFIDF          |          0.0001          |    0.913065    |\n",
      "|  L1 Regularization  |         AVG W2V         |          0.001           |     0.9155     |\n",
      "|  L1 Regularization  |        TFIDF W2V        |          0.001           |     0.8928     |\n",
      "|  L2 Regularization  |           BOW           |          0.001           |     0.906      |\n",
      "|  L2 Regularization  |          TFIDF          |          0.0001          |    0.913082    |\n",
      "|  L2 Regularization  |         AVG W2V         |          0.001           |     0.9163     |\n",
      "|  L2 Regularization  |        TFIDF W2V        |          0.001           |     0.8934     |\n",
      "+---------------------+-------------------------+--------------------------+----------------+\n",
      "\n",
      "Looking at the above table, we can conclude that for the given dataset, Logistic Regression model with AVG W2V vectorization and L2 Regularization method seems to give the better AUC Score of 0.9163\n"
     ]
    }
   ],
   "source": [
    "# Please compare all your models using Prettytable library\n",
    "\n",
    "print(\"\\nNote: For this assignment I have used 100K datapoints.\\n\")\n",
    "\n",
    "print(\"\\nTable: Summary of all the Vectorization techniques and Algorithms used.\")\n",
    "\n",
    "table = prettytable.PrettyTable()\n",
    "table.field_names=[\"Regularization Type\", \"Vectorization Technique\",\"Best Test hyperparameter\", \"AUC Test Score\"]\n",
    "\n",
    "table.add_row([\"L1 Regularization\",\"BOW\",0.001,0.8967])\n",
    "table.add_row([\"L1 Regularization\",\"TFIDF\",0.0001,0.913065])\n",
    "table.add_row([\"L1 Regularization\",\"AVG W2V\",0.001,0.9155])\n",
    "table.add_row([\"L1 Regularization\",\"TFIDF W2V\",0.001,0.8928])\n",
    "table.add_row([\"L2 Regularization\",\"BOW\",0.001,0.906])\n",
    "table.add_row([\"L2 Regularization\",\"TFIDF\",0.0001,0.913082])\n",
    "table.add_row([\"L2 Regularization\",\"AVG W2V\",0.001,0.9163])\n",
    "table.add_row([\"L2 Regularization\",\"TFIDF W2V\",0.001,0.8934])\n",
    "\n",
    "print(table)\n",
    "\n",
    "\n",
    "print(\"\\nLooking at the above table, we can conclude that for the given dataset, Logistic Regression model with AVG W2V vectorization and L2 Regularization method seems to give the better AUC Score of 0.9163\")"
   ]
  }
 ],
 "metadata": {
  "accelerator": "GPU",
  "colab": {
   "collapsed_sections": [],
   "name": "05_Amazon_knn_logistic_reg.ipynb",
   "provenance": [],
   "version": "0.3.2"
  },
  "kernelspec": {
   "display_name": "Python 3",
   "language": "python",
   "name": "python3"
  },
  "language_info": {
   "codemirror_mode": {
    "name": "ipython",
    "version": 3
   },
   "file_extension": ".py",
   "mimetype": "text/x-python",
   "name": "python",
   "nbconvert_exporter": "python",
   "pygments_lexer": "ipython3",
   "version": "3.7.0"
  }
 },
 "nbformat": 4,
 "nbformat_minor": 1
}
