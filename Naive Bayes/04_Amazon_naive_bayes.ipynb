{
 "cells": [
  {
   "cell_type": "markdown",
   "metadata": {
    "colab_type": "text",
    "id": "pqjdAX02bGn2"
   },
   "source": [
    "# Amazon Fine Food Reviews Analysis\n",
    "\n",
    "\n",
    "Data Source: https://www.kaggle.com/snap/amazon-fine-food-reviews <br>\n",
    "\n",
    "EDA: https://nycdatascience.com/blog/student-works/amazon-fine-foods-visualization/\n",
    "\n",
    "\n",
    "The Amazon Fine Food Reviews dataset consists of reviews of fine foods from Amazon.<br>\n",
    "\n",
    "Number of reviews: 568,454<br>\n",
    "Number of users: 256,059<br>\n",
    "Number of products: 74,258<br>\n",
    "Timespan: Oct 1999 - Oct 2012<br>\n",
    "Number of Attributes/Columns in data: 10 \n",
    "\n",
    "Attribute Information:\n",
    "\n",
    "1. Id\n",
    "2. ProductId - unique identifier for the product\n",
    "3. UserId - unqiue identifier for the user\n",
    "4. ProfileName\n",
    "5. HelpfulnessNumerator - number of users who found the review helpful\n",
    "6. HelpfulnessDenominator - number of users who indicated whether they found the review helpful or not\n",
    "7. Score - rating between 1 and 5\n",
    "8. Time - timestamp for the review\n",
    "9. Summary - brief summary of the review\n",
    "10. Text - text of the review\n",
    "\n",
    "\n",
    "#### Objective:\n",
    "Given a review, determine whether the review is positive (rating of 4 or 5) or negative (rating of 1 or 2).\n",
    "\n",
    "<br>\n",
    "[Q] How to determine if a review is positive or negative?<br>\n",
    "<br> \n",
    "[Ans] We could use Score/Rating. A rating of 4 or 5 can be cosnidered as a positive review. A rating of 1 or 2 can be considered as negative one. A review of rating 3 is considered nuetral and such reviews are ignored from our analysis. This is an approximate and proxy way of determining the polarity (positivity/negativity) of a review.\n",
    "\n",
    "\n"
   ]
  },
  {
   "cell_type": "markdown",
   "metadata": {
    "colab_type": "text",
    "id": "0eHkg2LobGn4"
   },
   "source": [
    "# [1]. Reading Data"
   ]
  },
  {
   "cell_type": "markdown",
   "metadata": {
    "colab_type": "text",
    "id": "yOra60YjbGn7"
   },
   "source": [
    "## [1.1] Loading the data\n",
    "\n",
    "The dataset is available in two forms\n",
    "1. .csv file\n",
    "2. SQLite Database\n",
    "\n",
    "In order to load the data, We have used the SQLITE dataset as it is easier to query the data and visualise the data efficiently.\n",
    "<br> \n",
    "\n",
    "Here as we only want to get the global sentiment of the recommendations (positive or negative), we will purposefully ignore all Scores equal to 3. If the score is above 3, then the recommendation wil be set to \"positive\". Otherwise, it will be set to \"negative\"."
   ]
  },
  {
   "cell_type": "code",
   "execution_count": 0,
   "metadata": {
    "colab": {},
    "colab_type": "code",
    "id": "SZzGMYAybGn7"
   },
   "outputs": [],
   "source": [
    "%matplotlib inline\n",
    "import warnings\n",
    "warnings.filterwarnings(\"ignore\")\n",
    "\n",
    "\n",
    "import sqlite3\n",
    "import pandas as pd\n",
    "import numpy as np\n",
    "import nltk\n",
    "import string\n",
    "import matplotlib.pyplot as plt\n",
    "import seaborn as sns\n",
    "from sklearn.model_selection import train_test_split\n",
    "from sklearn.feature_extraction.text import TfidfTransformer\n",
    "from sklearn.feature_extraction.text import TfidfVectorizer\n",
    "from scipy.sparse import hstack\n",
    "\n",
    "from sklearn.feature_extraction.text import CountVectorizer\n",
    "from sklearn.metrics import confusion_matrix\n",
    "from sklearn import metrics\n",
    "from sklearn.metrics import roc_curve, auc\n",
    "from nltk.stem.porter import PorterStemmer\n",
    "\n",
    "import re\n",
    "# Tutorial about Python regular expressions: https://pymotw.com/2/re/\n",
    "import string\n",
    "from nltk.corpus import stopwords\n",
    "from nltk.stem import PorterStemmer\n",
    "from nltk.stem.wordnet import WordNetLemmatizer\n",
    "\n",
    "from gensim.models import Word2Vec\n",
    "from gensim.models import KeyedVectors\n",
    "import pickle\n",
    "\n",
    "from tqdm import tqdm\n",
    "import os\n",
    "import prettytable"
   ]
  },
  {
   "cell_type": "code",
   "execution_count": 99,
   "metadata": {
    "colab": {
     "base_uri": "https://localhost:8080/",
     "height": 503
    },
    "colab_type": "code",
    "id": "4s3H5OO8bt1b",
    "outputId": "d9e56770-4971-4d2a-8d53-a2dffcd62c5c"
   },
   "outputs": [
    {
     "name": "stderr",
     "output_type": "stream",
     "text": [
      "WARNING:googleapiclient.discovery_cache:file_cache is unavailable when using oauth2client >= 4.0.0\n",
      "Traceback (most recent call last):\n",
      "  File \"/usr/local/lib/python3.6/dist-packages/googleapiclient/discovery_cache/__init__.py\", line 36, in autodetect\n",
      "    from google.appengine.api import memcache\n",
      "ModuleNotFoundError: No module named 'google.appengine'\n",
      "\n",
      "During handling of the above exception, another exception occurred:\n",
      "\n",
      "Traceback (most recent call last):\n",
      "  File \"/usr/local/lib/python3.6/dist-packages/googleapiclient/discovery_cache/file_cache.py\", line 33, in <module>\n",
      "    from oauth2client.contrib.locked_file import LockedFile\n",
      "ModuleNotFoundError: No module named 'oauth2client.contrib.locked_file'\n",
      "\n",
      "During handling of the above exception, another exception occurred:\n",
      "\n",
      "Traceback (most recent call last):\n",
      "  File \"/usr/local/lib/python3.6/dist-packages/googleapiclient/discovery_cache/file_cache.py\", line 37, in <module>\n",
      "    from oauth2client.locked_file import LockedFile\n",
      "ModuleNotFoundError: No module named 'oauth2client.locked_file'\n",
      "\n",
      "During handling of the above exception, another exception occurred:\n",
      "\n",
      "Traceback (most recent call last):\n",
      "  File \"/usr/local/lib/python3.6/dist-packages/googleapiclient/discovery_cache/__init__.py\", line 41, in autodetect\n",
      "    from . import file_cache\n",
      "  File \"/usr/local/lib/python3.6/dist-packages/googleapiclient/discovery_cache/file_cache.py\", line 41, in <module>\n",
      "    'file_cache is unavailable when using oauth2client >= 4.0.0')\n",
      "ImportError: file_cache is unavailable when using oauth2client >= 4.0.0\n"
     ]
    }
   ],
   "source": [
    "# Code to read csv file into colaboratory:\n",
    "!pip install -U -q PyDrive\n",
    "from pydrive.auth import GoogleAuth\n",
    "from pydrive.drive import GoogleDrive\n",
    "from google.colab import auth\n",
    "from oauth2client.client import GoogleCredentials\n",
    "\n",
    "# 1. Authenticate and create the PyDrive client.\n",
    "auth.authenticate_user()\n",
    "gauth = GoogleAuth()\n",
    "gauth.credentials = GoogleCredentials.get_application_default()\n",
    "drive = GoogleDrive(gauth)\n",
    "\n",
    "#2. Get the file #Training Variants\n",
    "downloaded = drive.CreateFile({'id':'1PPCURbwWREuTo7ZgIt9MZv26tpsAp9Bs'}) # replace the id with id of file you want to access\n",
    "downloaded.GetContentFile('Reviews.csv')\n",
    "\n",
    "downloaded1 = drive.CreateFile({'id':'1PPC'}) # replace the id with id of file you want to access\n",
    "downloaded.GetContentFile('Reviews.csv')\n",
    "\n",
    "downloaded = drive.CreateFile({'id':'1PPCURbwWREuTo7ZgIt9MZv26tpsAp9Bs'}) # replace the id with id of file you want to access\n",
    "downloaded.GetContentFile('Reviews.csv')\n",
    "\n",
    "downloaded = drive.CreateFile({'id':'1PPCURbwWREuTo7ZgIt9MZv26tpsAp9Bs'}) # replace the id with id of file you want to access\n",
    "downloaded.GetContentFile('Reviews.csv')\n",
    "\n",
    "#3. Read file as panda dataframe\n",
    "import pandas as pd\n",
    "data = pd.read_csv('Reviews.csv')"
   ]
  },
  {
   "cell_type": "code",
   "execution_count": 0,
   "metadata": {
    "colab": {},
    "colab_type": "code",
    "id": "ZM6HQ--qbGoA"
   },
   "outputs": [],
   "source": [
    "#USER DEFINED FUNCTIONS\n",
    "\n",
    "#changing reviews with score less than 3 to be positive and vice-versa\n",
    "def data_filter(filtered_data):\n",
    "    actualScore = filtered_data['Score']\n",
    "    positiveNegative = actualScore.map(partition) \n",
    "    filtered_data['Score'] = positiveNegative\n",
    "    return filtered_data[\"Score\"]\n",
    "\n",
    "\n",
    "# Give reviews with Score>3 a positive rating(1), and reviews with a score<3 a negative rating(0).\n",
    "def partition(x):\n",
    "    if x < 3:\n",
    "        return 0\n",
    "    return 1"
   ]
  },
  {
   "cell_type": "code",
   "execution_count": 101,
   "metadata": {
    "colab": {
     "base_uri": "https://localhost:8080/",
     "height": 55
    },
    "colab_type": "code",
    "id": "JXDmmmshbGoC",
    "outputId": "5d2c80fa-f59f-40c9-f742-5c5fc3231c5d"
   },
   "outputs": [
    {
     "data": {
      "text/plain": [
       "'\\n# Give reviews with Score>3 a positive rating(1), and reviews with a score<3 a negative rating(0).\\ndef partition(x):\\n    if x < 3:\\n        return 0\\n    return 1\\n\\n#changing reviews with score less than 3 to be positive and vice-versa\\n\\ndef data_filter(filtered_data):\\n    actualScore = filtered_data[\\'Score\\']\\n    positiveNegative = actualScore.map(partition) \\n    filtered_data[\\'Score\\'] = positiveNegative\\n    return filtered_data[\"Score\"]\\n\\n\\n#print(\"Number of data points in our data\", filtered_data.shape)\\n#filtered_data.head(3)\\n'"
      ]
     },
     "execution_count": 101,
     "metadata": {
      "tags": []
     },
     "output_type": "execute_result"
    }
   ],
   "source": [
    "# using SQLite Table to read data.\n",
    "con = sqlite3.connect('database.sqlite') \n",
    "\n",
    "# filtering only positive and negative reviews i.e. \n",
    "# not taking into consideration those reviews with Score=3\n",
    "# SELECT * FROM Reviews WHERE Score != 3 LIMIT 500000, will give top 500000 data points\n",
    "# you can change the number to any other number based on your computing power\n",
    "\n",
    "# filtered_data = pd.read_sql_query(\"\"\" SELECT * FROM Reviews WHERE Score != 3 LIMIT 500000\"\"\", con) \n",
    "# for tsne assignment you can take 5k data points\n",
    "\n",
    "#Reading equal amount of positive and negative data.\n",
    "filtered_data_1 = data[data[\"Score\"]>3][0:50000]\n",
    "filtered_data_2 = data[data[\"Score\"]<=2][0:50000]\n",
    "\n",
    "filtered_data_1[\"Score\"] = data_filter(filtered_data_1)\n",
    "filtered_data_2[\"Score\"] = data_filter(filtered_data_2)\n",
    "\n",
    "'''\n",
    "# Give reviews with Score>3 a positive rating(1), and reviews with a score<3 a negative rating(0).\n",
    "def partition(x):\n",
    "    if x < 3:\n",
    "        return 0\n",
    "    return 1\n",
    "\n",
    "#changing reviews with score less than 3 to be positive and vice-versa\n",
    "\n",
    "def data_filter(filtered_data):\n",
    "    actualScore = filtered_data['Score']\n",
    "    positiveNegative = actualScore.map(partition) \n",
    "    filtered_data['Score'] = positiveNegative\n",
    "    return filtered_data[\"Score\"]\n",
    "\n",
    "\n",
    "#print(\"Number of data points in our data\", filtered_data.shape)\n",
    "#filtered_data.head(3)\n",
    "'''"
   ]
  },
  {
   "cell_type": "code",
   "execution_count": 0,
   "metadata": {
    "colab": {},
    "colab_type": "code",
    "id": "s333xdA-bGoJ"
   },
   "outputs": [],
   "source": []
  },
  {
   "cell_type": "code",
   "execution_count": 0,
   "metadata": {
    "colab": {},
    "colab_type": "code",
    "id": "KZa5kPerbGoM"
   },
   "outputs": [],
   "source": [
    "#Stacking both positive and negative data\n",
    "filtered_data = filtered_data_1.append(filtered_data_2, ignore_index = True)"
   ]
  },
  {
   "cell_type": "code",
   "execution_count": 103,
   "metadata": {
    "colab": {
     "base_uri": "https://localhost:8080/",
     "height": 314
    },
    "colab_type": "code",
    "id": "XIk0xyQLbGoP",
    "outputId": "11f91fe6-ddd5-4e41-95e3-02d1a1b536e3"
   },
   "outputs": [
    {
     "name": "stdout",
     "output_type": "stream",
     "text": [
      "Number of data points in our data (100000, 10)\n"
     ]
    },
    {
     "data": {
      "text/html": [
       "<div>\n",
       "<style scoped>\n",
       "    .dataframe tbody tr th:only-of-type {\n",
       "        vertical-align: middle;\n",
       "    }\n",
       "\n",
       "    .dataframe tbody tr th {\n",
       "        vertical-align: top;\n",
       "    }\n",
       "\n",
       "    .dataframe thead th {\n",
       "        text-align: right;\n",
       "    }\n",
       "</style>\n",
       "<table border=\"1\" class=\"dataframe\">\n",
       "  <thead>\n",
       "    <tr style=\"text-align: right;\">\n",
       "      <th></th>\n",
       "      <th>Id</th>\n",
       "      <th>ProductId</th>\n",
       "      <th>UserId</th>\n",
       "      <th>ProfileName</th>\n",
       "      <th>HelpfulnessNumerator</th>\n",
       "      <th>HelpfulnessDenominator</th>\n",
       "      <th>Score</th>\n",
       "      <th>Time</th>\n",
       "      <th>Summary</th>\n",
       "      <th>Text</th>\n",
       "    </tr>\n",
       "  </thead>\n",
       "  <tbody>\n",
       "    <tr>\n",
       "      <th>0</th>\n",
       "      <td>1</td>\n",
       "      <td>B001E4KFG0</td>\n",
       "      <td>A3SGXH7AUHU8GW</td>\n",
       "      <td>delmartian</td>\n",
       "      <td>1</td>\n",
       "      <td>1</td>\n",
       "      <td>1</td>\n",
       "      <td>1303862400</td>\n",
       "      <td>Good Quality Dog Food</td>\n",
       "      <td>I have bought several of the Vitality canned d...</td>\n",
       "    </tr>\n",
       "    <tr>\n",
       "      <th>1</th>\n",
       "      <td>3</td>\n",
       "      <td>B000LQOCH0</td>\n",
       "      <td>ABXLMWJIXXAIN</td>\n",
       "      <td>Natalia Corres \"Natalia Corres\"</td>\n",
       "      <td>1</td>\n",
       "      <td>1</td>\n",
       "      <td>1</td>\n",
       "      <td>1219017600</td>\n",
       "      <td>\"Delight\" says it all</td>\n",
       "      <td>This is a confection that has been around a fe...</td>\n",
       "    </tr>\n",
       "    <tr>\n",
       "      <th>2</th>\n",
       "      <td>5</td>\n",
       "      <td>B006K2ZZ7K</td>\n",
       "      <td>A1UQRSCLF8GW1T</td>\n",
       "      <td>Michael D. Bigham \"M. Wassir\"</td>\n",
       "      <td>0</td>\n",
       "      <td>0</td>\n",
       "      <td>1</td>\n",
       "      <td>1350777600</td>\n",
       "      <td>Great taffy</td>\n",
       "      <td>Great taffy at a great price.  There was a wid...</td>\n",
       "    </tr>\n",
       "  </tbody>\n",
       "</table>\n",
       "</div>"
      ],
      "text/plain": [
       "   Id   ProductId          UserId                      ProfileName  \\\n",
       "0   1  B001E4KFG0  A3SGXH7AUHU8GW                       delmartian   \n",
       "1   3  B000LQOCH0   ABXLMWJIXXAIN  Natalia Corres \"Natalia Corres\"   \n",
       "2   5  B006K2ZZ7K  A1UQRSCLF8GW1T    Michael D. Bigham \"M. Wassir\"   \n",
       "\n",
       "   HelpfulnessNumerator  HelpfulnessDenominator  Score        Time  \\\n",
       "0                     1                       1      1  1303862400   \n",
       "1                     1                       1      1  1219017600   \n",
       "2                     0                       0      1  1350777600   \n",
       "\n",
       "                 Summary                                               Text  \n",
       "0  Good Quality Dog Food  I have bought several of the Vitality canned d...  \n",
       "1  \"Delight\" says it all  This is a confection that has been around a fe...  \n",
       "2            Great taffy  Great taffy at a great price.  There was a wid...  "
      ]
     },
     "execution_count": 103,
     "metadata": {
      "tags": []
     },
     "output_type": "execute_result"
    }
   ],
   "source": [
    "print(\"Number of data points in our data\", filtered_data.shape)\n",
    "filtered_data.head(3)"
   ]
  },
  {
   "cell_type": "code",
   "execution_count": 0,
   "metadata": {
    "colab": {},
    "colab_type": "code",
    "id": "6FIKZX6ubGoT"
   },
   "outputs": [],
   "source": [
    "#Shuffling the data points to mix the data\n",
    "from sklearn.utils import shuffle\n",
    "filtered_data = shuffle(filtered_data)"
   ]
  },
  {
   "cell_type": "code",
   "execution_count": 105,
   "metadata": {
    "colab": {
     "base_uri": "https://localhost:8080/",
     "height": 5383
    },
    "colab_type": "code",
    "id": "mqLjcxh-bGoY",
    "outputId": "1492b73e-ef16-44ce-b31d-2242bc8bb6b5"
   },
   "outputs": [
    {
     "data": {
      "text/html": [
       "<div>\n",
       "<style scoped>\n",
       "    .dataframe tbody tr th:only-of-type {\n",
       "        vertical-align: middle;\n",
       "    }\n",
       "\n",
       "    .dataframe tbody tr th {\n",
       "        vertical-align: top;\n",
       "    }\n",
       "\n",
       "    .dataframe thead th {\n",
       "        text-align: right;\n",
       "    }\n",
       "</style>\n",
       "<table border=\"1\" class=\"dataframe\">\n",
       "  <thead>\n",
       "    <tr style=\"text-align: right;\">\n",
       "      <th></th>\n",
       "      <th>Id</th>\n",
       "      <th>ProductId</th>\n",
       "      <th>UserId</th>\n",
       "      <th>ProfileName</th>\n",
       "      <th>HelpfulnessNumerator</th>\n",
       "      <th>HelpfulnessDenominator</th>\n",
       "      <th>Score</th>\n",
       "      <th>Time</th>\n",
       "      <th>Summary</th>\n",
       "      <th>Text</th>\n",
       "    </tr>\n",
       "  </thead>\n",
       "  <tbody>\n",
       "    <tr>\n",
       "      <th>0</th>\n",
       "      <td>285118</td>\n",
       "      <td>B001E5E3JY</td>\n",
       "      <td>A20G1010XJ8XTM</td>\n",
       "      <td>Sarah</td>\n",
       "      <td>5</td>\n",
       "      <td>6</td>\n",
       "      <td>0</td>\n",
       "      <td>1290643200</td>\n",
       "      <td>It doesn't taste very good.</td>\n",
       "      <td>SweetLeaf SteviaClear liquid does not taste go...</td>\n",
       "    </tr>\n",
       "    <tr>\n",
       "      <th>1</th>\n",
       "      <td>99895</td>\n",
       "      <td>B000LKYYMO</td>\n",
       "      <td>A1H7PDEBFZ0WWI</td>\n",
       "      <td>Melissa Engel</td>\n",
       "      <td>1</td>\n",
       "      <td>2</td>\n",
       "      <td>0</td>\n",
       "      <td>1226275200</td>\n",
       "      <td>Soy Chips...expired!</td>\n",
       "      <td>I ordered a box of 24 bags of soy chips. I rec...</td>\n",
       "    </tr>\n",
       "    <tr>\n",
       "      <th>2</th>\n",
       "      <td>32048</td>\n",
       "      <td>B0062A87HA</td>\n",
       "      <td>A281G4F0B1PZJI</td>\n",
       "      <td>oppspring</td>\n",
       "      <td>1</td>\n",
       "      <td>1</td>\n",
       "      <td>1</td>\n",
       "      <td>1297296000</td>\n",
       "      <td>Good product, nicer than the big name brand</td>\n",
       "      <td>Good product, nicer than the big name brand we...</td>\n",
       "    </tr>\n",
       "    <tr>\n",
       "      <th>3</th>\n",
       "      <td>63276</td>\n",
       "      <td>B005J8U99K</td>\n",
       "      <td>AP6GGUWXS9TZK</td>\n",
       "      <td>The Golphur</td>\n",
       "      <td>0</td>\n",
       "      <td>0</td>\n",
       "      <td>0</td>\n",
       "      <td>1332806400</td>\n",
       "      <td>Flavorless</td>\n",
       "      <td>Prior purchases were darker and had a lot more...</td>\n",
       "    </tr>\n",
       "    <tr>\n",
       "      <th>4</th>\n",
       "      <td>53830</td>\n",
       "      <td>B000H25WMW</td>\n",
       "      <td>A3FC89RPC2PC3J</td>\n",
       "      <td>tickles_leanne</td>\n",
       "      <td>2</td>\n",
       "      <td>2</td>\n",
       "      <td>1</td>\n",
       "      <td>1288656000</td>\n",
       "      <td>delicious!</td>\n",
       "      <td>Highly recommend this soup. I use less water t...</td>\n",
       "    </tr>\n",
       "    <tr>\n",
       "      <th>5</th>\n",
       "      <td>60342</td>\n",
       "      <td>B001EO62IU</td>\n",
       "      <td>A6U68E5GISFD3</td>\n",
       "      <td>Joeitalia</td>\n",
       "      <td>1</td>\n",
       "      <td>1</td>\n",
       "      <td>1</td>\n",
       "      <td>1258156800</td>\n",
       "      <td>next best to h2o</td>\n",
       "      <td>Coconut water is great. After a run or a littl...</td>\n",
       "    </tr>\n",
       "    <tr>\n",
       "      <th>6</th>\n",
       "      <td>245702</td>\n",
       "      <td>B004OAZ36I</td>\n",
       "      <td>A2QSSYUJBJYH16</td>\n",
       "      <td>Leah P. Axelrod</td>\n",
       "      <td>0</td>\n",
       "      <td>0</td>\n",
       "      <td>0</td>\n",
       "      <td>1328918400</td>\n",
       "      <td>Assortment Doesn't Match the description</td>\n",
       "      <td>Here is what I received:&lt;br /&gt;&lt;br /&gt;7 Hazelnut...</td>\n",
       "    </tr>\n",
       "    <tr>\n",
       "      <th>7</th>\n",
       "      <td>33809</td>\n",
       "      <td>B001E5E0I8</td>\n",
       "      <td>A3KTLQL58GF2RV</td>\n",
       "      <td>Jason Conlon \"&amp;#34;mr. gringo&amp;#34;\"</td>\n",
       "      <td>2</td>\n",
       "      <td>2</td>\n",
       "      <td>1</td>\n",
       "      <td>1275782400</td>\n",
       "      <td>excellent</td>\n",
       "      <td>These are addictive. The only reason it didn't...</td>\n",
       "    </tr>\n",
       "    <tr>\n",
       "      <th>8</th>\n",
       "      <td>46146</td>\n",
       "      <td>B000NSJ5U0</td>\n",
       "      <td>A1TIVD0Y3KJSCN</td>\n",
       "      <td>lawyerwhocooks \"lawyerwhocooks\"</td>\n",
       "      <td>11</td>\n",
       "      <td>11</td>\n",
       "      <td>1</td>\n",
       "      <td>1264809600</td>\n",
       "      <td>Excellent flavor, beautiful Beluga lentils</td>\n",
       "      <td>I'm sorry to see these lentils have disappeare...</td>\n",
       "    </tr>\n",
       "    <tr>\n",
       "      <th>9</th>\n",
       "      <td>188721</td>\n",
       "      <td>B000HJPBGC</td>\n",
       "      <td>A2OX7WYR9SKYSO</td>\n",
       "      <td>db</td>\n",
       "      <td>4</td>\n",
       "      <td>8</td>\n",
       "      <td>0</td>\n",
       "      <td>1271894400</td>\n",
       "      <td>Jamaican me want something else!</td>\n",
       "      <td>Well, taste is very subjective, but I think I'...</td>\n",
       "    </tr>\n",
       "    <tr>\n",
       "      <th>10</th>\n",
       "      <td>239619</td>\n",
       "      <td>B001E6K6B2</td>\n",
       "      <td>A139PCQXUF7GJO</td>\n",
       "      <td>MaggieMaggie</td>\n",
       "      <td>0</td>\n",
       "      <td>2</td>\n",
       "      <td>0</td>\n",
       "      <td>1313107200</td>\n",
       "      <td>Cereal boxes crushed</td>\n",
       "      <td>I ordered A case of dog food and these 4 boxes...</td>\n",
       "    </tr>\n",
       "    <tr>\n",
       "      <th>11</th>\n",
       "      <td>35567</td>\n",
       "      <td>B003KYIW6W</td>\n",
       "      <td>A1D0N7I6OHX3WU</td>\n",
       "      <td>firsttimemom</td>\n",
       "      <td>0</td>\n",
       "      <td>2</td>\n",
       "      <td>0</td>\n",
       "      <td>1302739200</td>\n",
       "      <td>tasteless!!!</td>\n",
       "      <td>I bought this for my 11-month old daughter bec...</td>\n",
       "    </tr>\n",
       "    <tr>\n",
       "      <th>12</th>\n",
       "      <td>95833</td>\n",
       "      <td>B001E6KBYE</td>\n",
       "      <td>A1WGLVR9MOA39I</td>\n",
       "      <td>t</td>\n",
       "      <td>0</td>\n",
       "      <td>3</td>\n",
       "      <td>0</td>\n",
       "      <td>1204761600</td>\n",
       "      <td>don't waste you money like i did</td>\n",
       "      <td>I purchased this product because I loved the f...</td>\n",
       "    </tr>\n",
       "    <tr>\n",
       "      <th>13</th>\n",
       "      <td>14088</td>\n",
       "      <td>B0045XE32E</td>\n",
       "      <td>A2EDWI5EGP4V9N</td>\n",
       "      <td>sharkychick</td>\n",
       "      <td>0</td>\n",
       "      <td>1</td>\n",
       "      <td>1</td>\n",
       "      <td>1298937600</td>\n",
       "      <td>Seemingly a good product and thumbs up from th...</td>\n",
       "      <td>I've come to expect good products from the New...</td>\n",
       "    </tr>\n",
       "    <tr>\n",
       "      <th>14</th>\n",
       "      <td>248750</td>\n",
       "      <td>B000EQTB4Q</td>\n",
       "      <td>AN6OHY2F94AG8</td>\n",
       "      <td>Patricia F. Eason</td>\n",
       "      <td>0</td>\n",
       "      <td>0</td>\n",
       "      <td>0</td>\n",
       "      <td>1343088000</td>\n",
       "      <td>Not Sticks!</td>\n",
       "      <td>This product tastes very good.  BUT, the produ...</td>\n",
       "    </tr>\n",
       "    <tr>\n",
       "      <th>15</th>\n",
       "      <td>28106</td>\n",
       "      <td>B007POT6RM</td>\n",
       "      <td>AE2MKYLMTYF21</td>\n",
       "      <td>M. T. Pope</td>\n",
       "      <td>0</td>\n",
       "      <td>0</td>\n",
       "      <td>1</td>\n",
       "      <td>1345680000</td>\n",
       "      <td>Great product</td>\n",
       "      <td>Though i'm not a huge fan of oatmeal, this pro...</td>\n",
       "    </tr>\n",
       "    <tr>\n",
       "      <th>16</th>\n",
       "      <td>44010</td>\n",
       "      <td>B0031U9VI8</td>\n",
       "      <td>A21CXF8WYD0UG8</td>\n",
       "      <td>Valley Girl</td>\n",
       "      <td>4</td>\n",
       "      <td>4</td>\n",
       "      <td>0</td>\n",
       "      <td>1343347200</td>\n",
       "      <td>Outraged!</td>\n",
       "      <td>I bought this and fed this mix to my baby for ...</td>\n",
       "    </tr>\n",
       "    <tr>\n",
       "      <th>17</th>\n",
       "      <td>51675</td>\n",
       "      <td>B0002PHEU2</td>\n",
       "      <td>A28DFJ15IK1M2B</td>\n",
       "      <td>Air1x</td>\n",
       "      <td>0</td>\n",
       "      <td>0</td>\n",
       "      <td>1</td>\n",
       "      <td>1348099200</td>\n",
       "      <td>Air1x</td>\n",
       "      <td>Very good product, made excellent cinnamon can...</td>\n",
       "    </tr>\n",
       "    <tr>\n",
       "      <th>18</th>\n",
       "      <td>50797</td>\n",
       "      <td>B008C2JCUW</td>\n",
       "      <td>A3FOSL0LT38ZI4</td>\n",
       "      <td>HeatherRae</td>\n",
       "      <td>0</td>\n",
       "      <td>0</td>\n",
       "      <td>1</td>\n",
       "      <td>1335657600</td>\n",
       "      <td>Nice hair oil</td>\n",
       "      <td>Good alternative to coconut oil when oiling yo...</td>\n",
       "    </tr>\n",
       "    <tr>\n",
       "      <th>19</th>\n",
       "      <td>44617</td>\n",
       "      <td>B001EQ55RW</td>\n",
       "      <td>A29B4PAIOL7HYG</td>\n",
       "      <td>N. Caruso \"gibsonjunkie\"</td>\n",
       "      <td>0</td>\n",
       "      <td>0</td>\n",
       "      <td>1</td>\n",
       "      <td>1213574400</td>\n",
       "      <td>Thes things grow on you...</td>\n",
       "      <td>When I bit into my first chocolate covered alm...</td>\n",
       "    </tr>\n",
       "    <tr>\n",
       "      <th>20</th>\n",
       "      <td>102251</td>\n",
       "      <td>B003SO7FWG</td>\n",
       "      <td>A1GOFBQ3LCQZM0</td>\n",
       "      <td>Truffles \"Truffles\"</td>\n",
       "      <td>1</td>\n",
       "      <td>1</td>\n",
       "      <td>0</td>\n",
       "      <td>1331078400</td>\n",
       "      <td>Have a Lindt truffle instead</td>\n",
       "      <td>This tea has a lovely fragrance and comes in a...</td>\n",
       "    </tr>\n",
       "    <tr>\n",
       "      <th>21</th>\n",
       "      <td>315550</td>\n",
       "      <td>B00141OU50</td>\n",
       "      <td>A3IXMFF7SJGBHP</td>\n",
       "      <td>Amazon Shopper</td>\n",
       "      <td>1</td>\n",
       "      <td>1</td>\n",
       "      <td>0</td>\n",
       "      <td>1341446400</td>\n",
       "      <td>Dogswell Happy Hips for Dogs, Beef Liver</td>\n",
       "      <td>I placed an order for Dogswell Happy Hips for ...</td>\n",
       "    </tr>\n",
       "    <tr>\n",
       "      <th>22</th>\n",
       "      <td>339910</td>\n",
       "      <td>B005OL1Q8K</td>\n",
       "      <td>A16HUIW6I1GCKJ</td>\n",
       "      <td>Boss</td>\n",
       "      <td>0</td>\n",
       "      <td>0</td>\n",
       "      <td>0</td>\n",
       "      <td>1324252800</td>\n",
       "      <td>These are really bad</td>\n",
       "      <td>These really don't taste anything like bacon. ...</td>\n",
       "    </tr>\n",
       "    <tr>\n",
       "      <th>23</th>\n",
       "      <td>299621</td>\n",
       "      <td>B001GZWDEE</td>\n",
       "      <td>A1IAUJSIAHXG6R</td>\n",
       "      <td>N. Hernandez \"NYC_Gora\"</td>\n",
       "      <td>2</td>\n",
       "      <td>2</td>\n",
       "      <td>0</td>\n",
       "      <td>1333065600</td>\n",
       "      <td>Poorly constructed, half price at Oriental Tra...</td>\n",
       "      <td>These cost $6.25 on Oriental Trading. They are...</td>\n",
       "    </tr>\n",
       "    <tr>\n",
       "      <th>24</th>\n",
       "      <td>138384</td>\n",
       "      <td>B0028A5OYW</td>\n",
       "      <td>A1LPSBHVC75WL3</td>\n",
       "      <td>roadrunnercj</td>\n",
       "      <td>6</td>\n",
       "      <td>6</td>\n",
       "      <td>0</td>\n",
       "      <td>1294704000</td>\n",
       "      <td>Brittle Yes, Peanuts - Not Many - Enjoy the Re...</td>\n",
       "      <td>When I ordered a week ago, no other reviews ex...</td>\n",
       "    </tr>\n",
       "    <tr>\n",
       "      <th>25</th>\n",
       "      <td>63256</td>\n",
       "      <td>B000EMK4GY</td>\n",
       "      <td>A1XKHZ0Z7OTC9L</td>\n",
       "      <td>S. Tarzwell \"Steph\"</td>\n",
       "      <td>0</td>\n",
       "      <td>0</td>\n",
       "      <td>1</td>\n",
       "      <td>1320883200</td>\n",
       "      <td>Favorite one of these</td>\n",
       "      <td>These are perfect to keep on the pantry for wh...</td>\n",
       "    </tr>\n",
       "    <tr>\n",
       "      <th>26</th>\n",
       "      <td>5402</td>\n",
       "      <td>B00622CYVS</td>\n",
       "      <td>A2GA26AEIRRJVY</td>\n",
       "      <td>andorm</td>\n",
       "      <td>0</td>\n",
       "      <td>0</td>\n",
       "      <td>1</td>\n",
       "      <td>1339977600</td>\n",
       "      <td>Ok, but would like more variety</td>\n",
       "      <td>I actually cook most of my twins' savory meals...</td>\n",
       "    </tr>\n",
       "    <tr>\n",
       "      <th>27</th>\n",
       "      <td>45303</td>\n",
       "      <td>B00008MOJ2</td>\n",
       "      <td>A2FARFFX86JKH5</td>\n",
       "      <td>Christopher Whitmore</td>\n",
       "      <td>0</td>\n",
       "      <td>0</td>\n",
       "      <td>1</td>\n",
       "      <td>1345161600</td>\n",
       "      <td>My dog's preferred snack.</td>\n",
       "      <td>My picky Italian Greyhound goes crazy for thes...</td>\n",
       "    </tr>\n",
       "    <tr>\n",
       "      <th>28</th>\n",
       "      <td>1400</td>\n",
       "      <td>B00068PCTU</td>\n",
       "      <td>A2G0773XS6R763</td>\n",
       "      <td>Linda S. Blyth</td>\n",
       "      <td>0</td>\n",
       "      <td>0</td>\n",
       "      <td>1</td>\n",
       "      <td>1319760000</td>\n",
       "      <td>the best stevia</td>\n",
       "      <td>this stevia is the best tasting we've ever tri...</td>\n",
       "    </tr>\n",
       "    <tr>\n",
       "      <th>29</th>\n",
       "      <td>227637</td>\n",
       "      <td>B001FSJCPK</td>\n",
       "      <td>A6P34Q7M983DN</td>\n",
       "      <td>M. Schreiber \"TV-free, Battery-operated-toy-s...</td>\n",
       "      <td>1</td>\n",
       "      <td>2</td>\n",
       "      <td>0</td>\n",
       "      <td>1192838400</td>\n",
       "      <td>My Cat Wouldn't Eat Them</td>\n",
       "      <td>As the title suggested, my cat would not eat t...</td>\n",
       "    </tr>\n",
       "    <tr>\n",
       "      <th>...</th>\n",
       "      <td>...</td>\n",
       "      <td>...</td>\n",
       "      <td>...</td>\n",
       "      <td>...</td>\n",
       "      <td>...</td>\n",
       "      <td>...</td>\n",
       "      <td>...</td>\n",
       "      <td>...</td>\n",
       "      <td>...</td>\n",
       "      <td>...</td>\n",
       "    </tr>\n",
       "    <tr>\n",
       "      <th>99970</th>\n",
       "      <td>62622</td>\n",
       "      <td>B002GERP5Q</td>\n",
       "      <td>A1WS19594YMGN1</td>\n",
       "      <td>Paula</td>\n",
       "      <td>0</td>\n",
       "      <td>0</td>\n",
       "      <td>1</td>\n",
       "      <td>1313884800</td>\n",
       "      <td>Love this substitute for Sugar</td>\n",
       "      <td>This product works great in my favorite cookie...</td>\n",
       "    </tr>\n",
       "    <tr>\n",
       "      <th>99971</th>\n",
       "      <td>276732</td>\n",
       "      <td>B0028VZEJQ</td>\n",
       "      <td>AKMS1MWSM46BN</td>\n",
       "      <td>Anne M. Winz \"Writermom\"</td>\n",
       "      <td>5</td>\n",
       "      <td>8</td>\n",
       "      <td>0</td>\n",
       "      <td>1315353600</td>\n",
       "      <td>Bag arrived opened.</td>\n",
       "      <td>Delighted that the shipment arrived one day ea...</td>\n",
       "    </tr>\n",
       "    <tr>\n",
       "      <th>99972</th>\n",
       "      <td>56422</td>\n",
       "      <td>B000EHL21U</td>\n",
       "      <td>A26MHXC4C1R8P</td>\n",
       "      <td>T.N.T.</td>\n",
       "      <td>0</td>\n",
       "      <td>1</td>\n",
       "      <td>1</td>\n",
       "      <td>1229212800</td>\n",
       "      <td>Kashi rolls</td>\n",
       "      <td>I recently became a type 2 diabetic and it was...</td>\n",
       "    </tr>\n",
       "    <tr>\n",
       "      <th>99973</th>\n",
       "      <td>107469</td>\n",
       "      <td>B0032GA6QC</td>\n",
       "      <td>A31C5LG4KUZ4E4</td>\n",
       "      <td>John \"Odocoileus\"</td>\n",
       "      <td>0</td>\n",
       "      <td>0</td>\n",
       "      <td>0</td>\n",
       "      <td>1340150400</td>\n",
       "      <td>This variety blows</td>\n",
       "      <td>My review is about the variety rather than thi...</td>\n",
       "    </tr>\n",
       "    <tr>\n",
       "      <th>99974</th>\n",
       "      <td>23428</td>\n",
       "      <td>B004R8J8E0</td>\n",
       "      <td>AFTFND8CPQ34M</td>\n",
       "      <td>Autumn</td>\n",
       "      <td>1</td>\n",
       "      <td>4</td>\n",
       "      <td>0</td>\n",
       "      <td>1311638400</td>\n",
       "      <td>Lacks flavor</td>\n",
       "      <td>This product did not include the \"shaking bag\"...</td>\n",
       "    </tr>\n",
       "    <tr>\n",
       "      <th>99975</th>\n",
       "      <td>53495</td>\n",
       "      <td>B006W5WGFE</td>\n",
       "      <td>A2TSTRYQ5AA9U6</td>\n",
       "      <td>S. R. Hochbaum</td>\n",
       "      <td>0</td>\n",
       "      <td>0</td>\n",
       "      <td>1</td>\n",
       "      <td>1327276800</td>\n",
       "      <td>Great meal bars for chocolate lovers</td>\n",
       "      <td>I purchased these to enjoy for breakfast or lu...</td>\n",
       "    </tr>\n",
       "    <tr>\n",
       "      <th>99976</th>\n",
       "      <td>47462</td>\n",
       "      <td>B003ZXG0VW</td>\n",
       "      <td>A259MPG6SOL02P</td>\n",
       "      <td>Josh Daniel S. Davis \"xaminmo\"</td>\n",
       "      <td>4</td>\n",
       "      <td>4</td>\n",
       "      <td>1</td>\n",
       "      <td>1294012800</td>\n",
       "      <td>Nom Nom Nom</td>\n",
       "      <td>These were the original cookie sold by Girl Sc...</td>\n",
       "    </tr>\n",
       "    <tr>\n",
       "      <th>99977</th>\n",
       "      <td>4148</td>\n",
       "      <td>B001EW5YQS</td>\n",
       "      <td>A1U8Q39H1BJ5RH</td>\n",
       "      <td>MullaPeriyarDam</td>\n",
       "      <td>0</td>\n",
       "      <td>3</td>\n",
       "      <td>1</td>\n",
       "      <td>1325808000</td>\n",
       "      <td>No good for Wii</td>\n",
       "      <td>Bought it thinking this would plug into the Wi...</td>\n",
       "    </tr>\n",
       "    <tr>\n",
       "      <th>99978</th>\n",
       "      <td>6310</td>\n",
       "      <td>B004DP0D32</td>\n",
       "      <td>A1OWDDVJD6AP8A</td>\n",
       "      <td>Lonwolf</td>\n",
       "      <td>1</td>\n",
       "      <td>1</td>\n",
       "      <td>1</td>\n",
       "      <td>1300924800</td>\n",
       "      <td>Not Your Customary Sunflower Seeds!</td>\n",
       "      <td>Looking for a good tasting jumbo sunflower see...</td>\n",
       "    </tr>\n",
       "    <tr>\n",
       "      <th>99979</th>\n",
       "      <td>901</td>\n",
       "      <td>B000ER6YO0</td>\n",
       "      <td>A3NHUQ33CFH3VM</td>\n",
       "      <td>Citizen John</td>\n",
       "      <td>6</td>\n",
       "      <td>6</td>\n",
       "      <td>1</td>\n",
       "      <td>1255651200</td>\n",
       "      <td>Dessert to Them.  But is it Nutritional Enough?</td>\n",
       "      <td>My twin 10-month old babies treat this one as ...</td>\n",
       "    </tr>\n",
       "    <tr>\n",
       "      <th>99980</th>\n",
       "      <td>6570</td>\n",
       "      <td>B003AYL9NU</td>\n",
       "      <td>A3EA4SBWVEA88L</td>\n",
       "      <td>pamvan</td>\n",
       "      <td>0</td>\n",
       "      <td>0</td>\n",
       "      <td>0</td>\n",
       "      <td>1332720000</td>\n",
       "      <td>bad review</td>\n",
       "      <td>the product was hard as a rock. i could not ev...</td>\n",
       "    </tr>\n",
       "    <tr>\n",
       "      <th>99981</th>\n",
       "      <td>274125</td>\n",
       "      <td>B000FFIIUO</td>\n",
       "      <td>A37D4II7PKAIV9</td>\n",
       "      <td>Lisa D. Segale</td>\n",
       "      <td>1</td>\n",
       "      <td>1</td>\n",
       "      <td>0</td>\n",
       "      <td>1250985600</td>\n",
       "      <td>Not as good as, they use to be.</td>\n",
       "      <td>Last year we ordered this item, not in bulk, d...</td>\n",
       "    </tr>\n",
       "    <tr>\n",
       "      <th>99982</th>\n",
       "      <td>6408</td>\n",
       "      <td>B001BYEFDM</td>\n",
       "      <td>A2C2JOO6DYRMYL</td>\n",
       "      <td>Jack West</td>\n",
       "      <td>0</td>\n",
       "      <td>0</td>\n",
       "      <td>1</td>\n",
       "      <td>1349654400</td>\n",
       "      <td>quick delivery</td>\n",
       "      <td>it's difficult to describe herbal type pills. ...</td>\n",
       "    </tr>\n",
       "    <tr>\n",
       "      <th>99983</th>\n",
       "      <td>58114</td>\n",
       "      <td>B003XR88YC</td>\n",
       "      <td>A36DY0ZEO273GN</td>\n",
       "      <td>M. Mansfield</td>\n",
       "      <td>7</td>\n",
       "      <td>7</td>\n",
       "      <td>1</td>\n",
       "      <td>1297814400</td>\n",
       "      <td>I found the best price on these!</td>\n",
       "      <td>Purchase them directly from the manufacturer a...</td>\n",
       "    </tr>\n",
       "    <tr>\n",
       "      <th>99984</th>\n",
       "      <td>49153</td>\n",
       "      <td>B002ALQ6FA</td>\n",
       "      <td>A2Y4OVJ58C852I</td>\n",
       "      <td>Anita R. Schneider</td>\n",
       "      <td>0</td>\n",
       "      <td>0</td>\n",
       "      <td>1</td>\n",
       "      <td>1331251200</td>\n",
       "      <td>don't save it for emergencies</td>\n",
       "      <td>one of the best dark chocolates made for the m...</td>\n",
       "    </tr>\n",
       "    <tr>\n",
       "      <th>99985</th>\n",
       "      <td>1885</td>\n",
       "      <td>B001RVFDOO</td>\n",
       "      <td>A3U8OG0PXI5KH3</td>\n",
       "      <td>tiffjamesnjj</td>\n",
       "      <td>0</td>\n",
       "      <td>0</td>\n",
       "      <td>1</td>\n",
       "      <td>1338508800</td>\n",
       "      <td>Not bad</td>\n",
       "      <td>I won them off a penny auction site. My 2 year...</td>\n",
       "    </tr>\n",
       "    <tr>\n",
       "      <th>99986</th>\n",
       "      <td>7918</td>\n",
       "      <td>B00166D8TW</td>\n",
       "      <td>A16FEH35RTWBPH</td>\n",
       "      <td>jdogb1</td>\n",
       "      <td>0</td>\n",
       "      <td>0</td>\n",
       "      <td>1</td>\n",
       "      <td>1347494400</td>\n",
       "      <td>The Best Protein Out There</td>\n",
       "      <td>In my opinion, this is the best protein powder...</td>\n",
       "    </tr>\n",
       "    <tr>\n",
       "      <th>99987</th>\n",
       "      <td>82683</td>\n",
       "      <td>B005UP1M4I</td>\n",
       "      <td>A2EIFLLQG0ARMX</td>\n",
       "      <td>frank9814</td>\n",
       "      <td>2</td>\n",
       "      <td>2</td>\n",
       "      <td>0</td>\n",
       "      <td>1330905600</td>\n",
       "      <td>no good</td>\n",
       "      <td>I tried to use it took me,a lot of time to fil...</td>\n",
       "    </tr>\n",
       "    <tr>\n",
       "      <th>99988</th>\n",
       "      <td>59154</td>\n",
       "      <td>B002HQLY7S</td>\n",
       "      <td>A2571KCJ997UBY</td>\n",
       "      <td>cindy</td>\n",
       "      <td>0</td>\n",
       "      <td>0</td>\n",
       "      <td>0</td>\n",
       "      <td>1339459200</td>\n",
       "      <td>coffee</td>\n",
       "      <td>I have ordered coffee many times and it was al...</td>\n",
       "    </tr>\n",
       "    <tr>\n",
       "      <th>99989</th>\n",
       "      <td>48845</td>\n",
       "      <td>B000EHP62G</td>\n",
       "      <td>A15JB2HEZ6RKGW</td>\n",
       "      <td>Twinsboystwice</td>\n",
       "      <td>8</td>\n",
       "      <td>9</td>\n",
       "      <td>1</td>\n",
       "      <td>1191369600</td>\n",
       "      <td>Even my 3 yr olds will eat this!</td>\n",
       "      <td>This flavor has less calories than some of the...</td>\n",
       "    </tr>\n",
       "    <tr>\n",
       "      <th>99990</th>\n",
       "      <td>59757</td>\n",
       "      <td>B0028W3P9G</td>\n",
       "      <td>A1FSSSG3YKGA0J</td>\n",
       "      <td>Nancy Mitchell</td>\n",
       "      <td>6</td>\n",
       "      <td>7</td>\n",
       "      <td>0</td>\n",
       "      <td>1277164800</td>\n",
       "      <td>Strange taste</td>\n",
       "      <td>I was so excited when I found Whole Wheat Isra...</td>\n",
       "    </tr>\n",
       "    <tr>\n",
       "      <th>99991</th>\n",
       "      <td>15962</td>\n",
       "      <td>B004HWYOT0</td>\n",
       "      <td>A1GCMPFOIKF8C0</td>\n",
       "      <td>Liza \"lizard\"</td>\n",
       "      <td>0</td>\n",
       "      <td>0</td>\n",
       "      <td>1</td>\n",
       "      <td>1344729600</td>\n",
       "      <td>love prickly pear food items!</td>\n",
       "      <td>This marmalade is so light and tasty on toast....</td>\n",
       "    </tr>\n",
       "    <tr>\n",
       "      <th>99992</th>\n",
       "      <td>18785</td>\n",
       "      <td>B001534R00</td>\n",
       "      <td>A1E87IGSZBTJXZ</td>\n",
       "      <td>T. Howe</td>\n",
       "      <td>0</td>\n",
       "      <td>3</td>\n",
       "      <td>0</td>\n",
       "      <td>1285718400</td>\n",
       "      <td>Tastes like vomit, try a different flavor.</td>\n",
       "      <td>I get energy drink for our IT department and w...</td>\n",
       "    </tr>\n",
       "    <tr>\n",
       "      <th>99993</th>\n",
       "      <td>32780</td>\n",
       "      <td>B0083QJU72</td>\n",
       "      <td>A10L1A09OD3L1F</td>\n",
       "      <td>Tammy F.</td>\n",
       "      <td>2</td>\n",
       "      <td>3</td>\n",
       "      <td>1</td>\n",
       "      <td>1257292800</td>\n",
       "      <td>Delicious!</td>\n",
       "      <td>This grade B maple syrup was delicious!  It se...</td>\n",
       "    </tr>\n",
       "    <tr>\n",
       "      <th>99994</th>\n",
       "      <td>284905</td>\n",
       "      <td>B001P3NU4O</td>\n",
       "      <td>A1XF5XEDB0UIJO</td>\n",
       "      <td>P. Sciascio</td>\n",
       "      <td>0</td>\n",
       "      <td>0</td>\n",
       "      <td>0</td>\n",
       "      <td>1269302400</td>\n",
       "      <td>Out of 9 cats only 2 eat it some what</td>\n",
       "      <td>I have 9 cats and only 2 eat it when they are ...</td>\n",
       "    </tr>\n",
       "    <tr>\n",
       "      <th>99995</th>\n",
       "      <td>53252</td>\n",
       "      <td>B000246RSI</td>\n",
       "      <td>A7LISZVVN8EEE</td>\n",
       "      <td>H. Grams \"Cleopatra\"</td>\n",
       "      <td>3</td>\n",
       "      <td>3</td>\n",
       "      <td>1</td>\n",
       "      <td>1205107200</td>\n",
       "      <td>BEST MILK CHOCOLATE EVER!!!</td>\n",
       "      <td>If you are a milk-chocolate fan, you must try ...</td>\n",
       "    </tr>\n",
       "    <tr>\n",
       "      <th>99996</th>\n",
       "      <td>296380</td>\n",
       "      <td>B000VKADSS</td>\n",
       "      <td>A2UFM78BEQ4BT8</td>\n",
       "      <td>Orange Crush \"Superbeetle 1978\"</td>\n",
       "      <td>2</td>\n",
       "      <td>5</td>\n",
       "      <td>0</td>\n",
       "      <td>1277424000</td>\n",
       "      <td>Take a Pass</td>\n",
       "      <td>I love Paul Newman - so no offense to the man ...</td>\n",
       "    </tr>\n",
       "    <tr>\n",
       "      <th>99997</th>\n",
       "      <td>226234</td>\n",
       "      <td>B002T0NWKE</td>\n",
       "      <td>A7P4M35WAQDDB</td>\n",
       "      <td>Sea Dog</td>\n",
       "      <td>1</td>\n",
       "      <td>3</td>\n",
       "      <td>0</td>\n",
       "      <td>1348099200</td>\n",
       "      <td>Why?</td>\n",
       "      <td>Even though I opted out of recieving \"email re...</td>\n",
       "    </tr>\n",
       "    <tr>\n",
       "      <th>99998</th>\n",
       "      <td>8853</td>\n",
       "      <td>B001QDD2IM</td>\n",
       "      <td>A36J0VHZ1295R4</td>\n",
       "      <td>Lucille M. Iacovelli</td>\n",
       "      <td>1</td>\n",
       "      <td>1</td>\n",
       "      <td>1</td>\n",
       "      <td>1258156800</td>\n",
       "      <td>Not real wasabi, but butter than what's availa...</td>\n",
       "      <td>This is the best of the ready-made kinds.  In ...</td>\n",
       "    </tr>\n",
       "    <tr>\n",
       "      <th>99999</th>\n",
       "      <td>328416</td>\n",
       "      <td>B000MCXASA</td>\n",
       "      <td>A27NY063O9HDRU</td>\n",
       "      <td>Marlene Stern</td>\n",
       "      <td>2</td>\n",
       "      <td>2</td>\n",
       "      <td>0</td>\n",
       "      <td>1234137600</td>\n",
       "      <td>stale  threw them away</td>\n",
       "      <td>the joyva marshmallows were stale  could not e...</td>\n",
       "    </tr>\n",
       "  </tbody>\n",
       "</table>\n",
       "<p>100000 rows × 10 columns</p>\n",
       "</div>"
      ],
      "text/plain": [
       "           Id   ProductId          UserId  \\\n",
       "0      285118  B001E5E3JY  A20G1010XJ8XTM   \n",
       "1       99895  B000LKYYMO  A1H7PDEBFZ0WWI   \n",
       "2       32048  B0062A87HA  A281G4F0B1PZJI   \n",
       "3       63276  B005J8U99K   AP6GGUWXS9TZK   \n",
       "4       53830  B000H25WMW  A3FC89RPC2PC3J   \n",
       "5       60342  B001EO62IU   A6U68E5GISFD3   \n",
       "6      245702  B004OAZ36I  A2QSSYUJBJYH16   \n",
       "7       33809  B001E5E0I8  A3KTLQL58GF2RV   \n",
       "8       46146  B000NSJ5U0  A1TIVD0Y3KJSCN   \n",
       "9      188721  B000HJPBGC  A2OX7WYR9SKYSO   \n",
       "10     239619  B001E6K6B2  A139PCQXUF7GJO   \n",
       "11      35567  B003KYIW6W  A1D0N7I6OHX3WU   \n",
       "12      95833  B001E6KBYE  A1WGLVR9MOA39I   \n",
       "13      14088  B0045XE32E  A2EDWI5EGP4V9N   \n",
       "14     248750  B000EQTB4Q   AN6OHY2F94AG8   \n",
       "15      28106  B007POT6RM   AE2MKYLMTYF21   \n",
       "16      44010  B0031U9VI8  A21CXF8WYD0UG8   \n",
       "17      51675  B0002PHEU2  A28DFJ15IK1M2B   \n",
       "18      50797  B008C2JCUW  A3FOSL0LT38ZI4   \n",
       "19      44617  B001EQ55RW  A29B4PAIOL7HYG   \n",
       "20     102251  B003SO7FWG  A1GOFBQ3LCQZM0   \n",
       "21     315550  B00141OU50  A3IXMFF7SJGBHP   \n",
       "22     339910  B005OL1Q8K  A16HUIW6I1GCKJ   \n",
       "23     299621  B001GZWDEE  A1IAUJSIAHXG6R   \n",
       "24     138384  B0028A5OYW  A1LPSBHVC75WL3   \n",
       "25      63256  B000EMK4GY  A1XKHZ0Z7OTC9L   \n",
       "26       5402  B00622CYVS  A2GA26AEIRRJVY   \n",
       "27      45303  B00008MOJ2  A2FARFFX86JKH5   \n",
       "28       1400  B00068PCTU  A2G0773XS6R763   \n",
       "29     227637  B001FSJCPK   A6P34Q7M983DN   \n",
       "...       ...         ...             ...   \n",
       "99970   62622  B002GERP5Q  A1WS19594YMGN1   \n",
       "99971  276732  B0028VZEJQ   AKMS1MWSM46BN   \n",
       "99972   56422  B000EHL21U   A26MHXC4C1R8P   \n",
       "99973  107469  B0032GA6QC  A31C5LG4KUZ4E4   \n",
       "99974   23428  B004R8J8E0   AFTFND8CPQ34M   \n",
       "99975   53495  B006W5WGFE  A2TSTRYQ5AA9U6   \n",
       "99976   47462  B003ZXG0VW  A259MPG6SOL02P   \n",
       "99977    4148  B001EW5YQS  A1U8Q39H1BJ5RH   \n",
       "99978    6310  B004DP0D32  A1OWDDVJD6AP8A   \n",
       "99979     901  B000ER6YO0  A3NHUQ33CFH3VM   \n",
       "99980    6570  B003AYL9NU  A3EA4SBWVEA88L   \n",
       "99981  274125  B000FFIIUO  A37D4II7PKAIV9   \n",
       "99982    6408  B001BYEFDM  A2C2JOO6DYRMYL   \n",
       "99983   58114  B003XR88YC  A36DY0ZEO273GN   \n",
       "99984   49153  B002ALQ6FA  A2Y4OVJ58C852I   \n",
       "99985    1885  B001RVFDOO  A3U8OG0PXI5KH3   \n",
       "99986    7918  B00166D8TW  A16FEH35RTWBPH   \n",
       "99987   82683  B005UP1M4I  A2EIFLLQG0ARMX   \n",
       "99988   59154  B002HQLY7S  A2571KCJ997UBY   \n",
       "99989   48845  B000EHP62G  A15JB2HEZ6RKGW   \n",
       "99990   59757  B0028W3P9G  A1FSSSG3YKGA0J   \n",
       "99991   15962  B004HWYOT0  A1GCMPFOIKF8C0   \n",
       "99992   18785  B001534R00  A1E87IGSZBTJXZ   \n",
       "99993   32780  B0083QJU72  A10L1A09OD3L1F   \n",
       "99994  284905  B001P3NU4O  A1XF5XEDB0UIJO   \n",
       "99995   53252  B000246RSI   A7LISZVVN8EEE   \n",
       "99996  296380  B000VKADSS  A2UFM78BEQ4BT8   \n",
       "99997  226234  B002T0NWKE   A7P4M35WAQDDB   \n",
       "99998    8853  B001QDD2IM  A36J0VHZ1295R4   \n",
       "99999  328416  B000MCXASA  A27NY063O9HDRU   \n",
       "\n",
       "                                            ProfileName  HelpfulnessNumerator  \\\n",
       "0                                                 Sarah                     5   \n",
       "1                                         Melissa Engel                     1   \n",
       "2                                             oppspring                     1   \n",
       "3                                           The Golphur                     0   \n",
       "4                                        tickles_leanne                     2   \n",
       "5                                             Joeitalia                     1   \n",
       "6                                       Leah P. Axelrod                     0   \n",
       "7                   Jason Conlon \"&#34;mr. gringo&#34;\"                     2   \n",
       "8                       lawyerwhocooks \"lawyerwhocooks\"                    11   \n",
       "9                                                    db                     4   \n",
       "10                                         MaggieMaggie                     0   \n",
       "11                                         firsttimemom                     0   \n",
       "12                                                    t                     0   \n",
       "13                                          sharkychick                     0   \n",
       "14                                    Patricia F. Eason                     0   \n",
       "15                                           M. T. Pope                     0   \n",
       "16                                          Valley Girl                     4   \n",
       "17                                                Air1x                     0   \n",
       "18                                           HeatherRae                     0   \n",
       "19                             N. Caruso \"gibsonjunkie\"                     0   \n",
       "20                                  Truffles \"Truffles\"                     1   \n",
       "21                                       Amazon Shopper                     1   \n",
       "22                                                 Boss                     0   \n",
       "23                              N. Hernandez \"NYC_Gora\"                     2   \n",
       "24                                         roadrunnercj                     6   \n",
       "25                                  S. Tarzwell \"Steph\"                     0   \n",
       "26                                               andorm                     0   \n",
       "27                                 Christopher Whitmore                     0   \n",
       "28                                       Linda S. Blyth                     0   \n",
       "29     M. Schreiber \"TV-free, Battery-operated-toy-s...                     1   \n",
       "...                                                 ...                   ...   \n",
       "99970                                             Paula                     0   \n",
       "99971                          Anne M. Winz \"Writermom\"                     5   \n",
       "99972                                            T.N.T.                     0   \n",
       "99973                                 John \"Odocoileus\"                     0   \n",
       "99974                                            Autumn                     1   \n",
       "99975                                    S. R. Hochbaum                     0   \n",
       "99976                    Josh Daniel S. Davis \"xaminmo\"                     4   \n",
       "99977                                   MullaPeriyarDam                     0   \n",
       "99978                                           Lonwolf                     1   \n",
       "99979                                      Citizen John                     6   \n",
       "99980                                            pamvan                     0   \n",
       "99981                                    Lisa D. Segale                     1   \n",
       "99982                                         Jack West                     0   \n",
       "99983                                      M. Mansfield                     7   \n",
       "99984                                Anita R. Schneider                     0   \n",
       "99985                                      tiffjamesnjj                     0   \n",
       "99986                                            jdogb1                     0   \n",
       "99987                                         frank9814                     2   \n",
       "99988                                             cindy                     0   \n",
       "99989                                    Twinsboystwice                     8   \n",
       "99990                                    Nancy Mitchell                     6   \n",
       "99991                                     Liza \"lizard\"                     0   \n",
       "99992                                           T. Howe                     0   \n",
       "99993                                          Tammy F.                     2   \n",
       "99994                                       P. Sciascio                     0   \n",
       "99995                              H. Grams \"Cleopatra\"                     3   \n",
       "99996                   Orange Crush \"Superbeetle 1978\"                     2   \n",
       "99997                                           Sea Dog                     1   \n",
       "99998                              Lucille M. Iacovelli                     1   \n",
       "99999                                     Marlene Stern                     2   \n",
       "\n",
       "       HelpfulnessDenominator  Score        Time  \\\n",
       "0                           6      0  1290643200   \n",
       "1                           2      0  1226275200   \n",
       "2                           1      1  1297296000   \n",
       "3                           0      0  1332806400   \n",
       "4                           2      1  1288656000   \n",
       "5                           1      1  1258156800   \n",
       "6                           0      0  1328918400   \n",
       "7                           2      1  1275782400   \n",
       "8                          11      1  1264809600   \n",
       "9                           8      0  1271894400   \n",
       "10                          2      0  1313107200   \n",
       "11                          2      0  1302739200   \n",
       "12                          3      0  1204761600   \n",
       "13                          1      1  1298937600   \n",
       "14                          0      0  1343088000   \n",
       "15                          0      1  1345680000   \n",
       "16                          4      0  1343347200   \n",
       "17                          0      1  1348099200   \n",
       "18                          0      1  1335657600   \n",
       "19                          0      1  1213574400   \n",
       "20                          1      0  1331078400   \n",
       "21                          1      0  1341446400   \n",
       "22                          0      0  1324252800   \n",
       "23                          2      0  1333065600   \n",
       "24                          6      0  1294704000   \n",
       "25                          0      1  1320883200   \n",
       "26                          0      1  1339977600   \n",
       "27                          0      1  1345161600   \n",
       "28                          0      1  1319760000   \n",
       "29                          2      0  1192838400   \n",
       "...                       ...    ...         ...   \n",
       "99970                       0      1  1313884800   \n",
       "99971                       8      0  1315353600   \n",
       "99972                       1      1  1229212800   \n",
       "99973                       0      0  1340150400   \n",
       "99974                       4      0  1311638400   \n",
       "99975                       0      1  1327276800   \n",
       "99976                       4      1  1294012800   \n",
       "99977                       3      1  1325808000   \n",
       "99978                       1      1  1300924800   \n",
       "99979                       6      1  1255651200   \n",
       "99980                       0      0  1332720000   \n",
       "99981                       1      0  1250985600   \n",
       "99982                       0      1  1349654400   \n",
       "99983                       7      1  1297814400   \n",
       "99984                       0      1  1331251200   \n",
       "99985                       0      1  1338508800   \n",
       "99986                       0      1  1347494400   \n",
       "99987                       2      0  1330905600   \n",
       "99988                       0      0  1339459200   \n",
       "99989                       9      1  1191369600   \n",
       "99990                       7      0  1277164800   \n",
       "99991                       0      1  1344729600   \n",
       "99992                       3      0  1285718400   \n",
       "99993                       3      1  1257292800   \n",
       "99994                       0      0  1269302400   \n",
       "99995                       3      1  1205107200   \n",
       "99996                       5      0  1277424000   \n",
       "99997                       3      0  1348099200   \n",
       "99998                       1      1  1258156800   \n",
       "99999                       2      0  1234137600   \n",
       "\n",
       "                                                 Summary  \\\n",
       "0                            It doesn't taste very good.   \n",
       "1                                   Soy Chips...expired!   \n",
       "2            Good product, nicer than the big name brand   \n",
       "3                                             Flavorless   \n",
       "4                                             delicious!   \n",
       "5                                       next best to h2o   \n",
       "6               Assortment Doesn't Match the description   \n",
       "7                                              excellent   \n",
       "8             Excellent flavor, beautiful Beluga lentils   \n",
       "9                       Jamaican me want something else!   \n",
       "10                                  Cereal boxes crushed   \n",
       "11                                          tasteless!!!   \n",
       "12                      don't waste you money like i did   \n",
       "13     Seemingly a good product and thumbs up from th...   \n",
       "14                                           Not Sticks!   \n",
       "15                                         Great product   \n",
       "16                                             Outraged!   \n",
       "17                                                 Air1x   \n",
       "18                                         Nice hair oil   \n",
       "19                            Thes things grow on you...   \n",
       "20                          Have a Lindt truffle instead   \n",
       "21              Dogswell Happy Hips for Dogs, Beef Liver   \n",
       "22                                  These are really bad   \n",
       "23     Poorly constructed, half price at Oriental Tra...   \n",
       "24     Brittle Yes, Peanuts - Not Many - Enjoy the Re...   \n",
       "25                                 Favorite one of these   \n",
       "26                       Ok, but would like more variety   \n",
       "27                             My dog's preferred snack.   \n",
       "28                                       the best stevia   \n",
       "29                              My Cat Wouldn't Eat Them   \n",
       "...                                                  ...   \n",
       "99970                     Love this substitute for Sugar   \n",
       "99971                                Bag arrived opened.   \n",
       "99972                                        Kashi rolls   \n",
       "99973                                 This variety blows   \n",
       "99974                                       Lacks flavor   \n",
       "99975               Great meal bars for chocolate lovers   \n",
       "99976                                        Nom Nom Nom   \n",
       "99977                                    No good for Wii   \n",
       "99978                Not Your Customary Sunflower Seeds!   \n",
       "99979    Dessert to Them.  But is it Nutritional Enough?   \n",
       "99980                                         bad review   \n",
       "99981                    Not as good as, they use to be.   \n",
       "99982                                     quick delivery   \n",
       "99983                   I found the best price on these!   \n",
       "99984                      don't save it for emergencies   \n",
       "99985                                            Not bad   \n",
       "99986                         The Best Protein Out There   \n",
       "99987                                            no good   \n",
       "99988                                             coffee   \n",
       "99989                   Even my 3 yr olds will eat this!   \n",
       "99990                                      Strange taste   \n",
       "99991                      love prickly pear food items!   \n",
       "99992         Tastes like vomit, try a different flavor.   \n",
       "99993                                         Delicious!   \n",
       "99994              Out of 9 cats only 2 eat it some what   \n",
       "99995                        BEST MILK CHOCOLATE EVER!!!   \n",
       "99996                                        Take a Pass   \n",
       "99997                                               Why?   \n",
       "99998  Not real wasabi, but butter than what's availa...   \n",
       "99999                             stale  threw them away   \n",
       "\n",
       "                                                    Text  \n",
       "0      SweetLeaf SteviaClear liquid does not taste go...  \n",
       "1      I ordered a box of 24 bags of soy chips. I rec...  \n",
       "2      Good product, nicer than the big name brand we...  \n",
       "3      Prior purchases were darker and had a lot more...  \n",
       "4      Highly recommend this soup. I use less water t...  \n",
       "5      Coconut water is great. After a run or a littl...  \n",
       "6      Here is what I received:<br /><br />7 Hazelnut...  \n",
       "7      These are addictive. The only reason it didn't...  \n",
       "8      I'm sorry to see these lentils have disappeare...  \n",
       "9      Well, taste is very subjective, but I think I'...  \n",
       "10     I ordered A case of dog food and these 4 boxes...  \n",
       "11     I bought this for my 11-month old daughter bec...  \n",
       "12     I purchased this product because I loved the f...  \n",
       "13     I've come to expect good products from the New...  \n",
       "14     This product tastes very good.  BUT, the produ...  \n",
       "15     Though i'm not a huge fan of oatmeal, this pro...  \n",
       "16     I bought this and fed this mix to my baby for ...  \n",
       "17     Very good product, made excellent cinnamon can...  \n",
       "18     Good alternative to coconut oil when oiling yo...  \n",
       "19     When I bit into my first chocolate covered alm...  \n",
       "20     This tea has a lovely fragrance and comes in a...  \n",
       "21     I placed an order for Dogswell Happy Hips for ...  \n",
       "22     These really don't taste anything like bacon. ...  \n",
       "23     These cost $6.25 on Oriental Trading. They are...  \n",
       "24     When I ordered a week ago, no other reviews ex...  \n",
       "25     These are perfect to keep on the pantry for wh...  \n",
       "26     I actually cook most of my twins' savory meals...  \n",
       "27     My picky Italian Greyhound goes crazy for thes...  \n",
       "28     this stevia is the best tasting we've ever tri...  \n",
       "29     As the title suggested, my cat would not eat t...  \n",
       "...                                                  ...  \n",
       "99970  This product works great in my favorite cookie...  \n",
       "99971  Delighted that the shipment arrived one day ea...  \n",
       "99972  I recently became a type 2 diabetic and it was...  \n",
       "99973  My review is about the variety rather than thi...  \n",
       "99974  This product did not include the \"shaking bag\"...  \n",
       "99975  I purchased these to enjoy for breakfast or lu...  \n",
       "99976  These were the original cookie sold by Girl Sc...  \n",
       "99977  Bought it thinking this would plug into the Wi...  \n",
       "99978  Looking for a good tasting jumbo sunflower see...  \n",
       "99979  My twin 10-month old babies treat this one as ...  \n",
       "99980  the product was hard as a rock. i could not ev...  \n",
       "99981  Last year we ordered this item, not in bulk, d...  \n",
       "99982  it's difficult to describe herbal type pills. ...  \n",
       "99983  Purchase them directly from the manufacturer a...  \n",
       "99984  one of the best dark chocolates made for the m...  \n",
       "99985  I won them off a penny auction site. My 2 year...  \n",
       "99986  In my opinion, this is the best protein powder...  \n",
       "99987  I tried to use it took me,a lot of time to fil...  \n",
       "99988  I have ordered coffee many times and it was al...  \n",
       "99989  This flavor has less calories than some of the...  \n",
       "99990  I was so excited when I found Whole Wheat Isra...  \n",
       "99991  This marmalade is so light and tasty on toast....  \n",
       "99992  I get energy drink for our IT department and w...  \n",
       "99993  This grade B maple syrup was delicious!  It se...  \n",
       "99994  I have 9 cats and only 2 eat it when they are ...  \n",
       "99995  If you are a milk-chocolate fan, you must try ...  \n",
       "99996  I love Paul Newman - so no offense to the man ...  \n",
       "99997  Even though I opted out of recieving \"email re...  \n",
       "99998  This is the best of the ready-made kinds.  In ...  \n",
       "99999  the joyva marshmallows were stale  could not e...  \n",
       "\n",
       "[100000 rows x 10 columns]"
      ]
     },
     "execution_count": 105,
     "metadata": {
      "tags": []
     },
     "output_type": "execute_result"
    }
   ],
   "source": [
    "filtered_data.reset_index(drop = True)"
   ]
  },
  {
   "cell_type": "code",
   "execution_count": 0,
   "metadata": {
    "colab": {},
    "colab_type": "code",
    "id": "Rqx_Vq58bGoe"
   },
   "outputs": [],
   "source": []
  },
  {
   "cell_type": "code",
   "execution_count": 106,
   "metadata": {
    "colab": {
     "base_uri": "https://localhost:8080/",
     "height": 55
    },
    "colab_type": "code",
    "id": "AkuZmrtEbGoj",
    "outputId": "b4818e81-cdc6-4fa5-b214-9ccccbe0cadd"
   },
   "outputs": [
    {
     "data": {
      "text/plain": [
       "'display = pd.read_sql_query(\"\"\"\\nSELECT UserId, ProductId, ProfileName, Time, Score, Text, COUNT(*)\\nFROM Reviews\\nGROUP BY UserId\\nHAVING COUNT(*)>1\\n\"\"\", con)'"
      ]
     },
     "execution_count": 106,
     "metadata": {
      "tags": []
     },
     "output_type": "execute_result"
    }
   ],
   "source": [
    "'''display = pd.read_sql_query(\"\"\"\n",
    "SELECT UserId, ProductId, ProfileName, Time, Score, Text, COUNT(*)\n",
    "FROM Reviews\n",
    "GROUP BY UserId\n",
    "HAVING COUNT(*)>1\n",
    "\"\"\", con)'''"
   ]
  },
  {
   "cell_type": "code",
   "execution_count": 107,
   "metadata": {
    "colab": {
     "base_uri": "https://localhost:8080/",
     "height": 35
    },
    "colab_type": "code",
    "id": "TeUckm6IbGoo",
    "outputId": "da33dbd0-c174-4a5c-e6fd-82563884f829",
    "scrolled": true
   },
   "outputs": [
    {
     "data": {
      "text/plain": [
       "'print(display.shape)\\ndisplay.head()'"
      ]
     },
     "execution_count": 107,
     "metadata": {
      "tags": []
     },
     "output_type": "execute_result"
    }
   ],
   "source": [
    "'''print(display.shape)\n",
    "display.head()'''"
   ]
  },
  {
   "cell_type": "code",
   "execution_count": 0,
   "metadata": {
    "colab": {},
    "colab_type": "code",
    "id": "gQM2L_t9bGox"
   },
   "outputs": [],
   "source": [
    "#display[display['UserId']=='AZY10LLTJ71NX']"
   ]
  },
  {
   "cell_type": "code",
   "execution_count": 0,
   "metadata": {
    "colab": {},
    "colab_type": "code",
    "id": "hmfwxD3JbGo5"
   },
   "outputs": [],
   "source": [
    "#display['COUNT(*)'].sum()"
   ]
  },
  {
   "cell_type": "markdown",
   "metadata": {
    "colab_type": "text",
    "id": "Rw5fkcnbbGpD"
   },
   "source": [
    "#  [2] Exploratory Data Analysis"
   ]
  },
  {
   "cell_type": "markdown",
   "metadata": {
    "colab_type": "text",
    "id": "IiJILkQQbGpF"
   },
   "source": [
    "## [2.1] Data Cleaning: Deduplication\n",
    "\n",
    "It is observed (as shown in the table below) that the reviews data had many duplicate entries. Hence it was necessary to remove duplicates in order to get unbiased results for the analysis of the data.  Following is an example:"
   ]
  },
  {
   "cell_type": "code",
   "execution_count": 110,
   "metadata": {
    "colab": {
     "base_uri": "https://localhost:8080/",
     "height": 55
    },
    "colab_type": "code",
    "id": "AF9ivZT_bGpM",
    "outputId": "c6e33b9d-2140-4b30-b950-4d98a9704641",
    "scrolled": false
   },
   "outputs": [
    {
     "data": {
      "text/plain": [
       "'display= pd.read_sql_query(\"\"\"\\nSELECT *\\nFROM Reviews\\nWHERE Score != 3 AND UserId=\"AR5J8UI46CURR\"\\nORDER BY ProductID\\n\"\"\", con)\\ndisplay.head()'"
      ]
     },
     "execution_count": 110,
     "metadata": {
      "tags": []
     },
     "output_type": "execute_result"
    }
   ],
   "source": [
    "'''display= pd.read_sql_query(\"\"\"\n",
    "SELECT *\n",
    "FROM Reviews\n",
    "WHERE Score != 3 AND UserId=\"AR5J8UI46CURR\"\n",
    "ORDER BY ProductID\n",
    "\"\"\", con)\n",
    "display.head()'''"
   ]
  },
  {
   "cell_type": "markdown",
   "metadata": {
    "colab_type": "text",
    "id": "vsWUoLV5bGpX"
   },
   "source": [
    "As it can be seen above that same user has multiple reviews with same values for HelpfulnessNumerator, HelpfulnessDenominator, Score, Time, Summary and Text and on doing analysis it was found that <br>\n",
    "<br> \n",
    "ProductId=B000HDOPZG was Loacker Quadratini Vanilla Wafer Cookies, 8.82-Ounce Packages (Pack of 8)<br>\n",
    "<br> \n",
    "ProductId=B000HDL1RQ was Loacker Quadratini Lemon Wafer Cookies, 8.82-Ounce Packages (Pack of 8) and so on<br>\n",
    "\n",
    "It was inferred after analysis that reviews with same parameters other than ProductId belonged to the same product just having different flavour or quantity. Hence in order to reduce redundancy it was decided to eliminate the rows having same parameters.<br>\n",
    "\n",
    "The method used for the same was that we first sort the data according to ProductId and then just keep the first similar product review and delelte the others. for eg. in the above just the review for ProductId=B000HDL1RQ remains. This method ensures that there is only one representative for each product and deduplication without sorting would lead to possibility of different representatives still existing for the same product."
   ]
  },
  {
   "cell_type": "code",
   "execution_count": 0,
   "metadata": {
    "colab": {},
    "colab_type": "code",
    "id": "3e-jOTSSbGpZ"
   },
   "outputs": [],
   "source": [
    "#Sorting data according to ProductId in ascending order\n",
    "sorted_data=filtered_data.sort_values('ProductId', axis=0, ascending=True, inplace=False, kind='quicksort', na_position='last')"
   ]
  },
  {
   "cell_type": "code",
   "execution_count": 112,
   "metadata": {
    "colab": {
     "base_uri": "https://localhost:8080/",
     "height": 35
    },
    "colab_type": "code",
    "id": "1efAlr8JbGpk",
    "outputId": "889aa57a-4fb4-46aa-d775-5f0b991485b5"
   },
   "outputs": [
    {
     "data": {
      "text/plain": [
       "(83317, 10)"
      ]
     },
     "execution_count": 112,
     "metadata": {
      "tags": []
     },
     "output_type": "execute_result"
    }
   ],
   "source": [
    "#Deduplication of entries\n",
    "final=sorted_data.drop_duplicates(subset={\"UserId\",\"ProfileName\",\"Time\",\"Text\"}, keep='first', inplace=False)\n",
    "final.shape"
   ]
  },
  {
   "cell_type": "code",
   "execution_count": 113,
   "metadata": {
    "colab": {
     "base_uri": "https://localhost:8080/",
     "height": 35
    },
    "colab_type": "code",
    "id": "NShSMP9sbGp0",
    "outputId": "75350860-4143-4674-ddb4-46ef842ad9c1"
   },
   "outputs": [
    {
     "data": {
      "text/plain": [
       "83.317"
      ]
     },
     "execution_count": 113,
     "metadata": {
      "tags": []
     },
     "output_type": "execute_result"
    }
   ],
   "source": [
    "#Checking to see how much % of data still remains\n",
    "(final['Id'].size*1.0)/(filtered_data['Id'].size*1.0)*100"
   ]
  },
  {
   "cell_type": "markdown",
   "metadata": {
    "colab_type": "text",
    "id": "cRSFnzZ2bGp-"
   },
   "source": [
    "<b>Observation:-</b> It was also seen that in two rows given below the value of HelpfulnessNumerator is greater than HelpfulnessDenominator which is not practically possible hence these two rows too are removed from calcualtions"
   ]
  },
  {
   "cell_type": "code",
   "execution_count": 114,
   "metadata": {
    "colab": {
     "base_uri": "https://localhost:8080/",
     "height": 55
    },
    "colab_type": "code",
    "id": "OEjKgJlubGqC",
    "outputId": "8ce25f03-39c8-43f2-8690-c2f54fa4abf4"
   },
   "outputs": [
    {
     "data": {
      "text/plain": [
       "'display= pd.read_sql_query(\"\"\"\\nSELECT *\\nFROM Reviews\\nWHERE Score != 3 AND Id=44737 OR Id=64422\\nORDER BY ProductID\\n\"\"\", con)\\n\\ndisplay.head()'"
      ]
     },
     "execution_count": 114,
     "metadata": {
      "tags": []
     },
     "output_type": "execute_result"
    }
   ],
   "source": [
    "'''display= pd.read_sql_query(\"\"\"\n",
    "SELECT *\n",
    "FROM Reviews\n",
    "WHERE Score != 3 AND Id=44737 OR Id=64422\n",
    "ORDER BY ProductID\n",
    "\"\"\", con)\n",
    "\n",
    "display.head()'''"
   ]
  },
  {
   "cell_type": "code",
   "execution_count": 0,
   "metadata": {
    "colab": {},
    "colab_type": "code",
    "id": "r_EVxm4EbGqS"
   },
   "outputs": [],
   "source": [
    "final=final[final.HelpfulnessNumerator<=final.HelpfulnessDenominator]"
   ]
  },
  {
   "cell_type": "code",
   "execution_count": 116,
   "metadata": {
    "colab": {
     "base_uri": "https://localhost:8080/",
     "height": 87
    },
    "colab_type": "code",
    "id": "FIx8qtZhbGqb",
    "outputId": "d3f5b607-3283-485d-8e3c-ec2d2d3f330b"
   },
   "outputs": [
    {
     "name": "stdout",
     "output_type": "stream",
     "text": [
      "(83315, 10)\n"
     ]
    },
    {
     "data": {
      "text/plain": [
       "1    45420\n",
       "0    37895\n",
       "Name: Score, dtype: int64"
      ]
     },
     "execution_count": 116,
     "metadata": {
      "tags": []
     },
     "output_type": "execute_result"
    }
   ],
   "source": [
    "#Before starting the next phase of preprocessing lets see the number of entries left\n",
    "print(final.shape)\n",
    "\n",
    "#How many positive and negative reviews are present in our dataset?\n",
    "final['Score'].value_counts()"
   ]
  },
  {
   "cell_type": "code",
   "execution_count": 117,
   "metadata": {
    "colab": {
     "base_uri": "https://localhost:8080/",
     "height": 35
    },
    "colab_type": "code",
    "id": "E8-Nnpo4bGqo",
    "outputId": "8fc674d7-3876-48d2-f428-f13da980bd44"
   },
   "outputs": [
    {
     "data": {
      "text/plain": [
       "(83315, 10)"
      ]
     },
     "execution_count": 117,
     "metadata": {
      "tags": []
     },
     "output_type": "execute_result"
    }
   ],
   "source": [
    "final.shape"
   ]
  },
  {
   "cell_type": "markdown",
   "metadata": {
    "colab_type": "text",
    "id": "p7f8ivogbGrJ"
   },
   "source": [
    "#  [3] Preprocessing"
   ]
  },
  {
   "cell_type": "markdown",
   "metadata": {
    "colab_type": "text",
    "id": "thcf0CCBbGrK"
   },
   "source": [
    "## [3.1].  Preprocessing Review Text\n",
    "\n",
    "Now that we have finished deduplication our data requires some preprocessing before we go on further with analysis and making the prediction model.\n",
    "\n",
    "Hence in the Preprocessing phase we do the following in the order below:-\n",
    "\n",
    "1. Begin by removing the html tags\n",
    "2. Remove any punctuations or limited set of special characters like , or . or # etc.\n",
    "3. Check if the word is made up of english letters and is not alpha-numeric\n",
    "4. Check to see if the length of the word is greater than 2 (as it was researched that there is no adjective in 2-letters)\n",
    "5. Convert the word to lowercase\n",
    "6. Remove Stopwords\n",
    "7. Finally Snowball Stemming the word (it was obsereved to be better than Porter Stemming)<br>\n",
    "\n",
    "After which we collect the words used to describe positive and negative reviews"
   ]
  },
  {
   "cell_type": "code",
   "execution_count": 118,
   "metadata": {
    "colab": {
     "base_uri": "https://localhost:8080/",
     "height": 176
    },
    "colab_type": "code",
    "id": "AY1ABjxXbGrL",
    "outputId": "661f3927-a385-4062-b89c-c48d483b2418"
   },
   "outputs": [
    {
     "name": "stdout",
     "output_type": "stream",
     "text": [
      "This is one of the best children's books ever written but it is a mini version of the book and was not portrayed as one.  It is over priced for the product.  I sent an email regarding my bewilderment  to Amazon and got no response.\n",
      "==================================================\n",
      "Please do not take this review as a dare. Please heed its caution with the utmost of seriousness.<br /><br />If you come across a bag like this, do not open it. The consequences will be great, but I'll get to those later. As for proper disposal, do not let ANYONE see these, as they might be tempted into opening them, seeing the deceptive word \"cookie\" included in the title. You have two options, both of which require items that are difficult to obtain, but which are the only acceptable ways for destruction to ensure these ruinous abominations don't return as even worse creatures. The first is to find some thermite or a similar accelerant that can burn this at over 4000 degrees F. The second option is to use a rocket that can escape Earth's orbit; you must carefully calculate the route to the Sun so that these don't get slingshotted back to us (we cannot risk something like this).<br /><br />As for the consequences: If you've ever seen a Roland Emmerich film (Day After Tomorrow, Independence Day, 2012, Godzilla, etc.) you will recall shots of people running horrified from a central location, scrambling in all futility to escape inexplicable horrors. What I've discovered from months of digging and \"Deep Throat\" style meetings in shady parking garages is that Emmerich adds all of the special effects in post-production, but uses these very cookies as \"inspiration\" for the extras in his film. Finally, you'll understand why all of the lead actors are awful (even talented actors like John Cusack), but all of the extras provide incredibly convincing performances.<br /><br />Andrew Johnson is widely regarded the worst president in US history. Imagine his remains being fermented like sauerkraut, sealed in jars, and then put into a time capsule to be unveiled by this horrendous \"Joseph\" character over 100 years later. The festering stink will stick with you for months. It's as if a skunk mated with sin and the scent was diabolically baked into an innocent-looking cookie.<br /><br />The reason I'm giving it 2 stars instead of just 1 is that these cookies have given me the most amazing idea for a spec horror screenplay. My career as a Hollywood screenwriter will flourish due to these incomprehensibly awful monstrosities.\n",
      "==================================================\n",
      "I was disappointed by these eucalyptus leaves - they have a stale, oregano-like smell. Ask your local florist to get you some fresh leaves!\n",
      "==================================================\n",
      "I purchased the Smokehouse slivers for our two large labs hoping there would be enough size to hold their attention for a while. The dogs like the product, but they could down the piece while standing. This is probably a good product for small dogs, but large labs like our need more substance. The general problem is Pigs Ears have increased in price so much that I can't justify the approximately $1 per ear price I see. Our dogs three several treats a day, I can't afford to keep them in \"ears.\"\n",
      "==================================================\n"
     ]
    }
   ],
   "source": [
    "# printing some random reviews\n",
    "sent_0 = final['Text'].values[0]\n",
    "print(sent_0)\n",
    "print(\"=\"*50)\n",
    "\n",
    "sent_1000 = final['Text'].values[1000]\n",
    "print(sent_1000)\n",
    "print(\"=\"*50)\n",
    "\n",
    "sent_1500 = final['Text'].values[1500]\n",
    "print(sent_1500)\n",
    "print(\"=\"*50)\n",
    "\n",
    "sent_4900 = final['Text'].values[4300]\n",
    "print(sent_4900)\n",
    "print(\"=\"*50)"
   ]
  },
  {
   "cell_type": "code",
   "execution_count": 119,
   "metadata": {
    "colab": {
     "base_uri": "https://localhost:8080/",
     "height": 55
    },
    "colab_type": "code",
    "id": "E7nhgqi_bGrQ",
    "outputId": "66e7f3b8-6dc5-4788-8dca-8b0ff902c28a"
   },
   "outputs": [
    {
     "name": "stdout",
     "output_type": "stream",
     "text": [
      "This is one of the best children's books ever written but it is a mini version of the book and was not portrayed as one.  It is over priced for the product.  I sent an email regarding my bewilderment  to Amazon and got no response.\n"
     ]
    }
   ],
   "source": [
    "# remove urls from text python: https://stackoverflow.com/a/40823105/4084039\n",
    "sent_0 = re.sub(r\"http\\S+\", \"\", sent_0)\n",
    "sent_1000 = re.sub(r\"http\\S+\", \"\", sent_1000)\n",
    "sent_150 = re.sub(r\"http\\S+\", \"\", sent_1500)\n",
    "sent_4900 = re.sub(r\"http\\S+\", \"\", sent_4900)\n",
    "\n",
    "print(sent_0)"
   ]
  },
  {
   "cell_type": "code",
   "execution_count": 120,
   "metadata": {
    "colab": {
     "base_uri": "https://localhost:8080/",
     "height": 159
    },
    "colab_type": "code",
    "id": "ZE7ptDm_bGrW",
    "outputId": "5e63cd7c-845b-4ceb-cdea-b35bf26eff59"
   },
   "outputs": [
    {
     "name": "stdout",
     "output_type": "stream",
     "text": [
      "This is one of the best children's books ever written but it is a mini version of the book and was not portrayed as one.  It is over priced for the product.  I sent an email regarding my bewilderment  to Amazon and got no response.\n",
      "==================================================\n",
      "Please do not take this review as a dare. Please heed its caution with the utmost of seriousness.If you come across a bag like this, do not open it. The consequences will be great, but I'll get to those later. As for proper disposal, do not let ANYONE see these, as they might be tempted into opening them, seeing the deceptive word \"cookie\" included in the title. You have two options, both of which require items that are difficult to obtain, but which are the only acceptable ways for destruction to ensure these ruinous abominations don't return as even worse creatures. The first is to find some thermite or a similar accelerant that can burn this at over 4000 degrees F. The second option is to use a rocket that can escape Earth's orbit; you must carefully calculate the route to the Sun so that these don't get slingshotted back to us (we cannot risk something like this).As for the consequences: If you've ever seen a Roland Emmerich film (Day After Tomorrow, Independence Day, 2012, Godzilla, etc.) you will recall shots of people running horrified from a central location, scrambling in all futility to escape inexplicable horrors. What I've discovered from months of digging and \"Deep Throat\" style meetings in shady parking garages is that Emmerich adds all of the special effects in post-production, but uses these very cookies as \"inspiration\" for the extras in his film. Finally, you'll understand why all of the lead actors are awful (even talented actors like John Cusack), but all of the extras provide incredibly convincing performances.Andrew Johnson is widely regarded the worst president in US history. Imagine his remains being fermented like sauerkraut, sealed in jars, and then put into a time capsule to be unveiled by this horrendous \"Joseph\" character over 100 years later. The festering stink will stick with you for months. It's as if a skunk mated with sin and the scent was diabolically baked into an innocent-looking cookie.The reason I'm giving it 2 stars instead of just 1 is that these cookies have given me the most amazing idea for a spec horror screenplay. My career as a Hollywood screenwriter will flourish due to these incomprehensibly awful monstrosities.\n",
      "==================================================\n",
      "I was disappointed by these eucalyptus leaves - they have a stale, oregano-like smell. Ask your local florist to get you some fresh leaves!\n",
      "==================================================\n",
      "I purchased the Smokehouse slivers for our two large labs hoping there would be enough size to hold their attention for a while. The dogs like the product, but they could down the piece while standing. This is probably a good product for small dogs, but large labs like our need more substance. The general problem is Pigs Ears have increased in price so much that I can't justify the approximately $1 per ear price I see. Our dogs three several treats a day, I can't afford to keep them in \"ears.\"\n"
     ]
    }
   ],
   "source": [
    "# https://stackoverflow.com/questions/16206380/python-beautifulsoup-how-to-remove-all-tags-from-an-element\n",
    "from bs4 import BeautifulSoup\n",
    "\n",
    "soup = BeautifulSoup(sent_0, 'lxml')\n",
    "text = soup.get_text()\n",
    "print(text)\n",
    "print(\"=\"*50)\n",
    "\n",
    "soup = BeautifulSoup(sent_1000, 'lxml')\n",
    "text = soup.get_text()\n",
    "print(text)\n",
    "print(\"=\"*50)\n",
    "\n",
    "soup = BeautifulSoup(sent_1500, 'lxml')\n",
    "text = soup.get_text()\n",
    "print(text)\n",
    "print(\"=\"*50)\n",
    "\n",
    "soup = BeautifulSoup(sent_4900, 'lxml')\n",
    "text = soup.get_text()\n",
    "print(text)"
   ]
  },
  {
   "cell_type": "code",
   "execution_count": 0,
   "metadata": {
    "colab": {},
    "colab_type": "code",
    "id": "MyDrvN-KbGre"
   },
   "outputs": [],
   "source": [
    "# https://stackoverflow.com/a/47091490/4084039\n",
    "import re\n",
    "\n",
    "def decontracted(phrase):\n",
    "    # specific\n",
    "    phrase = re.sub(r\"won't\", \"will not\", phrase)\n",
    "    phrase = re.sub(r\"can\\'t\", \"can not\", phrase)\n",
    "\n",
    "    # general\n",
    "    phrase = re.sub(r\"n\\'t\", \" not\", phrase)\n",
    "    phrase = re.sub(r\"\\'re\", \" are\", phrase)\n",
    "    phrase = re.sub(r\"\\'s\", \" is\", phrase)\n",
    "    phrase = re.sub(r\"\\'d\", \" would\", phrase)\n",
    "    phrase = re.sub(r\"\\'ll\", \" will\", phrase)\n",
    "    phrase = re.sub(r\"\\'t\", \" not\", phrase)\n",
    "    phrase = re.sub(r\"\\'ve\", \" have\", phrase)\n",
    "    phrase = re.sub(r\"\\'m\", \" am\", phrase)\n",
    "    return phrase"
   ]
  },
  {
   "cell_type": "code",
   "execution_count": 122,
   "metadata": {
    "colab": {
     "base_uri": "https://localhost:8080/",
     "height": 52
    },
    "colab_type": "code",
    "id": "78O_gG8pbGri",
    "outputId": "3749390f-0f61-49a5-f261-034ba308f561"
   },
   "outputs": [
    {
     "name": "stdout",
     "output_type": "stream",
     "text": [
      "I was disappointed by these eucalyptus leaves - they have a stale, oregano-like smell. Ask your local florist to get you some fresh leaves!\n",
      "==================================================\n"
     ]
    }
   ],
   "source": [
    "sent_1500 = decontracted(sent_1500)\n",
    "print(sent_1500)\n",
    "print(\"=\"*50)"
   ]
  },
  {
   "cell_type": "code",
   "execution_count": 123,
   "metadata": {
    "colab": {
     "base_uri": "https://localhost:8080/",
     "height": 55
    },
    "colab_type": "code",
    "id": "wsce9BAwbGrl",
    "outputId": "1999736d-b97c-485d-87d6-5d3e4a352174"
   },
   "outputs": [
    {
     "name": "stdout",
     "output_type": "stream",
     "text": [
      "This is one of the best children's books ever written but it is a mini version of the book and was not portrayed as one.  It is over priced for the product.  I sent an email regarding my bewilderment  to Amazon and got no response.\n"
     ]
    }
   ],
   "source": [
    "#remove words with numbers python: https://stackoverflow.com/a/18082370/4084039\n",
    "sent_0 = re.sub(\"\\S*\\d\\S*\", \"\", sent_0).strip()\n",
    "print(sent_0)"
   ]
  },
  {
   "cell_type": "code",
   "execution_count": 124,
   "metadata": {
    "colab": {
     "base_uri": "https://localhost:8080/",
     "height": 35
    },
    "colab_type": "code",
    "id": "LrbXT7HqbGrp",
    "outputId": "c46a5bae-e246-4cfc-bbcf-0d6a57010a30"
   },
   "outputs": [
    {
     "name": "stdout",
     "output_type": "stream",
     "text": [
      "I was disappointed by these eucalyptus leaves they have a stale oregano like smell Ask your local florist to get you some fresh leaves \n"
     ]
    }
   ],
   "source": [
    "#remove spacial character: https://stackoverflow.com/a/5843547/4084039\n",
    "sent_1500 = re.sub('[^A-Za-z0-9]+', ' ', sent_1500)\n",
    "print(sent_1500)"
   ]
  },
  {
   "cell_type": "code",
   "execution_count": 0,
   "metadata": {
    "colab": {},
    "colab_type": "code",
    "id": "qh4VuyybbGrt"
   },
   "outputs": [],
   "source": [
    "# https://gist.github.com/sebleier/554280\n",
    "# we are removing the words from the stop words list: 'no', 'nor', 'not'\n",
    "# <br /><br /> ==> after the above steps, we are getting \"br br\"\n",
    "# we are including them into stop words list\n",
    "# instead of <br /> if we have <br/> these tags would have revmoved in the 1st step\n",
    "\n",
    "stopwords= set(['br', 'the', 'i', 'me', 'my', 'myself', 'we', 'our', 'ours', 'ourselves', 'you', \"you're\", \"you've\",\\\n",
    "            \"you'll\", \"you'd\", 'your', 'yours', 'yourself', 'yourselves', 'he', 'him', 'his', 'himself', \\\n",
    "            'she', \"she's\", 'her', 'hers', 'herself', 'it', \"it's\", 'its', 'itself', 'they', 'them', 'their',\\\n",
    "            'theirs', 'themselves', 'what', 'which', 'who', 'whom', 'this', 'that', \"that'll\", 'these', 'those', \\\n",
    "            'am', 'is', 'are', 'was', 'were', 'be', 'been', 'being', 'have', 'has', 'had', 'having', 'do', 'does', \\\n",
    "            'did', 'doing', 'a', 'an', 'the', 'and', 'but', 'if', 'or', 'because', 'as', 'until', 'while', 'of', \\\n",
    "            'at', 'by', 'for', 'with', 'about', 'against', 'between', 'into', 'through', 'during', 'before', 'after',\\\n",
    "            'above', 'below', 'to', 'from', 'up', 'down', 'in', 'out', 'on', 'off', 'over', 'under', 'again', 'further',\\\n",
    "            'then', 'once', 'here', 'there', 'when', 'where', 'why', 'how', 'all', 'any', 'both', 'each', 'few', 'more',\\\n",
    "            'most', 'other', 'some', 'such', 'only', 'own', 'same', 'so', 'than', 'too', 'very', \\\n",
    "            's', 't', 'can', 'will', 'just', 'don', \"don't\", 'should', \"should've\", 'now', 'd', 'll', 'm', 'o', 're', \\\n",
    "            've', 'y', 'ain', 'aren', \"aren't\", 'couldn', \"couldn't\", 'didn', \"didn't\", 'doesn', \"doesn't\", 'hadn',\\\n",
    "            \"hadn't\", 'hasn', \"hasn't\", 'haven', \"haven't\", 'isn', \"isn't\", 'ma', 'mightn', \"mightn't\", 'mustn',\\\n",
    "            \"mustn't\", 'needn', \"needn't\", 'shan', \"shan't\", 'shouldn', \"shouldn't\", 'wasn', \"wasn't\", 'weren', \"weren't\", \\\n",
    "            'won', \"won't\", 'wouldn', \"wouldn't\"])"
   ]
  },
  {
   "cell_type": "code",
   "execution_count": 126,
   "metadata": {
    "colab": {
     "base_uri": "https://localhost:8080/",
     "height": 35
    },
    "colab_type": "code",
    "id": "MOXStnqRbGru",
    "outputId": "4f67122d-ac48-4963-db87-b8d1a61ee47c"
   },
   "outputs": [
    {
     "name": "stderr",
     "output_type": "stream",
     "text": [
      "100%|██████████| 83315/83315 [00:36<00:00, 2282.26it/s]\n"
     ]
    }
   ],
   "source": [
    "# Combining all the above stundents \n",
    "from tqdm import tqdm\n",
    "preprocessed_reviews = []\n",
    "# tqdm is for printing the status bar\n",
    "for sentance in tqdm(final['Text'].values):\n",
    "    sentance = re.sub(r\"http\\S+\", \"\", sentance)\n",
    "    sentance = BeautifulSoup(sentance, 'lxml').get_text()\n",
    "    sentance = decontracted(sentance)\n",
    "    sentance = re.sub(\"\\S*\\d\\S*\", \"\", sentance).strip()\n",
    "    sentance = re.sub('[^A-Za-z]+', ' ', sentance)\n",
    "    # https://gist.github.com/sebleier/554280\n",
    "    sentance = ' '.join(e.lower() for e in sentance.split() if e.lower() not in stopwords)\n",
    "    preprocessed_reviews.append(sentance.strip())"
   ]
  },
  {
   "cell_type": "code",
   "execution_count": 127,
   "metadata": {
    "colab": {
     "base_uri": "https://localhost:8080/",
     "height": 35
    },
    "colab_type": "code",
    "id": "3y6N8_zwbGrx",
    "outputId": "8fbbaa14-2070-4d8b-a4e7-0cb8c867fbb0"
   },
   "outputs": [
    {
     "data": {
      "text/plain": [
       "'disappointed eucalyptus leaves stale oregano like smell ask local florist get fresh leaves'"
      ]
     },
     "execution_count": 127,
     "metadata": {
      "tags": []
     },
     "output_type": "execute_result"
    }
   ],
   "source": [
    "preprocessed_reviews[1500]"
   ]
  },
  {
   "cell_type": "code",
   "execution_count": 0,
   "metadata": {
    "colab": {},
    "colab_type": "code",
    "id": "l1QeVoZJbGr0"
   },
   "outputs": [],
   "source": [
    "#Length of reviews\n",
    "\n",
    "length = [len(i) for i in preprocessed_reviews]\n",
    "df = pd.DataFrame(preprocessed_reviews, columns = [\"Reviews\"])\n",
    "df[\"Length\"] = length"
   ]
  },
  {
   "cell_type": "code",
   "execution_count": 129,
   "metadata": {
    "colab": {
     "base_uri": "https://localhost:8080/",
     "height": 35
    },
    "colab_type": "code",
    "id": "81ESw2IebGr3",
    "outputId": "daddd4a6-27cc-430b-c481-74d858d6f642"
   },
   "outputs": [
    {
     "data": {
      "text/plain": [
       "(83315, 2)"
      ]
     },
     "execution_count": 129,
     "metadata": {
      "tags": []
     },
     "output_type": "execute_result"
    }
   ],
   "source": [
    "df.shape"
   ]
  },
  {
   "cell_type": "code",
   "execution_count": 0,
   "metadata": {
    "colab": {},
    "colab_type": "code",
    "id": "UYwBOPFVbGr6"
   },
   "outputs": [],
   "source": [
    "#Train-Test Split\n",
    "\n",
    "X_train,X_test,y_train, y_test = train_test_split(df, list(final[\"Score\"]), random_state = 42, test_size = 0.3, stratify = list(final[\"Score\"]))"
   ]
  },
  {
   "cell_type": "code",
   "execution_count": 0,
   "metadata": {
    "colab": {},
    "colab_type": "code",
    "id": "XExSogGGbGr8"
   },
   "outputs": [],
   "source": [
    "# Seperating Reviews and length of reviews\n",
    "\n",
    "length_train = X_train[\"Length\"]\n",
    "length_test = X_test[\"Length\"]\n",
    "\n",
    "X_train.drop(\"Length\", axis = 1, inplace = True)\n",
    "X_test.drop(\"Length\", axis = 1, inplace = True)\n",
    "\n",
    "length_train = pd.DataFrame(length_train)\n",
    "length_test = pd.DataFrame(length_test)"
   ]
  },
  {
   "cell_type": "markdown",
   "metadata": {
    "colab_type": "text",
    "id": "0pjmLuKubGr-"
   },
   "source": [
    "<h2><font color='red'>[3.2] Preprocessing Review Summary</font></h2>"
   ]
  },
  {
   "cell_type": "code",
   "execution_count": 0,
   "metadata": {
    "colab": {},
    "colab_type": "code",
    "id": "z7aMarHQbGr-"
   },
   "outputs": [],
   "source": [
    "## Similartly you can do preprocessing for review summary also."
   ]
  },
  {
   "cell_type": "markdown",
   "metadata": {
    "colab_type": "text",
    "id": "-vLFuKPTbGsB"
   },
   "source": [
    "# [4] Featurization"
   ]
  },
  {
   "cell_type": "markdown",
   "metadata": {
    "colab_type": "text",
    "id": "gTavKuDWbGsB"
   },
   "source": [
    "## [4.1] BAG OF WORDS"
   ]
  },
  {
   "cell_type": "code",
   "execution_count": 133,
   "metadata": {
    "colab": {
     "base_uri": "https://localhost:8080/",
     "height": 211
    },
    "colab_type": "code",
    "id": "bnF1THghbGsD",
    "outputId": "3f5478f1-2084-49f3-e227-61b3760c90be"
   },
   "outputs": [
    {
     "name": "stdout",
     "output_type": "stream",
     "text": [
      "some feature names  ['aa', 'aaa', 'aaaa', 'aaaaa', 'aaaaaaaaaaaa', 'aaaaaaahhhhhh', 'aaaaaaarrrrrggghhh', 'aaaaaahhhhhyaaaaaa', 'aaaaaawwwwwwwwww', 'aaaaah']\n",
      "==================================================\n",
      "the type of count vectorizer  <class 'scipy.sparse.coo.coo_matrix'>\n",
      "the shape of out text BOW vectorizer  (58320, 46332)\n",
      "the number of unique words  46332\n",
      "==================================================\n",
      "for test data\n",
      "the type of count vectorizer  <class 'scipy.sparse.coo.coo_matrix'>\n",
      "the shape of out text BOW vectorizer  (24995, 46332)\n",
      "the number of unique words  46332\n"
     ]
    }
   ],
   "source": [
    "#BoW\n",
    "count_vect = CountVectorizer() #in scikit-learn\n",
    "count_vect.fit(X_train[\"Reviews\"])\n",
    "print(\"some feature names \", count_vect.get_feature_names()[:10])\n",
    "print('='*50)\n",
    "\n",
    "final_counts = count_vect.transform(X_train[\"Reviews\"])\n",
    "final_counts_test = count_vect.transform(X_test[\"Reviews\"])\n",
    "\n",
    "final_counts = hstack([final_counts, length_train])\n",
    "final_counts_test = hstack([final_counts_test, length_test])\n",
    "\n",
    "print(\"the type of count vectorizer \",type(final_counts))\n",
    "print(\"the shape of out text BOW vectorizer \",final_counts.get_shape())\n",
    "print(\"the number of unique words \", final_counts.get_shape()[1])\n",
    "print(\"=\"*50)\n",
    "print(\"for test data\")\n",
    "print(\"the type of count vectorizer \",type(final_counts_test))\n",
    "print(\"the shape of out text BOW vectorizer \",final_counts_test.get_shape())\n",
    "print(\"the number of unique words \", final_counts_test.get_shape()[1])"
   ]
  },
  {
   "cell_type": "code",
   "execution_count": 0,
   "metadata": {
    "colab": {},
    "colab_type": "code",
    "id": "hox21PzRbGsG"
   },
   "outputs": [],
   "source": []
  },
  {
   "cell_type": "markdown",
   "metadata": {
    "colab_type": "text",
    "id": "mcxXGK1XbGsL"
   },
   "source": [
    "## [4.2] Bi-Grams and n-Grams."
   ]
  },
  {
   "cell_type": "code",
   "execution_count": 134,
   "metadata": {
    "colab": {
     "base_uri": "https://localhost:8080/",
     "height": 156
    },
    "colab_type": "code",
    "id": "VuTYAqYubGsL",
    "outputId": "a6bade66-ee98-459f-98a9-07a2317ecf92"
   },
   "outputs": [
    {
     "name": "stdout",
     "output_type": "stream",
     "text": [
      "the type of count vectorizer  <class 'scipy.sparse.coo.coo_matrix'>\n",
      "the shape of out text BOW vectorizer  (58320, 5001)\n",
      "the number of unique words including both unigrams and bigrams  5001\n",
      "==================================================\n",
      "for test data\n",
      "the type of count vectorizer  <class 'scipy.sparse.coo.coo_matrix'>\n",
      "the shape of out text BOW vectorizer  (24995, 5001)\n",
      "the number of unique words including both unigrams and bigrams  5001\n"
     ]
    }
   ],
   "source": [
    "#bi-gram, tri-gram and n-gram\n",
    "\n",
    "#removing stop words like \"not\" should be avoided before building n-grams\n",
    "# count_vect = CountVectorizer(ngram_range=(1,2))\n",
    "# please do read the CountVectorizer documentation http://scikit-learn.org/stable/modules/generated/sklearn.feature_extraction.text.CountVectorizer.html\n",
    "\n",
    "# you can choose these numebrs min_df=10, max_features=5000, of your choice\n",
    "count_vect = CountVectorizer(ngram_range=(1,2), min_df=10, max_features=5000)\n",
    "final_bigram_counts = count_vect.fit_transform(X_train[\"Reviews\"])\n",
    "final_bigram_counts_test = count_vect.transform(X_test[\"Reviews\"])\n",
    "\n",
    "final_bigram_counts = hstack([final_bigram_counts, length_train])\n",
    "final_bigram_counts_test = hstack([final_bigram_counts_test, length_test])\n",
    "\n",
    "print(\"the type of count vectorizer \",type(final_bigram_counts))\n",
    "print(\"the shape of out text BOW vectorizer \",final_bigram_counts.get_shape())\n",
    "print(\"the number of unique words including both unigrams and bigrams \", final_bigram_counts.get_shape()[1])\n",
    "\n",
    "print(\"=\"*50)\n",
    "print(\"for test data\")\n",
    "\n",
    "print(\"the type of count vectorizer \",type(final_bigram_counts_test))\n",
    "print(\"the shape of out text BOW vectorizer \",final_bigram_counts_test.get_shape())\n",
    "print(\"the number of unique words including both unigrams and bigrams \", final_bigram_counts_test.get_shape()[1])"
   ]
  },
  {
   "cell_type": "markdown",
   "metadata": {
    "colab_type": "text",
    "id": "lSbvf7nJbGsP"
   },
   "source": [
    "## [4.3] TF-IDF"
   ]
  },
  {
   "cell_type": "code",
   "execution_count": 135,
   "metadata": {
    "colab": {
     "base_uri": "https://localhost:8080/",
     "height": 211
    },
    "colab_type": "code",
    "id": "Bq_MQYPLbGsR",
    "outputId": "8ee917b9-f426-4fcc-c6eb-51be434a6006",
    "scrolled": true
   },
   "outputs": [
    {
     "name": "stdout",
     "output_type": "stream",
     "text": [
      "some sample features(unique words in the corpus) ['aback', 'abandoned', 'abdominal', 'abdominal pain', 'ability', 'able', 'able buy', 'able chew', 'able drink', 'able eat']\n",
      "==================================================\n",
      "the type of count vectorizer  <class 'scipy.sparse.coo.coo_matrix'>\n",
      "the shape of out text TFIDF vectorizer  (58320, 35059)\n",
      "the number of unique words including both unigrams and bigrams  35059\n",
      "==================================================\n",
      "for test data\n",
      "the type of count vectorizer  <class 'scipy.sparse.coo.coo_matrix'>\n",
      "the shape of out text TFIDF vectorizer  (24995, 35059)\n",
      "the number of unique words including both unigrams and bigrams  35059\n"
     ]
    }
   ],
   "source": [
    "tf_idf_vect = TfidfVectorizer(ngram_range=(1,2), min_df=10)\n",
    "tf_idf_vect.fit(X_train[\"Reviews\"])\n",
    "print(\"some sample features(unique words in the corpus)\",tf_idf_vect.get_feature_names()[0:10])\n",
    "print('='*50)\n",
    "\n",
    "final_tf_idf = tf_idf_vect.transform(X_train[\"Reviews\"])\n",
    "final_tf_idf_test = tf_idf_vect.transform(X_test[\"Reviews\"])\n",
    "\n",
    "final_tf_idf = hstack([final_tf_idf, length_train])\n",
    "final_tf_idf_test = hstack([final_tf_idf_test, length_test])\n",
    "\n",
    "print(\"the type of count vectorizer \",type(final_tf_idf))\n",
    "print(\"the shape of out text TFIDF vectorizer \",final_tf_idf.get_shape())\n",
    "print(\"the number of unique words including both unigrams and bigrams \", final_tf_idf.get_shape()[1])\n",
    "\n",
    "print(\"=\"*50)\n",
    "print(\"for test data\")\n",
    "\n",
    "print(\"the type of count vectorizer \",type(final_tf_idf_test))\n",
    "print(\"the shape of out text TFIDF vectorizer \",final_tf_idf_test.get_shape())\n",
    "print(\"the number of unique words including both unigrams and bigrams \", final_tf_idf_test.get_shape()[1])"
   ]
  },
  {
   "cell_type": "markdown",
   "metadata": {
    "colab_type": "text",
    "id": "1pV6NCW_bGsY"
   },
   "source": [
    "# Applying Multinomial Naive Bayes"
   ]
  },
  {
   "cell_type": "code",
   "execution_count": 0,
   "metadata": {
    "colab": {},
    "colab_type": "code",
    "id": "fJSLUJ-wbGsZ"
   },
   "outputs": [],
   "source": [
    "# Common User defined function used.\n",
    "\n",
    "#Plots AUC Score vs Neighbors \n",
    "def plot_best_hyperparameter(gridcv):            \n",
    "    cv_result = pd.DataFrame(gridcv.cv_results_)      #gridcv.cv_results_ outputs dict object of cross validation score and train score. \n",
    "    '''cv = {\n",
    "    \"neighbors\" : cv_result[\"param_n_neighbors\"],\n",
    "    \"train score\" : cv_result[\"mean_train_score\"],\n",
    "    \"validation score\" : cv_result[\"mean_test_score\"]}'''\n",
    "\n",
    "    #CV_score = pd.DataFrame(cv)\n",
    "    \n",
    "    #Plot for Train data\n",
    "    plt.figure()\n",
    "    plt.title(\"Best hyperparameter for train data\")\n",
    "    plt.plot(cv_result[\"param_alpha\"], cv_result[\"mean_train_score\"])\n",
    "    plt.xticks(rotation=90)\n",
    "    plt.xlabel(\"Alpha\")\n",
    "    plt.ylabel(\"AUC Score\")\n",
    "    plt.show()\n",
    "    \n",
    "    #Plot for Validation data\n",
    "    plt.figure()\n",
    "    plt.title(\"Best hyperparameter for validation data\")\n",
    "    plt.plot(cv_result[\"param_alpha\"], cv_result[\"mean_test_score\"])\n",
    "    plt.xticks(rotation=90)\n",
    "    plt.xlabel(\"Alpha\")\n",
    "    plt.ylabel(\"AUC Score\")\n",
    "    plt.show()\n",
    "\n",
    "\n",
    "def plot_roc_curve(test_y, predict_proba_y):     #Plots ROC Curve\n",
    "    \n",
    "    fpr, tpr, threshold = roc_curve(test_y, predict_proba_y)\n",
    "    auc_area = metrics.auc(fpr, tpr)\n",
    "    \n",
    "    plt.figure()\n",
    "    plt.plot(fpr, tpr, color = 'darkorange', linewidth = 2,label = \"AUC: %0.2f\" %auc_area)\n",
    "    plt.plot([0,1],[0,1], linewidth = 2, linestyle=\"--\")\n",
    "    plt.xlim([0,1])\n",
    "    plt.ylim([0,1])\n",
    "    plt.xlabel(\"FPR\")\n",
    "    plt.ylabel(\"TPR\")\n",
    "    plt.title(\"ROC Curve\")\n",
    "    plt.legend(loc = \"lower right\")\n",
    "    plt.show()\n",
    "    \n",
    "\n",
    "    \n",
    "def plot_confusion_mat(test_y, predict_proba_y):    #Plots Confusion Matrix\n",
    "\n",
    "    cnf_mat = confusion_matrix(test_y, predict_proba_y)\n",
    "    cnf_df = pd.DataFrame(cnf_mat, index = [\"Actual: 0\", \"Actual: 1\"], columns = [\"Predicted: 0\", \"Predicted: 1\"], dtype= float)\n",
    "\n",
    "    plt.figure(figsize=(5,3))\n",
    "    plt.title(\"Confusion Matrix\")\n",
    "    sns.heatmap(cnf_df, annot = True, fmt = \"g\")\n",
    "    \n",
    "\n",
    "def top_features(model,vector):                    #Returns Positive and Negative top 10 features\n",
    "    vbg_positive = sorted(zip(model.feature_log_prob_[0], vector.get_feature_names()))[0:10]\n",
    "    vbg_negative = sorted(zip(model.feature_log_prob_[1], vector.get_feature_names()))[0:10]\n",
    "    return vbg_positive, vbg_negative\n",
    "\n"
   ]
  },
  {
   "cell_type": "code",
   "execution_count": 0,
   "metadata": {
    "colab": {},
    "colab_type": "code",
    "id": "lE3vGDywbGsb"
   },
   "outputs": [],
   "source": []
  },
  {
   "cell_type": "markdown",
   "metadata": {
    "colab_type": "text",
    "id": "mNX1e26ObGsd"
   },
   "source": [
    "## [5.1] Applying Naive Bayes on BOW,<font color='red'> SET 1</font>"
   ]
  },
  {
   "cell_type": "code",
   "execution_count": 137,
   "metadata": {
    "colab": {
     "base_uri": "https://localhost:8080/",
     "height": 625
    },
    "colab_type": "code",
    "id": "igaNr2sLbGse",
    "outputId": "e6992331-6474-4d7f-d0b9-6b3652f83c59"
   },
   "outputs": [
    {
     "name": "stdout",
     "output_type": "stream",
     "text": [
      "{'alpha': 0.01}\n"
     ]
    },
    {
     "data": {
      "image/png": "[encoded data removed]",
      "text/plain": [
       "<Figure size 432x288 with 1 Axes>"
      ]
     },
     "metadata": {
      "tags": []
     },
     "output_type": "display_data"
    },
    {
     "data": {
      "image/png": "[encoded data removed]",
      "text/plain": [
       "<Figure size 432x288 with 1 Axes>"
      ]
     },
     "metadata": {
      "tags": []
     },
     "output_type": "display_data"
    }
   ],
   "source": [
    "# Please write all the code with proper documentation\n",
    "\n",
    "from sklearn.model_selection import GridSearchCV\n",
    "from sklearn.neighbors import KNeighborsClassifier\n",
    "from sklearn.naive_bayes import MultinomialNB\n",
    "\n",
    "#Parameters\n",
    "params = {\"alpha\":[10**(-4), 10**(-3), 10**(-2),10**(-1),10**(0),10**(1),10**(2),10**(3),10**(4)]\n",
    "         }\n",
    "\n",
    "knn_bow = MultinomialNB()\n",
    "\n",
    "gridcv = GridSearchCV(knn_bow, params, scoring = 'roc_auc', cv = 5)\n",
    "gridcv.fit(final_bigram_counts, y_train)\n",
    "print(gridcv.best_params_)\n",
    "bst_paramtr = gridcv.best_params_[\"alpha\"]\n",
    "\n",
    "#Plots the graph for all  parameters to find best hyperparameter.\n",
    "plot_best_hyperparameter(gridcv)"
   ]
  },
  {
   "cell_type": "code",
   "execution_count": 0,
   "metadata": {
    "colab": {},
    "colab_type": "code",
    "id": "No0UFHfVbGsi"
   },
   "outputs": [],
   "source": []
  },
  {
   "cell_type": "code",
   "execution_count": 138,
   "metadata": {
    "colab": {
     "base_uri": "https://localhost:8080/",
     "height": 521
    },
    "colab_type": "code",
    "id": "6GYyTBb9bGsl",
    "outputId": "3088fc0a-a1cd-4d21-f3ff-6cb6d3d9fe71"
   },
   "outputs": [
    {
     "name": "stdout",
     "output_type": "stream",
     "text": [
      "AUC for Naive Bayes with BOW:  0.9431391266046628\n"
     ]
    },
    {
     "data": {
      "image/png": "[encoded data removed]",
      "text/plain": [
       "<Figure size 432x288 with 1 Axes>"
      ]
     },
     "metadata": {
      "tags": []
     },
     "output_type": "display_data"
    },
    {
     "data": {
      "image/png": "[encoded data removed]",
      "text/plain": [
       "<Figure size 360x216 with 2 Axes>"
      ]
     },
     "metadata": {
      "tags": []
     },
     "output_type": "display_data"
    }
   ],
   "source": [
    "from sklearn.metrics import roc_auc_score\n",
    "\n",
    "knn_bow_1 = MultinomialNB(alpha = bst_paramtr )\n",
    "knn_bow_1.fit(final_bigram_counts, y_train)\n",
    "\n",
    "y_predict_proba_bow = knn_bow_1.predict_proba(final_bigram_counts_test)[:,1]\n",
    "y_predict_bow = knn_bow_1.predict(final_bigram_counts_test)\n",
    "\n",
    "roc_auc = roc_auc_score(y_test, y_predict_proba_bow)\n",
    "print(\"AUC for Naive Bayes with BOW: \", roc_auc)\n",
    "\n",
    "#Plots ROC curve\n",
    "plot_roc_curve(y_test, y_predict_proba_bow)\n",
    "\n",
    "#Plots Confusion matrix\n",
    "plot_confusion_mat(y_test, y_predict_bow)"
   ]
  },
  {
   "cell_type": "code",
   "execution_count": 139,
   "metadata": {
    "colab": {
     "base_uri": "https://localhost:8080/",
     "height": 89
    },
    "colab_type": "code",
    "id": "tp3rgB7lbGsn",
    "outputId": "17a2888a-8fa3-4d03-d07e-2a2edca302f8"
   },
   "outputs": [
    {
     "name": "stdout",
     "output_type": "stream",
     "text": [
      "Top features for positive reviews:  [(-15.280461133298706, 'definitely order'), (-15.280461133298706, 'petite cuisine'), (-14.876655776608906, 'addicting'), (-14.876655776608906, 'also great'), (-14.876655776608906, 'far favorite'), (-14.876655776608906, 'no bitterness'), (-14.876655776608906, 'stuff great'), (-14.876655776608906, 'worth every'), (-14.589804614051213, 'absolute favorite'), (-14.589804614051213, 'absolutely loves')]\n",
      " \n",
      "Top features for negative reviews:  [(-20.635993845272452, 'brezza'), (-20.635993845272452, 'threw rest'), (-16.020873328431193, 'extremely disappointed'), (-16.020873328431193, 'returnable'), (-16.020873328431193, 'total waste'), (-16.020873328431193, 'two stars'), (-15.332688937213378, 'one worst'), (-15.332688937213378, 'worst tasting'), (-14.928883580523578, 'awful not'), (-14.928883580523578, 'ended throwing')]\n"
     ]
    }
   ],
   "source": [
    "#Printing Positive and Negative features\n",
    "\n",
    "pos, neg = top_features(knn_bow_1, count_vect)\n",
    "\n",
    "print(\"Top features for positive reviews: \", pos)\n",
    "print(\" \")\n",
    "print(\"Top features for negative reviews: \", neg)"
   ]
  },
  {
   "cell_type": "code",
   "execution_count": 0,
   "metadata": {
    "colab": {},
    "colab_type": "code",
    "id": "tzYZTjRqbGsr"
   },
   "outputs": [],
   "source": []
  },
  {
   "cell_type": "markdown",
   "metadata": {
    "colab_type": "text",
    "id": "tFFuu_JlbGsu"
   },
   "source": [
    "## [5.2] Applying Naive Bayes on TFIDF,<font color='red'> SET 2</font>"
   ]
  },
  {
   "cell_type": "code",
   "execution_count": 140,
   "metadata": {
    "colab": {
     "base_uri": "https://localhost:8080/",
     "height": 625
    },
    "colab_type": "code",
    "id": "sFHNWWkZbGsu",
    "outputId": "a74aa50c-db5b-4af2-9d86-cead4959b714"
   },
   "outputs": [
    {
     "name": "stdout",
     "output_type": "stream",
     "text": [
      "{'alpha': 0.1}\n"
     ]
    },
    {
     "data": {
      "image/png": "[encoded data removed]",
      "text/plain": [
       "<Figure size 432x288 with 1 Axes>"
      ]
     },
     "metadata": {
      "tags": []
     },
     "output_type": "display_data"
    },
    {
     "data": {
      "image/png": "[encoded data removed]",
      "text/plain": [
       "<Figure size 432x288 with 1 Axes>"
      ]
     },
     "metadata": {
      "tags": []
     },
     "output_type": "display_data"
    }
   ],
   "source": [
    "# Please write all the code with proper documentation\n",
    "\n",
    "#Parameters\n",
    "params = {\"alpha\":[10**(-4), 10**(-3), 10**(-2),10**(-1),10**(0),10**(1),10**(2),10**(3),10**(4)]\n",
    "         }\n",
    "\n",
    "knn_bow = MultinomialNB()\n",
    "\n",
    "gridcv = GridSearchCV(knn_bow, params, scoring = 'roc_auc', cv = 5)\n",
    "gridcv.fit(final_tf_idf, y_train)\n",
    "print(gridcv.best_params_)\n",
    "bst_paramtr = gridcv.best_params_[\"alpha\"]\n",
    "\n",
    "#Plots the graph for all  parameters to find best hyperparameter.\n",
    "plot_best_hyperparameter(gridcv)"
   ]
  },
  {
   "cell_type": "code",
   "execution_count": 141,
   "metadata": {
    "colab": {
     "base_uri": "https://localhost:8080/",
     "height": 521
    },
    "colab_type": "code",
    "id": "TiGMZYlNbGsy",
    "outputId": "fc7bd3d4-5382-4580-9292-c058cc9ef458"
   },
   "outputs": [
    {
     "name": "stdout",
     "output_type": "stream",
     "text": [
      "AUC for Naive Bayes with TFIDF vectorizer:  0.956523624327961\n"
     ]
    },
    {
     "data": {
      "image/png": "[encoded data removed]",
      "text/plain": [
       "<Figure size 432x288 with 1 Axes>"
      ]
     },
     "metadata": {
      "tags": []
     },
     "output_type": "display_data"
    },
    {
     "data": {
      "image/png": "[encoded data removed]",
      "text/plain": [
       "<Figure size 360x216 with 2 Axes>"
      ]
     },
     "metadata": {
      "tags": []
     },
     "output_type": "display_data"
    }
   ],
   "source": [
    "knn_bow_1 = MultinomialNB(alpha = bst_paramtr )\n",
    "knn_bow_1.fit(final_tf_idf, y_train)\n",
    "\n",
    "y_predict_proba_tfidf = knn_bow_1.predict_proba(final_tf_idf_test)[:,1]\n",
    "y_predict_tfidf = knn_bow_1.predict(final_tf_idf_test)\n",
    "\n",
    "roc_auc = roc_auc_score(y_test, y_predict_proba_tfidf)\n",
    "\n",
    "print(\"AUC for Naive Bayes with TFIDF vectorizer: \", roc_auc)\n",
    "\n",
    "#Plots ROC curve\n",
    "plot_roc_curve(y_test, y_predict_proba_tfidf)\n",
    "\n",
    "#Plots Confusion matrix\n",
    "plot_confusion_mat(y_test, y_predict_tfidf)"
   ]
  },
  {
   "cell_type": "code",
   "execution_count": 142,
   "metadata": {
    "colab": {
     "base_uri": "https://localhost:8080/",
     "height": 89
    },
    "colab_type": "code",
    "id": "qbXMrbb4bGs1",
    "outputId": "92a0a76f-078c-48af-9cbd-36d59db108d5"
   },
   "outputs": [
    {
     "name": "stdout",
     "output_type": "stream",
     "text": [
      "Top features for positive reviews:  [(-18.159406310362687, 'absolutely amazing'), (-18.159406310362687, 'add couple'), (-18.159406310362687, 'add ground'), (-18.159406310362687, 'add protein'), (-18.159406310362687, 'adds great'), (-18.159406310362687, 'adds nice'), (-18.159406310362687, 'adds right'), (-18.159406310362687, 'afternoon treat'), (-18.159406310362687, 'allergies tried'), (-18.159406310362687, 'alliance')]\n",
      " \n",
      "Top features for negative reviews:  [(-18.211663673546095, 'able return'), (-18.211663673546095, 'abomination'), (-18.211663673546095, 'absolutely awful'), (-18.211663673546095, 'absolutely disgusting'), (-18.211663673546095, 'absolutely horrible'), (-18.211663673546095, 'absolutely terrible'), (-18.211663673546095, 'absolutely worst'), (-18.211663673546095, 'accept returns'), (-18.211663673546095, 'add insult'), (-18.211663673546095, 'advertising not')]\n"
     ]
    }
   ],
   "source": [
    "#Printing Positive and Negative features\n",
    "\n",
    "pos, neg = top_features(knn_bow_1, tf_idf_vect)\n",
    "\n",
    "print(\"Top features for positive reviews: \", pos)\n",
    "print(\" \")\n",
    "print(\"Top features for negative reviews: \", neg)"
   ]
  },
  {
   "cell_type": "code",
   "execution_count": 0,
   "metadata": {
    "colab": {},
    "colab_type": "code",
    "id": "eJk7aY-KbGs6"
   },
   "outputs": [],
   "source": []
  },
  {
   "cell_type": "markdown",
   "metadata": {
    "colab_type": "text",
    "id": "4YeIAgPYbGs7"
   },
   "source": [
    "# [6] Conclusions"
   ]
  },
  {
   "cell_type": "code",
   "execution_count": 144,
   "metadata": {
    "colab": {
     "base_uri": "https://localhost:8080/",
     "height": 263
    },
    "colab_type": "code",
    "id": "g__YlwJcbGs8",
    "outputId": "e64ddc33-6084-47c9-81c6-5a01c00d864d"
   },
   "outputs": [
    {
     "name": "stdout",
     "output_type": "stream",
     "text": [
      "\n",
      "Note: In this jupyter notebook I have just used 100K datapoints.\n",
      "\n",
      "\n",
      "Table: Summary of all the Vectorization techniques used.\n",
      "+-------------+-------------------------+------------+----------------+\n",
      "|    Model    | Vectorization Technique | Best Alpha | AUC Test Score |\n",
      "+-------------+-------------------------+------------+----------------+\n",
      "| Naive Bayes |           BOW           |    0.01    |     0.9431     |\n",
      "| Naive Bayes |          TFIDF          |    0.1     |     0.9565     |\n",
      "+-------------+-------------------------+------------+----------------+\n",
      "\n",
      "Looking at the above table, we can conclude that for the given dataset, Naive Bayes model with TFIDF vectorization and seems to give the better AUC Score of 0.9565\n"
     ]
    }
   ],
   "source": [
    "# Please compare all your models using Prettytable library\n",
    "\n",
    "print(\"\\nNote: In this jupyter notebook I have just used 100K datapoints.\\n\")\n",
    "\n",
    "print(\"\\nTable: Summary of all the Vectorization techniques used.\")\n",
    "\n",
    "table = prettytable.PrettyTable()\n",
    "table.field_names=[\"Model\", \"Vectorization Technique\",\"Best Alpha\", \"AUC Test Score\"]\n",
    "\n",
    "table.add_row([\"Naive Bayes\",\"BOW\",0.01, 0.9431])\n",
    "table.add_row([\"Naive Bayes\",\"TFIDF\",0.1, 0.9565])\n",
    "\n",
    "\n",
    "print(table)\n",
    "\n",
    "\n",
    "print(\"\\nLooking at the above table, we can conclude that for the given dataset, Naive Bayes model with TFIDF vectorization and seems to give the better AUC Score of 0.9565\")"
   ]
  }
 ],
 "metadata": {
  "accelerator": "GPU",
  "colab": {
   "collapsed_sections": [],
   "name": "04 Amazon_naive.ipynb",
   "provenance": [],
   "version": "0.3.2"
  },
  "kernelspec": {
   "display_name": "Python 3",
   "language": "python",
   "name": "python3"
  },
  "language_info": {
   "codemirror_mode": {
    "name": "ipython",
    "version": 3
   },
   "file_extension": ".py",
   "mimetype": "text/x-python",
   "name": "python",
   "nbconvert_exporter": "python",
   "pygments_lexer": "ipython3",
   "version": "3.7.0"
  }
 },
 "nbformat": 4,
 "nbformat_minor": 1
}
